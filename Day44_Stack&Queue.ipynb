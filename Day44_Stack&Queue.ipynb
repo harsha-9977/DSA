{
  "nbformat": 4,
  "nbformat_minor": 0,
  "metadata": {
    "colab": {
      "provenance": [],
      "authorship_tag": "ABX9TyNIoDlOrW97Lt0VTrqPwTmk",
      "include_colab_link": true
    },
    "kernelspec": {
      "name": "python3",
      "display_name": "Python 3"
    },
    "language_info": {
      "name": "python"
    }
  },
  "cells": [
    {
      "cell_type": "markdown",
      "metadata": {
        "id": "view-in-github",
        "colab_type": "text"
      },
      "source": [
        "<a href=\"https://colab.research.google.com/github/harsha-9977/DSA/blob/main/Day44_Stack%26Queue.ipynb\" target=\"_parent\"><img src=\"https://colab.research.google.com/assets/colab-badge.svg\" alt=\"Open In Colab\"/></a>"
      ]
    },
    {
      "cell_type": "code",
      "execution_count": null,
      "metadata": {
        "colab": {
          "base_uri": "https://localhost:8080/"
        },
        "id": "YkdMOeKVdQx-",
        "outputId": "c19d98e1-cc20-4adc-ba3d-c2ed6031a96b"
      },
      "outputs": [
        {
          "output_type": "stream",
          "name": "stdout",
          "text": [
            "[3, 4]\n"
          ]
        }
      ],
      "source": [
        "class MyStack:\n",
        "  def __init__(self):\n",
        "    self.arr = []\n",
        "\n",
        "  def push(self,data):\n",
        "    self.arr.append(data)\n",
        "\n",
        "  def pop(self):\n",
        "    if not self.arr:\n",
        "      return -1\n",
        "    return self.arr.pop()\n",
        "\n",
        "def run_stack_ops(input_str):\n",
        "  ops = input_str.strip().split()\n",
        "  i = 0\n",
        "\n",
        "  stack = MyStack()\n",
        "  result = []\n",
        "\n",
        "  while i < len(ops):\n",
        "    if ops[i] == '1':\n",
        "      i += 1\n",
        "      stack.push(int(ops[i]))\n",
        "    elif ops[i] == '2':\n",
        "      result.append(stack.pop())\n",
        "    i += 1\n",
        "  return result\n",
        "\n",
        "input_str = \"1 2 1 3 2 1 4 2\"\n",
        "output = run_stack_ops(input_str)\n",
        "print(output)"
      ]
    },
    {
      "cell_type": "code",
      "source": [
        "# Queue using array\n",
        "\n",
        "from collections import deque\n",
        "\n",
        "class MyQueue:\n",
        "  def __init__(self):\n",
        "    self.arr = deque()\n",
        "\n",
        "  def push(self,x):\n",
        "    self.arr.append(x)\n",
        "\n",
        "  def pop(self):\n",
        "    if not self.arr:\n",
        "      return -1\n",
        "    return self.arr.popleft()\n",
        "\n",
        "def run_queue_ops(input_str):\n",
        "  ops = input_str.strip().split()\n",
        "  i = 0\n",
        "  q = MyQueue()\n",
        "  result = []\n",
        "\n",
        "  while i < len(ops):\n",
        "    if ops[i] == '1':\n",
        "      i += 1\n",
        "      q.push(int(ops[i]))\n",
        "    elif ops[i] == '2':\n",
        "      result.append(q.pop())\n",
        "    i += 1\n",
        "\n",
        "  return result\n",
        "\n",
        "input_str = \"1 2 1 3 2 1 4 2\"\n",
        "output = run_queue_ops(input_str)\n",
        "\n",
        "print(*output)\n",
        ""
      ],
      "metadata": {
        "colab": {
          "base_uri": "https://localhost:8080/"
        },
        "id": "d64isSvRz0FU",
        "outputId": "f19ccd7e-b86a-44f8-bec2-14309929a6d8"
      },
      "execution_count": 3,
      "outputs": [
        {
          "output_type": "stream",
          "name": "stdout",
          "text": [
            "2 3\n"
          ]
        }
      ]
    }
  ]
}