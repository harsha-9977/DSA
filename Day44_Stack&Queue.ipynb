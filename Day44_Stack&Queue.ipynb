{
  "nbformat": 4,
  "nbformat_minor": 0,
  "metadata": {
    "colab": {
      "provenance": [],
      "authorship_tag": "ABX9TyP+HX464XpAfROFGDOyC2k8",
      "include_colab_link": true
    },
    "kernelspec": {
      "name": "python3",
      "display_name": "Python 3"
    },
    "language_info": {
      "name": "python"
    }
  },
  "cells": [
    {
      "cell_type": "markdown",
      "metadata": {
        "id": "view-in-github",
        "colab_type": "text"
      },
      "source": [
        "<a href=\"https://colab.research.google.com/github/harsha-9977/DSA/blob/main/Day44_Stack%26Queue.ipynb\" target=\"_parent\"><img src=\"https://colab.research.google.com/assets/colab-badge.svg\" alt=\"Open In Colab\"/></a>"
      ]
    },
    {
      "cell_type": "code",
      "execution_count": null,
      "metadata": {
        "colab": {
          "base_uri": "https://localhost:8080/"
        },
        "id": "YkdMOeKVdQx-",
        "outputId": "c19d98e1-cc20-4adc-ba3d-c2ed6031a96b"
      },
      "outputs": [
        {
          "output_type": "stream",
          "name": "stdout",
          "text": [
            "[3, 4]\n"
          ]
        }
      ],
      "source": [
        "class MyStack:\n",
        "  def __init__(self):\n",
        "    self.arr = []\n",
        "\n",
        "  def push(self,data):\n",
        "    self.arr.append(data)\n",
        "\n",
        "  def pop(self):\n",
        "    if not self.arr:\n",
        "      return -1\n",
        "    return self.arr.pop()\n",
        "\n",
        "def run_stack_ops(input_str):\n",
        "  ops = input_str.strip().split()\n",
        "  i = 0\n",
        "\n",
        "  stack = MyStack()\n",
        "  result = []\n",
        "\n",
        "  while i < len(ops):\n",
        "    if ops[i] == '1':\n",
        "      i += 1\n",
        "      stack.push(int(ops[i]))\n",
        "    elif ops[i] == '2':\n",
        "      result.append(stack.pop())\n",
        "    i += 1\n",
        "  return result\n",
        "\n",
        "input_str = \"1 2 1 3 2 1 4 2\"\n",
        "output = run_stack_ops(input_str)\n",
        "print(output)"
      ]
    },
    {
      "cell_type": "code",
      "source": [
        "# Queue using array\n",
        "\n",
        "from collections import deque\n",
        "\n",
        "class MyQueue:\n",
        "  def __init__(self):\n",
        "    self.arr = deque()\n",
        "\n",
        "  def push(self,x):\n",
        "    self.arr.append(x)\n",
        "\n",
        "  def pop(self):\n",
        "    if not self.arr:\n",
        "      return -1\n",
        "    return self.arr.popleft()\n",
        "\n",
        "def run_queue_ops(input_str):\n",
        "  ops = input_str.strip().split()\n",
        "  i = 0\n",
        "  q = MyQueue()\n",
        "  result = []\n",
        "\n",
        "  while i < len(ops):\n",
        "    if ops[i] == '1':\n",
        "      i += 1\n",
        "      q.push(int(ops[i]))\n",
        "    elif ops[i] == '2':\n",
        "      result.append(q.pop())\n",
        "    i += 1\n",
        "\n",
        "  return result\n",
        "\n",
        "input_str = \"1 2 1 3 2 1 4 2\"\n",
        "output = run_queue_ops(input_str)\n",
        "\n",
        "print(*output)\n"
      ],
      "metadata": {
        "colab": {
          "base_uri": "https://localhost:8080/"
        },
        "id": "d64isSvRz0FU",
        "outputId": "f19ccd7e-b86a-44f8-bec2-14309929a6d8"
      },
      "execution_count": null,
      "outputs": [
        {
          "output_type": "stream",
          "name": "stdout",
          "text": [
            "2 3\n"
          ]
        }
      ]
    },
    {
      "cell_type": "code",
      "source": [
        "# Stack using Queue\n",
        "from collections import deque\n",
        "\n",
        "class MyStack:\n",
        "  def __init__(self):\n",
        "    self.q = deque()\n",
        "\n",
        "  def push(self, x):\n",
        "    self.q.append(x)\n",
        "\n",
        "    for _ in range(len(self.q) - 1):\n",
        "      self.q.append(self.q.popleft())\n",
        "\n",
        "  def pop(self):\n",
        "    return self.q.popleft()\n",
        "\n",
        "  def top(self):\n",
        "    return self.q[0]\n",
        "\n",
        "  def empty(self):\n",
        "    return not self.q\n",
        "\n",
        "def stack_ops(ops, vals):\n",
        "  obj = None\n",
        "  output = []\n",
        "\n",
        "  for i in range(len(ops)):\n",
        "    op = ops[i]\n",
        "\n",
        "    if op == \"MyStack\":\n",
        "      obj = MyStack()\n",
        "      output.append(None)\n",
        "    elif op == \"push\":\n",
        "      obj.push(vals[i][0])\n",
        "      output.append(None)\n",
        "    elif op == \"pop\":\n",
        "      output.append(obj.pop())\n",
        "    elif op == \"top\":\n",
        "      output.append(obj.top())\n",
        "    elif op == \"empty\":\n",
        "      output.append(obj.empty())\n",
        "\n",
        "  return output\n",
        "\n",
        "operations = [\"MyStack\", \"push\", \"push\", \"top\", \"pop\", \"empty\"]\n",
        "values     = [[],        [1],     [2],     [],    [],     []]\n",
        "\n",
        "result = stack_ops(operations, values)\n",
        "print(result)"
      ],
      "metadata": {
        "colab": {
          "base_uri": "https://localhost:8080/"
        },
        "id": "vHZIIxsAsFRI",
        "outputId": "aa30b900-519f-482c-ff8c-84aebfab5b0a"
      },
      "execution_count": 13,
      "outputs": [
        {
          "output_type": "stream",
          "name": "stdout",
          "text": [
            "[None, None, None, 2, 2, False]\n"
          ]
        }
      ]
    },
    {
      "cell_type": "code",
      "source": [
        "# Queue using Stack\n",
        "\n",
        "class MyQueue:\n",
        "  def __init__(self):\n",
        "    self.stack_in = []\n",
        "    self.stack_out = []\n",
        "\n",
        "  def push(self,x):\n",
        "    self.stack_in.append(x)\n",
        "\n",
        "  def pop(self):\n",
        "    self._transfer_()\n",
        "    return self.stack_out.pop()\n",
        "\n",
        "  def peek(self):\n",
        "    self._transfer_()\n",
        "    return self.stack_out[-1]\n",
        "\n",
        "  def empty(self):\n",
        "    return not self.stack_out and not self.stack_in\n",
        "\n",
        "  def _transfer_(self):\n",
        "    if not self.stack_out:\n",
        "      while self.stack_in:\n",
        "        self.stack_out.append(self.stack_in.pop())\n",
        "\n",
        "def queue_ops(ops, vals):\n",
        "  obj = None\n",
        "  output = []\n",
        "\n",
        "  for i in range(len(ops)):\n",
        "    op = ops[i]\n",
        "    # val = vals[i]\n",
        "\n",
        "    if op == \"MyQueue\":\n",
        "      obj = MyQueue()\n",
        "      output.append(None)\n",
        "    elif op == \"push\":\n",
        "      obj.push(vals[i][0])\n",
        "      output.append(None)\n",
        "    elif op == \"pop\":\n",
        "      output.append(obj.pop())\n",
        "    elif op == \"peek\":\n",
        "      output.append(obj.peek())\n",
        "    elif op == \"empty\":\n",
        "      output.append(obj.empty())\n",
        "\n",
        "operations = [\"MyQueue\", \"push\", \"push\", \"peek\", \"pop\", \"empty\"]\n",
        "values = [[], [1], [2], [], [], []]\n",
        "\n",
        "result = queue_ops(operations, values)\n",
        "print(result)"
      ],
      "metadata": {
        "colab": {
          "base_uri": "https://localhost:8080/"
        },
        "id": "jocFuzblv3Cm",
        "outputId": "79c89608-6766-425b-aea9-0ff69986d4bf"
      },
      "execution_count": 12,
      "outputs": [
        {
          "output_type": "stream",
          "name": "stdout",
          "text": [
            "None\n"
          ]
        }
      ]
    },
    {
      "cell_type": "code",
      "source": [
        "# valid parenthesis\n",
        "\n",
        "def isValid(s):\n",
        "  stack = []\n",
        "  pairs = { '}' : '{' , ')' : '(' , ']' : '['}\n",
        "\n",
        "  for ch in s:\n",
        "    if ch in pairs.values():\n",
        "      stack.append(ch)\n",
        "    elif ch in pairs:\n",
        "      if not stack or stack.pop() != pairs[ch]:\n",
        "        return False\n",
        "  return not stack\n",
        "\n",
        "print(isValid(\"()[]{}\"))\n",
        "print(isValid(\"([])\"))\n",
        "print(isValid(\"([)]\"))"
      ],
      "metadata": {
        "colab": {
          "base_uri": "https://localhost:8080/"
        },
        "id": "V4DXesB-7h01",
        "outputId": "57139bf9-e753-402f-e664-7538b89bbd28"
      },
      "execution_count": 18,
      "outputs": [
        {
          "output_type": "stream",
          "name": "stdout",
          "text": [
            "True\n",
            "True\n",
            "False\n"
          ]
        }
      ]
    },
    {
      "cell_type": "code",
      "source": [
        "# next Greater element\n",
        "def nextGreater(nums1,nums2):\n",
        "  stack = []\n",
        "  next = {}\n",
        "\n",
        "  for num in reversed(nums2):\n",
        "    while stack and stack[-1] <= num:\n",
        "      stack.pop()\n",
        "    next[num] = stack[-1] if stack else -1\n",
        "    stack.append(num)\n",
        "  return [next[num] for num in nums1]\n",
        "print(nextGreater([2,4], [1,2,3,4]))"
      ],
      "metadata": {
        "colab": {
          "base_uri": "https://localhost:8080/"
        },
        "id": "Db5U37hTAieZ",
        "outputId": "2af9f330-1144-41e1-f363-18e7a03ca4b6"
      },
      "execution_count": 21,
      "outputs": [
        {
          "output_type": "stream",
          "name": "stdout",
          "text": [
            "[3, -1]\n"
          ]
        }
      ]
    },
    {
      "cell_type": "code",
      "source": [
        "# sort a stack\n",
        "def Sorted(s):\n",
        "  if s:\n",
        "    top = s.pop()\n",
        "    Sorted(s)\n",
        "    _insert_(s,top)\n",
        "\n",
        "def _insert_(s,element):\n",
        "  if not s or s[-1] <= element:\n",
        "    s.append(element)\n",
        "  else:\n",
        "    temp = s.pop()\n",
        "    _insert_(s,element)\n",
        "    s.append(temp)\n",
        "\n",
        "s = [11,2,32,3,41]\n",
        "Sorted(s)\n",
        "print(s)"
      ],
      "metadata": {
        "colab": {
          "base_uri": "https://localhost:8080/"
        },
        "id": "z8BSviJ5_R6B",
        "outputId": "a403d128-f6c6-4a9c-a52c-ca015492552d"
      },
      "execution_count": 2,
      "outputs": [
        {
          "output_type": "stream",
          "name": "stdout",
          "text": [
            "[2, 3, 11, 32, 41]\n"
          ]
        }
      ]
    }
  ]
}