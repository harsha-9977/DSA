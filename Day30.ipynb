{
  "nbformat": 4,
  "nbformat_minor": 0,
  "metadata": {
    "colab": {
      "provenance": [],
      "authorship_tag": "ABX9TyNPEQJoiV0iPVNcVOdTgmr5",
      "include_colab_link": true
    },
    "kernelspec": {
      "name": "python3",
      "display_name": "Python 3"
    },
    "language_info": {
      "name": "python"
    }
  },
  "cells": [
    {
      "cell_type": "markdown",
      "metadata": {
        "id": "view-in-github",
        "colab_type": "text"
      },
      "source": [
        "<a href=\"https://colab.research.google.com/github/harsha-9977/DSA/blob/main/Day30.ipynb\" target=\"_parent\"><img src=\"https://colab.research.google.com/assets/colab-badge.svg\" alt=\"Open In Colab\"/></a>"
      ]
    },
    {
      "cell_type": "code",
      "execution_count": null,
      "metadata": {
        "colab": {
          "base_uri": "https://localhost:8080/"
        },
        "id": "OHfo4RrCoXCp",
        "outputId": "f7961304-136b-4ada-f07d-3c8dbf90edbf"
      },
      "outputs": [
        {
          "output_type": "stream",
          "name": "stdout",
          "text": [
            "1 0 1 \n",
            "0 0 0 \n",
            "1 0 1 \n",
            "0 0 0 0 \n",
            "0 4 5 0 \n",
            "0 3 1 0 \n"
          ]
        }
      ],
      "source": [
        "# Set matrix zeros\n",
        "def setZeros(matrix):\n",
        "  n = len(matrix)\n",
        "  m = len(matrix[0])\n",
        "  first_row_zero = any(matrix[0][j] == 0 for j in range(n))\n",
        "  first_col_zero = any(matrix[i][0] == 0 for i in range(m))\n",
        "\n",
        "  for i in range(1,n):\n",
        "    for j in range(1,m):\n",
        "      if matrix[i][j] == 0:\n",
        "        matrix[i][0] = 0\n",
        "        matrix[0][j] = 0\n",
        "  for i in range(1,n):\n",
        "    for j in range(1,m):\n",
        "      if matrix[i][0] == 0 or matrix[0][j] == 0:\n",
        "        matrix[i][j] = 0\n",
        "\n",
        "  if first_row_zero:\n",
        "    for j in range(m):\n",
        "      matrix[0][j] = 0\n",
        "\n",
        "  if first_col_zero:\n",
        "    for i in range(n):\n",
        "      matrix[i][0] = 0\n",
        "  return matrix\n",
        "def prints(matrix):\n",
        "  for i in range(len(matrix)):\n",
        "    for j in range(len(matrix[0])):\n",
        "      print(matrix[i][j] , end=\" \")\n",
        "    print()\n",
        "prints(setZeros([[1,1,1],[1,0,1],[1,1,1]]))\n",
        "prints(setZeros([[0,1,2,0],[3,4,5,2],[1,3,1,5]]))\n"
      ]
    },
    {
      "cell_type": "code",
      "source": [
        "# pascal Triangle\n",
        "def generate(numRows):\n",
        "  final = []\n",
        "  for i in range(1,numRows+1):\n",
        "    ans = 1\n",
        "    ansRow = []\n",
        "    ansRow.append(ans)\n",
        "    for j in range(1,i):\n",
        "      ans = ans * (i - j)\n",
        "      ans = ans / j\n",
        "      ansRow.append(int(ans))\n",
        "    final.append(ansRow)\n",
        "  return final\n",
        "print(generate(5))"
      ],
      "metadata": {
        "colab": {
          "base_uri": "https://localhost:8080/"
        },
        "id": "4sKZekPEZv0c",
        "outputId": "1fa841a1-8dc1-445d-e3cc-021626dc805b"
      },
      "execution_count": 3,
      "outputs": [
        {
          "output_type": "stream",
          "name": "stdout",
          "text": [
            "[[1], [1, 1], [1, 2, 1], [1, 3, 3, 1], [1, 4, 6, 4, 1]]\n"
          ]
        }
      ]
    },
    {
      "cell_type": "code",
      "source": [
        "# next permutation\n",
        "def next(nums):\n",
        "  n = len(nums)\n",
        "\n",
        "  idx = -1\n",
        "  for i in range(n-2,-1,-1):\n",
        "    if nums[i] < nums[i+1]:\n",
        "      idx = i\n",
        "      break\n",
        "\n",
        "  if idx == -1:\n",
        "    nums.reverse()\n",
        "    return nums\n",
        "\n",
        "  for i in range(n-1,-1,-1):\n",
        "    if nums[i] > nums[idx]:\n",
        "      nums[i],nums[idx] = nums[idx],nums[i]\n",
        "      break\n",
        "  nums[idx+1:] = reversed(nums[idx+1:])\n",
        "  return nums\n",
        "print(next([1,2,3]))"
      ],
      "metadata": {
        "colab": {
          "base_uri": "https://localhost:8080/"
        },
        "id": "e8SA7D8WgF9W",
        "outputId": "af98ba82-0d28-4bee-ef61-6141e0ff3e59"
      },
      "execution_count": 7,
      "outputs": [
        {
          "output_type": "stream",
          "name": "stdout",
          "text": [
            "[1, 3, 2]\n"
          ]
        }
      ]
    },
    {
      "cell_type": "code",
      "source": [
        "# kadanes maxSubarray\n",
        "def maxSubarray(nums):\n",
        "  n = len(nums)\n",
        "  curr_sum = nums[0]\n",
        "  max_sum = nums[0]\n",
        "  for i in nums[1:]:\n",
        "    curr_sum = max(i,i+curr_sum)\n",
        "    max_sum = max(curr_sum,max_sum)\n",
        "  return max_sum\n",
        "print(maxSubarray([-2,1,-3,4,-1,2,1,-5,4]))\n",
        "print(maxSubarray([1]))"
      ],
      "metadata": {
        "colab": {
          "base_uri": "https://localhost:8080/"
        },
        "id": "mGcfz7IriDZp",
        "outputId": "9b63632b-79b3-4cb3-d0ad-b14bb0a259b9"
      },
      "execution_count": 8,
      "outputs": [
        {
          "output_type": "stream",
          "name": "stdout",
          "text": [
            "6\n",
            "1\n"
          ]
        }
      ]
    },
    {
      "cell_type": "code",
      "source": [
        "# sort 1's 0's 2's\n",
        "def sortColors(nums):\n",
        "  low,mid,high = 0,0,len(nums)-1\n",
        "\n",
        "  while mid <= high:\n",
        "    if nums[mid] == 0:\n",
        "      nums[low],nums[mid] = nums[mid],nums[low]\n",
        "      mid += 1\n",
        "      low += 1\n",
        "    elif nums[mid] == 1:\n",
        "      mid += 1\n",
        "    else:\n",
        "      nums[mid],nums[high] = nums[high],nums[mid]\n",
        "      high -= 1\n",
        "  return nums\n",
        "print(sortColors([2,0,2,1,1,0]))"
      ],
      "metadata": {
        "colab": {
          "base_uri": "https://localhost:8080/"
        },
        "id": "P2DcfY0ajiqD",
        "outputId": "abd2e08c-184b-4e76-ef7c-9acfdc814df0"
      },
      "execution_count": 9,
      "outputs": [
        {
          "output_type": "stream",
          "name": "stdout",
          "text": [
            "[0, 0, 1, 1, 2, 2]\n"
          ]
        }
      ]
    },
    {
      "cell_type": "code",
      "source": [
        "# best time to buy and sell stock\n",
        "def maxProfit(prices):\n",
        "  buyprice = float('inf')\n",
        "  max_profit = 0\n",
        "  for i in prices:\n",
        "    if i > buyprice:\n",
        "      profit = i - buyprice\n",
        "      max_profit = max(profit,max_profit)\n",
        "    else:\n",
        "      buyprice = i\n",
        "  return max_profit\n",
        "print(maxProfit([7,1,5,3,6,4]))"
      ],
      "metadata": {
        "colab": {
          "base_uri": "https://localhost:8080/"
        },
        "id": "nxR2I5SnlS2S",
        "outputId": "f42f3296-e039-4a80-eb04-7c0350ce0c19"
      },
      "execution_count": 10,
      "outputs": [
        {
          "output_type": "stream",
          "name": "stdout",
          "text": [
            "5\n"
          ]
        }
      ]
    }
  ]
}