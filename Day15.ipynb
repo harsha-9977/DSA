{
  "nbformat": 4,
  "nbformat_minor": 0,
  "metadata": {
    "colab": {
      "provenance": []
    },
    "kernelspec": {
      "name": "python3",
      "display_name": "Python 3"
    },
    "language_info": {
      "name": "python"
    }
  },
  "cells": [
    {
      "cell_type": "code",
      "execution_count": null,
      "metadata": {
        "colab": {
          "base_uri": "https://localhost:8080/"
        },
        "id": "NVDAcYQKFM5h",
        "outputId": "870e0956-4679-480d-becb-c8ffa58923a1"
      },
      "outputs": [
        {
          "output_type": "stream",
          "name": "stdout",
          "text": [
            "3\n",
            "11.0\n",
            "4.5\n"
          ]
        }
      ],
      "source": [
        "# Median of 2 sorted arrays of different size\n",
        "def medianOf2(a,b):\n",
        "  if len(a) > len(b):\n",
        "    a,b = b,a\n",
        "\n",
        "  x = len(a)\n",
        "  y = len(b)\n",
        "\n",
        "  low = 0\n",
        "  high = x\n",
        "\n",
        "  while low <= high:\n",
        "    partitionX = (low + high) // 2\n",
        "    partitionY = (x + y + 1) // 2 - partitionX\n",
        "\n",
        "    maxLeftX = float('-inf') if partitionX == 0 else a[partitionX-1]\n",
        "    minRightX = float('inf') if partitionX == x else a[partitionX]\n",
        "\n",
        "    maxLeftY = float('-inf') if partitionY == 0 else b[partitionY-1]\n",
        "    minRightY = float('inf') if partitionY == y else b[partitionY]\n",
        "\n",
        "    if maxLeftX <= minRightY and maxLeftY <= minRightX:\n",
        "      if (x + y) % 2 == 0:\n",
        "        return (max(maxLeftX,maxLeftY) + min(minRightX,minRightY)) / 2\n",
        "      else:\n",
        "        return max(maxLeftX,maxLeftY)\n",
        "    elif maxLeftX > minRightY:\n",
        "      high = partitionX - 1\n",
        "    else:\n",
        "      low = partitionX + 1\n",
        "\n",
        "print(medianOf2( [-5, 3, 6, 12, 15], [-12, -10, -6, -3, 4, 10]))\n",
        "print(medianOf2( [2, 3, 5, 8],  [10, 12, 14, 16, 18, 20]))\n",
        "print(medianOf2([], [2, 4, 5, 6]))"
      ]
    }
  ]
}