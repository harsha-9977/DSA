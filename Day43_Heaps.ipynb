{
  "nbformat": 4,
  "nbformat_minor": 0,
  "metadata": {
    "colab": {
      "provenance": [],
      "authorship_tag": "ABX9TyNTDaHNu1RTPef/MtjXufyQ",
      "include_colab_link": true
    },
    "kernelspec": {
      "name": "python3",
      "display_name": "Python 3"
    },
    "language_info": {
      "name": "python"
    }
  },
  "cells": [
    {
      "cell_type": "markdown",
      "metadata": {
        "id": "view-in-github",
        "colab_type": "text"
      },
      "source": [
        "<a href=\"https://colab.research.google.com/github/harsha-9977/DSA/blob/main/Day43_Heaps.ipynb\" target=\"_parent\"><img src=\"https://colab.research.google.com/assets/colab-badge.svg\" alt=\"Open In Colab\"/></a>"
      ]
    },
    {
      "cell_type": "code",
      "execution_count": 10,
      "metadata": {
        "colab": {
          "base_uri": "https://localhost:8080/"
        },
        "id": "sfjguVQKuyrR",
        "outputId": "3de0d4f1-bc72-4b1b-a472-b790ee578b34"
      },
      "outputs": [
        {
          "output_type": "stream",
          "name": "stdout",
          "text": [
            "[1, 5, 3]\n"
          ]
        }
      ],
      "source": [
        "# min heap\n",
        "import heapq\n",
        "\n",
        "class Minheap():\n",
        "  def __init__(self):\n",
        "    self.heap = []\n",
        "\n",
        "  def push(self, val):\n",
        "    heapq.heappush(self.heap, val)\n",
        "\n",
        "  def pop(self):\n",
        "    if self.heap:\n",
        "      return heapq.heappop(self.heap)\n",
        "    return None\n",
        "\n",
        "  def peek(self):\n",
        "    if self.heap:\n",
        "      return self.heap[0]\n",
        "    return None\n",
        "\n",
        "  def size(self):\n",
        "    return len(self.heap)\n",
        "\n",
        "  def __iter__(self):\n",
        "    return iter(self.heap)\n",
        "\n",
        "minh = Minheap()\n",
        "minh.push(5)\n",
        "minh.push(1)\n",
        "minh.push(3)\n",
        "\n",
        "print([i for i in minh])"
      ]
    },
    {
      "cell_type": "code",
      "source": [
        "# max heap\n",
        "import heapq\n",
        "class Maxheap():\n",
        "  def __init__(self):\n",
        "    self.heap = []\n",
        "\n",
        "  def push(self, val):\n",
        "    heapq.heappush(self.heap, -val)\n",
        "\n",
        "  def pop(self):\n",
        "    if self.heap:\n",
        "      return -heapq.heappop(self.heap)\n",
        "    return None\n",
        "\n",
        "  def peek(self):\n",
        "    if self.heap:\n",
        "      return -self.heap[0]\n",
        "    return None\n",
        "\n",
        "  def size(self):\n",
        "    return len(self.heap)\n",
        "\n",
        "  def __iter__(self):\n",
        "    return iter(self.heap)\n",
        "\n",
        "\n",
        "maxh = Maxheap()\n",
        "maxh.push(5)\n",
        "maxh.push(1)\n",
        "maxh.push(3)\n",
        "print(maxh.pop())\n",
        "print([i for i in maxh])"
      ],
      "metadata": {
        "colab": {
          "base_uri": "https://localhost:8080/"
        },
        "id": "_dpHXZf43Yo1",
        "outputId": "0d3529d0-45a6-4fe8-fbd0-aecbe9a3fee4"
      },
      "execution_count": 14,
      "outputs": [
        {
          "output_type": "stream",
          "name": "stdout",
          "text": [
            "5\n",
            "[-3, -1]\n"
          ]
        }
      ]
    },
    {
      "cell_type": "code",
      "source": [
        "# kth largest element in an array\n",
        "import heapq\n",
        "def kth(nums, k):\n",
        "  heap_sol = []\n",
        "  for i in nums:\n",
        "    heapq.heappush(heap_sol,i)\n",
        "    if len(heap_sol) > k:\n",
        "      heapq.heappop(heap_sol)\n",
        "  return heap_sol[0]\n",
        "print(kth([3,2,3,1,2,4,5,5,6], 4))"
      ],
      "metadata": {
        "colab": {
          "base_uri": "https://localhost:8080/"
        },
        "id": "jCvhZN258k46",
        "outputId": "ff7fb2bb-a492-4df4-9e15-947f9660ea93"
      },
      "execution_count": 15,
      "outputs": [
        {
          "output_type": "stream",
          "name": "stdout",
          "text": [
            "4\n"
          ]
        }
      ]
    },
    {
      "cell_type": "code",
      "source": [
        "# Maximum sum combination\n",
        "import heapq\n",
        "\n",
        "def msc(a,b,k):\n",
        "  n = len(a)\n",
        "\n",
        "  a.sort()\n",
        "  b.sort()\n",
        "\n",
        "  max_heap = []\n",
        "  visited = set()\n",
        "\n",
        "  i,j = n-1,n-1\n",
        "  heapq.heappush(max_heap, (-(a[i] + b[j]), i, j))\n",
        "  visited.add((i,j))\n",
        "\n",
        "  result = []\n",
        "  while k > 0 and max_heap:\n",
        "    current_sum, i, j = heapq.heappop(max_heap)\n",
        "    result.append(-current_sum)\n",
        "    k -= 1\n",
        "\n",
        "    if i-1 >= 0 and (i-1,j) not in visited:\n",
        "      heapq.heappush(max_heap,(-(a[i-1] + b[j]),i-1,j))\n",
        "      visited.add((i-1,j))\n",
        "\n",
        "    if j-1 >= 0 and (i,j-1) not in visited:\n",
        "      heapq.heappush(max_heap,(-(a[i] + b[j-1]),i,j-1))\n",
        "      visited.add((i,j-1))\n",
        "\n",
        "  return result\n",
        "print(msc([1, 4, 2, 3], [2, 5, 1, 6], 3))"
      ],
      "metadata": {
        "colab": {
          "base_uri": "https://localhost:8080/"
        },
        "id": "bYZ-E-T-C2xQ",
        "outputId": "66ae0e0a-bda6-49f0-8a0c-0dff14683ec0"
      },
      "execution_count": 18,
      "outputs": [
        {
          "output_type": "stream",
          "name": "stdout",
          "text": [
            "[10, 9, 9]\n"
          ]
        }
      ]
    },
    {
      "cell_type": "code",
      "source": [
        "# find median from data stream\n",
        "\n",
        "import heapq\n",
        "\n",
        "class MedianFinder():\n",
        "  def __init__(self):\n",
        "    self.low = []\n",
        "    self.high = []\n",
        "\n",
        "  def addNum(self, num):\n",
        "    heapq.heappush(self.low, -num)\n",
        "    heapq.heappush(self.high, -heapq.heappop(self.low))\n",
        "\n",
        "    if len(self.low) < len(self.high):\n",
        "      heapq.heappush(self.low, -heapq.heappop(self.high))\n",
        "\n",
        "  def findMedian(self):\n",
        "    if len(self.low) > len(self.high):\n",
        "      return -self.low[0]\n",
        "    return (-self.low[0] + self.high[0]) / 2\n",
        "\n",
        "commands = [\"MedianFinder\", \"addNum\", \"addNum\", \"findMedian\", \"addNum\", \"findMedian\"]\n",
        "inputs = [[], [1], [2], [], [3], []]\n",
        "\n",
        "result = []\n",
        "obj = None\n",
        "\n",
        "for cmd, val in zip(commands, inputs):\n",
        "  if cmd == \"MedianFinder\":\n",
        "    obj = MedianFinder()\n",
        "    result.append(None)\n",
        "  elif cmd == \"addNum\":\n",
        "    obj.addNum(val[0])\n",
        "    result.append(None)\n",
        "  else:\n",
        "    result.append(obj.findMedian())\n",
        "\n",
        "print(result)"
      ],
      "metadata": {
        "colab": {
          "base_uri": "https://localhost:8080/"
        },
        "id": "D0iTnNXeESMh",
        "outputId": "b947dd53-c91d-4971-9dc9-90dcc273c8d9"
      },
      "execution_count": 20,
      "outputs": [
        {
          "output_type": "stream",
          "name": "stdout",
          "text": [
            "[None, None, None, 1.5, None, 2]\n"
          ]
        }
      ]
    },
    {
      "cell_type": "code",
      "source": [
        "# merge k sorted arrays\n",
        "import heapq\n",
        "\n",
        "def ks(arr, k):\n",
        "  min_heap = []\n",
        "  result = []\n",
        "\n",
        "  for i in range(k):\n",
        "    heapq.heappush(min_heap, (arr[i][0],i,0))\n",
        "\n",
        "  while min_heap:\n",
        "    val, r, c = heapq.heappop(min_heap)\n",
        "    result.append(val)\n",
        "\n",
        "    if c + 1 < len(arr[r]):\n",
        "      heapq.heappush(min_heap, (arr[r][c+1], r, c+1))\n",
        "  return result\n",
        "print(ks([[1,2,3],[4,5,6],[7,8,9]],3))"
      ],
      "metadata": {
        "colab": {
          "base_uri": "https://localhost:8080/"
        },
        "id": "FaGuAebRWSvV",
        "outputId": "e3adb94e-915f-4210-f63b-e616dba894d8"
      },
      "execution_count": 22,
      "outputs": [
        {
          "output_type": "stream",
          "name": "stdout",
          "text": [
            "[1, 2, 3, 4, 5, 6, 7, 8, 9]\n"
          ]
        }
      ]
    },
    {
      "cell_type": "code",
      "source": [
        "# Top k frequent element\n",
        "from collections import Counter\n",
        "import heapq\n",
        "\n",
        "def topk(arr,k):\n",
        "  heap = []\n",
        "  freq_map = Counter(arr)\n",
        "\n",
        "  for num, freq in freq_map.items():\n",
        "    heapq.heappush(heap, (freq,num))\n",
        "    if len(heap) > k:\n",
        "      heapq.heappop(heap)\n",
        "\n",
        "  return [num for freq,num in heap]\n",
        "print(topk([1,1,1,2,2,3], 2))"
      ],
      "metadata": {
        "colab": {
          "base_uri": "https://localhost:8080/"
        },
        "id": "MsVgms04Y8BD",
        "outputId": "e39342ce-64cb-4881-ca36-9a00467d855a"
      },
      "execution_count": 25,
      "outputs": [
        {
          "output_type": "stream",
          "name": "stdout",
          "text": [
            "[2, 1]\n"
          ]
        }
      ]
    }
  ]
}