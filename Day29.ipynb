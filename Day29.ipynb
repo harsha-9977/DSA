{
  "nbformat": 4,
  "nbformat_minor": 0,
  "metadata": {
    "colab": {
      "provenance": [],
      "authorship_tag": "ABX9TyMn1DXo12c6cIfnZ3HBiHqV",
      "include_colab_link": true
    },
    "kernelspec": {
      "name": "python3",
      "display_name": "Python 3"
    },
    "language_info": {
      "name": "python"
    }
  },
  "cells": [
    {
      "cell_type": "markdown",
      "metadata": {
        "id": "view-in-github",
        "colab_type": "text"
      },
      "source": [
        "<a href=\"https://colab.research.google.com/github/harsha-9977/DSA/blob/main/Day29.ipynb\" target=\"_parent\"><img src=\"https://colab.research.google.com/assets/colab-badge.svg\" alt=\"Open In Colab\"/></a>"
      ]
    },
    {
      "cell_type": "code",
      "execution_count": 1,
      "metadata": {
        "colab": {
          "base_uri": "https://localhost:8080/"
        },
        "id": "bM5lmYamZz4M",
        "outputId": "fcc583e8-ba5e-4227-9c99-74ef1760e8bb"
      },
      "outputs": [
        {
          "output_type": "stream",
          "name": "stdout",
          "text": [
            "[1, 3, 13]\n"
          ]
        }
      ],
      "source": [
        "# Largest fibonacci sequence\n",
        "def findFibSubset(arr):\n",
        "  result = []\n",
        "\n",
        "  for i in arr:\n",
        "    fact1 = 5 * (i**2) + 4\n",
        "    fact2 = 5 * (i**2) - 4\n",
        "\n",
        "    if int(fact1**0.5)**2 == fact1 or int(fact2**0.5)**2 == fact2:\n",
        "      result.append(i)\n",
        "  return result\n",
        "print(findFibSubset([1, 4, 3, 9, 10, 13, 7]))"
      ]
    },
    {
      "cell_type": "code",
      "source": [
        "# count distinct element in every window\n",
        "from collections import defaultdict\n",
        "def countDistinct(arr,k):\n",
        "  n = len(arr)\n",
        "  if len(arr) < k:\n",
        "    return []\n",
        "\n",
        "  freq = defaultdict(int)\n",
        "  result = []\n",
        "\n",
        "  for i in range(k):\n",
        "    freq[arr[i]] += 1\n",
        "  result.append(len(freq))\n",
        "\n",
        "  for i in range(k,n):\n",
        "    left = arr[i-k]\n",
        "    freq[left] -= 1\n",
        "\n",
        "    if freq[left] == 0:\n",
        "      del freq[left]\n",
        "\n",
        "    freq[arr[i]] += 1\n",
        "    result.append(len(freq))\n",
        "  return result\n",
        "print(countDistinct( [1, 2, 1, 3, 4, 2, 3],  4))\n",
        "\n"
      ],
      "metadata": {
        "colab": {
          "base_uri": "https://localhost:8080/"
        },
        "id": "z3Cjk55krhKb",
        "outputId": "5f4a052b-6bac-412f-eccc-53371b99ece1"
      },
      "execution_count": 3,
      "outputs": [
        {
          "output_type": "stream",
          "name": "stdout",
          "text": [
            "[3, 4, 4, 3]\n"
          ]
        }
      ]
    },
    {
      "cell_type": "code",
      "source": [
        "# mr modulo and pairs arr[i] % arr[j] == k count all pairs\n",
        "def printPairs(arr, k):\n",
        "  arr_set = set(arr)\n",
        "  max_val = max(arr)\n",
        "  count = 0\n",
        "\n",
        "  k_in_arr = k in arr\n",
        "\n",
        "  for i in arr:\n",
        "    if i <= k:\n",
        "      continue\n",
        "\n",
        "    if k_in_arr:\n",
        "      count += 1\n",
        "\n",
        "    m = k + i\n",
        "    while m <= max_val:\n",
        "      if m != i and m in arr_set:\n",
        "        count += 1\n",
        "      m += i\n",
        "  return count\n",
        "print(printPairs([2, 3, 5, 4, 7],  3))"
      ],
      "metadata": {
        "colab": {
          "base_uri": "https://localhost:8080/"
        },
        "id": "RimdqviNw4ht",
        "outputId": "1b8d1b0a-a9b2-4087-c8f3-303531b11293"
      },
      "execution_count": 4,
      "outputs": [
        {
          "output_type": "stream",
          "name": "stdout",
          "text": [
            "4\n"
          ]
        }
      ]
    },
    {
      "cell_type": "code",
      "source": [
        "# kth distinct\n",
        "from collections import Counter\n",
        "def kth(arr,k):\n",
        "  freq = Counter(arr)\n",
        "  dis = []\n",
        "\n",
        "  for i in arr:\n",
        "    if freq[i] == 1:\n",
        "      dis.append(i)\n",
        "  if k <= len(dis):\n",
        "    return dis[k-1]\n",
        "  else:\n",
        "    return -1\n",
        "print(kth([1, 2, 50, 10, 20, 2],3))"
      ],
      "metadata": {
        "colab": {
          "base_uri": "https://localhost:8080/"
        },
        "id": "D3VysVg463uv",
        "outputId": "805907ae-414d-4831-9b7b-b2321fbfe071"
      },
      "execution_count": 5,
      "outputs": [
        {
          "output_type": "stream",
          "name": "stdout",
          "text": [
            "10\n"
          ]
        }
      ]
    },
    {
      "cell_type": "code",
      "source": [
        "# Fraction to repeacting decimal\n",
        "def calFrac(a,b):\n",
        "  if a % b == 0:\n",
        "    return str(a // b)\n",
        "\n",
        "  result = \"\"\n",
        "  if (a < 0) ^ (b < 0):\n",
        "    result += \"-\"\n",
        "\n",
        "  a,b = abs(a),abs(b)\n",
        "\n",
        "  result += str(a // b)\n",
        "  result += \".\"\n",
        "\n",
        "  rem = a % b\n",
        "  rem_pos = {}\n",
        "  frac = \"\"\n",
        "\n",
        "  while rem != 0:\n",
        "    if rem in rem_pos:\n",
        "      idx = rem_pos[rem]\n",
        "      frac = frac[:idx] + \"(\" + frac[idx:] + \")\"\n",
        "      return result + frac\n",
        "    rem_pos[rem] = len(frac)\n",
        "    rem *= 10\n",
        "    frac += str(rem // b)\n",
        "    rem %= b\n",
        "\n",
        "  return result + frac\n",
        "print(calFrac(1,  2))\n",
        "print(calFrac(50, 22))"
      ],
      "metadata": {
        "colab": {
          "base_uri": "https://localhost:8080/"
        },
        "id": "SPqPaj_Y-oS5",
        "outputId": "d4d71645-c623-49a7-dd33-e8ad9fd05cb4"
      },
      "execution_count": 7,
      "outputs": [
        {
          "output_type": "stream",
          "name": "stdout",
          "text": [
            "0.5\n",
            "2.(27)\n"
          ]
        }
      ]
    },
    {
      "cell_type": "code",
      "source": [
        "# 4 sum count quadruplets with given sum\n",
        "def countSum(arr,target):\n",
        "  n = len(arr)\n",
        "  pair_count = defaultdict(int)\n",
        "  ans = 0\n",
        "\n",
        "  for i in range(n):\n",
        "     for j in range(i+1,n):\n",
        "        need = target - (arr[i] + arr[j])\n",
        "        ans += pair_count[need]\n",
        "\n",
        "     for j in range(i):\n",
        "      s = arr[i] + arr[j]\n",
        "      pair_count[s] += 1\n",
        "  return ans\n",
        "\n",
        "print(countSum([1, 5, 3, 1, 2, 10], 20))"
      ],
      "metadata": {
        "colab": {
          "base_uri": "https://localhost:8080/"
        },
        "id": "bl2WNWZTAD7d",
        "outputId": "1ca7d241-c445-4c64-e4de-5479b161dd32"
      },
      "execution_count": 8,
      "outputs": [
        {
          "output_type": "stream",
          "name": "stdout",
          "text": [
            "1\n"
          ]
        }
      ]
    },
    {
      "cell_type": "code",
      "source": [
        "from os import nice\n",
        "from random import random\n",
        "# Clone a Binary tree\n",
        "class Node:\n",
        "  def __init__(self,data):\n",
        "    self.data = data\n",
        "    self.right = None\n",
        "    self.left = None\n",
        "    self.random = None\n",
        "class Solution:\n",
        "  def cloneTree(self,root):\n",
        "    if not root:\n",
        "      return None\n",
        "\n",
        "    old_to_new = {}\n",
        "\n",
        "    def clone_nodes(node):\n",
        "      if not node:\n",
        "        return None\n",
        "      cloned = Node(node.data)\n",
        "      old_to_new[node] = cloned\n",
        "      cloned.left = clone_nodes(node.left)\n",
        "      cloned.right = clone_nodes(node.right)\n",
        "      return cloned\n",
        "\n",
        "    clone_nodes(root)\n",
        "\n",
        "    for old, new in old_to_new.items():\n",
        "      if old.random:\n",
        "        new.random = old_to_new[old.random]\n",
        "    return old_to_new[root]\n",
        "# 🛠 Helper to print and validate\n",
        "def print_tree_with_randoms(root):\n",
        "    visited = set()\n",
        "    def dfs(node):\n",
        "        if node and node not in visited:\n",
        "            visited.add(node)\n",
        "            rand_val = node.random.data if node.random else \"None\"\n",
        "            print(f\"Node {node.data}, Random → {rand_val}\")\n",
        "            dfs(node.left)\n",
        "            dfs(node.right)\n",
        "    dfs(root)\n",
        "\n",
        "\n",
        "# 🌳 Build sample tree:\n",
        "#         1\n",
        "#        / \\\n",
        "#       2   3\n",
        "# random pointers:\n",
        "# 1.random → 3\n",
        "# 2.random → 1\n",
        "# 3.random → 2\n",
        "\n",
        "root = Node(1)\n",
        "root.left = Node(2)\n",
        "root.right = Node(3)\n",
        "root.random = root.right       # 1 → 3\n",
        "root.left.random = root        # 2 → 1\n",
        "root.right.random = root.left  # 3 → 2\n",
        "\n",
        "print(\"🔍 Original Tree:\")\n",
        "print_tree_with_randoms(root)\n",
        "\n",
        "# ✅ Clone it\n",
        "sol = Solution()\n",
        "cloned_root = sol.cloneTree(root)\n",
        "\n",
        "print(\"\\n✅ Cloned Tree:\")\n",
        "print_tree_with_randoms(cloned_root)"
      ],
      "metadata": {
        "colab": {
          "base_uri": "https://localhost:8080/"
        },
        "id": "5cjwJO4kI9ZC",
        "outputId": "f84c8835-f4ba-476d-91a7-d60890a30abe"
      },
      "execution_count": 12,
      "outputs": [
        {
          "output_type": "stream",
          "name": "stdout",
          "text": [
            "🔍 Original Tree:\n",
            "Node 1, Random → 3\n",
            "Node 2, Random → 1\n",
            "Node 3, Random → 2\n",
            "\n",
            "✅ Cloned Tree:\n",
            "Node 1, Random → 3\n",
            "Node 2, Random → 1\n",
            "Node 3, Random → 2\n"
          ]
        }
      ]
    },
    {
      "cell_type": "code",
      "source": [
        "# largest subarray of 0's and 1's\n",
        "def largest(arr):\n",
        "  arr = [-1 if i == 0 else 1 for i in arr]\n",
        "  max_len = 0\n",
        "  sum_map = {}\n",
        "  prefix_sum = 0\n",
        "\n",
        "  for i, val in enumerate(arr):\n",
        "    prefix_sum += val\n",
        "\n",
        "    if prefix_sum == 0:\n",
        "      max_len = i + 1\n",
        "\n",
        "    if prefix_sum in sum_map:\n",
        "      max_len = max(max_len, i - sum_map[prefix_sum])\n",
        "    else:\n",
        "      sum_map[prefix_sum] = i\n",
        "  return max_len\n",
        "print(largest([1, 0, 1, 1, 1, 0, 0]))"
      ],
      "metadata": {
        "colab": {
          "base_uri": "https://localhost:8080/"
        },
        "id": "PYavVJzULpJ4",
        "outputId": "3dc98d3b-7929-474c-b2ea-e5b681858d62"
      },
      "execution_count": 16,
      "outputs": [
        {
          "output_type": "stream",
          "name": "stdout",
          "text": [
            "6\n"
          ]
        }
      ]
    },
    {
      "cell_type": "code",
      "source": [
        "# Longest span in two binary arrays\n",
        "# largest subarray of 0's and 1's\n",
        "def largest(a1,a2):\n",
        "  diff = [a1[i] - a2[i] for i in range(len(a1))]\n",
        "  max_len = 0\n",
        "  sum_map = {}\n",
        "  prefix_sum = 0\n",
        "\n",
        "  for i in range(len(a1)):\n",
        "    prefix_sum += diff[i]\n",
        "\n",
        "    if prefix_sum == 0:\n",
        "      max_len = i + 1\n",
        "\n",
        "    if prefix_sum in sum_map:\n",
        "      max_len = max(max_len, i - sum_map[prefix_sum])\n",
        "    else:\n",
        "      sum_map[prefix_sum] = i\n",
        "  return max_len\n",
        "print(largest([0, 1, 0, 0, 0, 0],[1, 0, 1, 0, 0, 1]))"
      ],
      "metadata": {
        "colab": {
          "base_uri": "https://localhost:8080/"
        },
        "id": "EefV69FTNtFy",
        "outputId": "e21102eb-8389-4288-9bd5-5160374a8d7e"
      },
      "execution_count": 17,
      "outputs": [
        {
          "output_type": "stream",
          "name": "stdout",
          "text": [
            "4\n"
          ]
        }
      ]
    }
  ]
}