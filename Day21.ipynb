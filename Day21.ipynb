{
  "nbformat": 4,
  "nbformat_minor": 0,
  "metadata": {
    "colab": {
      "provenance": []
    },
    "kernelspec": {
      "name": "python3",
      "display_name": "Python 3"
    },
    "language_info": {
      "name": "python"
    }
  },
  "cells": [
    {
      "cell_type": "code",
      "execution_count": 2,
      "metadata": {
        "colab": {
          "base_uri": "https://localhost:8080/"
        },
        "id": "oTcG2y-WYSsj",
        "outputId": "6fde5eaf-34b0-4314-d3da-0ce2b841218e"
      },
      "outputs": [
        {
          "output_type": "stream",
          "name": "stdout",
          "text": [
            "3\n"
          ]
        }
      ],
      "source": [
        "# minimum platforms\n",
        "def minPlats(arr,dep):\n",
        "  n = len(arr)\n",
        "\n",
        "  plat_needed = 1\n",
        "  max_plat = 1\n",
        "\n",
        "  i = 1\n",
        "  j = 0\n",
        "\n",
        "  while i < n and j < n:\n",
        "    if arr[i] <= dep[j]:\n",
        "      plat_needed += 1\n",
        "      i += 1\n",
        "    else:\n",
        "      plat_needed -= 1\n",
        "      j += 1\n",
        "    max_plat = max(max_plat, plat_needed)\n",
        "  return max_plat\n",
        "print(minPlats([900, 940, 950, 1100, 1500, 1800], [910, 1200, 1120, 1130, 1900, 2000]))"
      ]
    }
  ]
}