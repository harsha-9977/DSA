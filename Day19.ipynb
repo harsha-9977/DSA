{
  "nbformat": 4,
  "nbformat_minor": 0,
  "metadata": {
    "colab": {
      "provenance": []
    },
    "kernelspec": {
      "name": "python3",
      "display_name": "Python 3"
    },
    "language_info": {
      "name": "python"
    }
  },
  "cells": [
    {
      "cell_type": "code",
      "execution_count": 2,
      "metadata": {
        "colab": {
          "base_uri": "https://localhost:8080/"
        },
        "id": "c_bTn7Rq7noa",
        "outputId": "cd07f0da-0256-4986-eb1f-15fdad2cf9dd"
      },
      "outputs": [
        {
          "output_type": "stream",
          "name": "stdout",
          "text": [
            "True\n",
            "False\n"
          ]
        }
      ],
      "source": [
        "# check overlapping intervals\n",
        "def isIntersect(intervals):\n",
        "  intervals.sort(key = lambda x : x[0])\n",
        "\n",
        "  for i in range(1, len(intervals)):\n",
        "    if intervals[i][0] <= intervals[i-1][1]:\n",
        "      return True\n",
        "  return False\n",
        "print(isIntersect([[1, 3], [5, 7], [2, 4], [6, 8]]))\n",
        "print(isIntersect([[1, 3], [7, 9], [4, 6], [10, 13]]))"
      ]
    },
    {
      "cell_type": "code",
      "source": [
        "# Sort by set bit count\n",
        "def func(arr):\n",
        "  arr.sort(key = lambda x : bin(x).count('1'),reverse=True)\n",
        "  return arr\n",
        "print(func([5, 2, 3, 9, 4, 6, 7, 15, 32]))\n",
        "print(func([1, 2, 3, 4, 5, 6]))"
      ],
      "metadata": {
        "colab": {
          "base_uri": "https://localhost:8080/"
        },
        "id": "EDbQFOH4Dt2f",
        "outputId": "768dc6b9-6ff3-4b4e-b926-1872ef1f7ebb"
      },
      "execution_count": 6,
      "outputs": [
        {
          "output_type": "stream",
          "name": "stdout",
          "text": [
            "[15, 7, 5, 3, 9, 6, 2, 4, 32]\n",
            "[3, 5, 6, 1, 2, 4]\n"
          ]
        }
      ]
    },
    {
      "cell_type": "code",
      "source": [
        "# Merge without extra space\n",
        "import math\n",
        "def mergeArrays(a,b):\n",
        "  n = len(a)\n",
        "  m = len(b)\n",
        "\n",
        "  def next_gap(gap):\n",
        "    if gap <= 1:\n",
        "      return 0\n",
        "    return math.ceil(gap/2)\n",
        "\n",
        "  gap = next_gap(n + m)\n",
        "\n",
        "  while gap > 0:\n",
        "    i = 0\n",
        "    while i + gap < n + m:\n",
        "      # both i and j in a\n",
        "      if i < n and i + gap < n:\n",
        "        if a[i] > a[i + gap]:\n",
        "          a[i], a[i + gap] = a[i + gap], a[i]\n",
        "      elif i < n and i + gap >= n:\n",
        "        if a[i] > b[i + gap - n]:\n",
        "          a[i], b[i + gap - n] = b[i + gap - n], a[i]\n",
        "      else:\n",
        "        if b[i - n] > b[i + gap - n]:\n",
        "          b[i - n], b[i + gap - n] = b[i + gap - n], b[i - n]\n",
        "      i += 1\n",
        "    gap = next_gap(gap)\n",
        "  return a,b\n",
        "print(mergeArrays([2, 4, 7, 10], [2, 3]))"
      ],
      "metadata": {
        "colab": {
          "base_uri": "https://localhost:8080/"
        },
        "id": "_bNi4Q6AKVUk",
        "outputId": "e6aab625-72de-41e2-9a3e-d659765493ff"
      },
      "execution_count": 8,
      "outputs": [
        {
          "output_type": "stream",
          "name": "stdout",
          "text": [
            "([2, 2, 3, 4], [7, 10])\n"
          ]
        }
      ]
    }
  ]
}