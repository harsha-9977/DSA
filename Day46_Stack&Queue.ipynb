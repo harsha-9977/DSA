{
  "nbformat": 4,
  "nbformat_minor": 0,
  "metadata": {
    "colab": {
      "provenance": [],
      "authorship_tag": "ABX9TyPd0LgJez28raZkzwIzL+a/",
      "include_colab_link": true
    },
    "kernelspec": {
      "name": "python3",
      "display_name": "Python 3"
    },
    "language_info": {
      "name": "python"
    }
  },
  "cells": [
    {
      "cell_type": "markdown",
      "metadata": {
        "id": "view-in-github",
        "colab_type": "text"
      },
      "source": [
        "<a href=\"https://colab.research.google.com/github/harsha-9977/DSA/blob/main/Day46_Stack%26Queue.ipynb\" target=\"_parent\"><img src=\"https://colab.research.google.com/assets/colab-badge.svg\" alt=\"Open In Colab\"/></a>"
      ]
    },
    {
      "cell_type": "code",
      "execution_count": 2,
      "metadata": {
        "colab": {
          "base_uri": "https://localhost:8080/"
        },
        "id": "laxnPXOGTvPX",
        "outputId": "bcb52ea9-72bf-4db8-f830-b5b20f14cb3f"
      },
      "outputs": [
        {
          "output_type": "stream",
          "name": "stdout",
          "text": [
            "10\n"
          ]
        }
      ],
      "source": [
        "# Largest Rectangle in Histogram\n",
        "\n",
        "def largestRectangle(heights):\n",
        "  stack = []\n",
        "  max_area = 0\n",
        "  n = len(heights)\n",
        "\n",
        "  for i in range(n):\n",
        "    while stack and heights[i] < heights[stack[-1]]:\n",
        "      top = stack.pop()\n",
        "      height = heights[top]\n",
        "\n",
        "      width = i if not stack else i - stack[-1] - 1\n",
        "      area = height * width\n",
        "      max_area = max(max_area, area)\n",
        "    stack.append(i)\n",
        "\n",
        "  while stack:\n",
        "    top = stack.pop()\n",
        "    height = heights[top]\n",
        "\n",
        "    width = n if not stack else n - stack[-1] - 1\n",
        "\n",
        "    area = height * width\n",
        "    max_area = max(max_area, area)\n",
        "\n",
        "  return max_area\n",
        "print(largestRectangle([2,1,5,6,2,3]))"
      ]
    },
    {
      "cell_type": "code",
      "source": [
        "a = 1.234567\n",
        "print(f\"{a:.2f}\")"
      ],
      "metadata": {
        "colab": {
          "base_uri": "https://localhost:8080/"
        },
        "id": "jz8tJlilloa-",
        "outputId": "e99788eb-3a40-4b78-d917-8110042f761f"
      },
      "execution_count": 7,
      "outputs": [
        {
          "output_type": "stream",
          "name": "stdout",
          "text": [
            "1.23\n"
          ]
        }
      ]
    },
    {
      "cell_type": "code",
      "source": [
        "# Sliding window maximum\n",
        "from collections import deque\n",
        "def maxInWindow(nums, k):\n",
        "  q = deque()\n",
        "  result = []\n",
        "  for i in range(len(nums)):\n",
        "    # remove if window size is more\n",
        "    if q and q[0] <= i - k:\n",
        "      q.popleft()\n",
        "    # keep only potential players in the Queue\n",
        "    while q and nums[i] > nums[q[-1]]:\n",
        "      q.pop()\n",
        "    # add to queue\n",
        "    q.append(i)\n",
        "    # if kth size is ready pick the max\n",
        "    if i >= k-1:\n",
        "      result.append(nums[q[0]])\n",
        "  return result\n",
        "\n",
        "print(maxInWindow([1,3,-1,-3,5,3,6,7], 3))"
      ],
      "metadata": {
        "colab": {
          "base_uri": "https://localhost:8080/"
        },
        "id": "3Orewqo0y42M",
        "outputId": "d96b80ac-e02c-4570-91ae-65d1112b5155"
      },
      "execution_count": 9,
      "outputs": [
        {
          "output_type": "stream",
          "name": "stdout",
          "text": [
            "[3, 3, 5, 5, 6, 7]\n"
          ]
        }
      ]
    }
  ]
}