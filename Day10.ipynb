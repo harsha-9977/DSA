{
  "nbformat": 4,
  "nbformat_minor": 0,
  "metadata": {
    "colab": {
      "provenance": []
    },
    "kernelspec": {
      "name": "python3",
      "display_name": "Python 3"
    },
    "language_info": {
      "name": "python"
    }
  },
  "cells": [
    {
      "cell_type": "code",
      "execution_count": 1,
      "metadata": {
        "colab": {
          "base_uri": "https://localhost:8080/"
        },
        "id": "xIY62P5p73Ey",
        "outputId": "721a246a-cc19-4e25-a0a6-8d53f8306b19"
      },
      "outputs": [
        {
          "output_type": "stream",
          "name": "stdout",
          "text": [
            "2\n"
          ]
        }
      ],
      "source": [
        "#1 First repeating element\n",
        "def firstRepeated(arr):\n",
        "  index = -1\n",
        "  seen = set()\n",
        "\n",
        "  for i in range(len(arr)-1, -1, -1):\n",
        "    if arr[i] in seen:\n",
        "      index = i+1\n",
        "    else:\n",
        "      seen.add(arr[i])\n",
        "  return index\n",
        "print(firstRepeated( [1, 5, 3, 4, 3, 5, 6]))\n"
      ]
    },
    {
      "cell_type": "code",
      "source": [
        "#2 Find pair given index\n",
        "def findPair(arr, x):\n",
        "  seen = set()\n",
        "  for i in arr:\n",
        "    if (i-x) in seen or (i+x) in seen:\n",
        "      return True\n",
        "    seen.add(i)\n",
        "  return False\n",
        "print(findPair([5, 20, 3, 2, 5, 80],78))\n"
      ],
      "metadata": {
        "colab": {
          "base_uri": "https://localhost:8080/"
        },
        "id": "KBrrXIenBKtu",
        "outputId": "9c34faee-5a1f-4e18-9741-bcb87915bf87"
      },
      "execution_count": 5,
      "outputs": [
        {
          "output_type": "stream",
          "name": "stdout",
          "text": [
            "True\n"
          ]
        }
      ]
    },
    {
      "cell_type": "code",
      "source": [
        "from re import T\n",
        "#3 k Largest element\n",
        "import heapq\n",
        "def kLargest(arr, k):\n",
        "  min_heap = arr[:k]\n",
        "  heapq.heapify(min_heap)\n",
        "\n",
        "  for i in arr[k:]:\n",
        "    if i > min_heap[0]:\n",
        "      heapq.heappop(min_heap)\n",
        "      heapq.heappush(min_heap, i)\n",
        "  return sorted(min_heap, reverse = True)\n",
        "print(kLargest([12, 5, 787, 1, 23],2))\n"
      ],
      "metadata": {
        "colab": {
          "base_uri": "https://localhost:8080/"
        },
        "id": "DmTvNh3oEL1o",
        "outputId": "9eebe0af-93d2-4150-93a7-57e73523c4b6"
      },
      "execution_count": 6,
      "outputs": [
        {
          "output_type": "stream",
          "name": "stdout",
          "text": [
            "[787, 23]\n"
          ]
        }
      ]
    },
    {
      "cell_type": "code",
      "source": [
        "#4 Kth element in matrix\n",
        "def kthElement(matrix, k):\n",
        "  n = len(matrix)\n",
        "  low = matrix[0][0]\n",
        "  high = matrix[-1][-1]\n",
        "\n",
        "  def counts(mid):\n",
        "    count = 0\n",
        "    row = n-1\n",
        "    col = 0\n",
        "\n",
        "    while row >= 0 and col < n:\n",
        "      if matrix[row][col] <= mid:\n",
        "        count += row + 1\n",
        "        col += 1\n",
        "      else:\n",
        "        row -= 1\n",
        "    return count\n",
        "\n",
        "  while low < high:\n",
        "    mid = (low + (high - low) // 2)\n",
        "\n",
        "    if counts(mid) < k:\n",
        "      low = mid + 1\n",
        "    else:\n",
        "      high = mid\n",
        "  return low\n",
        "print(kthElement([[16, 28, 60, 64], [22, 41, 63, 91], [27, 50, 87, 93], [36, 78, 87, 94]], 3))"
      ],
      "metadata": {
        "colab": {
          "base_uri": "https://localhost:8080/"
        },
        "id": "DK_AQfyRLI09",
        "outputId": "2a35f8cd-0728-4b8f-a2fe-6e9b9cf22668"
      },
      "execution_count": 11,
      "outputs": [
        {
          "output_type": "stream",
          "name": "stdout",
          "text": [
            "27\n"
          ]
        }
      ]
    },
    {
      "cell_type": "code",
      "source": [
        "#5 Common in 3 sorted arrays\n",
        "def common(arr1, arr2, arr3):\n",
        "  i = j = k = 0\n",
        "  result = []\n",
        "\n",
        "  while i < len(arr1) and j < len(arr2) and k < len(arr3):\n",
        "    if arr1[i] == arr2[j] == arr3[k]:\n",
        "      if not result or result[-1] != arr1[i]:\n",
        "        result.append(arr1[i])\n",
        "      i += 1\n",
        "      j += 1\n",
        "      k += 1\n",
        "    else:\n",
        "      mini = min(arr1[i], arr2[j], arr3[k])\n",
        "\n",
        "      if arr1[i] == mini:\n",
        "        i += 1\n",
        "      if arr2[j] == mini:\n",
        "        j += 1\n",
        "      if arr3[k] == mini:\n",
        "        k += 1\n",
        "  return result\n",
        "print(common([1, 5, 10, 20, 40, 80] ,  [6, 7, 20, 80, 100] ,   [3, 4, 15, 20, 30, 70, 80, 120]))\n"
      ],
      "metadata": {
        "colab": {
          "base_uri": "https://localhost:8080/"
        },
        "id": "O7eL5KG7O6yC",
        "outputId": "da57b6ae-8c1c-4160-d4fb-f9f9d2fb3575"
      },
      "execution_count": 12,
      "outputs": [
        {
          "output_type": "stream",
          "name": "stdout",
          "text": [
            "[20, 80]\n"
          ]
        }
      ]
    },
    {
      "cell_type": "code",
      "source": [
        "#6 find ceil\n",
        "def ceil(arr, k):\n",
        "  left = 0\n",
        "  right = len(arr) - 1\n",
        "  ceil = -1\n",
        "\n",
        "  while left <= right:\n",
        "    mid = left + (right - left) // 2\n",
        "\n",
        "    if arr[mid] >= k:\n",
        "      ceil = mid\n",
        "      right = mid - 1\n",
        "    else:\n",
        "      left = mid + 1\n",
        "  return ceil\n",
        "print(ceil([1, 2, 8, 10, 11, 12, 19],  5))\n",
        "\n"
      ],
      "metadata": {
        "colab": {
          "base_uri": "https://localhost:8080/"
        },
        "id": "vlkqNcCMTBXZ",
        "outputId": "670c9aee-8db1-4493-8ab6-42eae3721fa2"
      },
      "execution_count": 14,
      "outputs": [
        {
          "output_type": "stream",
          "name": "stdout",
          "text": [
            "2\n"
          ]
        }
      ]
    },
    {
      "cell_type": "code",
      "source": [
        "#7 floor in sorted\n",
        "def floor(arr, k):\n",
        "  left = 0\n",
        "  right = len(arr) - 1\n",
        "  floor = -1\n",
        "\n",
        "  while left < right:\n",
        "    mid = left + (right - left) // 2\n",
        "\n",
        "    if arr[mid] <= k:\n",
        "      floor = mid\n",
        "      left = mid + 1\n",
        "    else:\n",
        "      right = mid - 1\n",
        "  return floor\n",
        "print(floor( [1, 2, 8, 10, 10, 12, 19], 5))"
      ],
      "metadata": {
        "colab": {
          "base_uri": "https://localhost:8080/"
        },
        "id": "y0OC5QxHUDvq",
        "outputId": "90ffd1a0-7e39-479b-ae83-e62b31903e05"
      },
      "execution_count": 16,
      "outputs": [
        {
          "output_type": "stream",
          "name": "stdout",
          "text": [
            "1\n"
          ]
        }
      ]
    },
    {
      "cell_type": "code",
      "source": [
        "#8 bitonic point\n",
        "def bitonic(arr):\n",
        "  l = 0\n",
        "  r = len(arr) - 1\n",
        "\n",
        "  while l < r:\n",
        "    mid = l + (r-l) // 2\n",
        "\n",
        "    if arr[mid] < arr[mid+1]:\n",
        "      l = mid + 1\n",
        "    else:\n",
        "      r = mid\n",
        "\n",
        "  return arr[l]\n",
        "print(bitonic([1, 2, 4, 5, 7, 8, 3]))"
      ],
      "metadata": {
        "colab": {
          "base_uri": "https://localhost:8080/"
        },
        "id": "ErT4mm4UW7N9",
        "outputId": "19df2ae9-6f33-4abf-ac10-39a0c9ba50e8"
      },
      "execution_count": 17,
      "outputs": [
        {
          "output_type": "stream",
          "name": "stdout",
          "text": [
            "8\n"
          ]
        }
      ]
    },
    {
      "cell_type": "code",
      "source": [
        "# more than n/k occurance\n",
        "from collections import Counter\n",
        "def n_k(arr,k):\n",
        "  n = len(arr)\n",
        "  freq = Counter(arr)\n",
        "  tr = n // k\n",
        "\n",
        "  count = 0\n",
        "  for val in freq.values():\n",
        "    if val > tr:\n",
        "      count += 1\n",
        "  return count\n",
        "print(n_k([3, 1, 2, 2, 1, 2, 3, 3], 4))"
      ],
      "metadata": {
        "colab": {
          "base_uri": "https://localhost:8080/"
        },
        "id": "hMFjTcYHYRNH",
        "outputId": "5f424759-d79e-4449-dc0c-675e587a1a8f"
      },
      "execution_count": 18,
      "outputs": [
        {
          "output_type": "stream",
          "name": "stdout",
          "text": [
            "2\n"
          ]
        }
      ]
    }
  ]
}