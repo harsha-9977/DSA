{
  "nbformat": 4,
  "nbformat_minor": 0,
  "metadata": {
    "colab": {
      "provenance": []
    },
    "kernelspec": {
      "name": "python3",
      "display_name": "Python 3"
    },
    "language_info": {
      "name": "python"
    }
  },
  "cells": [
    {
      "cell_type": "code",
      "execution_count": 2,
      "metadata": {
        "colab": {
          "base_uri": "https://localhost:8080/"
        },
        "id": "Iiv7GjZm2als",
        "outputId": "9524f87c-97df-4411-fcb8-998132504a46"
      },
      "outputs": [
        {
          "output_type": "stream",
          "name": "stdout",
          "text": [
            "[[10, 15, 20, 25], [27, 29, 30, 32], [33, 35, 37, 39], [40, 45, 48, 50]]\n"
          ]
        }
      ],
      "source": [
        "# Sort Matrix\n",
        "def sortMatrix(mat):\n",
        "  rows = len(mat)\n",
        "  cols = len(mat[0])\n",
        "\n",
        "  flat = [i for row in mat for i in row]\n",
        "\n",
        "  flat.sort()\n",
        "\n",
        "  index = 0\n",
        "  for i in range(rows):\n",
        "    for j in range(cols):\n",
        "      mat[i][j] = flat[index]\n",
        "      index += 1\n",
        "  return mat\n",
        "print(sortMatrix([[10,20,30,40],\n",
        "[15,25,35,45],\n",
        "[27,29,37,48],\n",
        "[32,33,39,50]]))"
      ]
    },
    {
      "cell_type": "code",
      "source": [
        "# Sort elements by decreasing frequency\n",
        "from collections import Counter\n",
        "def sortByFreq(arr):\n",
        "  freq = Counter(arr)\n",
        "\n",
        "  sorted_arr = sorted(arr, key = lambda x : (-freq[x], x))\n",
        "\n",
        "  return sorted_arr\n",
        "print(sortByFreq([5, 5, 4, 6, 4]))"
      ],
      "metadata": {
        "colab": {
          "base_uri": "https://localhost:8080/"
        },
        "id": "BQHSRF6k5yIg",
        "outputId": "c867496d-74da-47b5-f292-4136557392e5"
      },
      "execution_count": 3,
      "outputs": [
        {
          "output_type": "stream",
          "name": "stdout",
          "text": [
            "[4, 4, 5, 5, 6]\n"
          ]
        }
      ]
    },
    {
      "cell_type": "code",
      "source": [
        "# Merge k sorted arrays\n",
        "import heapq\n",
        "def mergeKArrays(arr):\n",
        "  result = []\n",
        "  heap = []\n",
        "\n",
        "  for i in range(len(arr)):\n",
        "    if arr[i]:\n",
        "      heapq.heappush(heap, (arr[i][0], i, 0))\n",
        "\n",
        "  while heap:\n",
        "    val, row, idx = heapq.heappop(heap)\n",
        "    result.append(val)\n",
        "    if idx+1 < len(arr[row]):\n",
        "      heapq.heappush(heap, (arr[row][idx+1], row, idx+1))\n",
        "  return result\n",
        "print(mergeKArrays([[1,2,3],[4,5,6],[7,8,9]]))\n",
        "print(mergeKArrays([[1,2,3,4],[2,2,3,4],[5,5,6,6],[7,8,9,9]]))"
      ],
      "metadata": {
        "colab": {
          "base_uri": "https://localhost:8080/"
        },
        "id": "AKOOOhX89alR",
        "outputId": "9eb8fce0-c739-4bd0-ef75-992e3cb7b604"
      },
      "execution_count": 8,
      "outputs": [
        {
          "output_type": "stream",
          "name": "stdout",
          "text": [
            "[1, 2, 3, 4, 5, 6, 7, 8, 9]\n",
            "[1, 2, 2, 2, 3, 3, 4, 4, 5, 5, 6, 6, 7, 8, 9, 9]\n"
          ]
        }
      ]
    }
  ]
}