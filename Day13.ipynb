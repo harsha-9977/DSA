{
  "nbformat": 4,
  "nbformat_minor": 0,
  "metadata": {
    "colab": {
      "provenance": []
    },
    "kernelspec": {
      "name": "python3",
      "display_name": "Python 3"
    },
    "language_info": {
      "name": "python"
    }
  },
  "cells": [
    {
      "cell_type": "code",
      "execution_count": 2,
      "metadata": {
        "colab": {
          "base_uri": "https://localhost:8080/"
        },
        "id": "4hgDXkQWKIio",
        "outputId": "ea36e25e-5b47-4e36-fd44-c296eac6efd0"
      },
      "outputs": [
        {
          "output_type": "stream",
          "name": "stdout",
          "text": [
            "7\n"
          ]
        }
      ],
      "source": [
        "# kth smallest element in unsorted array\n",
        "import heapq\n",
        "def kthSmallest(arr, k):\n",
        "  max_heap = [ -i for i in arr[:k]]\n",
        "  heapq.heapify(max_heap)\n",
        "\n",
        "  for i in arr[k:]:\n",
        "    if -i > max_heap[0]:\n",
        "      heapq.heappop(max_heap)\n",
        "      heapq.heappush(max_heap, -i)\n",
        "\n",
        "  return -max_heap[0]\n",
        "print(kthSmallest([7, 10, 4, 3, 20, 15], 3))\n"
      ]
    },
    {
      "cell_type": "code",
      "source": [
        "# value equal to index value 1 based\n",
        "def val(arr):\n",
        "  result = []\n",
        "\n",
        "  for i in range(1, len(arr)+1):\n",
        "    if arr[i-1] == i:\n",
        "      result.append(i)\n",
        "  return result\n",
        "print(val( [15, 2, 45, 4 , 7]))"
      ],
      "metadata": {
        "colab": {
          "base_uri": "https://localhost:8080/"
        },
        "id": "XrPLp9hgO_mK",
        "outputId": "62f8d18a-a408-48b4-d63b-a1130d453a25"
      },
      "execution_count": 3,
      "outputs": [
        {
          "output_type": "stream",
          "name": "stdout",
          "text": [
            "[2, 4]\n"
          ]
        }
      ]
    },
    {
      "cell_type": "code",
      "source": [
        "# k closest elements\n",
        "def kclosest(arr, k, x):\n",
        "\n",
        "  candidate = []\n",
        "\n",
        "  for i in arr:\n",
        "    if i == x:\n",
        "      continue\n",
        "    diff = abs(x - i)\n",
        "    candidate.append((diff,-i))\n",
        "  candidate.sort()\n",
        "\n",
        "  result = [-num for _, num in candidate[:k]]\n",
        "  return result\n",
        "\n",
        "print(kclosest( [1, 3, 4, 10, 12], 2, 4))"
      ],
      "metadata": {
        "colab": {
          "base_uri": "https://localhost:8080/"
        },
        "id": "94HO49msT7O-",
        "outputId": "a96ab340-dffe-4017-9ce6-a510573e1ca5"
      },
      "execution_count": 5,
      "outputs": [
        {
          "output_type": "stream",
          "name": "stdout",
          "text": [
            "[3, 1]\n"
          ]
        }
      ]
    },
    {
      "cell_type": "code",
      "source": [
        "# Sum pair closest to target\n",
        "def sumPair(arr, target):\n",
        "  arr.sort()\n",
        "  left = 0\n",
        "  right = len(arr) - 1\n",
        "  closest = float('inf')\n",
        "  pair = ()\n",
        "\n",
        "  while left < right:\n",
        "    curr_sum = arr[left] + arr[right]\n",
        "\n",
        "    if abs(curr_sum - target) < closest:\n",
        "      closest = abs(curr_sum - target)\n",
        "      pair = (arr[left], arr[right])\n",
        "\n",
        "    if curr_sum < target:\n",
        "      left += 1\n",
        "    else:\n",
        "      right -= 1\n",
        "  return pair\n",
        "print(sumPair( [10, 30, 20, 5], 25))\n"
      ],
      "metadata": {
        "colab": {
          "base_uri": "https://localhost:8080/"
        },
        "id": "2VII2ziZZMm8",
        "outputId": "c9aaca58-cf30-4482-866d-250c1921feff"
      },
      "execution_count": 7,
      "outputs": [
        {
          "output_type": "stream",
          "name": "stdout",
          "text": [
            "(5, 20)\n"
          ]
        }
      ]
    },
    {
      "cell_type": "code",
      "source": [
        "# closest pair from 2 arrays\n",
        "def printClosest(arr,brr,target):\n",
        "  i = 0\n",
        "  j = len(brr) - 1\n",
        "  closest = float('inf')\n",
        "  pair = ()\n",
        "  while i < len(arr) and j >= 0:\n",
        "    curr_sum = arr[i] + brr[j]\n",
        "\n",
        "    if abs(curr_sum - target) < closest:\n",
        "      closest = abs(curr_sum - target)\n",
        "      pair = (arr[i], brr[j])\n",
        "\n",
        "    if curr_sum < target:\n",
        "      i += 1\n",
        "    else:\n",
        "      j -= 1\n",
        "  return pair\n",
        "print(printClosest([1, 4, 5, 7],[10, 20, 30, 40], 32))\n"
      ],
      "metadata": {
        "colab": {
          "base_uri": "https://localhost:8080/"
        },
        "id": "u8piRPrybv8J",
        "outputId": "16035ac8-9b20-4f08-db30-ba27789c5add"
      },
      "execution_count": 10,
      "outputs": [
        {
          "output_type": "stream",
          "name": "stdout",
          "text": [
            "(1, 30)\n"
          ]
        }
      ]
    },
    {
      "cell_type": "code",
      "source": [
        "# Find three closest elements from the given 3 sorted arrays\n",
        "def closestTriplet(A,B,C):\n",
        "  i = j = k = 0\n",
        "  min_diff = float('inf')\n",
        "  result = ()\n",
        "\n",
        "  while i < len(A) and j < len(B) and k < len(C):\n",
        "    a,b,c = A[i],B[j],C[k]\n",
        "\n",
        "    curr_max = max(a,b,c)\n",
        "    curr_min = min(a,b,c)\n",
        "\n",
        "    diff = abs(curr_max - curr_min)\n",
        "\n",
        "    if diff < min_diff:\n",
        "      min_diff = diff\n",
        "      result = (a,b,c,min_diff)\n",
        "\n",
        "    if curr_min == a:\n",
        "      i += 1\n",
        "    elif curr_min == b:\n",
        "      j += 1\n",
        "    else:\n",
        "      k += 1\n",
        "  return result\n",
        "print(closestTriplet([1, 4, 10], [2, 15, 20], [10, 12]))\n"
      ],
      "metadata": {
        "colab": {
          "base_uri": "https://localhost:8080/"
        },
        "id": "GJh5qAw5e1mG",
        "outputId": "380e597d-bae3-418d-b513-6d890019f6fb"
      },
      "execution_count": 11,
      "outputs": [
        {
          "output_type": "stream",
          "name": "stdout",
          "text": [
            "(10, 15, 10, 5)\n"
          ]
        }
      ]
    }
  ]
}