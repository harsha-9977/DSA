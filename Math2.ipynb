{
  "nbformat": 4,
  "nbformat_minor": 0,
  "metadata": {
    "colab": {
      "provenance": []
    },
    "kernelspec": {
      "name": "python3",
      "display_name": "Python 3"
    },
    "language_info": {
      "name": "python"
    }
  },
  "cells": [
    {
      "cell_type": "code",
      "source": [
        "import numpy as np"
      ],
      "metadata": {
        "id": "HOxHKG9peuz4"
      },
      "execution_count": null,
      "outputs": []
    },
    {
      "cell_type": "code",
      "execution_count": null,
      "metadata": {
        "colab": {
          "base_uri": "https://localhost:8080/"
        },
        "id": "vp4p0v2eeqp8",
        "outputId": "dbdcef5b-d1e1-4c3a-ff9d-8b8d7ebcc083"
      },
      "outputs": [
        {
          "output_type": "stream",
          "name": "stdout",
          "text": [
            "A + B  =  [[  3 -12]\n",
            " [-12   3]]\n",
            "A - (1/2) * B =  [[0. 0.]\n",
            " [0. 0.]]\n",
            "5A =  [[  5 -20]\n",
            " [-20   5]]\n"
          ]
        }
      ],
      "source": [
        "# Vectors\n",
        "A = np.array([[1, -4], [-4, 1]])\n",
        "B = np.array([[2, -8], [-8, 2]])\n",
        "\n",
        "print(\"A + B  = \", A + B)\n",
        "print(\"A - (1/2) * B = \", A - (1/2) * B)\n",
        "print(\"5A = \", 5 * A)"
      ]
    },
    {
      "cell_type": "code",
      "source": [
        "A = np.array([[2, 3, 1], [4, 5, 1]])\n",
        "B = np.array([[-1, 2], [4, -2], [3, 6]])\n",
        "print(\"AB = \", np.dot(A, B))\n",
        "print(\"BA = \", np.dot(B, A))"
      ],
      "metadata": {
        "colab": {
          "base_uri": "https://localhost:8080/"
        },
        "id": "kYgENRNHfiy7",
        "outputId": "5cd2d170-e532-4d4a-98f1-a555f0a18a0b"
      },
      "execution_count": null,
      "outputs": [
        {
          "output_type": "stream",
          "name": "stdout",
          "text": [
            "AB =  [[13  4]\n",
            " [19  4]]\n",
            "BA =  [[ 6  7  1]\n",
            " [ 0  2  2]\n",
            " [30 39  9]]\n"
          ]
        }
      ]
    },
    {
      "cell_type": "code",
      "source": [
        "A = np.array([[1, 3], [5, 7]])\n",
        "B = np.array([[4, -6], [-8, 12]])\n",
        "detA = np.linalg.det(A)\n",
        "invA = np.linalg.inv(A)\n",
        "detB = np.linalg.det(B)\n",
        "print(\"Determinant of A : \", detA)\n",
        "print(\"Inverse of A : \", invA)\n",
        "print(\"Determinant of B\", detB)"
      ],
      "metadata": {
        "colab": {
          "base_uri": "https://localhost:8080/"
        },
        "id": "SFonWICwgrJm",
        "outputId": "f4d81b92-b94c-45bd-ea7b-478910ba078b"
      },
      "execution_count": null,
      "outputs": [
        {
          "output_type": "stream",
          "name": "stdout",
          "text": [
            "Determinant of A :  -7.999999999999998\n",
            "Inverse of A :  [[-0.875  0.375]\n",
            " [ 0.625 -0.125]]\n",
            "Determinant of B 0.0\n"
          ]
        }
      ]
    },
    {
      "cell_type": "code",
      "source": [
        "# f(x) = x^2020 + 3x^2 - 1\n",
        "import sympy as sp\n",
        "\n",
        "x = sp.Symbol('x')\n",
        "fx = x**2020 + 3*(x)**3 - 1\n",
        "fx\n"
      ],
      "metadata": {
        "colab": {
          "base_uri": "https://localhost:8080/",
          "height": 38
        },
        "id": "7281us1-Wyji",
        "outputId": "722a74b2-fb24-4f27-b70c-1d6978edc784"
      },
      "execution_count": null,
      "outputs": [
        {
          "output_type": "execute_result",
          "data": {
            "text/plain": [
              "x**2020 + 3*x**3 - 1"
            ],
            "text/latex": "$\\displaystyle x^{2020} + 3 x^{3} - 1$"
          },
          "metadata": {},
          "execution_count": 4
        }
      ]
    },
    {
      "cell_type": "code",
      "source": [
        "sp.diff(fx, x)"
      ],
      "metadata": {
        "colab": {
          "base_uri": "https://localhost:8080/",
          "height": 38
        },
        "id": "2PTv-XKOX8_5",
        "outputId": "5ef69b49-2d98-4b51-db9c-4a33fec560b3"
      },
      "execution_count": null,
      "outputs": [
        {
          "output_type": "execute_result",
          "data": {
            "text/plain": [
              "2020*x**2019 + 9*x**2"
            ],
            "text/latex": "$\\displaystyle 2020 x^{2019} + 9 x^{2}$"
          },
          "metadata": {},
          "execution_count": 5
        }
      ]
    },
    {
      "cell_type": "code",
      "source": [
        "# g(x) = x/(x+1)\n",
        "gx = x / (x + 1)\n",
        "sp.diff(gx, x)"
      ],
      "metadata": {
        "colab": {
          "base_uri": "https://localhost:8080/",
          "height": 58
        },
        "id": "CPBiWBREYFeU",
        "outputId": "7f616941-ad71-4c30-e5b2-9d1262cae4c0"
      },
      "execution_count": null,
      "outputs": [
        {
          "output_type": "execute_result",
          "data": {
            "text/plain": [
              "-x/(x + 1)**2 + 1/(x + 1)"
            ],
            "text/latex": "$\\displaystyle - \\frac{x}{\\left(x + 1\\right)^{2}} + \\frac{1}{x + 1}$"
          },
          "metadata": {},
          "execution_count": 11
        }
      ]
    },
    {
      "cell_type": "code",
      "source": [
        "sp.simplify(sp.diff(gx, x))"
      ],
      "metadata": {
        "colab": {
          "base_uri": "https://localhost:8080/",
          "height": 58
        },
        "id": "2UimtEC4Y1o_",
        "outputId": "151104f4-98df-4825-8b54-7e9723898b61"
      },
      "execution_count": null,
      "outputs": [
        {
          "output_type": "execute_result",
          "data": {
            "text/plain": [
              "(x + 1)**(-2)"
            ],
            "text/latex": "$\\displaystyle \\frac{1}{\\left(x + 1\\right)^{2}}$"
          },
          "metadata": {},
          "execution_count": 12
        }
      ]
    },
    {
      "cell_type": "code",
      "source": [
        "# f(x) = e^x/x\n",
        "fx = sp.exp(x) / x\n",
        "fx"
      ],
      "metadata": {
        "colab": {
          "base_uri": "https://localhost:8080/",
          "height": 51
        },
        "id": "ewTrRSWeaGXX",
        "outputId": "1cf69476-9f4f-4a9a-9da5-df3404329b0d"
      },
      "execution_count": null,
      "outputs": [
        {
          "output_type": "execute_result",
          "data": {
            "text/plain": [
              "exp(x)/x"
            ],
            "text/latex": "$\\displaystyle \\frac{e^{x}}{x}$"
          },
          "metadata": {},
          "execution_count": 13
        }
      ]
    },
    {
      "cell_type": "code",
      "source": [
        "sp.diff(fx, x)"
      ],
      "metadata": {
        "colab": {
          "base_uri": "https://localhost:8080/",
          "height": 51
        },
        "id": "lMknpIJKaejo",
        "outputId": "110e8af4-c5a2-4984-89d8-3a48db384b37"
      },
      "execution_count": null,
      "outputs": [
        {
          "output_type": "execute_result",
          "data": {
            "text/plain": [
              "exp(x)/x - exp(x)/x**2"
            ],
            "text/latex": "$\\displaystyle \\frac{e^{x}}{x} - \\frac{e^{x}}{x^{2}}$"
          },
          "metadata": {},
          "execution_count": 14
        }
      ]
    },
    {
      "cell_type": "code",
      "source": [
        "# g(x) = 3log_2 x - x logx\n",
        "gx = 3 * sp.log(x, 2) - x * sp.log(x)\n",
        "gx"
      ],
      "metadata": {
        "colab": {
          "base_uri": "https://localhost:8080/",
          "height": 57
        },
        "id": "cLM-UQCNainK",
        "outputId": "7b214a34-337e-40cc-c29c-23797572676c"
      },
      "execution_count": null,
      "outputs": [
        {
          "output_type": "execute_result",
          "data": {
            "text/plain": [
              "-x*log(x) + 3*log(x)/log(2)"
            ],
            "text/latex": "$\\displaystyle - x \\log{\\left(x \\right)} + \\frac{3 \\log{\\left(x \\right)}}{\\log{\\left(2 \\right)}}$"
          },
          "metadata": {},
          "execution_count": 15
        }
      ]
    },
    {
      "cell_type": "code",
      "source": [
        "sp.diff(gx, x)"
      ],
      "metadata": {
        "colab": {
          "base_uri": "https://localhost:8080/",
          "height": 55
        },
        "id": "HobzsM5ibIgd",
        "outputId": "34aaa891-972e-48e4-ef41-48fe7dcaed73"
      },
      "execution_count": null,
      "outputs": [
        {
          "output_type": "execute_result",
          "data": {
            "text/plain": [
              "-log(x) - 1 + 3/(x*log(2))"
            ],
            "text/latex": "$\\displaystyle - \\log{\\left(x \\right)} - 1 + \\frac{3}{x \\log{\\left(2 \\right)}}$"
          },
          "metadata": {},
          "execution_count": 16
        }
      ]
    },
    {
      "cell_type": "code",
      "source": [
        "# f(x) = (x^2 + 2)^3\n",
        "fx = (x**2 + 2)**3\n",
        "fx"
      ],
      "metadata": {
        "colab": {
          "base_uri": "https://localhost:8080/",
          "height": 41
        },
        "id": "8rnXPN-VofPL",
        "outputId": "3cbad669-4cab-4e34-ea25-2a17b17547cf"
      },
      "execution_count": null,
      "outputs": [
        {
          "output_type": "execute_result",
          "data": {
            "text/plain": [
              "(x**2 + 2)**3"
            ],
            "text/latex": "$\\displaystyle \\left(x^{2} + 2\\right)^{3}$"
          },
          "metadata": {},
          "execution_count": 19
        }
      ]
    },
    {
      "cell_type": "code",
      "source": [
        "sp.diff(fx, x)"
      ],
      "metadata": {
        "colab": {
          "base_uri": "https://localhost:8080/",
          "height": 41
        },
        "id": "T8ujwuqDosgK",
        "outputId": "70d26085-50af-44f5-a10b-060eb3c1f736"
      },
      "execution_count": null,
      "outputs": [
        {
          "output_type": "execute_result",
          "data": {
            "text/plain": [
              "6*x*(x**2 + 2)**2"
            ],
            "text/latex": "$\\displaystyle 6 x \\left(x^{2} + 2\\right)^{2}$"
          },
          "metadata": {},
          "execution_count": 20
        }
      ]
    },
    {
      "cell_type": "code",
      "source": [
        "# g(x) = 1 / (x^4 + 1)^2\n",
        "gx = 1 / (x**4 + 1)**2\n",
        "gx"
      ],
      "metadata": {
        "colab": {
          "base_uri": "https://localhost:8080/",
          "height": 58
        },
        "id": "cF4zmNxEo0Kk",
        "outputId": "e5a3738b-3b2a-423f-ad8b-feca87c11057"
      },
      "execution_count": null,
      "outputs": [
        {
          "output_type": "execute_result",
          "data": {
            "text/plain": [
              "(x**4 + 1)**(-2)"
            ],
            "text/latex": "$\\displaystyle \\frac{1}{\\left(x^{4} + 1\\right)^{2}}$"
          },
          "metadata": {},
          "execution_count": 21
        }
      ]
    },
    {
      "cell_type": "code",
      "source": [
        "sp.diff(gx, x)"
      ],
      "metadata": {
        "id": "RBBTFGc9q1R8",
        "outputId": "2f246573-d365-4e26-ec43-84ad50684010",
        "colab": {
          "base_uri": "https://localhost:8080/",
          "height": 61
        }
      },
      "execution_count": null,
      "outputs": [
        {
          "output_type": "execute_result",
          "data": {
            "text/plain": [
              "-8*x**3/(x**4 + 1)**3"
            ],
            "text/latex": "$\\displaystyle - \\frac{8 x^{3}}{\\left(x^{4} + 1\\right)^{3}}$"
          },
          "metadata": {},
          "execution_count": 22
        }
      ]
    }
  ]
}