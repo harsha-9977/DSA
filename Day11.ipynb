{
  "nbformat": 4,
  "nbformat_minor": 0,
  "metadata": {
    "colab": {
      "provenance": []
    },
    "kernelspec": {
      "name": "python3",
      "display_name": "Python 3"
    },
    "language_info": {
      "name": "python"
    }
  },
  "cells": [
    {
      "cell_type": "code",
      "execution_count": 2,
      "metadata": {
        "colab": {
          "base_uri": "https://localhost:8080/"
        },
        "id": "VMHZHU3T7sEI",
        "outputId": "e0856379-77ca-450b-b4ce-b3db34630956"
      },
      "outputs": [
        {
          "output_type": "stream",
          "name": "stdout",
          "text": [
            "5\n"
          ]
        }
      ],
      "source": [
        "# Element with left side smaller and right side larger\n",
        "def findElement(arr):\n",
        "  n = len(arr)\n",
        "\n",
        "  leftmax = arr[0]\n",
        "  rightmin = [0] * n\n",
        "  rightmin[-1] = float('inf')\n",
        "\n",
        "  for i in range(n-2, -1, -1):\n",
        "    rightmin[i] = min(arr[i+1], rightmin[i+1])\n",
        "  for i in range(1, n-1):\n",
        "    if leftmax < arr[i] < rightmin[i]:\n",
        "      return arr[i]\n",
        "    leftmax = max(leftmax, arr[i])\n",
        "  return -1\n",
        "print(findElement([4, 2, 5, 7]))"
      ]
    }
  ]
}