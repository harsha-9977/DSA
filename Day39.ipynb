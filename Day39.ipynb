{
  "nbformat": 4,
  "nbformat_minor": 0,
  "metadata": {
    "colab": {
      "provenance": [],
      "authorship_tag": "ABX9TyME1HxDZtsqom7x69/OE2Ea",
      "include_colab_link": true
    },
    "kernelspec": {
      "name": "python3",
      "display_name": "Python 3"
    },
    "language_info": {
      "name": "python"
    }
  },
  "cells": [
    {
      "cell_type": "markdown",
      "metadata": {
        "id": "view-in-github",
        "colab_type": "text"
      },
      "source": [
        "<a href=\"https://colab.research.google.com/github/harsha-9977/DSA/blob/main/Day39.ipynb\" target=\"_parent\"><img src=\"https://colab.research.google.com/assets/colab-badge.svg\" alt=\"Open In Colab\"/></a>"
      ]
    },
    {
      "cell_type": "code",
      "execution_count": 3,
      "metadata": {
        "colab": {
          "base_uri": "https://localhost:8080/"
        },
        "id": "VNA5geNzWeGG",
        "outputId": "04de8da2-85d7-4f32-e4ba-e3972d21530c"
      },
      "outputs": [
        {
          "output_type": "stream",
          "name": "stdout",
          "text": [
            "[4, 3, 2, 1, 3, 2, 1, 0]\n"
          ]
        }
      ],
      "source": [
        "# subset sums backtracking DFS\n",
        "def subsetSums(arr):\n",
        "  res = []\n",
        "\n",
        "  def dfs(index, curr_sum):\n",
        "    if index == len(arr):\n",
        "      res.append(curr_sum)\n",
        "      return\n",
        "\n",
        "    dfs(index+1, curr_sum + arr[index])\n",
        "\n",
        "    dfs(index+1, curr_sum)\n",
        "\n",
        "  dfs(0,0)\n",
        "  return res\n",
        "print(subsetSums([1, 2, 1]))"
      ]
    },
    {
      "cell_type": "code",
      "source": [
        "# subset sum without duplicates\n",
        "def subsetSums2(arr):\n",
        "  res = []\n",
        "  arr.sort()\n",
        "\n",
        "  def backtrack(start,path):\n",
        "    res.append(path[:])\n",
        "\n",
        "    for i in range(start,len(arr)):\n",
        "      if i > start and arr[i] == arr[i-1]:\n",
        "        continue\n",
        "\n",
        "      path.append(arr[i])\n",
        "      backtrack(i+1,path)\n",
        "      path.pop()\n",
        "\n",
        "  backtrack(0,[])\n",
        "  return res\n",
        "print(subsetSums2([1,2,2]))"
      ],
      "metadata": {
        "colab": {
          "base_uri": "https://localhost:8080/"
        },
        "id": "5M2KoO9Omt67",
        "outputId": "6db0edcd-bac5-442c-805a-9fb90b576a1b"
      },
      "execution_count": 4,
      "outputs": [
        {
          "output_type": "stream",
          "name": "stdout",
          "text": [
            "[[], [1], [1, 2], [1, 2, 2], [2], [2, 2]]\n"
          ]
        }
      ]
    },
    {
      "cell_type": "code",
      "source": [
        "# combination sum\n",
        "def combinationSum(arr,target):\n",
        "  res = []\n",
        "  def backtrack(start,path,total):\n",
        "    if total == target:\n",
        "      res.append(path[:])\n",
        "      return\n",
        "    if total > target:\n",
        "      return\n",
        "    for i in range(start,len(arr)):\n",
        "      path.append(arr[i])\n",
        "      backtrack(i,path,total+arr[i])\n",
        "      path.pop()\n",
        "  backtrack(0,[],0)\n",
        "  return res\n",
        "print(combinationSum([2,3,6,7],7))"
      ],
      "metadata": {
        "colab": {
          "base_uri": "https://localhost:8080/"
        },
        "id": "lCJ-tMWTqbAn",
        "outputId": "03490a14-0f6a-4247-f77a-e152f98c84f7"
      },
      "execution_count": 8,
      "outputs": [
        {
          "output_type": "stream",
          "name": "stdout",
          "text": [
            "[[2, 2, 3], [7]]\n"
          ]
        }
      ]
    },
    {
      "cell_type": "code",
      "source": [
        "# combination sum without duplicate\n",
        "def combinationSum2(arr,target):\n",
        "  res = []\n",
        "  arr.sort()\n",
        "\n",
        "  def backtrack(start,path,total):\n",
        "    if total == target:\n",
        "      res.append(path[:])\n",
        "      return\n",
        "    if total > target:\n",
        "      return\n",
        "    for i in range(start,len(arr)):\n",
        "      if i > start and arr[i] == arr[i-1]:\n",
        "        continue\n",
        "\n",
        "      path.append(arr[i])\n",
        "      backtrack(i+1,path,total+arr[i])\n",
        "      path.pop()\n",
        "  backtrack(0,[],0)\n",
        "  return res\n",
        "print(combinationSum2([10,1,2,7,6,1,5],8))"
      ],
      "metadata": {
        "colab": {
          "base_uri": "https://localhost:8080/"
        },
        "id": "E1153_6psKqw",
        "outputId": "9bd9f06b-e3a0-4ea4-b92f-114aefd3c994"
      },
      "execution_count": 10,
      "outputs": [
        {
          "output_type": "stream",
          "name": "stdout",
          "text": [
            "[[1, 1, 6], [1, 2, 5], [1, 7], [2, 6]]\n"
          ]
        }
      ]
    }
  ]
}