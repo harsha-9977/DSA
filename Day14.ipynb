{
  "nbformat": 4,
  "nbformat_minor": 0,
  "metadata": {
    "colab": {
      "provenance": []
    },
    "kernelspec": {
      "name": "python3",
      "display_name": "Python 3"
    },
    "language_info": {
      "name": "python"
    }
  },
  "cells": [
    {
      "cell_type": "code",
      "execution_count": 1,
      "metadata": {
        "colab": {
          "base_uri": "https://localhost:8080/"
        },
        "id": "eQ7blQPd1tdL",
        "outputId": "1185d741-bec5-4073-fa6a-10e829a38df3"
      },
      "outputs": [
        {
          "output_type": "stream",
          "name": "stdout",
          "text": [
            "26\n"
          ]
        }
      ],
      "source": [
        "# Missing element of AP\n",
        "def miss(arr):\n",
        "  n = len(arr)\n",
        "\n",
        "  diff1 = arr[1] - arr[0]\n",
        "  diff2 = arr[-1] - arr[-2]\n",
        "  diff3 = (arr[-1] - arr[0]) // n\n",
        "\n",
        "  if diff1 == diff2:\n",
        "    diff = diff1\n",
        "  elif diff1 == diff3:\n",
        "    diff = diff1\n",
        "  else:\n",
        "    diff = diff2\n",
        "\n",
        "  if diff == 0:\n",
        "    return arr[0]\n",
        "\n",
        "  low = 0\n",
        "  high = n-1\n",
        "\n",
        "  while low < high:\n",
        "    mid = (low + high) // 2\n",
        "\n",
        "    expected = arr[0] + mid * diff\n",
        "\n",
        "    if arr[mid] == expected:\n",
        "      low = mid + 1\n",
        "    else:\n",
        "      high = mid\n",
        "  if low == n-1 and arr[-1] == arr[0] + diff * (n-1):\n",
        "    return arr[-1] + diff\n",
        "\n",
        "  return arr[0] + diff * low\n",
        "print(miss([1, 6, 11, 16, 21, 31]))"
      ]
    },
    {
      "cell_type": "code",
      "source": [
        "# Median of 2 sorted arrays of same size\n",
        "def median2(a,b):\n",
        "  n = len(a)\n",
        "\n",
        "  low = 0\n",
        "  high = n\n",
        "\n",
        "  while low <= high:\n",
        "    i = (low + high) // 2\n",
        "    j = n-i\n",
        "\n",
        "    aleft = float('-inf') if i == 0 else a[i-1]\n",
        "    aright = float('inf') if i == n else a[i]\n",
        "    bleft = float('-inf') if j == 0 else b[j-1]\n",
        "    bright = float('inf') if j == n else b[j]\n",
        "\n",
        "    if aleft <= bright and bleft <= aright:\n",
        "      return (max(aleft,bleft) + min(aright,bright)) / 2.0\n",
        "\n",
        "    if aleft > bright:\n",
        "      high = i - 1\n",
        "    else:\n",
        "      low = i + 1\n",
        "print(median2([-5, 3, 6, 12, 15],  [-12, -10, -6, -3, 4]))\n",
        "print(median2([2, 3, 5, 7], [10, 12, 14, 16]))\n",
        "print(median2([-5],  [-6]))"
      ],
      "metadata": {
        "colab": {
          "base_uri": "https://localhost:8080/"
        },
        "id": "AMrO1fZSI25N",
        "outputId": "04466498-5122-4f89-bd01-19c45c57dcc3"
      },
      "execution_count": 4,
      "outputs": [
        {
          "output_type": "stream",
          "name": "stdout",
          "text": [
            "0.0\n",
            "8.5\n",
            "-5.5\n"
          ]
        }
      ]
    }
  ]
}