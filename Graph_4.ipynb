{
  "nbformat": 4,
  "nbformat_minor": 0,
  "metadata": {
    "colab": {
      "provenance": [],
      "authorship_tag": "ABX9TyPbvVR+dgsK0Q8eYw1cvLLJ",
      "include_colab_link": true
    },
    "kernelspec": {
      "name": "python3",
      "display_name": "Python 3"
    },
    "language_info": {
      "name": "python"
    }
  },
  "cells": [
    {
      "cell_type": "markdown",
      "metadata": {
        "id": "view-in-github",
        "colab_type": "text"
      },
      "source": [
        "<a href=\"https://colab.research.google.com/github/harsha-9977/DSA/blob/main/Graph_4.ipynb\" target=\"_parent\"><img src=\"https://colab.research.google.com/assets/colab-badge.svg\" alt=\"Open In Colab\"/></a>"
      ]
    },
    {
      "cell_type": "code",
      "execution_count": 4,
      "metadata": {
        "colab": {
          "base_uri": "https://localhost:8080/"
        },
        "id": "9fKXQck9zJ94",
        "outputId": "a3eaa5ee-7cbe-4cf6-b58f-8cd64d4a269d"
      },
      "outputs": [
        {
          "output_type": "stream",
          "name": "stdout",
          "text": [
            "['e', 'f', 'ccc']\n",
            "['bb', 'cc', 'd']\n"
          ]
        }
      ],
      "source": [
        "#  Maximum Number of Non-Overlapping Substrings\n",
        "def maxNoOfSubstring(s):\n",
        "  first = {}\n",
        "  last = {}\n",
        "  for i, ch in enumerate(s):\n",
        "    if ch not in first:\n",
        "      first[ch] = i\n",
        "    last[ch] = i\n",
        "\n",
        "  def expand(l, r):\n",
        "    i = l\n",
        "    while i <= r:\n",
        "      ch = s[i]\n",
        "      if first[ch] < l:\n",
        "        return None\n",
        "      r = max(r, last[ch])\n",
        "      i += 1\n",
        "    return (l,r)\n",
        "\n",
        "  interval = []\n",
        "  for ch in set(s):\n",
        "    l, r = first[ch], last[ch]\n",
        "    expanded = expand(l, r)\n",
        "    if expanded:\n",
        "      interval.append(expanded)\n",
        "\n",
        "  interval.sort(key = lambda x: x[1])\n",
        "\n",
        "  result = []\n",
        "  prev_end = -1\n",
        "  for l, r in interval:\n",
        "    if prev_end < l:\n",
        "      substring = s[l:r+1]\n",
        "      result.append(substring)\n",
        "      prev_end = r\n",
        "  return result\n",
        "\n",
        "print(maxNoOfSubstring(\"adefaddaccc\"))\n",
        "print(maxNoOfSubstring(\"abbaccd\"))"
      ]
    },
    {
      "cell_type": "code",
      "source": [
        "# Strongly Connected\n",
        "def kosaraju(adj):\n",
        "  n = len(adj)\n",
        "  visited = [False] * n\n",
        "  stack = []\n",
        "\n",
        "  def dfs1(node):\n",
        "    visited[node] = True\n",
        "\n",
        "    for i in adj[node]:\n",
        "      if not visited[i]:\n",
        "        dfs1(i)\n",
        "    stack.append(node)\n",
        "\n",
        "  for i in range(n):\n",
        "    if not visited[i]:\n",
        "      dfs1(i)\n",
        "\n",
        "  rev_adj = [[] for _ in range(n)]\n",
        "  for i in range(n):\n",
        "    for j in adj[i]:\n",
        "      rev_adj[j].append(i)\n",
        "\n",
        "  visited = [False] * n\n",
        "  count = 0\n",
        "\n",
        "  def dfs2(node):\n",
        "    visited[node] = True\n",
        "\n",
        "    for i in rev_adj[node]:\n",
        "      if not visited[i]:\n",
        "        dfs2(i)\n",
        "\n",
        "\n",
        "  while stack:\n",
        "    node = stack.pop()\n",
        "    if not visited[node]:\n",
        "      dfs2(node)\n",
        "      count += 1\n",
        "\n",
        "  return count\n",
        "\n",
        "print(kosaraju([[2, 3], [0], [1], [4], []]))\n",
        "print(kosaraju([[1], [2], [0]]))\n",
        "print(kosaraju([[1], []]))"
      ],
      "metadata": {
        "colab": {
          "base_uri": "https://localhost:8080/"
        },
        "id": "KfXyT7yKHYqe",
        "outputId": "955eb264-70cb-4a16-e4b7-52d7d6a0a38e"
      },
      "execution_count": 5,
      "outputs": [
        {
          "output_type": "stream",
          "name": "stdout",
          "text": [
            "3\n",
            "1\n",
            "2\n"
          ]
        }
      ]
    },
    {
      "cell_type": "code",
      "source": [
        "# Dijkstra Algorithm\n",
        "import heapq\n",
        "def da(V, edges, src):\n",
        "  adj = [[] for _ in range(V)]\n",
        "  for u, v, w in edges:\n",
        "    adj[u].append((v,w))\n",
        "    adj[v].append((u,w))\n",
        "\n",
        "  dist = [float('inf')] * V\n",
        "  dist[src] = 0\n",
        "\n",
        "  heap = [(0, src)]\n",
        "\n",
        "  while heap:\n",
        "    d, u = heapq.heappop(heap)\n",
        "\n",
        "    if d > dist[u]:\n",
        "      continue\n",
        "\n",
        "    for v, w in adj[u]:\n",
        "      if dist[u] + w < dist[v]:\n",
        "        dist[v] = dist[u] + w\n",
        "        heapq.heappush(heap, (dist[v], v))\n",
        "  return dist\n",
        "\n",
        "\n",
        "print(da(3, [[0, 1, 1], [1, 2, 3], [0, 2, 6]], 2))\n",
        "print(da(5, [[0, 1, 4], [0, 2, 8], [1, 4, 6], [2, 3, 2], [3, 4, 10]], 0))"
      ],
      "metadata": {
        "colab": {
          "base_uri": "https://localhost:8080/"
        },
        "id": "kM-ixGy1SCgt",
        "outputId": "839f7a47-ff65-49a3-fe65-d76eb12c01d3"
      },
      "execution_count": 6,
      "outputs": [
        {
          "output_type": "stream",
          "name": "stdout",
          "text": [
            "[4, 3, 0]\n",
            "[0, 4, 8, 10, 10]\n"
          ]
        }
      ]
    },
    {
      "cell_type": "code",
      "source": [
        "# Bellman ford\n",
        "def bell(V, edges, src):\n",
        "  INF = 10**8\n",
        "  dist = [INF] * V\n",
        "  dist[src] = 0\n",
        "\n",
        "  for _ in range(V-1):\n",
        "    for u, v, w in edges:\n",
        "      if INF != dist[u] and dist[u] + w < dist[v]:\n",
        "        dist[v] = dist[u] + w\n",
        "\n",
        "  for u, v, w in edges:\n",
        "    if INF != dist[u] and dist[u] + w < dist[v]:\n",
        "      return [-1]\n",
        "  return [INF if d == INF else d for d in dist]\n",
        "\n",
        "print(bell(5, [[1, 3, 2], [4, 3, -1], [2, 4, 1], [1, 2, 1], [0, 1, 5]],  0))\n",
        "print(bell(4,  [[0, 1, 4], [1, 2, -6], [2, 3, 5], [3, 1, -2]],  0))"
      ],
      "metadata": {
        "colab": {
          "base_uri": "https://localhost:8080/"
        },
        "id": "snW9Oan0Vrqm",
        "outputId": "9a34b6b1-a8ba-410e-cb2e-47c6be1135f3"
      },
      "execution_count": 7,
      "outputs": [
        {
          "output_type": "stream",
          "name": "stdout",
          "text": [
            "[0, 5, 6, 6, 7]\n",
            "[-1]\n"
          ]
        }
      ]
    },
    {
      "cell_type": "code",
      "source": [
        "# Floyd's\n",
        "def floydWarshall(dist):\n",
        "  n = len(dist)\n",
        "  INF = 10**8\n",
        "\n",
        "  for k in range(n):\n",
        "    for i in range(n):\n",
        "      for j in range(n):\n",
        "        if dist[i][k] != INF and dist[k][j] != INF:\n",
        "          if dist[i][k] + dist[k][j] < dist[i][j]:\n",
        "            dist[i][j] = dist[i][k] + dist[k][j]\n",
        "  return dist\n",
        "dist = [\n",
        "    [0, 8, 7, -3],\n",
        "    [1, 0, -1, 6],\n",
        "    [9, 5, 0, 5],\n",
        "    [10**8, 10**8, 10**8, 0]\n",
        "]\n",
        "\n",
        "result = floydWarshall(dist)\n",
        "for row in result:\n",
        "    print(row)\n"
      ],
      "metadata": {
        "colab": {
          "base_uri": "https://localhost:8080/"
        },
        "id": "JisO4OJUZiZw",
        "outputId": "811da2ad-c48a-47e7-97d0-09bf097efc9d"
      },
      "execution_count": 8,
      "outputs": [
        {
          "output_type": "stream",
          "name": "stdout",
          "text": [
            "[0, 8, 7, -3]\n",
            "[1, 0, -1, -2]\n",
            "[6, 5, 0, 3]\n",
            "[100000000, 100000000, 100000000, 0]\n"
          ]
        }
      ]
    },
    {
      "cell_type": "code",
      "source": [
        "# Prim's Minimum spanning Tree\n",
        "import heapq\n",
        "def prims(V, edges):\n",
        "  adj = [[] for _ in range(V)]\n",
        "  for u,v,w in edges:\n",
        "    adj[u].append((w,v))\n",
        "    adj[v].append((w,u))\n",
        "\n",
        "  visited = [False] * V\n",
        "  heap = [(0,0)]\n",
        "  mst = 0\n",
        "\n",
        "  while heap:\n",
        "    w, u = heapq.heappop(heap)\n",
        "\n",
        "    if visited[u]:\n",
        "      continue\n",
        "\n",
        "    visited[u] = True\n",
        "    mst += w\n",
        "\n",
        "    for next_w, v in adj[u]:\n",
        "      if not visited[v]:\n",
        "        heapq.heappush(heap, (next_w, v))\n",
        "  return mst\n",
        "\n",
        "\n",
        "print(prims( 3, [[0, 1, 5], [1, 2, 3], [0, 2, 1]]))\n",
        "print(prims( 2, [[0 ,1, 5]]))"
      ],
      "metadata": {
        "colab": {
          "base_uri": "https://localhost:8080/"
        },
        "id": "wK8p5uQxcVok",
        "outputId": "d5b4f035-414e-4531-8687-ee7ac790fa37"
      },
      "execution_count": 10,
      "outputs": [
        {
          "output_type": "stream",
          "name": "stdout",
          "text": [
            "4\n",
            "5\n"
          ]
        }
      ]
    }
  ]
}