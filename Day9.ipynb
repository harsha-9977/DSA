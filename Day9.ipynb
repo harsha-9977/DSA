{
  "nbformat": 4,
  "nbformat_minor": 0,
  "metadata": {
    "colab": {
      "provenance": []
    },
    "kernelspec": {
      "name": "python3",
      "display_name": "Python 3"
    },
    "language_info": {
      "name": "python"
    }
  },
  "cells": [
    {
      "cell_type": "code",
      "execution_count": null,
      "metadata": {
        "id": "T1myaHnKAKAU",
        "colab": {
          "base_uri": "https://localhost:8080/"
        },
        "outputId": "c7d9133c-7430-4024-c4eb-f1674e4582f7"
      },
      "outputs": [
        {
          "output_type": "stream",
          "name": "stdout",
          "text": [
            "9\n"
          ]
        }
      ],
      "source": [
        "# Trapping rain water\n",
        "def maxWater(arr):\n",
        "  left = 0\n",
        "  right = len(arr) - 1\n",
        "  leftMax, rightMax = 0, 0\n",
        "  water = 0\n",
        "\n",
        "  while left <= right:\n",
        "    if arr[left] < arr[right]:\n",
        "      if arr[left] > leftMax:\n",
        "        leftMax = arr[left]\n",
        "      else:\n",
        "        water += leftMax - arr[left]\n",
        "      left += 1\n",
        "    else:\n",
        "      if arr[right] > rightMax:\n",
        "        rightMax = arr[right]\n",
        "      else:\n",
        "        water += rightMax - arr[right]\n",
        "      right -= 1\n",
        "  return water\n",
        "print(maxWater([2, 1, 5, 3, 1, 0, 4]))"
      ]
    }
  ]
}