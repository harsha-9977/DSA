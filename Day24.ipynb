{
  "nbformat": 4,
  "nbformat_minor": 0,
  "metadata": {
    "colab": {
      "provenance": [],
      "include_colab_link": true
    },
    "kernelspec": {
      "name": "python3",
      "display_name": "Python 3"
    },
    "language_info": {
      "name": "python"
    }
  },
  "cells": [
    {
      "cell_type": "markdown",
      "metadata": {
        "id": "view-in-github",
        "colab_type": "text"
      },
      "source": [
        "<a href=\"https://colab.research.google.com/github/harsha-9977/DSA/blob/main/Day24.ipynb\" target=\"_parent\"><img src=\"https://colab.research.google.com/assets/colab-badge.svg\" alt=\"Open In Colab\"/></a>"
      ]
    },
    {
      "cell_type": "code",
      "execution_count": null,
      "metadata": {
        "colab": {
          "base_uri": "https://localhost:8080/"
        },
        "id": "fDLD0-3eLu5K",
        "outputId": "90e1e35d-a8f4-42f3-d7c6-0a4bcd51676c"
      },
      "outputs": [
        {
          "output_type": "stream",
          "name": "stdout",
          "text": [
            "False\n"
          ]
        }
      ],
      "source": [
        "# permutation in array\n",
        "def isPossible(arr1,arr2,k):\n",
        "  arr1.sort()\n",
        "  arr2.sort(reverse=True)\n",
        "\n",
        "  for i in range(len(arr1)):\n",
        "    if arr1[i] + arr2[i] < k:\n",
        "      return False\n",
        "  return True\n",
        "print(isPossible( [1, 2, 2, 1], [3, 3, 3, 4],5))"
      ]
    },
    {
      "cell_type": "code",
      "source": [
        "# merge without extra space\n",
        "def noExtraSpace(a,b):\n",
        "  n = len(a)\n",
        "  m = len(b)\n",
        "\n",
        "  def next_gap(gap):\n",
        "    if gap <= 1:\n",
        "      return 0\n",
        "    return (gap // 2) + (gap % 2)\n",
        "\n",
        "  gap = next_gap(n + m)\n",
        "\n",
        "  while gap > 0:\n",
        "\n",
        "    i = 0\n",
        "    while i + gap < n:\n",
        "      if a[i] > a[i + gap]:\n",
        "        a[i], a[i + gap] = a[i + gap], a[i]\n",
        "      i += 1\n",
        "\n",
        "    j = gap - n if gap > n else 0\n",
        "    while i < n and j < m:\n",
        "      if a[i] > b[j]:\n",
        "        a[i],b[j] = b[j], a[i]\n",
        "      i += 1\n",
        "      j += 1\n",
        "\n",
        "    j = 0\n",
        "    while j + gap < m:\n",
        "      if b[j] > b[j + gap]:\n",
        "        b[j], b[j + gap] = b[j + gap], b[j]\n",
        "      j += 1\n",
        "\n",
        "    gap = next_gap(gap)\n",
        "  return [a,b]\n",
        "print(noExtraSpace([1, 5, 9, 10, 15, 20],  [2, 3, 8, 13]))"
      ],
      "metadata": {
        "colab": {
          "base_uri": "https://localhost:8080/"
        },
        "id": "yo5Y651uRgG3",
        "outputId": "1813cacb-684e-4c0d-c95b-08b1f3f26479"
      },
      "execution_count": null,
      "outputs": [
        {
          "output_type": "stream",
          "name": "stdout",
          "text": [
            "[[1, 2, 3, 5, 8, 9], [10, 13, 15, 20]]\n"
          ]
        }
      ]
    },
    {
      "cell_type": "code",
      "source": [
        "dp = [[0] * (3 + 1) for _ in range(6 + 1)]\n",
        "dp"
      ],
      "metadata": {
        "colab": {
          "base_uri": "https://localhost:8080/"
        },
        "id": "OFF5xjwtngkx",
        "outputId": "d58f35d2-8876-42f6-e48c-6018962babf0"
      },
      "execution_count": 1,
      "outputs": [
        {
          "output_type": "execute_result",
          "data": {
            "text/plain": [
              "[[0, 0, 0, 0],\n",
              " [0, 0, 0, 0],\n",
              " [0, 0, 0, 0],\n",
              " [0, 0, 0, 0],\n",
              " [0, 0, 0, 0],\n",
              " [0, 0, 0, 0],\n",
              " [0, 0, 0, 0]]"
            ]
          },
          "metadata": {},
          "execution_count": 1
        }
      ]
    },
    {
      "cell_type": "code",
      "source": [
        "# Distinct Occurance\n",
        "def subSeqCount(txt,pat):\n",
        "  n = len(txt)\n",
        "  m = len(pat)\n",
        "\n",
        "  dp = [[0] * (m+1) for _ in range(n+1)]\n",
        "\n",
        "  for i in range(n+1):\n",
        "    dp[i][0] = 1\n",
        "\n",
        "  for i in range(n+1):\n",
        "    for j in range(m+1):\n",
        "      if txt[i-1] == pat[j-1]:\n",
        "        dp[i][j] = dp[i-1][j-1] + dp[i-1][j]\n",
        "      else:\n",
        "        dp[i][j] = dp[i-1][j]\n",
        "  return dp[n][m]\n",
        "print(subSeqCount(\"banana\", \"ban\"))"
      ],
      "metadata": {
        "colab": {
          "base_uri": "https://localhost:8080/"
        },
        "id": "0QGCXKf5zEqb",
        "outputId": "5f1aae73-59f3-43b2-ec94-346fd785133f"
      },
      "execution_count": 2,
      "outputs": [
        {
          "output_type": "stream",
          "name": "stdout",
          "text": [
            "3\n"
          ]
        }
      ]
    }
  ]
}