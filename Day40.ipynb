{
  "nbformat": 4,
  "nbformat_minor": 0,
  "metadata": {
    "colab": {
      "provenance": [],
      "authorship_tag": "ABX9TyMPgwms0xzwxojQP9dYpZJ4",
      "include_colab_link": true
    },
    "kernelspec": {
      "name": "python3",
      "display_name": "Python 3"
    },
    "language_info": {
      "name": "python"
    }
  },
  "cells": [
    {
      "cell_type": "markdown",
      "metadata": {
        "id": "view-in-github",
        "colab_type": "text"
      },
      "source": [
        "<a href=\"https://colab.research.google.com/github/harsha-9977/DSA/blob/main/Day40.ipynb\" target=\"_parent\"><img src=\"https://colab.research.google.com/assets/colab-badge.svg\" alt=\"Open In Colab\"/></a>"
      ]
    },
    {
      "cell_type": "code",
      "execution_count": 1,
      "metadata": {
        "colab": {
          "base_uri": "https://localhost:8080/"
        },
        "id": "QF35aFw0h9uo",
        "outputId": "68c190b1-9275-454f-fc10-444eef0566fc"
      },
      "outputs": [
        {
          "output_type": "stream",
          "name": "stdout",
          "text": [
            "[['a', 'a', 'b'], ['aa', 'b']]\n"
          ]
        }
      ],
      "source": [
        "# Palinedrome Partitioning\n",
        "def partition(s):\n",
        "  res = []\n",
        "\n",
        "  def isPaline(sub):\n",
        "    return sub == sub[::-1]\n",
        "\n",
        "  def backtrack(start,path):\n",
        "    if start == len(s):\n",
        "      res.append(path[:])\n",
        "      return\n",
        "\n",
        "    for end in range(start+1, len(s)+1):\n",
        "      sub = s[start:end]\n",
        "      if isPaline(sub):\n",
        "        path.append(sub)\n",
        "        backtrack(end,path)\n",
        "        path.pop()\n",
        "  backtrack(0,[])\n",
        "  return res\n",
        "print(partition(\"aab\"))"
      ]
    },
    {
      "cell_type": "code",
      "source": [
        "# Permutation sequence\n",
        "def getPerm(n,k):\n",
        "  import math\n",
        "  result = []\n",
        "\n",
        "  nums = [str(i) for i in range(1,n+1)]\n",
        "  k -= 1\n",
        "\n",
        "  for i in range(n,0,-1):\n",
        "    fact = math.factorial(i-1)\n",
        "    index = k // fact\n",
        "    result.append(nums.pop(index))\n",
        "    k %= fact\n",
        "  return ''.join(result)\n",
        "print(getPerm(3,3))"
      ],
      "metadata": {
        "colab": {
          "base_uri": "https://localhost:8080/"
        },
        "id": "qv8aq9zhveoT",
        "outputId": "231e79b9-06a9-4954-b01c-b1ff87941b4c"
      },
      "execution_count": 2,
      "outputs": [
        {
          "output_type": "stream",
          "name": "stdout",
          "text": [
            "213\n"
          ]
        }
      ]
    }
  ]
}