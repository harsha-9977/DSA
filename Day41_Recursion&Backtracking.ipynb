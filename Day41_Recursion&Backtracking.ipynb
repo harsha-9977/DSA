{
  "nbformat": 4,
  "nbformat_minor": 0,
  "metadata": {
    "colab": {
      "provenance": [],
      "authorship_tag": "ABX9TyO9r8z64gM96B2OR5ECUypf",
      "include_colab_link": true
    },
    "kernelspec": {
      "name": "python3",
      "display_name": "Python 3"
    },
    "language_info": {
      "name": "python"
    }
  },
  "cells": [
    {
      "cell_type": "markdown",
      "metadata": {
        "id": "view-in-github",
        "colab_type": "text"
      },
      "source": [
        "<a href=\"https://colab.research.google.com/github/harsha-9977/DSA/blob/main/Day41_Recursion%26Backtracking.ipynb\" target=\"_parent\"><img src=\"https://colab.research.google.com/assets/colab-badge.svg\" alt=\"Open In Colab\"/></a>"
      ]
    },
    {
      "cell_type": "code",
      "execution_count": null,
      "metadata": {
        "colab": {
          "base_uri": "https://localhost:8080/"
        },
        "id": "IEfNcjpg4SB5",
        "outputId": "a832db00-d217-41db-802a-dc91bd2e5701"
      },
      "outputs": [
        {
          "output_type": "stream",
          "name": "stdout",
          "text": [
            "[[1, 2, 3], [1, 3, 2], [2, 1, 3], [2, 3, 1], [3, 1, 2], [3, 2, 1]]\n"
          ]
        }
      ],
      "source": [
        "# permutations\n",
        "def permute(nums):\n",
        "  def backtrack(path,used):\n",
        "    if len(path) == len(nums):\n",
        "      res.append(path[:])\n",
        "      return\n",
        "\n",
        "    for i in range(len(nums)):\n",
        "      if not used[i]:\n",
        "        used[i] = True\n",
        "        path.append(nums[i])\n",
        "        backtrack(path,used)\n",
        "        path.pop()\n",
        "        used[i] = False\n",
        "\n",
        "  res = []\n",
        "  backtrack([],[False] * len(nums))\n",
        "  return res\n",
        "print(permute([1,2,3]))"
      ]
    },
    {
      "cell_type": "code",
      "source": [
        "# NQueens\n",
        "def nqueen(n):\n",
        "  def backtrack(row):\n",
        "    if row == n:\n",
        "      res.append([''.join(r) for r in board])\n",
        "      return\n",
        "    for col in range(n):\n",
        "      if col in cols or (row - col) in diag1 or (row + col) in diag2:\n",
        "        continue\n",
        "\n",
        "      # place queen\n",
        "      board[row][col] = 'Q'\n",
        "      cols.add(col)\n",
        "      diag1.add(row - col)\n",
        "      diag2.add(row + col)\n",
        "\n",
        "      backtrack(row + 1)\n",
        "\n",
        "      # backtrack\n",
        "      board[row][col] = '.'\n",
        "      cols.remove(col)\n",
        "      diag1.remove(row - col)\n",
        "      diag2.remove(row + col)\n",
        "\n",
        "\n",
        "  res = []\n",
        "\n",
        "  board = [['.' for _ in range(n)] for _ in range(n)]\n",
        "  cols = set()\n",
        "  diag1 = set()\n",
        "  diag2 = set()\n",
        "\n",
        "  backtrack(0)\n",
        "  return res\n",
        "print(nqueen(4))"
      ],
      "metadata": {
        "colab": {
          "base_uri": "https://localhost:8080/"
        },
        "id": "QG7-onqwe8pj",
        "outputId": "80f7a48b-c13b-4206-acd0-4b3527084743"
      },
      "execution_count": null,
      "outputs": [
        {
          "output_type": "stream",
          "name": "stdout",
          "text": [
            "[['.Q..', '...Q', 'Q...', '..Q.'], ['..Q.', 'Q...', '...Q', '.Q..']]\n"
          ]
        }
      ]
    },
    {
      "cell_type": "code",
      "source": [
        "board = [['.' for _ in range(4)] for _ in range(4)]\n",
        "\n",
        "print(board)"
      ],
      "metadata": {
        "colab": {
          "base_uri": "https://localhost:8080/"
        },
        "id": "T5Hn45X7VNVz",
        "outputId": "e27814c4-0dfd-421f-8600-05d68be827bd"
      },
      "execution_count": 2,
      "outputs": [
        {
          "output_type": "stream",
          "name": "stdout",
          "text": [
            "[['.', '.', '.', '.'], ['.', '.', '.', '.'], ['.', '.', '.', '.'], ['.', '.', '.', '.']]\n"
          ]
        }
      ]
    },
    {
      "cell_type": "code",
      "source": [
        "# Suduko Solver\n",
        "def solveSudoku(board):\n",
        "  rows = [set() for _ in range(9)]\n",
        "  cols = [set() for _ in range(9)]\n",
        "  boxes = [set() for _ in range(9)]\n",
        "  empty = []\n",
        "\n",
        "  for r in range(9):\n",
        "    for c in range(9):\n",
        "      val = board[r][c]\n",
        "      if val == '.':\n",
        "        empty.append((r,c))\n",
        "      else:\n",
        "        rows[r].add(val)\n",
        "        cols[c].add(val)\n",
        "        box_id = (r // 3) * 3 + (c // 3)\n",
        "        boxes[box_id].add(val)\n",
        "\n",
        "  def backtrack(idx):\n",
        "    if idx == len(empty):\n",
        "      return True\n",
        "\n",
        "    r, c = empty[idx]\n",
        "    box_id = (r // 3) * 3 + (c // 3)\n",
        "\n",
        "    for ch in '123456789':\n",
        "      if ch not in rows[r] and ch not in cols[c] and ch not in boxes[box_id]:\n",
        "        board[r][c] = ch\n",
        "        rows[r].add(ch)\n",
        "        cols[c].add(ch)\n",
        "        boxes[box_id].add(ch)\n",
        "\n",
        "        if backtrack(idx + 1):\n",
        "          return True\n",
        "\n",
        "        board[r][c] = '.'\n",
        "        rows[r].remove(ch)\n",
        "        cols[c].remove(ch)\n",
        "        boxes[box_id].remove(ch)\n",
        "\n",
        "  backtrack(0)\n",
        "\n",
        "\n",
        "board = [\n",
        "  [\"5\",\"3\",\".\",\".\",\"7\",\".\",\".\",\".\",\".\"],\n",
        "  [\"6\",\".\",\".\",\"1\",\"9\",\"5\",\".\",\".\",\".\"],\n",
        "  [\".\",\"9\",\"8\",\".\",\".\",\".\",\".\",\"6\",\".\"],\n",
        "  [\"8\",\".\",\".\",\".\",\"6\",\".\",\".\",\".\",\"3\"],\n",
        "  [\"4\",\".\",\".\",\"8\",\".\",\"3\",\".\",\".\",\"1\"],\n",
        "  [\"7\",\".\",\".\",\".\",\"2\",\".\",\".\",\".\",\"6\"],\n",
        "  [\".\",\"6\",\".\",\".\",\".\",\".\",\"2\",\"8\",\".\"],\n",
        "  [\".\",\".\",\".\",\"4\",\"1\",\"9\",\".\",\".\",\"5\"],\n",
        "  [\".\",\".\",\".\",\".\",\"8\",\".\",\".\",\"7\",\"9\"]\n",
        "]\n",
        "\n",
        "solveSudoku(board)\n",
        "\n",
        "for row in board:\n",
        "  print(' '.join(row))"
      ],
      "metadata": {
        "colab": {
          "base_uri": "https://localhost:8080/"
        },
        "id": "4ebtdRmsq0rk",
        "outputId": "20444538-7dbe-438a-f12e-e298ce9742e7"
      },
      "execution_count": null,
      "outputs": [
        {
          "output_type": "stream",
          "name": "stdout",
          "text": [
            "5 3 4 6 7 8 9 1 2\n",
            "6 7 2 1 9 5 3 4 8\n",
            "1 9 8 3 4 2 5 6 7\n",
            "8 5 9 7 6 1 4 2 3\n",
            "4 2 6 8 5 3 7 9 1\n",
            "7 1 3 9 2 4 8 5 6\n",
            "9 6 1 5 3 7 2 8 4\n",
            "2 8 7 4 1 9 6 3 5\n",
            "3 4 5 2 8 6 1 7 9\n"
          ]
        }
      ]
    },
    {
      "cell_type": "code",
      "source": [
        "# graphColoring\n",
        "def graphColoring(V, edges, m):\n",
        "  # adjacency list creation\n",
        "  adj = [[] for _ in range(V)]\n",
        "\n",
        "  # fill the adjancency list\n",
        "  for u, v in edges:\n",
        "    adj[v].append(u)\n",
        "    adj[u].append(v)\n",
        "\n",
        "  # init colors for each node\n",
        "  color = [0] * V\n",
        "\n",
        "  # Check if we can safely color the node with color c\n",
        "  def isSafe(node, c):\n",
        "    for neighbor in adj[node]:\n",
        "      if color[neighbor] == c:\n",
        "        return False\n",
        "    return True\n",
        "\n",
        "  # Trying to color the nodes recursively\n",
        "  def solve(node):\n",
        "    if node == V:\n",
        "      return True\n",
        "\n",
        "    for c in range(1,m+1):\n",
        "      if isSafe(node, c):\n",
        "        color[node] = c\n",
        "        if solve(node+1):\n",
        "          return True\n",
        "        color[node] = 0\n",
        "    return True\n",
        "\n",
        "  return solve(0)\n",
        "print(graphColoring(4, [[0, 1], [1, 3], [2, 3], [3, 0], [0, 2]],  3))"
      ],
      "metadata": {
        "colab": {
          "base_uri": "https://localhost:8080/"
        },
        "id": "A7ru0hSBZozk",
        "outputId": "4ec1698a-fb33-4a5d-bc1c-fc807de60903"
      },
      "execution_count": 4,
      "outputs": [
        {
          "output_type": "stream",
          "name": "stdout",
          "text": [
            "True\n"
          ]
        }
      ]
    },
    {
      "cell_type": "code",
      "source": [
        "# Rat in maze\n",
        "def ratInMaze(maze):\n",
        "  n = len(maze)\n",
        "\n",
        "  res = []\n",
        "\n",
        "  visited = [[False for _ in range(n)] for _ in range(n)]\n",
        "\n",
        "  dirs = [('D',1,0),('R',0,1),('L',-1,0),('U',-1,0)]\n",
        "\n",
        "  def isValid(x, y):\n",
        "    return 0 <= x < n and 0 <= y < n and maze[x][y] == 1 and not visited[x][y]\n",
        "\n",
        "  def backtrack(x, y, path):\n",
        "    if x == n-1 and y == n-1:\n",
        "      res.append(path)\n",
        "      return\n",
        "\n",
        "    for dir_letter, dx, dy in dirs:\n",
        "      newX, newY = x + dx, y + dy\n",
        "      if isValid(newX, newY):\n",
        "        visited[x][y] = True\n",
        "        backtrack(newX, newY, path + dir_letter)\n",
        "        visited[x][y] = False\n",
        "\n",
        "\n",
        "  backtrack(0,0,\"\")\n",
        "\n",
        "  return sorted(res)\n",
        "print(ratInMaze([[1, 0, 0, 0], [1, 1, 0, 1], [1, 1, 0, 0], [0, 1, 1, 1]]))"
      ],
      "metadata": {
        "colab": {
          "base_uri": "https://localhost:8080/"
        },
        "id": "LtaP4afpz-IA",
        "outputId": "6e165c58-03c7-4a5d-f427-d618aa6398e6"
      },
      "execution_count": 8,
      "outputs": [
        {
          "output_type": "stream",
          "name": "stdout",
          "text": [
            "['DDRDRR', 'DRDDRR']\n"
          ]
        }
      ]
    },
    {
      "cell_type": "code",
      "source": [
        "# word break\n",
        "def wordBreak(dict, s):\n",
        "  wordNet = set(dict)\n",
        "  memo = {}\n",
        "\n",
        "  def dfs(start):\n",
        "    if start == len(s):\n",
        "      return [\"\"]\n",
        "\n",
        "    if start in memo:\n",
        "      return memo[start]\n",
        "\n",
        "    result = []\n",
        "\n",
        "    for end in range(start+1, len(s)+1):\n",
        "      word = s[start:end]\n",
        "      if word in wordNet:\n",
        "        for sub in dfs(end):\n",
        "          if sub == \"\":\n",
        "            result.append(word)\n",
        "          else:\n",
        "            result.append(word + \" \" + sub)\n",
        "    memo[start] = result\n",
        "    return result\n",
        "\n",
        "  return dfs(0)\n",
        "print(wordBreak([\"lik\", \"like\", \"egfg\", \"gfg\"], \"likegfg\"))"
      ],
      "metadata": {
        "colab": {
          "base_uri": "https://localhost:8080/"
        },
        "id": "6kEjeRw18wT0",
        "outputId": "013447e6-c4bd-4a1b-ccd5-399e5b1f08ac"
      },
      "execution_count": 10,
      "outputs": [
        {
          "output_type": "stream",
          "name": "stdout",
          "text": [
            "['lik egfg', 'like gfg']\n"
          ]
        }
      ]
    }
  ]
}