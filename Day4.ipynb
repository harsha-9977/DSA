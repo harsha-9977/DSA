{
  "nbformat": 4,
  "nbformat_minor": 0,
  "metadata": {
    "colab": {
      "provenance": []
    },
    "kernelspec": {
      "name": "python3",
      "display_name": "Python 3"
    },
    "language_info": {
      "name": "python"
    }
  },
  "cells": [
    {
      "cell_type": "code",
      "execution_count": 7,
      "metadata": {
        "id": "Es308ZswnP_t",
        "colab": {
          "base_uri": "https://localhost:8080/"
        },
        "outputId": "8ab419b5-60fb-4af1-fd77-e4a9acaca927"
      },
      "outputs": [
        {
          "output_type": "stream",
          "name": "stdout",
          "text": [
            "(2, 11)\n"
          ]
        }
      ],
      "source": [
        "# Two sum - Pair with given sum\n",
        "\n",
        "def pair(arr,target):\n",
        "  seen = {}\n",
        "\n",
        "  for i in arr:\n",
        "    complement = target - i\n",
        "    if complement in seen:\n",
        "      return (complement,i)\n",
        "    seen[i] = True\n",
        "  return False\n",
        "print(pair([2,7,11,15],13))"
      ]
    },
    {
      "cell_type": "code",
      "source": [
        "# prefix sum\n",
        "def sums(arr):\n",
        "  n = len(arr)\n",
        "\n",
        "  prefixSum = [0] * n\n",
        "  prefixSum[0] = arr[0]\n",
        "\n",
        "  for i in range(1, n):\n",
        "    prefixSum[i] = prefixSum[i-1] + arr[i]\n",
        "  return prefixSum\n",
        "\n",
        "print(sums([1,2,3,4,5]))"
      ],
      "metadata": {
        "colab": {
          "base_uri": "https://localhost:8080/"
        },
        "id": "pm8CDoUDEUdU",
        "outputId": "a29ec92d-0dab-4f13-9ead-879560f0dcc4"
      },
      "execution_count": 8,
      "outputs": [
        {
          "output_type": "stream",
          "name": "stdout",
          "text": [
            "[1, 3, 6, 10, 15]\n"
          ]
        }
      ]
    },
    {
      "cell_type": "code",
      "source": [
        "# Remove duplicates in array\n",
        "def rDups(arr):\n",
        "  seen = set()\n",
        "  result = []\n",
        "\n",
        "  for i in arr:\n",
        "    if i not in seen:\n",
        "      seen.add(i)\n",
        "      result.append(i)\n",
        "\n",
        "  return result\n",
        "print(rDups([1,1,1,2,3,8,8,5,6,4,9,4,6,4,0]))"
      ],
      "metadata": {
        "colab": {
          "base_uri": "https://localhost:8080/"
        },
        "id": "IiHZOU5uF2gr",
        "outputId": "0c5cf2b3-2211-4ff6-c722-0bd6d821e36b"
      },
      "execution_count": 10,
      "outputs": [
        {
          "output_type": "stream",
          "name": "stdout",
          "text": [
            "[1, 2, 3, 8, 5, 6, 4, 9, 0]\n"
          ]
        }
      ]
    },
    {
      "cell_type": "code",
      "source": [
        "# Duplicates within k distance in an array\n",
        "def containsNearByDups(arr,k):\n",
        "  seen = set()\n",
        "\n",
        "  for i in range(len(arr)):\n",
        "    if arr[i] in seen:\n",
        "      return True\n",
        "    seen.add(arr[i])\n",
        "    if len(seen) > k:\n",
        "      seen.remove(arr[i-k])\n",
        "  return False\n",
        "\n",
        "print(containsNearByDups([1, 2, 3, 1, 4, 5],3))\n"
      ],
      "metadata": {
        "colab": {
          "base_uri": "https://localhost:8080/"
        },
        "id": "hHig7jBvH9ZH",
        "outputId": "490e7191-1a2e-419c-ac28-9e38ab144d69"
      },
      "execution_count": 14,
      "outputs": [
        {
          "output_type": "stream",
          "name": "stdout",
          "text": [
            "True\n"
          ]
        }
      ]
    },
    {
      "cell_type": "code",
      "source": [
        "# Rearrange array such that even positioned element is greater than odd\n",
        "def gEven(arr):\n",
        "  arr.sort()\n",
        "\n",
        "  for i in range(1, len(arr)-1, 2):\n",
        "    arr[i], arr[i+1] = arr[i+1], arr[i]\n",
        "  return arr\n",
        "print(gEven([1,2,3,4,5,6,7,8,9,10]))"
      ],
      "metadata": {
        "colab": {
          "base_uri": "https://localhost:8080/"
        },
        "id": "oDdwjsy0K1_D",
        "outputId": "8f0aa138-89ad-4a3f-d0fb-f9235e02d66b"
      },
      "execution_count": 19,
      "outputs": [
        {
          "output_type": "stream",
          "name": "stdout",
          "text": [
            "[1, 3, 2, 5, 4, 7, 6, 9, 8, 10]\n"
          ]
        }
      ]
    },
    {
      "cell_type": "code",
      "source": [
        "# Sum of SubArrays\n",
        "def sumOfSubs(arr):\n",
        "  mod = 10**9 + 7\n",
        "  total = 0\n",
        "\n",
        "  n = len(arr)\n",
        "\n",
        "  for i in range(n):\n",
        "    total = (total + arr[i] * (i+1) * (n-i)) % mod\n",
        "  return total\n",
        "\n",
        "print(sumOfSubs([1,2,3]))"
      ],
      "metadata": {
        "colab": {
          "base_uri": "https://localhost:8080/"
        },
        "id": "cZ5yTUOcPJOU",
        "outputId": "3fffb261-13ed-45eb-b0c2-11622147f0f5"
      },
      "execution_count": 20,
      "outputs": [
        {
          "output_type": "stream",
          "name": "stdout",
          "text": [
            "20\n"
          ]
        }
      ]
    },
    {
      "cell_type": "code",
      "source": [
        "# Stock buy and sell - Multiple transaction allowed\n",
        "def stocks(prices):\n",
        "  profit = 0\n",
        "\n",
        "  for i in range(1,len(prices)):\n",
        "    if prices[i] > prices[i-1]:\n",
        "      profit += prices[i] - prices[i-1]\n",
        "\n",
        "  return profit\n",
        "\n",
        "print(stocks([1, 5, 3, 8, 4, 9]))"
      ],
      "metadata": {
        "colab": {
          "base_uri": "https://localhost:8080/"
        },
        "id": "05_Eyyh1P-j4",
        "outputId": "45cb5e73-9848-4519-d93e-bde1aa80045a"
      },
      "execution_count": 21,
      "outputs": [
        {
          "output_type": "stream",
          "name": "stdout",
          "text": [
            "14\n"
          ]
        }
      ]
    },
    {
      "cell_type": "code",
      "source": [
        "# Unique I\n",
        "def unique(arr):\n",
        "  seen = {}\n",
        "\n",
        "  for i in arr:\n",
        "    seen[i] = arr.count(i)\n",
        "\n",
        "  return [key for key, val in seen.items() if val == 1]\n",
        "# using counter\n",
        "from collections import Counter\n",
        "def cUnique(arr):\n",
        "  freq = Counter(arr)\n",
        "  for num, count in freq.items():\n",
        "    if count == 1:\n",
        "      return num\n",
        "  return None\n",
        "\n",
        "print(unique([1,2,1,5,5]))\n",
        "print(cUnique([1,2,1,5,5]))"
      ],
      "metadata": {
        "colab": {
          "base_uri": "https://localhost:8080/"
        },
        "id": "ElMXVvNVhHHl",
        "outputId": "8b64f13d-1419-4667-8870-dfd09580c563"
      },
      "execution_count": 34,
      "outputs": [
        {
          "output_type": "stream",
          "name": "stdout",
          "text": [
            "[2]\n",
            "2\n"
          ]
        }
      ]
    },
    {
      "cell_type": "code",
      "source": [
        "# Missing number\n",
        "def miss(arr):\n",
        "  n = len(arr)+1\n",
        "  sums = sum(arr)\n",
        "  csum = n * (n + 1) // 2\n",
        "  return csum - sums\n",
        "\n",
        "print(miss([1,2,3,5]))"
      ],
      "metadata": {
        "colab": {
          "base_uri": "https://localhost:8080/"
        },
        "id": "7pVhrbXqkixj",
        "outputId": "1a892136-32c2-4c03-a9aa-01af40b91c9e"
      },
      "execution_count": 35,
      "outputs": [
        {
          "output_type": "stream",
          "name": "stdout",
          "text": [
            "4\n"
          ]
        }
      ]
    },
    {
      "cell_type": "code",
      "source": [
        "# Missing and repeating\n",
        "def missAndRep(arr):\n",
        "  freq = Counter(arr)\n",
        "  rep = 0\n",
        "  for num, count in freq.items():\n",
        "    if count == 2:\n",
        "      rep = num\n",
        "\n",
        "  n = len(arr)\n",
        "  csum = n * (n + 1) // 2\n",
        "  sumi = sum(arr) - rep\n",
        "\n",
        "  miss = csum - sumi if csum > sumi else sumi - csum\n",
        "\n",
        "  return [rep, miss]\n",
        "\n",
        "print(missAndRep([1,2,3,1,4,5,6,7,8]))\n"
      ],
      "metadata": {
        "colab": {
          "base_uri": "https://localhost:8080/"
        },
        "id": "71VN7tvUpuLj",
        "outputId": "cf7ffcda-f496-48bd-d590-cc142e571da8"
      },
      "execution_count": 36,
      "outputs": [
        {
          "output_type": "stream",
          "name": "stdout",
          "text": [
            "[1, 9]\n"
          ]
        }
      ]
    },
    {
      "cell_type": "code",
      "source": [
        "# sorted subsequence of size 3\n",
        "def subs3(arr):\n",
        "  n = len(arr)\n",
        "\n",
        "  smaller = [-1] * n\n",
        "  greater = [-1] * n\n",
        "\n",
        "  min = 0\n",
        "  for i in range(1,n):\n",
        "    if arr[i] <= arr[min]:\n",
        "      min = i\n",
        "    else:\n",
        "      smaller[i] = min\n",
        "\n",
        "  max = n-1\n",
        "  for i in range(n-2,-1,-1):\n",
        "    if arr[i] >= arr[max]:\n",
        "      max = i\n",
        "    else:\n",
        "      greater[i] = max\n",
        "\n",
        "  for i in range(n):\n",
        "    if greater[i] != -1 and smaller[i] != -1:\n",
        "      return [arr[smaller[i]], arr[i], arr[greater[i]]]\n",
        "  return []\n",
        "print(subs3([104, 753, 852, 120, 676, 984]))"
      ],
      "metadata": {
        "colab": {
          "base_uri": "https://localhost:8080/"
        },
        "id": "q9GZqvWnzg1r",
        "outputId": "707b9e1f-c8a3-48fc-8b08-ee02e0c8f65a"
      },
      "execution_count": 41,
      "outputs": [
        {
          "output_type": "stream",
          "name": "stdout",
          "text": [
            "[104, 753, 984]\n"
          ]
        }
      ]
    },
    {
      "cell_type": "code",
      "source": [
        "# Segregate 0 and 1\n",
        "def binarySort(arr):\n",
        "  zero_index = 0\n",
        "\n",
        "  for i in range(len(arr)):\n",
        "    if arr[i] == 0:\n",
        "      arr[i], arr[zero_index] = arr[zero_index], arr[i]\n",
        "      zero_index += 1\n",
        "  return arr\n",
        "print(binarySort([0, 0, 1, 1, 0]))"
      ],
      "metadata": {
        "colab": {
          "base_uri": "https://localhost:8080/"
        },
        "id": "jiJeOm6SG0Jw",
        "outputId": "e603ce09-c17d-478e-9ab8-d235ae93c8f4"
      },
      "execution_count": 1,
      "outputs": [
        {
          "output_type": "stream",
          "name": "stdout",
          "text": [
            "[0, 0, 0, 1, 1]\n"
          ]
        }
      ]
    },
    {
      "cell_type": "code",
      "source": [
        "# Wave Array (similar to even greater than odd)\n",
        "def wave(arr):\n",
        "  for i in range(1,len(arr),2):\n",
        "    if arr[i] > arr[i-1]:\n",
        "      arr[i], arr[i-1] = arr[i-1], arr[i]\n",
        "  return arr\n",
        "print(wave([1,2,3,4,5]))"
      ],
      "metadata": {
        "colab": {
          "base_uri": "https://localhost:8080/"
        },
        "id": "nbtEhnJwHr-O",
        "outputId": "4bb19f2a-59d6-4b5c-aa10-bc40c28835ae"
      },
      "execution_count": 20,
      "outputs": [
        {
          "output_type": "stream",
          "name": "stdout",
          "text": [
            "[2, 1, 4, 3, 5]\n"
          ]
        }
      ]
    },
    {
      "cell_type": "code",
      "source": [
        "# Max Subarray SUM (Kadanes)\n",
        "def kadaneMax(arr):\n",
        "  curr_sum = arr[0]\n",
        "  max_sum = arr[0]\n",
        "\n",
        "  for i in range(1,len(arr)):\n",
        "    curr_sum = max(curr_sum + arr[i], arr[i])\n",
        "    max_sum = max(curr_sum, max_sum)\n",
        "  return max_sum\n",
        "print(kadaneMax([2, 3, -8, 7, -1, 2, 3]))"
      ],
      "metadata": {
        "colab": {
          "base_uri": "https://localhost:8080/"
        },
        "id": "QsUHKif-O0DL",
        "outputId": "3daf5963-c41f-4118-8e5e-8ac5eb078fbf"
      },
      "execution_count": 22,
      "outputs": [
        {
          "output_type": "stream",
          "name": "stdout",
          "text": [
            "11\n"
          ]
        }
      ]
    },
    {
      "cell_type": "code",
      "source": [
        "# Max Subarray PRODUCT\n",
        "def maxProd(arr):\n",
        "  max_prod = min_prod = result = arr[0]\n",
        "\n",
        "  for i in range(1, len(arr)):\n",
        "    curr = arr[i]\n",
        "\n",
        "    if curr < 0:\n",
        "      max_prod, min_prod = min_prod, max_prod\n",
        "\n",
        "    max_prod = max(curr, max_prod * curr)\n",
        "    min_prod = min(curr, min_prod * curr)\n",
        "\n",
        "    result = max(result, max_prod)\n",
        "  return result\n",
        "print(maxProd([-2,6,-3,-10,0,2]))"
      ],
      "metadata": {
        "colab": {
          "base_uri": "https://localhost:8080/"
        },
        "id": "F4tTjcVeYFbC",
        "outputId": "0763d18f-ae3a-4569-b709-5b58bd621d58"
      },
      "execution_count": 24,
      "outputs": [
        {
          "output_type": "stream",
          "name": "stdout",
          "text": [
            "180\n"
          ]
        }
      ]
    },
    {
      "cell_type": "code",
      "source": [
        "# Equilibrium point\n",
        "def ePoint(arr):\n",
        "  total_sum = sum(arr)\n",
        "  left_sum = 0\n",
        "\n",
        "  for i in range(len(arr)):\n",
        "    total_sum -= arr[i]\n",
        "\n",
        "    if total_sum == left_sum:\n",
        "      return i\n",
        "\n",
        "    left_sum += arr[i]\n",
        "\n",
        "  return -1\n",
        "print(ePoint([-7, 1, 5, 2, -4, 3, 0]))"
      ],
      "metadata": {
        "colab": {
          "base_uri": "https://localhost:8080/"
        },
        "id": "Tt9_3hnic4fP",
        "outputId": "a040f8dd-d06f-4002-da5d-45a8099cd65c"
      },
      "execution_count": 29,
      "outputs": [
        {
          "output_type": "stream",
          "name": "stdout",
          "text": [
            "3\n"
          ]
        }
      ]
    }
  ]
}