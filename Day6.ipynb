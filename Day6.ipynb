{
  "nbformat": 4,
  "nbformat_minor": 0,
  "metadata": {
    "colab": {
      "provenance": []
    },
    "kernelspec": {
      "name": "python3",
      "display_name": "Python 3"
    },
    "language_info": {
      "name": "python"
    }
  },
  "cells": [
    {
      "cell_type": "code",
      "execution_count": null,
      "metadata": {
        "id": "BE_sw4es6u8-",
        "colab": {
          "base_uri": "https://localhost:8080/"
        },
        "outputId": "330cad61-5847-41a1-9b93-8f4304d2ccb2"
      },
      "outputs": [
        {
          "output_type": "stream",
          "name": "stdout",
          "text": [
            "11\n"
          ]
        }
      ],
      "source": [
        "# Kth Largest Sum Continuous Subarray\n",
        "import heapq\n",
        "def kthLargest(arr,k):\n",
        "  n = len(arr)\n",
        "\n",
        "  prefix_sum = [0] * (n+1)\n",
        "\n",
        "  for i in range(n):\n",
        "    prefix_sum[i+1] = prefix_sum[i] + arr[i]\n",
        "\n",
        "  min_heap = []\n",
        "\n",
        "  for start in range(n):\n",
        "    for end in range(start,n):\n",
        "      curr_sum = prefix_sum[end+1] - prefix_sum[start]\n",
        "\n",
        "      if len(min_heap) < k:\n",
        "          heapq.heappush(min_heap,curr_sum)\n",
        "      else:\n",
        "        if curr_sum > min_heap[0]:\n",
        "          heapq.heappop(min_heap)\n",
        "          heapq.heappush(min_heap,curr_sum)\n",
        "  return min_heap[0]\n",
        "print(kthLargest([2, 6, 4, 1],3))"
      ]
    },
    {
      "cell_type": "code",
      "source": [
        "# Smallest Missing positive\n",
        "def smp(arr):\n",
        "  n = len(arr)\n",
        "\n",
        "  for i in range(n):\n",
        "    while 1 <= arr[i] <= n and arr[i] != arr[arr[i] - 1]:\n",
        "      correct_index = arr[i] - 1\n",
        "      arr[i],arr[correct_index] = arr[correct_index],arr[i]\n",
        "\n",
        "  for i in range(n):\n",
        "    if arr[i] != i + 1:\n",
        "      return i+1\n",
        "  return n + 1\n",
        "print(smp([0, 1, 2, 3, 4, 5, 6, 7, 10]))"
      ],
      "metadata": {
        "colab": {
          "base_uri": "https://localhost:8080/"
        },
        "id": "JHojClteqaM5",
        "outputId": "f666ba2c-862f-474e-9e81-f946986a8553"
      },
      "execution_count": null,
      "outputs": [
        {
          "output_type": "stream",
          "name": "stdout",
          "text": [
            "8\n"
          ]
        }
      ]
    },
    {
      "cell_type": "code",
      "source": [
        "# Smallest subarray with sum which is greater than the given value\n",
        "def smallestSubWithSum(arr,x):\n",
        "  n = len(arr)\n",
        "  start = 0\n",
        "  curr_sum = 0\n",
        "  min_len = float('inf')\n",
        "  for end in range(n):\n",
        "    curr_sum += arr[end]\n",
        "\n",
        "    while curr_sum > x:\n",
        "      min_len = min(min_len, end - start + 1)\n",
        "      curr_sum -= arr[start]\n",
        "      start += 1\n",
        "  return min_len if min_len != float('inf') else 0\n",
        "print(smallestSubWithSum([1, 4, 45, 6, 0, 19],51))"
      ],
      "metadata": {
        "colab": {
          "base_uri": "https://localhost:8080/"
        },
        "id": "v6Q836Bi29_7",
        "outputId": "66cbda87-8bbe-4237-fcee-ada2aa0e5fba"
      },
      "execution_count": null,
      "outputs": [
        {
          "output_type": "stream",
          "name": "stdout",
          "text": [
            "3\n"
          ]
        }
      ]
    },
    {
      "cell_type": "code",
      "source": [
        "# Count inversions\n",
        "\n",
        "def inversions(arr):\n",
        "  def merge(left,right):\n",
        "    i = j = inv_count = 0\n",
        "    merged = []\n",
        "\n",
        "    while i < len(left) and j < len(right):\n",
        "      if left[i] <= right[j]:\n",
        "        merged.append(left[i])\n",
        "        i += 1\n",
        "      else:\n",
        "        merged.append(right[j])\n",
        "        inv_count += len(left) - i\n",
        "        j += 1\n",
        "    merged += left[i:]\n",
        "    merged += right[j:]\n",
        "    return merged, inv_count\n",
        "\n",
        "  def mergeSort(arr):\n",
        "    if len(arr) <= 1:\n",
        "      return arr, 0\n",
        "\n",
        "    mid = len(arr) // 2\n",
        "\n",
        "    left, inv_left = mergeSort(arr[:mid])\n",
        "    right, inv_right = mergeSort(arr[mid:])\n",
        "\n",
        "    merged, inv_merge = merge(left, right)\n",
        "    return merged, inv_left + inv_right + inv_merge\n",
        "\n",
        "  _, total_count = mergeSort(arr)\n",
        "  return total_count\n",
        "print(inversions([4, 3, 2, 1]))"
      ],
      "metadata": {
        "colab": {
          "base_uri": "https://localhost:8080/"
        },
        "id": "jxKGx4yxD59w",
        "outputId": "4f663051-f9cf-4694-9dbe-d74944e9cb2f"
      },
      "execution_count": null,
      "outputs": [
        {
          "output_type": "stream",
          "name": "stdout",
          "text": [
            "6\n"
          ]
        }
      ]
    }
  ]
}