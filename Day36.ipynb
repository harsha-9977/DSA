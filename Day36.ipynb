{
  "nbformat": 4,
  "nbformat_minor": 0,
  "metadata": {
    "colab": {
      "provenance": [],
      "authorship_tag": "ABX9TyMjNIQC8ZCf41L5Hs/zU4Qu",
      "include_colab_link": true
    },
    "kernelspec": {
      "name": "python3",
      "display_name": "Python 3"
    },
    "language_info": {
      "name": "python"
    }
  },
  "cells": [
    {
      "cell_type": "markdown",
      "metadata": {
        "id": "view-in-github",
        "colab_type": "text"
      },
      "source": [
        "<a href=\"https://colab.research.google.com/github/harsha-9977/DSA/blob/main/Day36.ipynb\" target=\"_parent\"><img src=\"https://colab.research.google.com/assets/colab-badge.svg\" alt=\"Open In Colab\"/></a>"
      ]
    },
    {
      "cell_type": "code",
      "execution_count": 22,
      "metadata": {
        "id": "l71M5XCQ6fCt"
      },
      "outputs": [],
      "source": [
        "# Intersection of two linked list\n",
        "class ListNode:\n",
        "  def __init__(self,val=0,next=None):\n",
        "    self.val = val\n",
        "    self.next = next\n",
        "\n",
        "def build_list(vals):\n",
        "  if not vals:\n",
        "    return None\n",
        "\n",
        "  head = ListNode(vals[0])\n",
        "  curr = head\n",
        "\n",
        "  for val in vals[1:]:\n",
        "    curr.next = ListNode(val)\n",
        "    curr = curr.next\n",
        "\n",
        "  return head\n",
        "\n",
        "def print_list(head):\n",
        "  vals = []\n",
        "  while head:\n",
        "    vals.append(head.val)\n",
        "    head = head.next\n",
        "\n",
        "  return vals\n",
        "\n",
        "class Solution:\n",
        "  def intersects(self, headA, headB):\n",
        "    p1 = headA\n",
        "    p2 = headB\n",
        "\n",
        "    while p1 != p2:\n",
        "      p1 = p1.next if p1 else headB\n",
        "      p2 = p2.next if p2 else headA\n",
        "\n",
        "    return p1\n",
        "\n",
        "intersect_node = build_list([8,4,5])\n",
        "listA = ListNode(4)\n",
        "listA.next = ListNode(1)\n",
        "listA.next.next = intersect_node\n",
        "\n",
        "listB = ListNode(5)\n",
        "listB.next = ListNode(6)\n",
        "listB.next.next = intersect_node\n",
        "\n",
        "intersect_node1 = build_list([2,4])\n",
        "listA1 = ListNode(1)\n",
        "listA1.next = ListNode(9)\n",
        "listA1.next.next = ListNode(1)\n",
        "listA1.next.next.next = intersect_node1\n",
        "listB1 = build_list([3])\n",
        "listB1.next = intersect_node1"
      ]
    },
    {
      "cell_type": "code",
      "source": [
        "intersect = Solution().intersects(listA,listB)\n",
        "print_list(intersect)"
      ],
      "metadata": {
        "colab": {
          "base_uri": "https://localhost:8080/"
        },
        "id": "lmUDY9UviqkP",
        "outputId": "f1364203-867c-497b-8663-ff848b9df1dc"
      },
      "execution_count": 23,
      "outputs": [
        {
          "output_type": "execute_result",
          "data": {
            "text/plain": [
              "[8, 4, 5]"
            ]
          },
          "metadata": {},
          "execution_count": 23
        }
      ]
    },
    {
      "cell_type": "code",
      "source": [
        "intersect1 = Solution().intersects(listA1,listB1)\n",
        "print_list(intersect1)"
      ],
      "metadata": {
        "colab": {
          "base_uri": "https://localhost:8080/"
        },
        "id": "zMBV0VZbioDK",
        "outputId": "75255879-77bf-4aef-bab2-eb4af02b19c9"
      },
      "execution_count": 21,
      "outputs": [
        {
          "output_type": "execute_result",
          "data": {
            "text/plain": [
              "[2, 4]"
            ]
          },
          "metadata": {},
          "execution_count": 21
        }
      ]
    },
    {
      "cell_type": "code",
      "source": [
        "# Linked List Cycle\n",
        "class ListNode:\n",
        "  def __init__(self,val=0,next=None):\n",
        "    self.val = val\n",
        "    self.next = next\n",
        "\n",
        "def build_cyclic_list(vals,pos):\n",
        "  if not vals:\n",
        "    return None\n",
        "\n",
        "  nodes = []\n",
        "  head = ListNode(vals[0])\n",
        "  nodes.append(head)\n",
        "  curr = head\n",
        "\n",
        "  for val in vals[1:]:\n",
        "    new_node = ListNode(val)\n",
        "    nodes.append(new_node)\n",
        "    curr.next = new_node\n",
        "    curr = new_node\n",
        "\n",
        "  if pos != -1:\n",
        "    curr.next = nodes[pos]\n",
        "  return head\n",
        "\n",
        "class Solution:\n",
        "  def hascycle(self,head):\n",
        "    nodes = set()\n",
        "    curr = head\n",
        "\n",
        "    while curr:\n",
        "      if curr in nodes:\n",
        "        return True\n",
        "      nodes.add(curr)\n",
        "      curr = curr.next\n",
        "    return False\n",
        "\n",
        "head1 = build_cyclic_list([3,2,0,-4], 1)\n",
        "head2 = build_cyclic_list([1,2], 0)\n",
        "head3 = build_cyclic_list([1], -1)\n",
        "\n",
        "print(Solution().hascycle(head1))\n",
        "print(Solution().hascycle(head2))\n",
        "print(Solution().hascycle(head3))"
      ],
      "metadata": {
        "colab": {
          "base_uri": "https://localhost:8080/"
        },
        "id": "IMcrT2sIk6Uu",
        "outputId": "75b7f5a5-cac0-4425-f9b4-9850ad9c675c"
      },
      "execution_count": 25,
      "outputs": [
        {
          "output_type": "stream",
          "name": "stdout",
          "text": [
            "True\n",
            "True\n",
            "False\n"
          ]
        }
      ]
    },
    {
      "cell_type": "code",
      "source": [
        "# Reverse Nodes in k group\n",
        "class ListNode:\n",
        "  def __init__(self,val=0,next=None):\n",
        "    self.val = val\n",
        "    self.next = next\n",
        "\n",
        "def build_list(vals):\n",
        "  if not vals:\n",
        "    return None\n",
        "\n",
        "  head = ListNode(vals[0])\n",
        "  curr = head\n",
        "\n",
        "  for val in vals[1:]:\n",
        "    curr.next = ListNode(val)\n",
        "    curr = curr.next\n",
        "  return head\n",
        "\n",
        "def print_list(head):\n",
        "  vals = []\n",
        "  while head:\n",
        "    vals.append(head.val)\n",
        "    head = head.next\n",
        "  return vals\n",
        "\n",
        "class Solution:\n",
        "  def reverse(self,head,k):\n",
        "    def get_kth_node(curr,k):\n",
        "      while curr and k > 0:\n",
        "        curr = curr.next\n",
        "        k -= 1\n",
        "      return curr\n",
        "\n",
        "    dummy = ListNode(0)\n",
        "    dummy.next = head\n",
        "    group_prev = dummy\n",
        "\n",
        "    while True:\n",
        "      kth = get_kth_node(group_prev,k)\n",
        "      if not kth:\n",
        "        break\n",
        "      group_next = kth.next\n",
        "\n",
        "      prev,curr = kth.next, group_prev.next\n",
        "      while curr != group_next:\n",
        "        temp = curr.next\n",
        "        curr.next = prev\n",
        "        prev = curr\n",
        "        curr = temp\n",
        "\n",
        "      temp = group_prev.next\n",
        "      group_prev.next = kth\n",
        "      group_prev = temp\n",
        "    return dummy.next\n",
        "\n",
        "reverse = Solution().reverse(build_list([1,2,3,4,5]), 2)\n",
        "print_list(reverse)"
      ],
      "metadata": {
        "colab": {
          "base_uri": "https://localhost:8080/"
        },
        "id": "y3V2uJMXz3cf",
        "outputId": "d2f993a6-1621-47a8-a7a0-fa1a402c0dbd"
      },
      "execution_count": 30,
      "outputs": [
        {
          "output_type": "execute_result",
          "data": {
            "text/plain": [
              "[2, 1, 4, 3, 5]"
            ]
          },
          "metadata": {},
          "execution_count": 30
        }
      ]
    },
    {
      "cell_type": "code",
      "source": [
        "from types import new_class\n",
        "from collections.abc import ValuesView\n",
        "# isPalinedrome\n",
        "class ListNode:\n",
        "  def __init__(self,val=0,next=None):\n",
        "    self.val = val\n",
        "    self.next = next\n",
        "\n",
        "def build_list(vals):\n",
        "  if not vals:\n",
        "    return None\n",
        "\n",
        "  head = ListNode(vals[0])\n",
        "  curr = head\n",
        "\n",
        "  for val in vals[1:]:\n",
        "    curr.next = ListNode(val)\n",
        "    curr = curr.next\n",
        "\n",
        "  return head\n",
        "\n",
        "def print_list(head):\n",
        "  vals = []\n",
        "  while head:\n",
        "    vals.append(head.val)\n",
        "    head = head.next\n",
        "  return vals\n",
        "\n",
        "class Solution:\n",
        "  def isPaline(self,head):\n",
        "    # get middle\n",
        "    slow,fast = head,head\n",
        "    while fast and fast.next:\n",
        "      slow = slow.next\n",
        "      fast = fast.next.next\n",
        "\n",
        "    # reverse second half\n",
        "    prev,curr = None,slow\n",
        "    while curr:\n",
        "      temp = curr.next\n",
        "      curr.next = prev\n",
        "      prev = curr\n",
        "      curr = temp\n",
        "\n",
        "    # compare\n",
        "    left,right = head,prev\n",
        "    while right:\n",
        "      if left.val != right.val:\n",
        "        return False\n",
        "      left = left.next\n",
        "      right = right.next\n",
        "    return True\n",
        "\n",
        "paline = Solution().isPaline(build_list([1,2,2,1]))\n",
        "print(paline)\n",
        "paline = Solution().isPaline(build_list([1,2]))\n",
        "print(paline)"
      ],
      "metadata": {
        "colab": {
          "base_uri": "https://localhost:8080/"
        },
        "id": "jOEG27c24-8n",
        "outputId": "bab1c079-edf2-429b-b6c3-6a3a08bd960d"
      },
      "execution_count": 36,
      "outputs": [
        {
          "output_type": "stream",
          "name": "stdout",
          "text": [
            "True\n",
            "False\n"
          ]
        }
      ]
    },
    {
      "cell_type": "code",
      "source": [
        "# Detect cycle and find entry point\n",
        "class ListNode:\n",
        "  def __init__(self,val=0,next=None):\n",
        "    self.val = val\n",
        "    self.next = next\n",
        "\n",
        "def build_cyclic_list(vals,pos):\n",
        "  if not vals:\n",
        "    return None\n",
        "\n",
        "  nodes = []\n",
        "  head = ListNode(vals[0])\n",
        "  nodes.append(head)\n",
        "  curr = head\n",
        "\n",
        "  for val in vals[1:]:\n",
        "    new_node = ListNode(val)\n",
        "    nodes.append(new_node)\n",
        "    curr.next = new_node\n",
        "    curr = new_node\n",
        "\n",
        "  if pos != -1:\n",
        "    curr.next = nodes[pos]\n",
        "\n",
        "  return head\n",
        "\n",
        "def print_list(head):\n",
        "  vals = []\n",
        "  while head:\n",
        "    vals.append(head.val)\n",
        "    head = head.next\n",
        "  return vals\n",
        "\n",
        "class Solution:\n",
        "  def detectandfind(self,head):\n",
        "    slow = fast = head\n",
        "    while fast and fast.next:\n",
        "      slow = slow.next\n",
        "      fast = fast.next.next\n",
        "\n",
        "      if fast == slow:\n",
        "        entry = head\n",
        "        while entry != slow:\n",
        "          entry = entry.next\n",
        "          slow = slow.next\n",
        "        return entry\n",
        "    return None\n",
        "\n",
        "detect = Solution().detectandfind(build_cyclic_list([3,2,0,-4],  1))\n",
        "print(detect.val if detect else \"No Cycle\")\n",
        "\n",
        "detect = Solution().detectandfind(build_cyclic_list([1],-1))\n",
        "print(detect.val if detect else \"No Cycle\")\n",
        "\n",
        "detect = Solution().detectandfind(build_cyclic_list([1,2],  0))\n",
        "print(detect.val if detect else \"No Cycle\")"
      ],
      "metadata": {
        "colab": {
          "base_uri": "https://localhost:8080/"
        },
        "id": "BbjVNN5e8ZzZ",
        "outputId": "8096334b-9148-4185-df9a-67b32e193615"
      },
      "execution_count": 42,
      "outputs": [
        {
          "output_type": "stream",
          "name": "stdout",
          "text": [
            "2\n",
            "No Cycle\n",
            "1\n"
          ]
        }
      ]
    }
  ]
}