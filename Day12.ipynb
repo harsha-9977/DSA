{
  "nbformat": 4,
  "nbformat_minor": 0,
  "metadata": {
    "colab": {
      "provenance": []
    },
    "kernelspec": {
      "name": "python3",
      "display_name": "Python 3"
    },
    "language_info": {
      "name": "python"
    }
  },
  "cells": [
    {
      "cell_type": "code",
      "execution_count": 1,
      "metadata": {
        "colab": {
          "base_uri": "https://localhost:8080/"
        },
        "id": "BcXjzkpvNx8L",
        "outputId": "d4264cbb-231e-47c7-b6af-7014428290bb"
      },
      "outputs": [
        {
          "output_type": "stream",
          "name": "stdout",
          "text": [
            "Max Pair Sum is 74\n"
          ]
        }
      ],
      "source": [
        "# Function to return largest pair sum. Assumes that\n",
        "# there are at-least two elements in arr[]\n",
        "def find_largest_sum_pair(arr):\n",
        "    n = len(arr)\n",
        "    if n < 2:\n",
        "        return -1\n",
        "\n",
        "    # Initialize first and second largest element\n",
        "    first, second = (arr[0], arr[1]) if arr[0] > arr[1] else (arr[1], arr[0])\n",
        "\n",
        "    # Traverse remaining array and find first and second\n",
        "    # largest elements in overall array\n",
        "    for i in range(2, n):\n",
        "\n",
        "        # If current element is greater than first then\n",
        "        # update both first and second\n",
        "        if arr[i] > first:\n",
        "            second = first\n",
        "            first = arr[i]\n",
        "        elif arr[i] > second:\n",
        "            # If arr[i] is in between first and second then\n",
        "            # update second\n",
        "            second = arr[i]\n",
        "\n",
        "    return first + second\n",
        "\n",
        "# Driver program to test above function\n",
        "arr = [12, 34, 10, 6, 40]\n",
        "print(\"Max Pair Sum is\", find_largest_sum_pair(arr))"
      ]
    }
  ]
}