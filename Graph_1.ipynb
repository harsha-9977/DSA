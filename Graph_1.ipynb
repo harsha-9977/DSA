{
  "nbformat": 4,
  "nbformat_minor": 0,
  "metadata": {
    "colab": {
      "provenance": [],
      "authorship_tag": "ABX9TyPlkMqMMXTIJTGZQFEGQVRM",
      "include_colab_link": true
    },
    "kernelspec": {
      "name": "python3",
      "display_name": "Python 3"
    },
    "language_info": {
      "name": "python"
    }
  },
  "cells": [
    {
      "cell_type": "markdown",
      "metadata": {
        "id": "view-in-github",
        "colab_type": "text"
      },
      "source": [
        "<a href=\"https://colab.research.google.com/github/harsha-9977/DSA/blob/main/Graph_1.ipynb\" target=\"_parent\"><img src=\"https://colab.research.google.com/assets/colab-badge.svg\" alt=\"Open In Colab\"/></a>"
      ]
    },
    {
      "cell_type": "code",
      "execution_count": 4,
      "metadata": {
        "id": "B25T6uiI97yH",
        "colab": {
          "base_uri": "https://localhost:8080/"
        },
        "outputId": "68cf8f27-040d-430e-8eef-f0193cc83353"
      },
      "outputs": [
        {
          "output_type": "stream",
          "name": "stdout",
          "text": [
            "5 3\n",
            "0 1\n",
            "2 3\n",
            "0 4\n",
            "6\n"
          ]
        }
      ],
      "source": [
        "# Journey to the Moon\n",
        "\n",
        "def dfs(start, graph, visited):\n",
        "  stack = [start]\n",
        "  visited[start] = True\n",
        "  count = 0\n",
        "\n",
        "  while stack:\n",
        "    curr = stack.pop()\n",
        "    count += 1\n",
        "\n",
        "    for neighbor in graph[curr]:\n",
        "      if not visited[neighbor]:\n",
        "        stack.append(neighbor)\n",
        "        visited[neighbor] = True\n",
        "  return count\n",
        "\n",
        "\n",
        "def main():\n",
        "  n, p = map(int, input().split())\n",
        "\n",
        "  graph = [[] for i in range(n)]\n",
        "  for i in range(p):\n",
        "    u, v = map(int, input().split())\n",
        "    graph[u].append(v)\n",
        "    graph[v].append(u)\n",
        "\n",
        "  visited = [False] * n\n",
        "  componentSize = []\n",
        "\n",
        "  for i in range(n):\n",
        "    if not visited[i]:\n",
        "      size = dfs(i, graph, visited)\n",
        "      componentSize.append(size)\n",
        "\n",
        "  total = n * (n-1) // 2\n",
        "  compSize = sum(i * (i-1) // 2 for i in componentSize)\n",
        "\n",
        "  result = total - compSize\n",
        "  print(result)\n",
        "\n",
        "if __name__ == \"__main__\":\n",
        "  main()\n"
      ]
    },
    {
      "cell_type": "code",
      "source": [
        "# Shortest Route Finder in a City\n",
        "from collections import deque\n",
        "\n",
        "def bfs_shortest_path():\n",
        "  q = int(input())\n",
        "\n",
        "  for _ in range(q):\n",
        "    n, m = map(int, input().split())\n",
        "\n",
        "    graph = [[] for _ in range(n+1)]\n",
        "    for i in range(m):\n",
        "      u, v = map(int, input().split())\n",
        "      graph[u].append(v)\n",
        "      graph[v].append(u)\n",
        "\n",
        "    start = int(input())\n",
        "\n",
        "    dist = [-1] * (n+1)\n",
        "\n",
        "    q = deque()\n",
        "\n",
        "    dist[start] = 0\n",
        "    q.append(start)\n",
        "\n",
        "    while q:\n",
        "      curr = q.popleft()\n",
        "\n",
        "      for neighbor in graph[curr]:\n",
        "        if dist[neighbor] == -1:\n",
        "          dist[neighbor] = dist[curr] + 6\n",
        "          q.append(neighbor)\n",
        "\n",
        "    result = []\n",
        "    for i in range(1, n+1):\n",
        "      result.append(str(dist[i]))\n",
        "    print(' '.join(result))\n",
        "\n",
        "bfs_shortest_path()"
      ],
      "metadata": {
        "colab": {
          "base_uri": "https://localhost:8080/"
        },
        "id": "YNooWf-YUFTf",
        "outputId": "fbc204b5-8de2-4b92-af0f-b7264eda0856"
      },
      "execution_count": 5,
      "outputs": [
        {
          "output_type": "stream",
          "name": "stdout",
          "text": [
            "2\n",
            "4 2\n",
            "1 2\n",
            "1 3\n",
            "1\n",
            "0 6 6 -1\n",
            "3 1\n",
            "2 3\n",
            "2\n",
            "-1 0 6\n"
          ]
        }
      ]
    },
    {
      "cell_type": "code",
      "source": [
        "# Edge Removal for Connected Components\n",
        "\n",
        "def dfs(node, graph, visited):\n",
        "  visited[node] = True\n",
        "  for i in graph[node]:\n",
        "    if not visited[i]:\n",
        "      dfs(i, graph, visited)\n",
        "\n",
        "def max_edge_removal():\n",
        "  n, m, k = map(int, input().split())\n",
        "\n",
        "  graph = [[] for _ in range(n+1)]\n",
        "  for i in range(m):\n",
        "    u, v = map(int, input().split())\n",
        "    graph[u].append(v)\n",
        "    graph[v].append(u)\n",
        "\n",
        "  visited = [False] * (n+1)\n",
        "  component = 0\n",
        "  for i in range(1,n+1):\n",
        "    if not visited[i]:\n",
        "      dfs(i, graph, visited)\n",
        "      component += 1\n",
        "\n",
        "  if component > k:\n",
        "    print(-1)\n",
        "    return\n",
        "\n",
        "  result = m - (n-k)\n",
        "  print(result)\n",
        "\n",
        "max_edge_removal()"
      ],
      "metadata": {
        "colab": {
          "base_uri": "https://localhost:8080/"
        },
        "id": "_LvmqE8icVeh",
        "outputId": "bbd3c955-623f-4475-a5ab-32f6c61eaa95"
      },
      "execution_count": 7,
      "outputs": [
        {
          "output_type": "stream",
          "name": "stdout",
          "text": [
            "5 5 3\n",
            "1 2\n",
            "1 3\n",
            "2 3\n",
            "4 5\n",
            "5 1\n",
            "3\n"
          ]
        }
      ]
    },
    {
      "cell_type": "code",
      "source": [
        "# Finding a Mother Vertex in a Graph\n",
        "\n",
        "def dfs(node, graph, visited):\n",
        "  visited[node] = True\n",
        "  for neighbor in graph[node]:\n",
        "    if not visited[neighbor]:\n",
        "      dfs(neighbor, graph, visited)\n",
        "\n",
        "def find_mom_vertex():\n",
        "  n, m = map(int, input().split())\n",
        "\n",
        "  graph = [[] for _ in range(n)]\n",
        "  for i in range(m):\n",
        "    u, v = map(int, input().split())\n",
        "    graph[u].append(v)\n",
        "\n",
        "  visited = [False] * n\n",
        "  last_v = 0\n",
        "\n",
        "  for i in range(n):\n",
        "    if not visited[i]:\n",
        "      dfs(i, graph, visited)\n",
        "      last_v = i\n",
        "\n",
        "  visited = [False] * n\n",
        "  dfs(last_v, graph, visited)\n",
        "\n",
        "  if all(visited):\n",
        "    print(last_v)\n",
        "  else:\n",
        "    print(-1)\n",
        "\n",
        "find_mom_vertex()"
      ],
      "metadata": {
        "colab": {
          "base_uri": "https://localhost:8080/"
        },
        "id": "p8MBaC-WnBMB",
        "outputId": "e21ebd47-5451-4965-e83f-15d7da7deb2f"
      },
      "execution_count": 8,
      "outputs": [
        {
          "output_type": "stream",
          "name": "stdout",
          "text": [
            "5 5\n",
            "0 1\n",
            "0 2\n",
            "1 3\n",
            "2 3\n",
            "3 4\n",
            "0\n"
          ]
        }
      ]
    },
    {
      "cell_type": "code",
      "source": [
        "# Identifying Cycles in Urban Road Networks\n",
        "\n",
        "def has_cycle(graph, node, visited, parent):\n",
        "  visited[node] = True\n",
        "  for i in graph[node]:\n",
        "    if not visited[i]:\n",
        "      if has_cycle(graph, i, visited, parent):\n",
        "        return True\n",
        "      elif parent != i:\n",
        "        return True\n",
        "  return False\n",
        "\n",
        "def detect_cycle():\n",
        "  n, m = map(int, input().split())\n",
        "\n",
        "  graph = [[] for _ in range(n)]\n",
        "  for i in range(m):\n",
        "    u, v = map(int, input().split())\n",
        "    graph[u].append(v)\n",
        "\n",
        "  visited = [False] * n\n",
        "  for i in range(n):\n",
        "    if not visited[i]:\n",
        "      if has_cycle(graph, i, visited, -1):\n",
        "        print(\"Cycle Detected\")\n",
        "        return\n",
        "  print(\"No Cycle Detected\")\n",
        "\n",
        "detect_cycle()"
      ],
      "metadata": {
        "colab": {
          "base_uri": "https://localhost:8080/"
        },
        "id": "xQtPteX1qsDT",
        "outputId": "196a6b64-930d-4718-9608-0dd78108d1c6"
      },
      "execution_count": 9,
      "outputs": [
        {
          "output_type": "stream",
          "name": "stdout",
          "text": [
            "4 4\n",
            "0 1\n",
            "1 2\n",
            "2 0 \n",
            "2 3\n",
            "Cycle Detected\n"
          ]
        }
      ]
    },
    {
      "cell_type": "code",
      "source": [
        "# Couning islands\n",
        "\n",
        "def dfs(matrix, i, j, n, m):\n",
        "  if i<0 or i>=n or j<0 or j>=m or matrix[i][j] == 0:\n",
        "    return\n",
        "  matrix[i][j] = 0\n",
        "  dfs(matrix, i+1, j, n, m)\n",
        "  dfs(matrix, i-1, j, n, m)\n",
        "  dfs(matrix, i, j+1, n, m)\n",
        "  dfs(matrix, i, j-1, n, m)\n",
        "\n",
        "def count_islands():\n",
        "  n, m = map(int, input().split())\n",
        "  matrix = [list(map(int, input().split())) for _ in range(n)]\n",
        "\n",
        "  count = 0\n",
        "\n",
        "  for i in range(n):\n",
        "    for j in range(m):\n",
        "      if matrix[i][j] == 1:\n",
        "        dfs(matrix, i, j, n, m)\n",
        "        count += 1\n",
        "  print(count)\n",
        "\n",
        "count_islands()"
      ],
      "metadata": {
        "colab": {
          "base_uri": "https://localhost:8080/"
        },
        "id": "bGRHrLAFt1VD",
        "outputId": "4525712a-04fc-4708-95bf-b34191b1cc45"
      },
      "execution_count": 11,
      "outputs": [
        {
          "output_type": "stream",
          "name": "stdout",
          "text": [
            "4 5 \n",
            "1 1 0 0 0\n",
            "1 0 0 1 1\n",
            "0 0 0 1 0\n",
            "0 1 1 0 0\n",
            "3\n"
          ]
        }
      ]
    }
  ]
}