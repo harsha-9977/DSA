{
  "nbformat": 4,
  "nbformat_minor": 0,
  "metadata": {
    "colab": {
      "provenance": []
    },
    "kernelspec": {
      "name": "python3",
      "display_name": "Python 3"
    },
    "language_info": {
      "name": "python"
    }
  },
  "cells": [
    {
      "cell_type": "code",
      "execution_count": null,
      "metadata": {
        "colab": {
          "base_uri": "https://localhost:8080/"
        },
        "id": "swPzserPkONj",
        "outputId": "a2970e44-3539-4f6e-d8c7-d1ceda89f558"
      },
      "outputs": [
        {
          "output_type": "stream",
          "name": "stdout",
          "text": [
            "[[1, 4], [6, 8], [9, 10]]\n"
          ]
        }
      ],
      "source": [
        "# MergeOverlap\n",
        "def mergedOverlaps(arr):\n",
        "  arr.sort(key = lambda x : x[0])\n",
        "\n",
        "  merged = [arr[0]]\n",
        "\n",
        "  for curr in arr[1:]:\n",
        "    last = merged[-1]\n",
        "\n",
        "    if curr[0] < last[1]:\n",
        "      last[1] = max(last[1],curr[1])\n",
        "    else:\n",
        "      merged.append(curr)\n",
        "  return merged\n",
        "print(mergedOverlaps([[1,3],[2,4],[6,8],[9,10]]))"
      ]
    },
    {
      "cell_type": "code",
      "source": [
        "# Merge Subarrays without extra spaces\n",
        "def next_gap(gap):\n",
        "  if gap <= 1:\n",
        "    return 0\n",
        "  return (gap // 2) + (gap % 2)\n",
        "\n",
        "def mergeArrays(arr1, arr2):\n",
        "  n, m = len(arr1), len(arr2)\n",
        "\n",
        "  gap = next_gap(n + m)\n",
        "\n",
        "  while gap > 0:\n",
        "    i = 0\n",
        "    j = gap\n",
        "\n",
        "    while j < n+m:\n",
        "      # ith iteration\n",
        "      if i < n:\n",
        "        x = arr1[i]\n",
        "      else:\n",
        "        x = arr2[i-n]\n",
        "\n",
        "      # jth iteration\n",
        "      if j < n:\n",
        "        y = arr1[j]\n",
        "      else:\n",
        "        y = arr2[j-n]\n",
        "\n",
        "      if x > y:\n",
        "        if i < n and j < n:\n",
        "          arr1[i], arr1[j] = arr1[j], arr1[i]\n",
        "        elif i < n and j >= n:\n",
        "          arr1[i], arr2[j-n] = arr2[j-n], arr1[i]\n",
        "        else:\n",
        "          arr2[j-n], arr2[i-n] = arr2[i-n], arr2[j-n]\n",
        "      i += 1\n",
        "      j += 1\n",
        "    gap = next_gap(gap)\n",
        "  return arr1,arr2\n",
        "\n",
        "print(mergeArrays([1, 5, 9, 10, 15, 20], [2, 3, 8, 13, 0, 3, 56]))"
      ],
      "metadata": {
        "colab": {
          "base_uri": "https://localhost:8080/"
        },
        "id": "VOmzhaCmdARR",
        "outputId": "b5a1d12e-c852-4365-c4d6-834ab21056b7"
      },
      "execution_count": null,
      "outputs": [
        {
          "output_type": "stream",
          "name": "stdout",
          "text": [
            "([0, 1, 2, 3, 3, 5], [8, 9, 13, 10, 15, 20, 56])\n"
          ]
        }
      ]
    },
    {
      "cell_type": "code",
      "source": [
        "# merge and sort two arrays using mergesort\n",
        "def merge(arr1,arr2):\n",
        "  i = j = 0\n",
        "  merged = []\n",
        "\n",
        "  while i < len(arr1) and j < len(arr2):\n",
        "    if arr1[i] < arr2[j]:\n",
        "      merged.append(arr1[i])\n",
        "      i += 1\n",
        "    else:\n",
        "      merged.append(arr2[j])\n",
        "      j += 1\n",
        "  merged += arr1[i:]\n",
        "  merged += arr2[j:]\n",
        "\n",
        "  return merged\n",
        "def mergeSort(arr1,arr2):\n",
        "  a = (arr1 + arr2)\n",
        "  def messi(a):\n",
        "    if len(a) <= 1:\n",
        "      return a\n",
        "    mid = len(a) // 2\n",
        "\n",
        "    left = messi(a[:mid])\n",
        "    right = messi(a[mid:])\n",
        "    return merge(left,right)\n",
        "  return messi(a)\n",
        "\n",
        "\n",
        "print(mergeSort([1, 5, 9, 10, 15, 20], [2, 3, 8, 13, 0, 3, 56]))"
      ],
      "metadata": {
        "colab": {
          "base_uri": "https://localhost:8080/"
        },
        "id": "lprtMybaf07R",
        "outputId": "3659db95-e762-4419-9dc0-b2b92ca1c1ae"
      },
      "execution_count": null,
      "outputs": [
        {
          "output_type": "stream",
          "name": "stdout",
          "text": [
            "[0, 1, 2, 3, 3, 5, 8, 9, 10, 13, 15, 20, 56]\n"
          ]
        }
      ]
    },
    {
      "cell_type": "code",
      "source": [
        "# Majority element\n",
        "def majorityElement(arr):\n",
        "  count = 0\n",
        "  candidate = None\n",
        "\n",
        "  for i in arr:\n",
        "    if count == 0:\n",
        "      candidate = i\n",
        "    count += 1 if candidate == i else -1\n",
        "\n",
        "  if arr.count(candidate) > len(arr) // 2:\n",
        "    return candidate\n",
        "  else:\n",
        "    return -1\n",
        "print(majorityElement([1, 1, 2, 1, 3, 5, 1]))\n",
        "print(majorityElement([7]))\n",
        "print(majorityElement([2, 13]))"
      ],
      "metadata": {
        "colab": {
          "base_uri": "https://localhost:8080/"
        },
        "id": "YrnhxyGlm5pw",
        "outputId": "4e05e835-9d24-4aaf-b269-7a50ea520d16"
      },
      "execution_count": null,
      "outputs": [
        {
          "output_type": "stream",
          "name": "stdout",
          "text": [
            "1\n",
            "7\n",
            "-1\n"
          ]
        }
      ]
    },
    {
      "cell_type": "code",
      "source": [
        "# Peak Element\n",
        "def peakElement(arr):\n",
        "  low = 0\n",
        "  high = len(arr) - 1\n",
        "\n",
        "  while low <= high:\n",
        "    mid = low + (high - low) // 2\n",
        "\n",
        "    left = arr[mid - 1] if mid > 0 else float('-inf')\n",
        "    right = arr[mid + 1] if mid < len(arr) - 1 else float('-inf')\n",
        "\n",
        "    if arr[mid] >= left and arr[mid] >= right:\n",
        "      return mid\n",
        "    elif arr[mid] <= left:\n",
        "      high = mid - 1\n",
        "    else:\n",
        "      low = mid + 1\n",
        "  return -1\n",
        "print(peakElement([1, 2, 4, 5, 7, 8, 3]))\n",
        "print(peakElement([10, 20, 15, 2, 23, 90, 80]))\n"
      ],
      "metadata": {
        "colab": {
          "base_uri": "https://localhost:8080/"
        },
        "id": "lCrqyOxXtH4C",
        "outputId": "02841a85-b437-4af4-fc41-658b130df737"
      },
      "execution_count": null,
      "outputs": [
        {
          "output_type": "stream",
          "name": "stdout",
          "text": [
            "5\n",
            "1\n"
          ]
        }
      ]
    },
    {
      "cell_type": "code",
      "source": [
        "# Count Triangles\n",
        "def countTriangle(arr):\n",
        "  arr.sort()\n",
        "  count = 0\n",
        "  n = len(arr)\n",
        "  for i in range(n-2):\n",
        "    k = i + 2\n",
        "    for j in range(i+1,n-1):\n",
        "      k = max(k,j+1)\n",
        "      while k < n and arr[i] + arr[j] > arr[k]:\n",
        "        k += 1\n",
        "      count += k - j - 1\n",
        "  return count\n",
        "print(countTriangle([28, 4, 33, 38, 0, 45]))"
      ],
      "metadata": {
        "colab": {
          "base_uri": "https://localhost:8080/"
        },
        "id": "oqmuhlVZyB6G",
        "outputId": "b444fa1f-5c41-4f21-cd35-c4e154be24a4"
      },
      "execution_count": null,
      "outputs": [
        {
          "output_type": "stream",
          "name": "stdout",
          "text": [
            "4\n"
          ]
        }
      ]
    },
    {
      "cell_type": "code",
      "source": [
        "# Indexes of subarray sum\n",
        "def subarraySum(arr,target):\n",
        "  curr_sum = 0\n",
        "  start = 0\n",
        "\n",
        "  for end in range(len(arr)):\n",
        "    curr_sum += arr[end]\n",
        "\n",
        "    while curr_sum > target and start <= end:\n",
        "      curr_sum -= arr[start]\n",
        "      start += 1\n",
        "    if curr_sum == target:\n",
        "      return [start+1,end+1]\n",
        "  return [-1]\n",
        "print(subarraySum([1, 2, 3, 4, 5, 6, 7, 8, 9, 10],15))"
      ],
      "metadata": {
        "colab": {
          "base_uri": "https://localhost:8080/"
        },
        "id": "3l8MfCYd4jUw",
        "outputId": "83de90a6-0558-42b2-cb23-0a0c1da06f56"
      },
      "execution_count": null,
      "outputs": [
        {
          "output_type": "stream",
          "name": "stdout",
          "text": [
            "[1, 5]\n"
          ]
        }
      ]
    },
    {
      "cell_type": "code",
      "source": [
        "# Largest Subarray of 0's and 1's\n",
        "def maxLen(arr):\n",
        "  for i in range(len(arr)):\n",
        "    if arr[i] == 0:\n",
        "      arr[i] = -1\n",
        "  maxLen = 0\n",
        "  prefix_sum = 0\n",
        "  hashMap = {}\n",
        "\n",
        "  for i in range(len(arr)):\n",
        "    prefix_sum += arr[i]\n",
        "\n",
        "    if prefix_sum == 0:\n",
        "      maxLen = i + 1\n",
        "\n",
        "    if prefix_sum in hashMap:\n",
        "      maxLen = max(maxLen, i - hashMap[prefix_sum])\n",
        "    else:\n",
        "      hashMap[prefix_sum] = i\n",
        "  return maxLen\n",
        "print(maxLen([1, 0, 1, 1, 1, 0, 0]))"
      ],
      "metadata": {
        "colab": {
          "base_uri": "https://localhost:8080/"
        },
        "id": "9E-7dXTq-WB2",
        "outputId": "4a407e37-7701-434a-ac04-06edec2bb9fb"
      },
      "execution_count": null,
      "outputs": [
        {
          "output_type": "stream",
          "name": "stdout",
          "text": [
            "6\n"
          ]
        }
      ]
    },
    {
      "cell_type": "code",
      "source": [
        "# Longest common sum\n",
        "def longestComSum(a1,a2):\n",
        "  n = len(a1)\n",
        "  diff = [a1[i] - a2[i] for i in range(n)]\n",
        "\n",
        "  prefix_sum = 0\n",
        "  maxLen = 0\n",
        "  hashMap = {}\n",
        "\n",
        "  for i in range(n):\n",
        "    prefix_sum += diff[i]\n",
        "\n",
        "    if prefix_sum == 0:\n",
        "      maxLen = i + 1\n",
        "    if prefix_sum in hashMap:\n",
        "      maxLen = max(maxLen, i - hashMap[prefix_sum])\n",
        "    else:\n",
        "      hashMap[prefix_sum] = i\n",
        "  return maxLen\n",
        "print(longestComSum( [0, 1, 0, 0, 0, 0],[1, 0, 1, 0, 0, 1]))"
      ],
      "metadata": {
        "colab": {
          "base_uri": "https://localhost:8080/"
        },
        "id": "Xnla3wP1DbvK",
        "outputId": "19621b05-f948-481f-f387-a2f049268c93"
      },
      "execution_count": null,
      "outputs": [
        {
          "output_type": "stream",
          "name": "stdout",
          "text": [
            "4\n"
          ]
        }
      ]
    },
    {
      "cell_type": "code",
      "source": [
        "from re import findall\n",
        "# All pairs with given sum\n",
        "from collections import defaultdict\n",
        "\n",
        "def findAllPairs(arr,target):\n",
        "  value_index = defaultdict(list)\n",
        "  result = []\n",
        "\n",
        "  for idx, val in enumerate(arr):\n",
        "    complement = target - val\n",
        "    if complement in value_index:\n",
        "      for index in value_index[complement]:\n",
        "        result.append([index,idx])\n",
        "    value_index[val].append(idx)\n",
        "  result.sort()\n",
        "  return result\n",
        "print(findAllPairs([10, 20, 30, 20, 10, 30], 50))\n"
      ],
      "metadata": {
        "colab": {
          "base_uri": "https://localhost:8080/"
        },
        "id": "FVjoYRbPPTBY",
        "outputId": "62546580-a1b6-4c2b-cee7-8b3f9e82a650"
      },
      "execution_count": null,
      "outputs": [
        {
          "output_type": "stream",
          "name": "stdout",
          "text": [
            "[[1, 2], [1, 5], [2, 3], [3, 5]]\n"
          ]
        }
      ]
    }
  ]
}