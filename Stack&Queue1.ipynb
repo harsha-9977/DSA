{
  "nbformat": 4,
  "nbformat_minor": 0,
  "metadata": {
    "colab": {
      "provenance": [],
      "authorship_tag": "ABX9TyN3VWd4JiGXXTdosvovNQla",
      "include_colab_link": true
    },
    "kernelspec": {
      "name": "python3",
      "display_name": "Python 3"
    },
    "language_info": {
      "name": "python"
    }
  },
  "cells": [
    {
      "cell_type": "markdown",
      "metadata": {
        "id": "view-in-github",
        "colab_type": "text"
      },
      "source": [
        "<a href=\"https://colab.research.google.com/github/harsha-9977/DSA/blob/main/Stack%26Queue1.ipynb\" target=\"_parent\"><img src=\"https://colab.research.google.com/assets/colab-badge.svg\" alt=\"Open In Colab\"/></a>"
      ]
    },
    {
      "cell_type": "code",
      "execution_count": 2,
      "metadata": {
        "colab": {
          "base_uri": "https://localhost:8080/"
        },
        "id": "udMK2our7UcM",
        "outputId": "8be88191-50bf-4275-eff8-083f47bc2520"
      },
      "outputs": [
        {
          "output_type": "stream",
          "name": "stdout",
          "text": [
            "8\n",
            "Push 10\n",
            "Push 20\n",
            "Top\n",
            "20\n",
            "Pop\n",
            "Top\n",
            "10\n",
            "Size\n",
            "1\n",
            "Pop\n",
            "IsEmpty\n",
            "True\n"
          ]
        }
      ],
      "source": [
        "# Stack - Airport Baggage Handling System\n",
        "class Solution:\n",
        "  class Stack:\n",
        "    def __init__(self):\n",
        "      self.arr = []\n",
        "\n",
        "    def push(self,x):\n",
        "      if len(self.arr) < 100:\n",
        "        self.arr.append(x)\n",
        "\n",
        "    def pop(self):\n",
        "      if not self.arr:\n",
        "        print(f\"Stack UnderFlow \\n\")\n",
        "      else:\n",
        "        self.arr.pop()\n",
        "\n",
        "    def top(self):\n",
        "      if self.arr:\n",
        "        print(self.arr[-1])\n",
        "\n",
        "    def isEmpty(self):\n",
        "      print(True if not self.arr else False)\n",
        "\n",
        "    def size(self):\n",
        "      print(len(self.arr))\n",
        "\n",
        "if __name__ == \"__main__\":\n",
        "  n = int(input())\n",
        "\n",
        "\n",
        "\n",
        "  stack = Solution.Stack()\n",
        "\n",
        "  for _ in range(n):\n",
        "    line = input().strip()\n",
        "    if line.startswith(\"Push\"):\n",
        "      x = (int(line.split()[1]))\n",
        "      stack.push(x)\n",
        "    elif line == \"Pop\":\n",
        "      stack.pop()\n",
        "    elif line == \"Top\":\n",
        "      stack.top()\n",
        "    elif line == \"IsEmpty\":\n",
        "      stack.isEmpty()\n",
        "    elif line == \"Size\":\n",
        "      stack.size()"
      ]
    },
    {
      "cell_type": "code",
      "source": [
        "# Stack - Library Book Management System\n",
        "\n",
        "class Solution:\n",
        "  class Stack:\n",
        "    def __init__(self):\n",
        "      self.arr = []\n",
        "\n",
        "    def push(self, x):\n",
        "      if len(self.arr) < 100:\n",
        "        self.arr.append(x)\n",
        "\n",
        "    def pop(self):\n",
        "      if self.arr:\n",
        "        self.arr.pop()\n",
        "\n",
        "    def top(self):\n",
        "      if self.arr:\n",
        "        print(self.arr[-1])\n",
        "\n",
        "    def isEmpty(self):\n",
        "      print(\"false\" if self.arr else \"true\")\n",
        "\n",
        "    def size(self):\n",
        "      print(len(self.arr))\n",
        "\n",
        "if __name__ == \"__main__\":\n",
        "  n = int(input())\n",
        "\n",
        "  stack = Solution.Stack()\n",
        "\n",
        "  for _ in range(n):\n",
        "    line = input().strip()\n",
        "\n",
        "    if line.startswith(\"Push\"):\n",
        "      x = line.split()[1]\n",
        "      stack.push(x)\n",
        "    elif line == \"Pop\":\n",
        "      stack.pop()\n",
        "    elif line == \"Top\":\n",
        "      stack.top()\n",
        "    elif line == \"IsEmpty\":\n",
        "      stack.isEmpty()\n",
        "    elif line == \"Size\":\n",
        "      stack.size()"
      ],
      "metadata": {
        "colab": {
          "base_uri": "https://localhost:8080/"
        },
        "id": "c1sUv-PRJMZ3",
        "outputId": "02d88962-d048-4263-c027-600831d55a84"
      },
      "execution_count": 4,
      "outputs": [
        {
          "output_type": "stream",
          "name": "stdout",
          "text": [
            "7\n",
            "Push HarryPotter\n",
            "Push TheHobbit\n",
            "Top\n",
            "TheHobbit\n",
            "Size\n",
            "2\n",
            "Pop\n",
            "Top\n",
            "HarryPotter\n",
            "IsEmpty\n",
            "false\n"
          ]
        }
      ]
    },
    {
      "cell_type": "code",
      "source": [
        "# Queue - Ticket Booking System\n",
        "class Solution:\n",
        "  class Queue:\n",
        "    def __init__(self,capacity):\n",
        "      self.capacity = capacity\n",
        "      self.arr = [None] * capacity\n",
        "      self.front = 0\n",
        "      self.rear = 0\n",
        "      self.size = 0\n",
        "\n",
        "    def enque(self, name):\n",
        "      if self.capacity == self.size:\n",
        "        print(f\"Queue is full. Cannot add {name}\")\n",
        "        return\n",
        "      self.arr[self.rear] = name\n",
        "      self.rear = (self.rear + 1) % self.capacity\n",
        "      self.size += 1\n",
        "\n",
        "    def deque(self):\n",
        "      if self.size == 0:\n",
        "        print(\"Served Customer: Queue is empty. No customer to serve.\")\n",
        "        return\n",
        "      print(f\"Served Customer: {self.arr[self.front]}\")\n",
        "      self.front = (self.front + 1) % self.capacity\n",
        "      self.size -= 1\n",
        "\n",
        "    def display(self):\n",
        "      if self.size == 0:\n",
        "        print(\"Queue is empty.\")\n",
        "        return\n",
        "      print(\"Current Queue:\", end=\"\")\n",
        "      for i in range(self.size):\n",
        "        print(f\" {self.arr[(self.front + i) % self.capacity]}\", end = \" \")\n",
        "      print()\n",
        "\n",
        "if __name__ == \"__main__\":\n",
        "  capacity = int(input())\n",
        "  n = int(input())\n",
        "\n",
        "  que = Solution.Queue(capacity)\n",
        "\n",
        "  for _ in range(n):\n",
        "    line = input().strip()\n",
        "\n",
        "    if line.startswith(\"ENQUEUE\"):\n",
        "      x = line.split()[1]\n",
        "      que.enque(x)\n",
        "    elif line == \"DEQUEUE\":\n",
        "      que.deque()\n",
        "    elif line == \"DISPLAY\":\n",
        "      que.display()\n",
        ""
      ],
      "metadata": {
        "colab": {
          "base_uri": "https://localhost:8080/"
        },
        "id": "F5HF1xQbSLHT",
        "outputId": "b43d6fb0-48ad-45b1-aa1b-bb1d3d8eae1a"
      },
      "execution_count": 7,
      "outputs": [
        {
          "output_type": "stream",
          "name": "stdout",
          "text": [
            "5\n",
            "6\n",
            "ENQUEUE Alice\n",
            "ENQUEUE Bob\n",
            "DISPLAY\n",
            "Current Queue: Alice  Bob \n",
            "DEQUEUE\n",
            "Served Customer: Alice\n",
            "DISPLAY\n",
            "Current Queue: Bob \n",
            "DEQUEUE\n",
            "Served Customer: Bob\n"
          ]
        }
      ]
    },
    {
      "cell_type": "code",
      "source": [
        "# Queue - Customer Support Ticketing System\n",
        "\n",
        "class Solution:\n",
        "  class Node:\n",
        "    def __init__(self,data):\n",
        "      self.data = data\n",
        "      self.next = None\n",
        "\n",
        "  class LinkedQue:\n",
        "    def __init__(self):\n",
        "      self.front = None\n",
        "      self.rear = None\n",
        "\n",
        "    def enque(self,x):\n",
        "      newNode = Solution.Node(x)\n",
        "\n",
        "      if self.rear is None:\n",
        "        self.rear = self.front = newNode\n",
        "      else:\n",
        "        self.rear.next = newNode\n",
        "        self.rear = newNode\n",
        "\n",
        "    def deque(self):\n",
        "      if self.front is None:\n",
        "        print(\"Queue is empty.\")\n",
        "      print(f\"Processed Ticket: {self.front.data}\")\n",
        "      self.front = self.front.next\n",
        "      if self.front is None:\n",
        "        self.rear = None\n",
        "\n",
        "    def display(self):\n",
        "      if self.front is None:\n",
        "        print(\"Queue is empty.\")\n",
        "      print(\"Current Ticket: \",end = \"\")\n",
        "      curr = self.front\n",
        "      while curr is not None:\n",
        "        print(f\"{curr.data} \",end = \" \")\n",
        "        curr = curr.next\n",
        "      print()\n",
        "\n",
        "if __name__ == \"__main__\":\n",
        "  n = int(input())\n",
        "\n",
        "  q = Solution.LinkedQue()\n",
        "\n",
        "  for i in range(n):\n",
        "    line = input().strip()\n",
        "\n",
        "    if line.startswith(\"ENQUEUE\"):\n",
        "      x = line.split()[1]\n",
        "      q.enque(x)\n",
        "    elif line == \"DEQUEUE\":\n",
        "      q.deque()\n",
        "    elif line == \"DISPLAY\":\n",
        "      q.display()\n",
        "    else:\n",
        "      print(\"Invalid command.\")\n",
        "\n"
      ],
      "metadata": {
        "colab": {
          "base_uri": "https://localhost:8080/"
        },
        "id": "ZTNRRf82onMs",
        "outputId": "144c1e2b-af82-4c6a-e1b2-b717cbb795f0"
      },
      "execution_count": 14,
      "outputs": [
        {
          "output_type": "stream",
          "name": "stdout",
          "text": [
            "6\n",
            "ENQUEUE T1\n",
            "ENQUEUE T2\n",
            "DISPLAY\n",
            "Current Ticket: T1  T2  \n",
            "DEQUEUE\n",
            "Processed Ticket: T1\n",
            "DISPLAY\n",
            "Current Ticket: T2  \n",
            "INVALIDCOMMAND\n",
            "Invalid command.\n"
          ]
        }
      ]
    },
    {
      "cell_type": "code",
      "source": [
        "# Stack - Undo Operation in a Text Editor\n",
        "\n",
        "input = input()\n",
        "\n",
        "stack = []\n",
        "\n",
        "for char in input:\n",
        "  stack.append(char)\n",
        "\n",
        "reversed = ''\n",
        "\n",
        "while stack:\n",
        "  reversed += stack.pop()\n",
        "\n",
        "print(reversed)"
      ],
      "metadata": {
        "colab": {
          "base_uri": "https://localhost:8080/"
        },
        "id": "4OLR3GVnwweY",
        "outputId": "aa6c2590-b169-442d-cc01-6ad2bf45a0b2"
      },
      "execution_count": 15,
      "outputs": [
        {
          "output_type": "stream",
          "name": "stdout",
          "text": [
            "Welcome to the coding world\n",
            "dlrow gnidoc eht ot emocleW\n"
          ]
        }
      ]
    },
    {
      "cell_type": "code",
      "source": [
        "# Stack - Smart Code Editor Bracket Validation System\n",
        "def isBalanced(s):\n",
        "  stack = []\n",
        "\n",
        "  dict = {'}' : '{', ']' : '[', ')':'('}\n",
        "\n",
        "  for i in s:\n",
        "    if i in dict.values():\n",
        "      stack.append(i)\n",
        "    elif i in dict.keys():\n",
        "      if not stack or stack.pop() != dict[i]:\n",
        "        return False\n",
        "  return not stack\n",
        "\n",
        "inp = input()\n",
        "\n",
        "print(\"true\" if isBalanced(inp) else \"false\")\n"
      ],
      "metadata": {
        "colab": {
          "base_uri": "https://localhost:8080/"
        },
        "id": "ThzqnYUN22eX",
        "outputId": "17400ce6-1903-4821-aa62-0e457ad84c6d"
      },
      "execution_count": 1,
      "outputs": [
        {
          "output_type": "stream",
          "name": "stdout",
          "text": [
            "(]\n",
            "false\n"
          ]
        }
      ]
    },
    {
      "cell_type": "code",
      "source": [
        "# Queue - Emergency Room Triage System\n",
        "import heapq\n",
        "class Solution:\n",
        "  class Patient:\n",
        "    def __init__(self,name,severity,order):\n",
        "      self.name = name\n",
        "      self.severity = -severity\n",
        "      self.order = order\n",
        "\n",
        "    def __lt__(self,other):\n",
        "      return (self.severity, self.order) < (other.severity, other.order)\n",
        "\n",
        "  class EmergenyRoom:\n",
        "    def __init__(self):\n",
        "      self.queue = []\n",
        "      self.orderCounter = 0\n",
        "\n",
        "    def enque(self, name, severity):\n",
        "      patient = Solution.Patient(name, int(severity), self.orderCounter)\n",
        "      heapq.heappush(self.queue,patient)\n",
        "      self.orderCounter += 1\n",
        "\n",
        "    def deque(self):\n",
        "      if self.queue:\n",
        "        treated = heapq.heappop(self.queue)\n",
        "        print(f\"Treated Patient: {treated.name}\")\n",
        "      else:\n",
        "        print(\"Queue is empty.\")\n",
        "\n",
        "    def display(self):\n",
        "      if not self.queue:\n",
        "        print(\"Queue is empty\")\n",
        "        return\n",
        "\n",
        "      temp = sorted(self.queue)\n",
        "      print(\"Current Queue: \", end = \"\")\n",
        "      print(\" \".join([f\"{p.name}({-p.severity})\" for p in temp]))\n",
        "\n",
        "if __name__ == \"__main__\":\n",
        "  n = int(input())\n",
        "  er = Solution.EmergenyRoom()\n",
        "\n",
        "  for _ in range(n):\n",
        "    command = input().split()\n",
        "\n",
        "    if command[0] == \"ENQUEUE\":\n",
        "      name = command[1]\n",
        "      sev = command[2]\n",
        "      er.enque(name, sev)\n",
        "    elif command[0] == \"DEQUEUE\":\n",
        "      er.deque()\n",
        "    elif command[0] == \"DISPLAY\":\n",
        "      er.display()"
      ],
      "metadata": {
        "colab": {
          "base_uri": "https://localhost:8080/"
        },
        "id": "8WvIrfTG3ZLB",
        "outputId": "1d25c377-4d3d-437a-d211-2c5db757acf9"
      },
      "execution_count": 6,
      "outputs": [
        {
          "output_type": "stream",
          "name": "stdout",
          "text": [
            "6\n",
            "ENQUEUE John 2\n",
            "ENQUEUE Alice 3\n",
            "ENQUEUE Bob 1\n",
            "DISPLAY\n",
            "Current Queue: Alice(3) John(2) Bob(1)\n",
            "DEQUEUE\n",
            "Treated Patient: Alice\n",
            "DISPLAY\n",
            "Current Queue: John(2) Bob(1)\n"
          ]
        }
      ]
    },
    {
      "cell_type": "code",
      "source": [],
      "metadata": {
        "id": "2jp50VC7NEgo"
      },
      "execution_count": null,
      "outputs": []
    }
  ]
}