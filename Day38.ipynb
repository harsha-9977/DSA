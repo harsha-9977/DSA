{
  "nbformat": 4,
  "nbformat_minor": 0,
  "metadata": {
    "colab": {
      "provenance": [],
      "authorship_tag": "ABX9TyOwOpPWDxm8tlxIcCTKCl7C",
      "include_colab_link": true
    },
    "kernelspec": {
      "name": "python3",
      "display_name": "Python 3"
    },
    "language_info": {
      "name": "python"
    }
  },
  "cells": [
    {
      "cell_type": "markdown",
      "metadata": {
        "id": "view-in-github",
        "colab_type": "text"
      },
      "source": [
        "<a href=\"https://colab.research.google.com/github/harsha-9977/DSA/blob/main/Day38.ipynb\" target=\"_parent\"><img src=\"https://colab.research.google.com/assets/colab-badge.svg\" alt=\"Open In Colab\"/></a>"
      ]
    },
    {
      "cell_type": "code",
      "execution_count": null,
      "metadata": {
        "colab": {
          "base_uri": "https://localhost:8080/"
        },
        "id": "XgY7vjDyI1np",
        "outputId": "9f2dcd98-4ee4-4c16-f52b-63a9c325da51"
      },
      "outputs": [
        {
          "output_type": "stream",
          "name": "stdout",
          "text": [
            "4\n"
          ]
        }
      ],
      "source": [
        "# N meetings in one room\n",
        "def nmeet(start,end):\n",
        "  meetings = list(zip(start,end))\n",
        "  meetings.sort(key = lambda x : x[1])\n",
        "\n",
        "  count = 0\n",
        "  end_time = -1\n",
        "  for s,e in meetings:\n",
        "    if s > end_time:\n",
        "      count += 1\n",
        "      end_time = e\n",
        "  return count\n",
        "print(nmeet([1, 3, 0, 5, 8, 5], [2, 4, 6, 7, 9, 9]))"
      ]
    },
    {
      "cell_type": "code",
      "source": [
        "# minimum platform\n",
        "def minplats(arr,dep):\n",
        "  n = len(arr)\n",
        "  arr.sort()\n",
        "  dep.sort()\n",
        "\n",
        "  i = 1\n",
        "  j = 0\n",
        "\n",
        "  platforms = 1\n",
        "  max_platforms = 1\n",
        "\n",
        "  while i < n and j < n:\n",
        "    if arr[i] <= dep[j]:\n",
        "      platforms += 1\n",
        "      i += 1\n",
        "    else:\n",
        "      platforms -= 1\n",
        "      j += 1\n",
        "    max_platforms = max(platforms,max_platforms)\n",
        "  return max_platforms\n",
        "print(minplats([900, 940, 950, 1100, 1500, 1800], [910, 1200, 1120, 1130, 1900, 2000]))"
      ],
      "metadata": {
        "colab": {
          "base_uri": "https://localhost:8080/"
        },
        "id": "yKXDILVUQ2a2",
        "outputId": "4e21af13-2f7a-4206-f5e4-138e70ecb749"
      },
      "execution_count": null,
      "outputs": [
        {
          "output_type": "stream",
          "name": "stdout",
          "text": [
            "3\n"
          ]
        }
      ]
    },
    {
      "cell_type": "code",
      "source": [
        "# Job sequencing problem\n",
        "def jobsi(profit,deadline):\n",
        "  jobs = sorted(zip(profit,deadline),reverse=True)\n",
        "\n",
        "  max_deadline = max(deadline)\n",
        "  slots = [False] * (max_deadline + 1)\n",
        "\n",
        "  n_jobs = 0\n",
        "  n_profit = 0\n",
        "\n",
        "  for p,d in jobs:\n",
        "    for t in range(min(d,max_deadline),0,-1):\n",
        "      if not slots[t]:\n",
        "        slots[t] = True\n",
        "        n_jobs += 1\n",
        "        n_profit += p\n",
        "        break\n",
        "  return [n_jobs,n_profit]\n",
        "\n",
        "print(jobsi(  [20, 10, 40, 30],[4, 1, 1, 1]))"
      ],
      "metadata": {
        "id": "eGKTlcdfRmWH",
        "colab": {
          "base_uri": "https://localhost:8080/"
        },
        "outputId": "9c6a768b-97f7-4f79-beda-310e1697be55"
      },
      "execution_count": 3,
      "outputs": [
        {
          "output_type": "stream",
          "name": "stdout",
          "text": [
            "[2, 60]\n"
          ]
        }
      ]
    },
    {
      "cell_type": "code",
      "source": [
        "# Fractional knapsack\n",
        "def fknap(val,wt,capacity):\n",
        "  items = [(val[i]/wt[i],val[i],wt[i]) for i in range(len(val))]\n",
        "\n",
        "  items.sort(reverse=True)\n",
        "\n",
        "  total_val = 0\n",
        "\n",
        "  for ratio,v,w in items:\n",
        "    if capacity == 0:\n",
        "      break\n",
        "    if w <= capacity:\n",
        "      total_val += v\n",
        "      capacity -= w\n",
        "    else:\n",
        "      total_val += ratio * capacity\n",
        "      capacity = 0\n",
        "  return round(total_val,6)\n",
        "print(fknap([60, 100, 120],  [10, 20, 30],  50))"
      ],
      "metadata": {
        "colab": {
          "base_uri": "https://localhost:8080/"
        },
        "id": "HhY9oHkABmuy",
        "outputId": "8350f489-9b05-433e-c444-c948cd77eb3f"
      },
      "execution_count": 4,
      "outputs": [
        {
          "output_type": "stream",
          "name": "stdout",
          "text": [
            "240.0\n"
          ]
        }
      ]
    },
    {
      "cell_type": "code",
      "source": [
        "# min number of coins\n",
        "def minParts(N):\n",
        "  denom = [1,2,5,10,20,50,100,200,500,1000]\n",
        "  res = []\n",
        "\n",
        "  for i in range(len(denom)-1,-1,-1):\n",
        "    while N >= denom[i]:\n",
        "      res.append(denom[i])\n",
        "      N -= denom[i]\n",
        "  return res\n",
        "print(minParts(43))"
      ],
      "metadata": {
        "colab": {
          "base_uri": "https://localhost:8080/"
        },
        "id": "pPq_EzBGPiRP",
        "outputId": "bc7bef49-4859-48c8-b6d9-f18d20b333a5"
      },
      "execution_count": 7,
      "outputs": [
        {
          "output_type": "stream",
          "name": "stdout",
          "text": [
            "[20, 20, 2, 1]\n"
          ]
        }
      ]
    },
    {
      "cell_type": "code",
      "source": [
        "# Assign cookies\n",
        "def cooks(g,s):\n",
        "  g.sort()\n",
        "  s.sort()\n",
        "\n",
        "  child,cookie = 0,0\n",
        "\n",
        "  while child < len(g) and cookie < len(s):\n",
        "    if g[child] <= s[cookie]:\n",
        "      child += 1\n",
        "    cookie += 1\n",
        "  return child\n",
        "print(cooks([1,2,3], [1,1]))"
      ],
      "metadata": {
        "colab": {
          "base_uri": "https://localhost:8080/"
        },
        "id": "1TPERWv-VQeq",
        "outputId": "033558d3-146c-4d8f-9192-0f9cff0561bf"
      },
      "execution_count": 10,
      "outputs": [
        {
          "output_type": "stream",
          "name": "stdout",
          "text": [
            "1\n"
          ]
        }
      ]
    }
  ]
}