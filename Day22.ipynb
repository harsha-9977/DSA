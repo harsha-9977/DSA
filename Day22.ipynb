{
  "nbformat": 4,
  "nbformat_minor": 0,
  "metadata": {
    "colab": {
      "provenance": []
    },
    "kernelspec": {
      "name": "python3",
      "display_name": "Python 3"
    },
    "language_info": {
      "name": "python"
    }
  },
  "cells": [
    {
      "cell_type": "code",
      "execution_count": 3,
      "metadata": {
        "colab": {
          "base_uri": "https://localhost:8080/",
          "height": 0
        },
        "id": "iPMVTaXbZm0c",
        "outputId": "85329869-7549-4057-e688-59f2ce2c3e85"
      },
      "outputs": [
        {
          "output_type": "stream",
          "name": "stdout",
          "text": [
            "(1, 5)\n"
          ]
        }
      ],
      "source": [
        "# Shop in Candy Store\n",
        "def candyStore(arr,k):\n",
        "  arr.sort()\n",
        "  i = 0\n",
        "  j = len(arr) - 1\n",
        "  minSum = 0\n",
        "  while i <= j:\n",
        "    minSum += arr[i]\n",
        "    i += 1\n",
        "    j -= k\n",
        "\n",
        "  arr.sort(reverse=True)\n",
        "  i = 0\n",
        "  j = len(arr) - 1\n",
        "  maxSum = 0\n",
        "  while i <= j:\n",
        "    maxSum += arr[i]\n",
        "    i += 1\n",
        "    j -= k\n",
        "  return (minSum, maxSum)\n",
        "print(candyStore([3,2,1,4,5],4))"
      ]
    },
    {
      "cell_type": "code",
      "source": [
        "# happiest triplet\n",
        "def smallestDiffTriplet(a1,b1,c1):\n",
        "  minsum = 0\n",
        "  mindiff = 0\n",
        "\n",
        "  a1.sort()\n",
        "  b1.sort()\n",
        "  c1.sort()\n",
        "\n",
        "  i = j = k = 0\n",
        "\n",
        "  while i < len(a1) and j < len(b1) and k < len(c1):\n",
        "    x,y,z = a1[i], b1[j], c1[k]\n",
        "    curr_min = min(x,y,z)\n",
        "    curr_max = max(x,y,z)\n",
        "\n",
        "    diff = curr_max - min\n",
        "    total = x + y + z\n",
        "\n",
        "    if diff < mindiff or (total < minsum and diff == mindiff):\n",
        "      mindiff = diff\n",
        "      minsum = total\n",
        "      result = [x,y,z]\n",
        "\n",
        "    if curr_min = x:\n",
        "      i += 1\n",
        "    elif curr_min = y:\n",
        "      j += 1\n",
        "    else:\n",
        "      k += 1\n",
        "  return sorted(result,reverse=True)\n",
        "print(smallestDiffTriplet([15, 12, 18, 9] ,  [10, 17, 13, 8] ,  [14, 16 , 11, 5]))"
      ],
      "metadata": {
        "colab": {
          "base_uri": "https://localhost:8080/",
          "height": 0
        },
        "id": "2hfGV9611y7M",
        "outputId": "8516a5ab-3bf6-44e3-e6b9-ed40a0fa4c2e"
      },
      "execution_count": 10,
      "outputs": [
        {
          "output_type": "stream",
          "name": "stdout",
          "text": [
            "[9, 8, 5]\n"
          ]
        }
      ]
    },
    {
      "cell_type": "code",
      "source": [
        "# merge l sorted linked list\n",
        "import heapq\n",
        "class Node:\n",
        "  def __init__(self,data):\n",
        "    self.data = data\n",
        "    self.next = None\n",
        "  def __lt__(self,other):\n",
        "    return self.data < other.data\n",
        "\n",
        "def mergeKsort(arr):\n",
        "  heap = []\n",
        "\n",
        "  for i in arr:\n",
        "    if i:\n",
        "      heapq.heappush(heap,i)\n",
        "\n",
        "  dummy = Node(0)\n",
        "  current = dummy\n",
        "\n",
        "  while heap:\n",
        "    min_node = heapq.heappop(heap)\n",
        "\n",
        "    current.next = min_node\n",
        "    current = current.next\n",
        "\n",
        "    if min_node.next:\n",
        "      heapq.heappush(heap,min_node.next)\n",
        "\n",
        "  return dummy.next\n",
        "\n",
        "def build_linked_list(values):\n",
        "  if not values:\n",
        "    return None\n",
        "\n",
        "  head = Node(values[0])\n",
        "  current = head\n",
        "\n",
        "  for i in values[1:]:\n",
        "    current.next = Node(i)\n",
        "    current = current.next\n",
        "  return head\n",
        "\n",
        "def print_linked_list(head):\n",
        "  while head:\n",
        "    print(head.data, end = \" -> \" if head.next else \"\")\n",
        "    head = head.next\n",
        "  print()\n",
        "\n",
        "\n",
        "arr = [\n",
        "    build_linked_list([7,8,9]),\n",
        "    build_linked_list([5,6]),\n",
        "    build_linked_list([4,5]),\n",
        "    build_linked_list([1,2,3])\n",
        "]\n",
        "print_linked_list(mergeKsort(arr))"
      ],
      "metadata": {
        "colab": {
          "base_uri": "https://localhost:8080/",
          "height": 0
        },
        "id": "NcjnBox3ety2",
        "outputId": "132e7247-565e-4fb0-fc9f-2bc5ebb78d93"
      },
      "execution_count": 9,
      "outputs": [
        {
          "output_type": "stream",
          "name": "stdout",
          "text": [
            "1 -> 2 -> 3 -> 4 -> 5 -> 5 -> 6 -> 7 -> 8 -> 9\n"
          ]
        }
      ]
    },
    {
      "cell_type": "code",
      "source": [
        "# printUnsorted Index\n",
        "def printUnsorted(arr):\n",
        "  n = len(arr)\n",
        "\n",
        "  l = 0\n",
        "  r = n-1\n",
        "\n",
        "  while l < n-1 and arr[l] <= arr[l+1]:\n",
        "    l += 1\n",
        "\n",
        "  if l == n-1:\n",
        "    return \"Arrays sorted baba\"\n",
        "\n",
        "  while r > 0 and arr[r] >= arr[r-1]:\n",
        "    r -= 1\n",
        "\n",
        "  sub_min = min(arr[l:r+1])\n",
        "  sub_max = max(arr[l:r+1])\n",
        "\n",
        "  while l > 0 and arr[l-1] > sub_min:\n",
        "    l -= 1\n",
        "\n",
        "  while r < n-1 and arr[r+1] < sub_max:\n",
        "\n",
        "    r += 1\n",
        "  return [l,r]\n",
        "print(printUnsorted([0, 1, 15, 25, 6, 7, 30, 40, 50]))"
      ],
      "metadata": {
        "colab": {
          "base_uri": "https://localhost:8080/",
          "height": 0
        },
        "id": "qB0sQKlM2W8z",
        "outputId": "baf6fae3-194d-48f9-9e48-4e7b705dc0c5"
      },
      "execution_count": 6,
      "outputs": [
        {
          "output_type": "stream",
          "name": "stdout",
          "text": [
            "[2, 5]\n"
          ]
        }
      ]
    },
    {
      "cell_type": "code",
      "source": [
        "# Efficiently sorting an array between 0 to n^2-1 range\n",
        "def sort(arr):\n",
        "  n = len(arr)\n",
        "\n",
        "  count = [[] for _ in range(n)]\n",
        "\n",
        "  for i in arr:\n",
        "    count[i%n].append(i)\n",
        "\n",
        "  index = 0\n",
        "  for bucket in count:\n",
        "    for i in bucket:\n",
        "      arr[index] = i\n",
        "      index += 1\n",
        "\n",
        "  count = [[] for _ in range(n)]\n",
        "\n",
        "  for i in arr:\n",
        "    count[i//n].append(i)\n",
        "\n",
        "  index = 0\n",
        "  for bucket in count:\n",
        "    for i in bucket:\n",
        "      arr[index] = i\n",
        "      index += 1\n",
        "  return arr\n",
        "print(sort([40, 12, 45, 32, 33, 1, 22]))\n",
        "print(sort([24, 12, 0, 15, 8]))\n"
      ],
      "metadata": {
        "colab": {
          "base_uri": "https://localhost:8080/",
          "height": 0
        },
        "id": "_rQkb4zhVX5o",
        "outputId": "74fb3bde-d428-4f25-9ca3-67085bcf5406"
      },
      "execution_count": 7,
      "outputs": [
        {
          "output_type": "stream",
          "name": "stdout",
          "text": [
            "[1, 12, 22, 32, 33, 40, 45]\n",
            "[0, 8, 12, 15, 24]\n"
          ]
        }
      ]
    }
  ]
}