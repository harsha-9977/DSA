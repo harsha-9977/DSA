{
  "nbformat": 4,
  "nbformat_minor": 0,
  "metadata": {
    "colab": {
      "provenance": []
    },
    "kernelspec": {
      "name": "python3",
      "display_name": "Python 3"
    },
    "language_info": {
      "name": "python"
    }
  },
  "cells": [
    {
      "cell_type": "code",
      "execution_count": 1,
      "metadata": {
        "id": "BA1BvY03a0AG",
        "colab": {
          "base_uri": "https://localhost:8080/"
        },
        "outputId": "b29168b9-f627-4259-ccf5-6ca0b589bc01"
      },
      "outputs": [
        {
          "output_type": "stream",
          "name": "stdout",
          "text": [
            "[0, 0, 0, 1, 1]\n"
          ]
        }
      ],
      "source": [
        "# Segregate 0 and 1\n",
        "def segregat0and1(arr):\n",
        "  left = 0\n",
        "  right = len(arr) - 1\n",
        "\n",
        "  while left < right:\n",
        "    while arr[left] == 0 and left < right:\n",
        "      left += 1\n",
        "    while arr[right] == 1 and left < right:\n",
        "      right -= 1\n",
        "\n",
        "    if left < right:\n",
        "      arr[left], arr[right] = arr[right], arr[left]\n",
        "      left += 1\n",
        "      right -= 1\n",
        "  return arr\n",
        "print(segregat0and1([0, 0, 1, 1, 0]))"
      ]
    }
  ]
}