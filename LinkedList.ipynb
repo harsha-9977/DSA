{
  "nbformat": 4,
  "nbformat_minor": 0,
  "metadata": {
    "colab": {
      "provenance": [],
      "authorship_tag": "ABX9TyO//v7wuW2FnsjgBPtf3TSj",
      "include_colab_link": true
    },
    "kernelspec": {
      "name": "python3",
      "display_name": "Python 3"
    },
    "language_info": {
      "name": "python"
    }
  },
  "cells": [
    {
      "cell_type": "markdown",
      "metadata": {
        "id": "view-in-github",
        "colab_type": "text"
      },
      "source": [
        "<a href=\"https://colab.research.google.com/github/harsha-9977/DSA/blob/main/LinkedList.ipynb\" target=\"_parent\"><img src=\"https://colab.research.google.com/assets/colab-badge.svg\" alt=\"Open In Colab\"/></a>"
      ]
    },
    {
      "cell_type": "code",
      "execution_count": 16,
      "metadata": {
        "colab": {
          "base_uri": "https://localhost:8080/"
        },
        "id": "hyKR-bE1YA_p",
        "outputId": "57358284-0570-4e55-c7ba-9601def0a028"
      },
      "outputs": [
        {
          "output_type": "stream",
          "name": "stdout",
          "text": [
            "5\n",
            "101 102 103 104 105\n",
            "101 102 103 104 105 "
          ]
        }
      ],
      "source": [
        "# Product id insertion in inventory\n",
        "class Solution:\n",
        "  class Node:\n",
        "    def __init__(self,data):\n",
        "      self.data = data\n",
        "      self.next = None\n",
        "\n",
        "  class LinkedList:\n",
        "    def __init__(self):\n",
        "      self.head = None\n",
        "\n",
        "    def insertAtEnd(self,data):\n",
        "      newNode = Solution.Node(data)\n",
        "\n",
        "      if self.head is None:\n",
        "        self.head = newNode\n",
        "      else:\n",
        "        curr = self.head\n",
        "        while curr.next is not None:\n",
        "          curr = curr.next\n",
        "        curr.next = newNode\n",
        "\n",
        "    def printlist(self):\n",
        "        curr = self.head\n",
        "        while curr is not None:\n",
        "          print(curr.data,end=\" \")\n",
        "          curr = curr.next\n",
        "\n",
        "\n",
        "if __name__ == \"__main__\":\n",
        "    n = int(input())\n",
        "\n",
        "    li = Solution.LinkedList();\n",
        "\n",
        "    product_id = list(map(int, input().split()))\n",
        "\n",
        "    if len(product_id) != n:\n",
        "        print(\"n is not matching with product id's\")\n",
        "    else:\n",
        "      for i in product_id:\n",
        "        li.insertAtEnd(i)\n",
        "      li.printlist()\n"
      ]
    },
    {
      "cell_type": "code",
      "source": [
        "# Task id management System\n",
        "class Solution:\n",
        "  class Node:\n",
        "    def __init__(self,data):\n",
        "      self.data = data\n",
        "      self.next = None\n",
        "\n",
        "  class LinkedList:\n",
        "    def __init__(self):\n",
        "      self.head = None\n",
        "\n",
        "    def insertAtBeginning(self, data):\n",
        "      newNode = Solution.Node(data)\n",
        "      newNode.next = self.head\n",
        "      self.head = newNode\n",
        "\n",
        "    def printlist(self):\n",
        "      curr = self.head\n",
        "      while curr is not None:\n",
        "        print(curr.data, end=\" \")\n",
        "        curr = curr.next\n",
        "\n",
        "if __name__ == \"__main__\":\n",
        "  n = int(input())\n",
        "\n",
        "  li = list(map(int, input().split()))\n",
        "\n",
        "  if len(li) != n:\n",
        "    print(\"Bro please!\")\n",
        "  else:\n",
        "    lists = Solution.LinkedList()\n",
        "\n",
        "    for i in li:\n",
        "      lists.insertAtBeginning(i)\n",
        "    lists.printlist()"
      ],
      "metadata": {
        "colab": {
          "base_uri": "https://localhost:8080/"
        },
        "id": "DQ_j7ra_k4RL",
        "outputId": "d6d18588-ba40-4ce0-b59e-e45cd5766611"
      },
      "execution_count": 20,
      "outputs": [
        {
          "output_type": "stream",
          "name": "stdout",
          "text": [
            "4\n",
            "1 2 3 4\n",
            "4 3 2 1 "
          ]
        }
      ]
    },
    {
      "cell_type": "code",
      "source": [
        "# Adding a task at specific position\n",
        "class Solution:\n",
        "  class Node:\n",
        "    def __init__(self,data):\n",
        "      self.data = data\n",
        "      self.next = None\n",
        "\n",
        "  class LinkedList:\n",
        "    def __init__(self):\n",
        "      self.head = None\n",
        "\n",
        "    def insertAtEnd(self,data):\n",
        "      newNode = Solution.Node(data)\n",
        "\n",
        "      if self.head is None:\n",
        "        self.head = newNode\n",
        "      else:\n",
        "        curr = self.head\n",
        "        while curr.next is not None:\n",
        "          curr = curr.next\n",
        "        curr.next = newNode\n",
        "\n",
        "    def insertAtPosition(self, data, pos):\n",
        "      newNode = Solution.Node(data)\n",
        "\n",
        "      if(pos == 0):\n",
        "        newNode.next = self.head\n",
        "        self.head = newNode\n",
        "        return\n",
        "\n",
        "      curr = self.head\n",
        "      count = 0\n",
        "      while curr is not None and count < pos-1:\n",
        "        curr = curr.next\n",
        "        count += 1\n",
        "\n",
        "      if curr is None:\n",
        "        print(\"Ooops! out of bounds\")\n",
        "\n",
        "      newNode.next = curr.next\n",
        "      curr.next = newNode\n",
        "\n",
        "    def printlist(self):\n",
        "      curr = self.head\n",
        "\n",
        "      while curr is not None:\n",
        "        print(curr.data,end= \" \")\n",
        "        curr = curr.next\n",
        "\n",
        "if __name__ == \"__main__\":\n",
        "  n = int(input())\n",
        "\n",
        "  li = list(map(int, input().split()))\n",
        "\n",
        "  if len(li) != n:\n",
        "    print(\"Ahem length\")\n",
        "  else:\n",
        "    lists = Solution.LinkedList()\n",
        "\n",
        "    for i in li:\n",
        "      lists.insertAtEnd(i)\n",
        "\n",
        "    data = int(input())\n",
        "    pos = int(input())\n",
        "\n",
        "    lists.insertAtPosition(data,pos-1)\n",
        "    lists.printlist()"
      ],
      "metadata": {
        "colab": {
          "base_uri": "https://localhost:8080/"
        },
        "id": "ZPMRpsVK4-Mb",
        "outputId": "e35a54d6-284d-4f05-8641-437a1423f0c3"
      },
      "execution_count": 2,
      "outputs": [
        {
          "output_type": "stream",
          "name": "stdout",
          "text": [
            "3\n",
            "1 2 3\n",
            "45\n",
            "1\n",
            "45 1 2 3 "
          ]
        }
      ]
    }
  ]
}