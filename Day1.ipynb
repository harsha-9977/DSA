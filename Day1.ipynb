{
  "nbformat": 4,
  "nbformat_minor": 0,
  "metadata": {
    "colab": {
      "provenance": [],
      "authorship_tag": "ABX9TyNwvrvuGYLvVMB2RCqejppE",
      "include_colab_link": true
    },
    "kernelspec": {
      "name": "python3",
      "display_name": "Python 3"
    },
    "language_info": {
      "name": "python"
    }
  },
  "cells": [
    {
      "cell_type": "markdown",
      "metadata": {
        "id": "view-in-github",
        "colab_type": "text"
      },
      "source": [
        "<a href=\"https://colab.research.google.com/github/harsha-9977/DSA/blob/main/Day1.ipynb\" target=\"_parent\"><img src=\"https://colab.research.google.com/assets/colab-badge.svg\" alt=\"Open In Colab\"/></a>"
      ]
    },
    {
      "cell_type": "code",
      "execution_count": null,
      "metadata": {
        "colab": {
          "base_uri": "https://localhost:8080/"
        },
        "id": "1Z-FrRGG15TR",
        "outputId": "5d3dd493-1ba4-413e-f77b-4744e05e4484"
      },
      "outputs": [
        {
          "output_type": "stream",
          "name": "stdout",
          "text": [
            "false\n",
            "false\n"
          ]
        }
      ],
      "source": [
        "# Even or Odd\n",
        "def isEven(n):\n",
        "  return n % 2 == 0\n",
        "\n",
        "def isEven2(n):\n",
        "  if(n == (n>>1) << 1):\n",
        "    return True\n",
        "  else:\n",
        "    return False\n",
        "\n",
        "def isEven3(n):\n",
        "  if(n & 1 == 0):\n",
        "    return True\n",
        "  else:\n",
        "    return False\n",
        "\n",
        "n = 101\n",
        "if isEven(n):\n",
        "  print(\"true\")\n",
        "else:\n",
        "  print(\"false\")\n",
        "\n",
        "if isEven2(n):\n",
        "  print(\"true\")\n",
        "else:\n",
        "  print(\"false\")\n",
        "\n",
        "if isEven3(n):\n",
        "  print(\"true\")\n",
        "else:\n",
        "  print(\"false\")"
      ]
    },
    {
      "cell_type": "code",
      "source": [
        "# Multiplication table\n",
        "def printTable(n):\n",
        "  for i in range(1,11):\n",
        "    print(f'{n} * {i} = {n*i}')\n",
        "\n",
        "n = 5\n",
        "printTable(n)"
      ],
      "metadata": {
        "colab": {
          "base_uri": "https://localhost:8080/"
        },
        "id": "oAHSbR0M3-i3",
        "outputId": "638b2e66-9b93-44de-c7e3-3d656901594e"
      },
      "execution_count": null,
      "outputs": [
        {
          "output_type": "stream",
          "name": "stdout",
          "text": [
            "5 * 1 = 5\n",
            "5 * 2 = 10\n",
            "5 * 3 = 15\n",
            "5 * 4 = 20\n",
            "5 * 5 = 25\n",
            "5 * 6 = 30\n",
            "5 * 7 = 35\n",
            "5 * 8 = 40\n",
            "5 * 9 = 45\n",
            "5 * 10 = 50\n"
          ]
        }
      ]
    },
    {
      "cell_type": "code",
      "source": [
        "# FindSum\n",
        "def sumOfnNaturalNumbers(n):\n",
        "  return n * (n+1) / 2\n",
        "\n",
        "n = 5\n",
        "\n",
        "print(sumOfnNaturalNumbers(n))"
      ],
      "metadata": {
        "colab": {
          "base_uri": "https://localhost:8080/"
        },
        "id": "f6V2kxJh5plr",
        "outputId": "8d60d797-40ef-474c-9e32-2a98c94f1e1b"
      },
      "execution_count": null,
      "outputs": [
        {
          "output_type": "stream",
          "name": "stdout",
          "text": [
            "15.0\n"
          ]
        }
      ]
    },
    {
      "cell_type": "code",
      "source": [
        "# Square summation\n",
        "def squareSum(n):\n",
        "  return sum([i**2 for i in range(1,n+1)])\n",
        "\n",
        "n = 2\n",
        "squareSum(n)"
      ],
      "metadata": {
        "colab": {
          "base_uri": "https://localhost:8080/"
        },
        "id": "-T-WKFIi7ykq",
        "outputId": "d5ff8f46-6d63-40fd-b7b1-c2921c2f47b1"
      },
      "execution_count": null,
      "outputs": [
        {
          "output_type": "execute_result",
          "data": {
            "text/plain": [
              "5"
            ]
          },
          "metadata": {},
          "execution_count": 11
        }
      ]
    },
    {
      "cell_type": "code",
      "source": [
        "#Swap\n",
        "a = 5\n",
        "b = \"harsha\"\n",
        "print(a,b)\n",
        "a,b = b,a\n",
        "print(a,b)"
      ],
      "metadata": {
        "colab": {
          "base_uri": "https://localhost:8080/"
        },
        "id": "UiL_shwR8_Zs",
        "outputId": "0f8ddfc3-08cb-4f6d-dafb-cc1a47189b50"
      },
      "execution_count": null,
      "outputs": [
        {
          "output_type": "stream",
          "name": "stdout",
          "text": [
            "5 harsha\n",
            "harsha 5\n"
          ]
        }
      ]
    },
    {
      "cell_type": "code",
      "source": [
        "# Finding Closest number to n that is divisible by m\n",
        "def closestNumber(n,m):\n",
        "  q = int(n / m)\n",
        "\n",
        "  n1 = q * m\n",
        "\n",
        "  if(n * m > 0):\n",
        "    n2 = m * (q+1)\n",
        "  else:\n",
        "    n2 = m * (q-1)\n",
        "\n",
        "  if(abs(n - n1) < abs(n - n2)):\n",
        "    return n1\n",
        "  return n2\n",
        "\n",
        "closestNumber(13,4)"
      ],
      "metadata": {
        "colab": {
          "base_uri": "https://localhost:8080/"
        },
        "id": "xooZ_eXL_cBP",
        "outputId": "137adf74-ad35-46fa-c549-449d0d2c7ae8"
      },
      "execution_count": null,
      "outputs": [
        {
          "output_type": "execute_result",
          "data": {
            "text/plain": [
              "12"
            ]
          },
          "metadata": {},
          "execution_count": 14
        }
      ]
    },
    {
      "cell_type": "code",
      "source": [
        "# Dice\n",
        "\n",
        "def dice(n):\n",
        "  return 7-n\n",
        "\n",
        "dice(5)"
      ],
      "metadata": {
        "colab": {
          "base_uri": "https://localhost:8080/"
        },
        "id": "Cfs9eesYASBH",
        "outputId": "bf204fc8-e225-4254-fbb5-0d79364b2c94"
      },
      "execution_count": null,
      "outputs": [
        {
          "output_type": "execute_result",
          "data": {
            "text/plain": [
              "2"
            ]
          },
          "metadata": {},
          "execution_count": 15
        }
      ]
    },
    {
      "cell_type": "code",
      "source": [
        "# Nth term of an AP (a1 + (n-1) * (a2-a1))\n",
        "def nth(a1,a2,n):\n",
        "  return a1 + (n-1) * (a2-a1)\n",
        "\n",
        "nth(2,3,4)"
      ],
      "metadata": {
        "colab": {
          "base_uri": "https://localhost:8080/"
        },
        "id": "uuhmaf8GAc6E",
        "outputId": "6cfc0b9b-b808-430d-e1fb-f44e30bab12e"
      },
      "execution_count": null,
      "outputs": [
        {
          "output_type": "execute_result",
          "data": {
            "text/plain": [
              "5"
            ]
          },
          "metadata": {},
          "execution_count": 16
        }
      ]
    },
    {
      "cell_type": "code",
      "source": [
        "# Sum of digits\n",
        "def sumOfDigits(n):\n",
        "  sum = 0\n",
        "  while n != 0:\n",
        "    last = n % 10\n",
        "    sum += last\n",
        "    n //= 10\n",
        "  return sum\n",
        "\n",
        "def sumOfDigits2(n):\n",
        "  if n == 0:\n",
        "    return 0\n",
        "  return n % 10 + sumOfDigits2(n // 10)\n",
        "\n",
        "def sumOfDigits3(s):\n",
        "  sum = 0\n",
        "  for i in range(len(s)):\n",
        "    digit = ord(s[i]) - ord('0')\n",
        "    sum += digit\n",
        "  return sum\n",
        "\n",
        "print(sumOfDigits(123))\n",
        "print(sumOfDigits2(123))\n",
        "print(sumOfDigits3('123'))"
      ],
      "metadata": {
        "colab": {
          "base_uri": "https://localhost:8080/"
        },
        "id": "dxVdX6xPsFee",
        "outputId": "03aa1818-e6f2-4aac-c8d1-639268d660bd"
      },
      "execution_count": null,
      "outputs": [
        {
          "output_type": "stream",
          "name": "stdout",
          "text": [
            "6\n",
            "6\n",
            "6\n"
          ]
        }
      ]
    },
    {
      "cell_type": "code",
      "source": [
        "# Reverse\n",
        "\n",
        "def reverse(n):\n",
        "  rev = 0\n",
        "  while n != 0:\n",
        "    ld = n % 10\n",
        "    rev = rev * 10 + ld\n",
        "    n //= 10\n",
        "  return rev\n",
        "\n",
        "def reverse2(n):\n",
        "  s = str(n)\n",
        "\n",
        "  s = list(s)\n",
        "  s.reverse()\n",
        "  s = ''.join(s)\n",
        "\n",
        "  s = int(s)\n",
        "  return s\n",
        "\n",
        "print(reverse(1234))\n",
        "print(reverse2(1234))"
      ],
      "metadata": {
        "colab": {
          "base_uri": "https://localhost:8080/"
        },
        "id": "Rjr00PknuOcc",
        "outputId": "ae2014d6-d769-45a9-e4a9-dd32b1cdd611"
      },
      "execution_count": null,
      "outputs": [
        {
          "output_type": "stream",
          "name": "stdout",
          "text": [
            "4321\n",
            "4321\n"
          ]
        }
      ]
    },
    {
      "cell_type": "code",
      "source": [
        "# prime\n",
        "import math\n",
        "def isPrime(n):\n",
        "  if n <= 0:\n",
        "    return False\n",
        "\n",
        "  for i in range(2, int(math.sqrt(n)) + 1):\n",
        "    if(n % i == 0):\n",
        "      return False\n",
        "  return True\n",
        "\n",
        "print(isPrime(7))\n",
        "print(isPrime(9))\n",
        "\n"
      ],
      "metadata": {
        "colab": {
          "base_uri": "https://localhost:8080/"
        },
        "id": "abYD0HrEw0kg",
        "outputId": "e503cda2-0056-4c6a-e61c-b5a7f8dced72"
      },
      "execution_count": null,
      "outputs": [
        {
          "output_type": "stream",
          "name": "stdout",
          "text": [
            "True\n",
            "False\n"
          ]
        }
      ]
    },
    {
      "cell_type": "code",
      "source": [
        "# Logs\n",
        "import math\n",
        "\n",
        "def log(x,y):\n",
        "  res = math.log(y) / math.log(x)\n",
        "  return res == math.floor(res)\n",
        "\n",
        "print(log(10,1))"
      ],
      "metadata": {
        "colab": {
          "base_uri": "https://localhost:8080/"
        },
        "id": "gwvR8Mriy2NB",
        "outputId": "c1a3561a-91fb-497c-829d-e7c3322b1913"
      },
      "execution_count": null,
      "outputs": [
        {
          "output_type": "stream",
          "name": "stdout",
          "text": [
            "True\n"
          ]
        }
      ]
    },
    {
      "cell_type": "code",
      "source": [
        "# Distance\n",
        "\n",
        "def distance(x1,y1,x2,y2):\n",
        "  return math.sqrt((math.pow(x2-x1,2) + (math.pow(y2-y1,2))))\n",
        "\n",
        "print(distance(3,4,4,3))"
      ],
      "metadata": {
        "colab": {
          "base_uri": "https://localhost:8080/"
        },
        "id": "qaa5rDdO0Ptr",
        "outputId": "0f5893e6-8fc4-4129-d716-b70a1b3860ed"
      },
      "execution_count": null,
      "outputs": [
        {
          "output_type": "stream",
          "name": "stdout",
          "text": [
            "1.4142135623730951\n"
          ]
        }
      ]
    },
    {
      "cell_type": "code",
      "source": [
        "# Triangle validity\n",
        "\n",
        "def triangle(x,y,z):\n",
        "  if (x+y) <= z or (x+z) <= y or (y+z) <= x:\n",
        "    return False\n",
        "  else:\n",
        "    return True\n",
        "\n",
        "print(triangle(7,10,5))"
      ],
      "metadata": {
        "colab": {
          "base_uri": "https://localhost:8080/"
        },
        "id": "5-_VwZtF1GhL",
        "outputId": "13a6ef0e-9a89-4c65-e45b-d159dc82e914"
      },
      "execution_count": null,
      "outputs": [
        {
          "output_type": "stream",
          "name": "stdout",
          "text": [
            "False\n"
          ]
        }
      ]
    },
    {
      "cell_type": "code",
      "source": [
        "# Rectangle Overlap\n",
        "class Point:\n",
        "  def __init__(self,x,y):\n",
        "    self.x = x\n",
        "    self.y = y\n",
        "\n",
        "def overLap(l1,l2,r1,r2):\n",
        "  if l1.x > r2.x or l2.x > r1.x:\n",
        "    return False\n",
        "\n",
        "  if r1.y > l2.y or r2.y > l1.y:\n",
        "    return False\n",
        "\n",
        "  return True\n",
        "\n",
        "\n",
        "l1 = Point(0,10)\n",
        "r1 = Point(10,0)\n",
        "l2 = Point(-10,5)\n",
        "r2 = Point(-1,0)\n",
        "\n",
        "print(overLap(l1,l2,r1,r2))\n"
      ],
      "metadata": {
        "colab": {
          "base_uri": "https://localhost:8080/"
        },
        "id": "ElNfQKTT3RZ7",
        "outputId": "c960fef1-d153-4de6-fed6-722f0d14ffd6"
      },
      "execution_count": null,
      "outputs": [
        {
          "output_type": "stream",
          "name": "stdout",
          "text": [
            "False\n"
          ]
        }
      ]
    },
    {
      "cell_type": "code",
      "source": [
        "# Factorial\n",
        "def fact(n):\n",
        "  if(n == 0):\n",
        "    return 1\n",
        "  return n * fact(n-1)\n",
        "\n",
        "print(fact(5))"
      ],
      "metadata": {
        "colab": {
          "base_uri": "https://localhost:8080/"
        },
        "id": "AFdeLKay58mg",
        "outputId": "8ef61228-b896-436f-b40b-0b095c651160"
      },
      "execution_count": null,
      "outputs": [
        {
          "output_type": "stream",
          "name": "stdout",
          "text": [
            "120\n"
          ]
        }
      ]
    },
    {
      "cell_type": "code",
      "source": [
        "# Cubic Pairs\n",
        "def pairs(n):\n",
        "  count = 0\n",
        "\n",
        "  for a in range(1,int(n ** (1/3)) + 2):\n",
        "    a3 = a ** 3\n",
        "    print(a3)\n",
        "    b3 = n - a3\n",
        "    print(b3)\n",
        "    b = round(abs(b3) ** (1/3))\n",
        "    print(b)\n",
        "\n",
        "    if b > 0 and a3 + b ** 3 == n:\n",
        "      count += 1\n",
        "      print(f\"count is --------- {count}\")\n",
        "  return count\n",
        "\n",
        "print(pairs(28))"
      ],
      "metadata": {
        "colab": {
          "base_uri": "https://localhost:8080/"
        },
        "id": "i0qJr_w08O_g",
        "outputId": "568d3a96-9ff5-4292-9b00-8835a1fc0418"
      },
      "execution_count": null,
      "outputs": [
        {
          "output_type": "stream",
          "name": "stdout",
          "text": [
            "1\n",
            "27\n",
            "3\n",
            "count is --------- 1\n",
            "8\n",
            "20\n",
            "3\n",
            "27\n",
            "1\n",
            "1\n",
            "count is --------- 2\n",
            "64\n",
            "-36\n",
            "3\n",
            "2\n"
          ]
        }
      ]
    },
    {
      "cell_type": "code",
      "source": [
        "# LCM and HCF\n",
        "def hcf(x,y):\n",
        "  return math.gcd(x,y)\n",
        "def lcm(x,y):\n",
        "  return abs(x * y) // math.gcd(x,y)\n",
        "\n",
        "print(f\"HCF : {hcf(12,18)} , LCM : {lcm(12,18)}\")"
      ],
      "metadata": {
        "colab": {
          "base_uri": "https://localhost:8080/"
        },
        "id": "mMc33Q_2CfQ7",
        "outputId": "181a8a15-c408-4864-b999-5bc0f08d94dd"
      },
      "execution_count": null,
      "outputs": [
        {
          "output_type": "stream",
          "name": "stdout",
          "text": [
            "HCF : 6 , LCM : 36\n"
          ]
        }
      ]
    },
    {
      "cell_type": "code",
      "source": [
        "# Perfect number\n",
        "def pn(n):\n",
        "  total = 1\n",
        "\n",
        "  i = 2\n",
        "  while i * i <= n:\n",
        "    if n % i == 0:\n",
        "      total += i\n",
        "      if(i != n // i):\n",
        "        total += n // i\n",
        "    i += 1\n",
        "  return n == total\n",
        "\n",
        "print(pn(28))"
      ],
      "metadata": {
        "colab": {
          "base_uri": "https://localhost:8080/"
        },
        "id": "QA1WlHUzDkjD",
        "outputId": "2b8a5550-a4d3-402a-f8eb-b8f5ddf40cc8"
      },
      "execution_count": null,
      "outputs": [
        {
          "output_type": "stream",
          "name": "stdout",
          "text": [
            "True\n"
          ]
        }
      ]
    },
    {
      "cell_type": "code",
      "source": [
        "# fraction addition\n",
        "def add(a_n,a_d,b_n,b_d):\n",
        "  lcm = a_d * b_d // math.gcd(a_d,b_d)\n",
        "\n",
        "  aa_n = a_n * (lcm // a_d)\n",
        "  bb_n = b_n * (lcm // b_d)\n",
        "\n",
        "  total = aa_n + bb_n\n",
        "\n",
        "  gcd = math.gcd(total,lcm)\n",
        "  return total // gcd , lcm // gcd\n",
        "\n",
        "print(add(1,3,2,5))"
      ],
      "metadata": {
        "colab": {
          "base_uri": "https://localhost:8080/"
        },
        "id": "0EkrfH0MKNr3",
        "outputId": "2764a183-b804-403a-b5de-5a27e47d6b61"
      },
      "execution_count": null,
      "outputs": [
        {
          "output_type": "stream",
          "name": "stdout",
          "text": [
            "(11, 15)\n"
          ]
        }
      ]
    },
    {
      "cell_type": "code",
      "source": [
        "def fb(n):\n",
        "  result = []\n",
        "\n",
        "  mp = {3: \"Fizz\", 5: \"Buzz\"}\n",
        "  divisors = [3,5]\n",
        "\n",
        "  for i in range(1, n+1):\n",
        "    s = \"\"\n",
        "\n",
        "    for d in divisors:\n",
        "      if i % d == 0:\n",
        "        s += mp[d]\n",
        "\n",
        "    if not s:\n",
        "      s += str(i)\n",
        "\n",
        "    result.append(s)\n",
        "\n",
        "  return result\n",
        "\n",
        "print(fb(15))"
      ],
      "metadata": {
        "colab": {
          "base_uri": "https://localhost:8080/"
        },
        "id": "mEG__IWZOp2k",
        "outputId": "c35a0849-17d7-4791-d229-a4aa1e7ad3ed"
      },
      "execution_count": null,
      "outputs": [
        {
          "output_type": "stream",
          "name": "stdout",
          "text": [
            "['1', '2', 'Fizz', '4', 'Buzz', 'Fizz', '7', '8', 'Fizz', 'Buzz', '11', 'Fizz', '13', '14', 'FizzBuzz']\n"
          ]
        }
      ]
    },
    {
      "cell_type": "markdown",
      "source": [],
      "metadata": {
        "id": "Yu0jYRj9Opm8"
      }
    },
    {
      "cell_type": "code",
      "source": [
        "# Days Of Week\n",
        "def dow(d,m,y):\n",
        "  t = [0,3,2,5,0,3,1,4,6,2,4]\n",
        "  y -= m<3\n",
        "\n",
        "  return ((y + y // 4 - y // 100 + y // 400 + t[m-1] + d) % 7)\n",
        "\n",
        "print(dow(1,6,2025))"
      ],
      "metadata": {
        "colab": {
          "base_uri": "https://localhost:8080/"
        },
        "id": "G-IrTGqJUcE-",
        "outputId": "caa51617-c4c7-4c5c-f810-97ce44853e63"
      },
      "execution_count": null,
      "outputs": [
        {
          "output_type": "stream",
          "name": "stdout",
          "text": [
            "0\n"
          ]
        }
      ]
    },
    {
      "cell_type": "code",
      "source": [
        "# Nth fibo\n",
        "def fibo(n):\n",
        "  if n <= 0:\n",
        "    return n\n",
        "\n",
        "  curr = 0\n",
        "  prev1 = 1\n",
        "  prev2 = 0\n",
        "\n",
        "  a = [0]\n",
        "\n",
        "  for i in range(2, n + 1):\n",
        "    curr = prev1 + prev2\n",
        "    a.append(curr)\n",
        "    prev2 = prev1\n",
        "    prev1 = curr\n",
        "  print(a)\n",
        "  return curr\n",
        "\n",
        "print(fibo(6))"
      ],
      "metadata": {
        "colab": {
          "base_uri": "https://localhost:8080/"
        },
        "id": "NzOltsABWfwZ",
        "outputId": "eb638371-1e34-4e2b-ffad-6957a02179d6"
      },
      "execution_count": null,
      "outputs": [
        {
          "output_type": "stream",
          "name": "stdout",
          "text": [
            "[0, 1, 2, 3, 5, 8]\n",
            "8\n"
          ]
        }
      ]
    },
    {
      "cell_type": "code",
      "source": [
        "# Decimal to bin\n",
        "\n",
        "print(bin(12)[2:])\n",
        "print(oct(12)[2:])\n",
        "print(hex(12)[2:])"
      ],
      "metadata": {
        "colab": {
          "base_uri": "https://localhost:8080/"
        },
        "id": "CEqHlzh_Xk1_",
        "outputId": "d746e46b-9774-49a7-8ced-47f4c174809c"
      },
      "execution_count": null,
      "outputs": [
        {
          "output_type": "stream",
          "name": "stdout",
          "text": [
            "1100\n",
            "14\n",
            "c\n"
          ]
        }
      ]
    },
    {
      "cell_type": "code",
      "source": [
        "# Armstrong\n",
        "def arm(n):\n",
        "  num = str(n)\n",
        "  lens = len(num)\n",
        "  output = sum(int(i) ** lens for i in num)\n",
        "\n",
        "  return output == n\n",
        "\n",
        "print(arm(1253))"
      ],
      "metadata": {
        "colab": {
          "base_uri": "https://localhost:8080/"
        },
        "id": "7Y1oVOkhYva_",
        "outputId": "5f08a48f-c1a3-499d-e1c3-f7f175c8a1d3"
      },
      "execution_count": null,
      "outputs": [
        {
          "output_type": "stream",
          "name": "stdout",
          "text": [
            "False\n"
          ]
        }
      ]
    },
    {
      "cell_type": "code",
      "source": [
        "# paline\n",
        "def paline(n):\n",
        "  s = str(abs(n))\n",
        "  l = len(s)\n",
        "\n",
        "  for i in range(1, l // 2):\n",
        "    if s[i] != s[l - i - 1]:\n",
        "      return False\n",
        "  return True\n",
        "\n",
        "print(paline(12321))\n",
        "\n"
      ],
      "metadata": {
        "colab": {
          "base_uri": "https://localhost:8080/"
        },
        "id": "-9t87UCTZTgZ",
        "outputId": "557e9fe8-e4f8-4863-df59-8a7c4eff2c85"
      },
      "execution_count": null,
      "outputs": [
        {
          "output_type": "stream",
          "name": "stdout",
          "text": [
            "True\n"
          ]
        }
      ]
    },
    {
      "cell_type": "code",
      "source": [
        "# sum of digit\n",
        "def sod(n):\n",
        "  if n == 0:\n",
        "    return 0\n",
        "\n",
        "  if n % 9 == 0:\n",
        "     return 9\n",
        "\n",
        "  return n % 9\n",
        "\n",
        "print(sod(1234))"
      ],
      "metadata": {
        "colab": {
          "base_uri": "https://localhost:8080/"
        },
        "id": "ry_C3SVSZ8Ok",
        "outputId": "62096d4b-9191-4d75-b76b-1365a1cf0e7c"
      },
      "execution_count": null,
      "outputs": [
        {
          "output_type": "stream",
          "name": "stdout",
          "text": [
            "1\n"
          ]
        }
      ]
    },
    {
      "cell_type": "code",
      "source": [
        "# SquareRoot\n",
        "def sr(n):\n",
        "  l,r = 1,n\n",
        "  while l <= r:\n",
        "    mid = l + (r - l) // 2\n",
        "    if mid * mid == n:\n",
        "      return mid\n",
        "    elif mid * mid < n:\n",
        "      l = mid + 1\n",
        "      ans = mid\n",
        "    else:\n",
        "      r = mid - 1\n",
        "  return ans\n",
        "\n",
        "print(sr(15))"
      ],
      "metadata": {
        "colab": {
          "base_uri": "https://localhost:8080/"
        },
        "id": "q9BS_68ZnIyg",
        "outputId": "ebe7ee13-04cf-4834-af27-5d25f0f9df62"
      },
      "execution_count": null,
      "outputs": [
        {
          "output_type": "stream",
          "name": "stdout",
          "text": [
            "3\n"
          ]
        }
      ]
    },
    {
      "cell_type": "code",
      "source": [
        "# Exactly 3 divisors\n",
        "def div3(n):\n",
        "  def isPrime(x):\n",
        "    for i in range(2, int(math.sqrt(x)) + 1):\n",
        "      if x % i == 0:\n",
        "        return False\n",
        "    return True\n",
        "\n",
        "  count = []\n",
        "  for i in range(2, int(math.sqrt(n)) + 1):\n",
        "    if isPrime(i):\n",
        "      if i * i <= n:\n",
        "        count.append(i * i)\n",
        "\n",
        "  return count\n",
        "\n",
        "print(div3(16))\n"
      ],
      "metadata": {
        "colab": {
          "base_uri": "https://localhost:8080/"
        },
        "id": "jW84mlFlr4GR",
        "outputId": "d0826c35-2ea3-4654-eb44-6192a090baa7"
      },
      "execution_count": null,
      "outputs": [
        {
          "output_type": "stream",
          "name": "stdout",
          "text": [
            "[4, 9]\n"
          ]
        }
      ]
    },
    {
      "cell_type": "code",
      "source": [
        "# Divisble by 4\n",
        "def d4(n):\n",
        "  s = str(n)\n",
        "\n",
        "  last_two = int(s[-2:])\n",
        "\n",
        "  return last_two % 4 == 0\n",
        "\n",
        "print(d4(363588395960667043875488))"
      ],
      "metadata": {
        "colab": {
          "base_uri": "https://localhost:8080/"
        },
        "id": "1JOt75xXviP2",
        "outputId": "994288f1-fca6-4838-bfb4-6d503ddebccd"
      },
      "execution_count": null,
      "outputs": [
        {
          "output_type": "stream",
          "name": "stdout",
          "text": [
            "True\n"
          ]
        }
      ]
    },
    {
      "cell_type": "code",
      "source": [
        "# Divisible by 11\n",
        "def d11(n):\n",
        "  s = str(n)\n",
        "  oddSum = 0\n",
        "  evenSum = 0\n",
        "\n",
        "  for i in range(len(s)):\n",
        "    if i % 2 == 0:\n",
        "      oddSum += int(s[i])\n",
        "    else:\n",
        "      evenSum += int(s[i])\n",
        "\n",
        "  return (oddSum - evenSum) % 11 == 0\n",
        "\n",
        "print(d11(1234567589333892))"
      ],
      "metadata": {
        "colab": {
          "base_uri": "https://localhost:8080/"
        },
        "id": "JuQvkyThwZz4",
        "outputId": "9d83c299-ff83-42dc-b062-e986a40a4bdb"
      },
      "execution_count": null,
      "outputs": [
        {
          "output_type": "stream",
          "name": "stdout",
          "text": [
            "True\n"
          ]
        }
      ]
    },
    {
      "cell_type": "code",
      "source": [
        "# divisible for any number\n",
        "def div(n):\n",
        "  rem = 0\n",
        "  s = str(n)\n",
        "  for i in s:\n",
        "    rem = (rem * 10 + int(i)) % 13\n",
        "  return rem == 0\n",
        "\n",
        "print(div(83959092724))"
      ],
      "metadata": {
        "colab": {
          "base_uri": "https://localhost:8080/"
        },
        "id": "24TjUJ3qzH6w",
        "outputId": "881d0748-f59b-4c0f-d270-08a7c1c85e49"
      },
      "execution_count": null,
      "outputs": [
        {
          "output_type": "stream",
          "name": "stdout",
          "text": [
            "True\n"
          ]
        }
      ]
    },
    {
      "cell_type": "code",
      "source": [
        "# Kth digit from the right\n",
        "def km(a,b,k):\n",
        "  mod = 10 ** k\n",
        "  print(mod)\n",
        "\n",
        "  d = pow(a,b,mod)\n",
        "  print(d)\n",
        "\n",
        "  s = str(d)\n",
        "  print(s)\n",
        "  return int(s[-k])\n",
        "\n",
        "print(km(5,10,5))"
      ],
      "metadata": {
        "colab": {
          "base_uri": "https://localhost:8080/"
        },
        "id": "t0Mqyg7e1Muf",
        "outputId": "70e96980-cbb7-4590-cc4b-f393dee54943"
      },
      "execution_count": null,
      "outputs": [
        {
          "output_type": "stream",
          "name": "stdout",
          "text": [
            "100000\n",
            "65625\n",
            "65625\n",
            "6\n"
          ]
        }
      ]
    },
    {
      "cell_type": "code",
      "source": [
        "# Fraction to Recurring Decimal\n",
        "def ftord(a,b):\n",
        "  if a == 0:\n",
        "    return '0'\n",
        "\n",
        "  result = []\n",
        "\n",
        "  if a < 0 ^ b < 0:\n",
        "    result.append(\"-\")\n",
        "\n",
        "  a,b = abs(a),abs(b)\n",
        "  result.append(str(a // b))\n",
        "  rem = a % b\n",
        "\n",
        "  if rem == 0:\n",
        "    return ''.join(result)\n",
        "\n",
        "  result.append(\".\")\n",
        "  rem_pos = {}\n",
        "\n",
        "  while rem != 0:\n",
        "    if rem in rem_pos:\n",
        "      result.insert(rem_pos[rem], \"(\")\n",
        "      result.append(\")\")\n",
        "      break\n",
        "\n",
        "    rem_pos[rem] = len(result)\n",
        "    rem *= 10\n",
        "    result.append(str(rem // b))\n",
        "    rem %= b\n",
        "\n",
        "  return ''.join(result)\n",
        "\n",
        "print(ftord(1, 2))     # Output: \"0.5\"\n",
        "print(ftord(50, 22))   # Output: \"2.(27)\"\n",
        "print(ftord(1, 3))     # Output: \"0.(3)\""
      ],
      "metadata": {
        "colab": {
          "base_uri": "https://localhost:8080/"
        },
        "id": "Yh6faIzU7tgU",
        "outputId": "1f38dcd8-ff58-4099-fe9d-9a18eac50c11"
      },
      "execution_count": null,
      "outputs": [
        {
          "output_type": "stream",
          "name": "stdout",
          "text": [
            "0.5\n",
            "2.(27)\n",
            "0.(3)\n"
          ]
        }
      ]
    },
    {
      "cell_type": "code",
      "source": [
        "# Find recurring sequence\n",
        "def rs(x,y):\n",
        "  rem = x % y\n",
        "  result = \"\"\n",
        "  rem_pos = {}\n",
        "  pos = 0\n",
        "\n",
        "  while rem != 0:\n",
        "    if rem in rem_pos:\n",
        "      start = rem_pos[rem]\n",
        "      return \"Recurring Sq : \" + result[start:]\n",
        "\n",
        "    rem_pos[rem] = pos\n",
        "    rem *= 10\n",
        "    result += str(rem // y)\n",
        "    rem %= y\n",
        "    pos += 1\n",
        "\n",
        "  return \"No rec sq\"\n",
        "\n",
        "print(rs(50, 22))  # Output: Recurring sequence is 27\n",
        "print(rs(11, 2))   # Output: No recurring sequence\n",
        "print(rs(8, 3))    # Output: Recurring sequence is 6\n"
      ],
      "metadata": {
        "colab": {
          "base_uri": "https://localhost:8080/"
        },
        "id": "xda3_mET_U08",
        "outputId": "ae0b4e03-b8a8-4c74-b8c7-571280f6b2d1"
      },
      "execution_count": null,
      "outputs": [
        {
          "output_type": "stream",
          "name": "stdout",
          "text": [
            "Recurring Sq : 27\n",
            "No rec sq\n",
            "Recurring Sq : 6\n"
          ]
        }
      ]
    },
    {
      "cell_type": "code",
      "source": [
        "# Pascal triangle\n",
        "def pt(n):\n",
        "  triangle = []\n",
        "\n",
        "  for i in range(n):\n",
        "    row = [1]\n",
        "    if i > 0:\n",
        "      for j in range(1,i):\n",
        "        row.append(triangle[i-1][j-1] + triangle[i-1][j])\n",
        "      row.append(1)\n",
        "    triangle.append(row)\n",
        "\n",
        "  return triangle\n",
        "\n",
        "for row in pt(5):\n",
        "    print(row)\n"
      ],
      "metadata": {
        "colab": {
          "base_uri": "https://localhost:8080/"
        },
        "id": "ZQZuKRLECTYZ",
        "outputId": "60a1de90-c5b4-4d4d-ce37-06abd1c2f3fa"
      },
      "execution_count": null,
      "outputs": [
        {
          "output_type": "stream",
          "name": "stdout",
          "text": [
            "[1]\n",
            "[1, 1]\n",
            "[1, 2, 1]\n",
            "[1, 3, 3, 1]\n",
            "[1, 4, 6, 4, 1]\n"
          ]
        }
      ]
    },
    {
      "cell_type": "code",
      "source": [
        "# All factors\n",
        "\n",
        "def fc(n):\n",
        "  i = 1\n",
        "  while i <= math.sqrt(n):\n",
        "    if n % i == 0:\n",
        "      if n / i == i:\n",
        "        print(i, end = \" \")\n",
        "      else:\n",
        "        print(i, int(n/i), end = \" \")\n",
        "    i += 1\n",
        "fc(100)"
      ],
      "metadata": {
        "colab": {
          "base_uri": "https://localhost:8080/"
        },
        "id": "MXLJuEqpFI_6",
        "outputId": "7639352e-6aab-4eba-d0a1-54259bb6b256"
      },
      "execution_count": null,
      "outputs": [
        {
          "output_type": "stream",
          "name": "stdout",
          "text": [
            "1 100 2 50 4 25 5 20 10 "
          ]
        }
      ]
    },
    {
      "cell_type": "code",
      "source": [
        "# prime factorization\n",
        "\n",
        "def pf(n):\n",
        "  while n % 2 == 0:\n",
        "    print(2, end = \" \")\n",
        "    n //= 2\n",
        "\n",
        "  for i in range(3, int(math.sqrt(n))+1,2):\n",
        "    while n % i == 0:\n",
        "      print(i, end = \" \")\n",
        "      n //= i\n",
        "\n",
        "  if n>2:\n",
        "    print(n, end = \" \")\n",
        "\n",
        "pf(100)"
      ],
      "metadata": {
        "colab": {
          "base_uri": "https://localhost:8080/"
        },
        "id": "sizaHAOVGh_c",
        "outputId": "56c2d946-5661-49af-849a-bda80436b783"
      },
      "execution_count": null,
      "outputs": [
        {
          "output_type": "stream",
          "name": "stdout",
          "text": [
            "2 2 5 5 "
          ]
        }
      ]
    },
    {
      "cell_type": "code",
      "source": [
        "# modular exponentian\n",
        "def me(a,b,m):\n",
        "  result = 1\n",
        "  a = a % m\n",
        "\n",
        "  while b > 0:\n",
        "    if b % 2 == 1:\n",
        "      result = (result * a) % m\n",
        "    a = (a * a) % m\n",
        "    b = b // 2\n",
        "\n",
        "  return result\n",
        "print(me(3, 200, 13))  # Output: (3^200) % 13\n"
      ],
      "metadata": {
        "colab": {
          "base_uri": "https://localhost:8080/"
        },
        "id": "m56WBHJCI6P9",
        "outputId": "ef03bc91-ba82-461b-e64b-a58b9e0da709"
      },
      "execution_count": null,
      "outputs": [
        {
          "output_type": "stream",
          "name": "stdout",
          "text": [
            "9\n"
          ]
        }
      ]
    },
    {
      "cell_type": "code",
      "source": [
        "# Catalan\n",
        "def cat(n):\n",
        "  return math.comb(2*n,n) // (n+1)\n",
        "print(cat(5))"
      ],
      "metadata": {
        "colab": {
          "base_uri": "https://localhost:8080/"
        },
        "id": "3FHGv7wCL6JB",
        "outputId": "82c25ac3-ac1c-4975-a3ba-eaaf7ab86fcc"
      },
      "execution_count": null,
      "outputs": [
        {
          "output_type": "stream",
          "name": "stdout",
          "text": [
            "42\n"
          ]
        }
      ]
    },
    {
      "cell_type": "code",
      "source": [
        "# Power Set\n",
        "def ps(s):\n",
        "  result = [[]]\n",
        "\n",
        "  for element in s:\n",
        "    result += [subset +  [element] for subset in result]\n",
        "\n",
        "  return result\n",
        "\n",
        "print(ps([1,2,3]))"
      ],
      "metadata": {
        "colab": {
          "base_uri": "https://localhost:8080/"
        },
        "id": "VEfXozoNOJFc",
        "outputId": "04cac0e6-1cf2-42ea-a663-4845c91e7bd8"
      },
      "execution_count": null,
      "outputs": [
        {
          "output_type": "stream",
          "name": "stdout",
          "text": [
            "[[], [1], [2], [1, 2], [3], [1, 3], [2, 3], [1, 2, 3]]\n"
          ]
        }
      ]
    }
  ]
}