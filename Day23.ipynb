{
  "nbformat": 4,
  "nbformat_minor": 0,
  "metadata": {
    "colab": {
      "provenance": []
    },
    "kernelspec": {
      "name": "python3",
      "display_name": "Python 3"
    },
    "language_info": {
      "name": "python"
    }
  },
  "cells": [
    {
      "cell_type": "code",
      "execution_count": null,
      "metadata": {
        "colab": {
          "base_uri": "https://localhost:8080/"
        },
        "id": "drBdAjWd-zgL",
        "outputId": "f466ae42-3189-46f8-b173-f32b0a325b9b"
      },
      "outputs": [
        {
          "output_type": "stream",
          "name": "stdout",
          "text": [
            "[2, 2, 1, 1, 8, 8, 3, 5, 6, 7, 9]\n"
          ]
        }
      ],
      "source": [
        "# Sort according to an array\n",
        "from collections import Counter\n",
        "def relativeSort(a1,a2):\n",
        "  freq = Counter(a1)\n",
        "\n",
        "  result = []\n",
        "\n",
        "  seen = set()\n",
        "  for val in a2:\n",
        "    if val in freq and val not in seen:\n",
        "      result.extend([val] * freq[val])\n",
        "      seen.add(val)\n",
        "      del freq[val]\n",
        "\n",
        "  remaining = []\n",
        "  for val in freq:\n",
        "    remaining.extend([val] * freq[val])\n",
        "\n",
        "  result.extend(sorted(remaining))\n",
        "  return result\n",
        "print(relativeSort([2, 1, 2, 5, 7, 1, 9, 3, 6, 8, 8], [2, 1, 8, 3]))"
      ]
    },
    {
      "cell_type": "code",
      "source": [
        "# Maximum intervals overlap\n",
        "def maxGuest(Entry,Exit):\n",
        "  Entry.sort()\n",
        "  Exit.sort()\n",
        "  n = len(Entry)\n",
        "\n",
        "  max_guest = 1\n",
        "  time = Entry[0]\n",
        "\n",
        "  i = 1\n",
        "  j = 0\n",
        "\n",
        "  guest = 1\n",
        "  while i < n and j < n:\n",
        "    if Entry[i] <= Exit[j]:\n",
        "      guest += 1\n",
        "      if guest > max_guest:\n",
        "        max_guest = guest\n",
        "        time = Entry[i]\n",
        "      i += 1\n",
        "    else:\n",
        "      guest -= 1\n",
        "      j += 1\n",
        "  return [max_guest,time]\n",
        "print(maxGuest([1, 2, 10, 5, 5] ,[4, 5, 12, 9, 12]))\n",
        "print(maxGuest([13, 28, 29, 14, 40, 17, 3], [107, 95, 111, 105, 70, 127, 74]))"
      ],
      "metadata": {
        "colab": {
          "base_uri": "https://localhost:8080/"
        },
        "id": "hN-I3Q1rv4jS",
        "outputId": "6ddec9e8-406a-484d-ff8d-c00cd9a3503c"
      },
      "execution_count": 8,
      "outputs": [
        {
          "output_type": "stream",
          "name": "stdout",
          "text": [
            "[3, 5]\n",
            "[7, 40]\n"
          ]
        }
      ]
    }
  ]
}