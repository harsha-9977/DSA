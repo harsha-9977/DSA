{
  "nbformat": 4,
  "nbformat_minor": 0,
  "metadata": {
    "colab": {
      "provenance": [],
      "authorship_tag": "ABX9TyOTG2fD6Gq13pY4dKaYEyZZ",
      "include_colab_link": true
    },
    "kernelspec": {
      "name": "python3",
      "display_name": "Python 3"
    },
    "language_info": {
      "name": "python"
    }
  },
  "cells": [
    {
      "cell_type": "markdown",
      "metadata": {
        "id": "view-in-github",
        "colab_type": "text"
      },
      "source": [
        "<a href=\"https://colab.research.google.com/github/harsha-9977/DSA/blob/main/Day25.ipynb\" target=\"_parent\"><img src=\"https://colab.research.google.com/assets/colab-badge.svg\" alt=\"Open In Colab\"/></a>"
      ]
    },
    {
      "cell_type": "code",
      "execution_count": 1,
      "metadata": {
        "colab": {
          "base_uri": "https://localhost:8080/"
        },
        "id": "GTjL3n7OQvAy",
        "outputId": "09cb2d93-17af-4455-f079-55199b4f39fa"
      },
      "outputs": [
        {
          "output_type": "stream",
          "name": "stdout",
          "text": [
            "True\n"
          ]
        }
      ],
      "source": [
        "# Array subset\n",
        "from collections import Counter\n",
        "def isSubset(a,b):\n",
        "  count_a = Counter(a)\n",
        "  count_b = Counter(b)\n",
        "\n",
        "  for elem in count_b:\n",
        "    if count_b[elem] > count_a.get(elem,0):\n",
        "      return False\n",
        "\n",
        "  return True\n",
        "print(isSubset([11, 7, 1, 13, 21, 3, 7, 3], [11, 3, 7, 1, 7]))"
      ]
    },
    {
      "cell_type": "code",
      "source": [
        "# Array Disjoint\n",
        "def isDisjoint(a,b):\n",
        "  set_a = set(a)\n",
        "\n",
        "  for elem in b:\n",
        "    if elem in set_a:\n",
        "      return False\n",
        "  return True\n",
        "print(isDisjoint([1, 2, 5, 4, 0], [2, 4, 5, 0, 1]))\n",
        "print(isDisjoint([2, 34, 11, 9, 3], [2, 1, 3, 5]))\n",
        "print(isDisjoint([12, 34, 11, 9, 3],  [7, 2, 1, 5]))"
      ],
      "metadata": {
        "colab": {
          "base_uri": "https://localhost:8080/"
        },
        "id": "QMNSOUajbgNw",
        "outputId": "3f47d2e9-116c-49d9-ca3e-73c87091c71b"
      },
      "execution_count": 5,
      "outputs": [
        {
          "output_type": "stream",
          "name": "stdout",
          "text": [
            "False\n",
            "False\n",
            "True\n"
          ]
        }
      ]
    },
    {
      "cell_type": "code",
      "source": [
        "# Check equal arrays\n",
        "def checkEqual(a,b):\n",
        "  return Counter(a) == Counter(b)\n",
        "print(checkEqual([1, 2, 5, 4, 0],  [2, 4, 5, 0, 1]))"
      ],
      "metadata": {
        "colab": {
          "base_uri": "https://localhost:8080/"
        },
        "id": "hh2WzvfceGvP",
        "outputId": "b7887b26-8326-4ed2-daa5-c1a73ba8cc57"
      },
      "execution_count": 8,
      "outputs": [
        {
          "output_type": "stream",
          "name": "stdout",
          "text": [
            "True\n"
          ]
        }
      ]
    },
    {
      "cell_type": "code",
      "source": [
        "# Fizz Buzz if divisible by 3 and 5\n",
        "def fizzBuzz(n):\n",
        "  d = [3,5]\n",
        "  v = {3 : \"Fizz\", 5 : \"Buzz\"}\n",
        "  result = []\n",
        "\n",
        "  for i in range(1,n+1):\n",
        "    st = \"\"\n",
        "\n",
        "    for j in d:\n",
        "      if i % j == 0:\n",
        "        st += v[j]\n",
        "\n",
        "    if not st:\n",
        "      st += str(i)\n",
        "\n",
        "    result.append(st)\n",
        "  return result\n",
        "print(fizzBuzz(15))"
      ],
      "metadata": {
        "colab": {
          "base_uri": "https://localhost:8080/"
        },
        "id": "ykED6k3jg0p0",
        "outputId": "61f22b31-b88b-4286-debb-0a1eba68a15a"
      },
      "execution_count": 10,
      "outputs": [
        {
          "output_type": "stream",
          "name": "stdout",
          "text": [
            "['1', '2', 'Fizz', '4', 'Buzz', 'Fizz', '7', '8', 'Fizz', 'Buzz', '11', 'Fizz', '13', '14', 'FizzBuzz']\n"
          ]
        }
      ]
    },
    {
      "cell_type": "code",
      "source": [
        "# max distance between the same elements\n",
        "def maxDistance(arr):\n",
        "  first_index = {}\n",
        "  max_dist = 0\n",
        "\n",
        "  for i, val in enumerate(arr):\n",
        "    if val in first_index:\n",
        "      max_dist = max(max_dist, i - first_index[val])\n",
        "    else:\n",
        "      first_index[val] = i\n",
        "  return max_dist\n",
        "print(maxDistance([3, 2, 1, 2, 1, 4, 5, 8, 6, 7, 4, 2]))"
      ],
      "metadata": {
        "colab": {
          "base_uri": "https://localhost:8080/"
        },
        "id": "wN1_cW13lVBg",
        "outputId": "4a5a5f6c-eb17-4820-8c43-924f2606ecf9"
      },
      "execution_count": 15,
      "outputs": [
        {
          "output_type": "stream",
          "name": "stdout",
          "text": [
            "10\n"
          ]
        }
      ]
    },
    {
      "cell_type": "code",
      "source": [
        "# kth distance\n",
        "def checkDuplicateInKDist(arr,k):\n",
        "  window = []\n",
        "\n",
        "  for i in range(len(arr)):\n",
        "    if arr[i] in window:\n",
        "      return True\n",
        "\n",
        "    window.append(arr[i])\n",
        "\n",
        "    if len(window) > k:\n",
        "      window.remove(arr[i-k])\n",
        "  return False\n",
        "print(checkDuplicateInKDist([1, 2, 3, 4, 1, 2, 3, 4], 3))\n",
        "print(checkDuplicateInKDist([1, 2, 3, 1, 4, 5], 3))"
      ],
      "metadata": {
        "colab": {
          "base_uri": "https://localhost:8080/"
        },
        "id": "usx1tEOkzF8U",
        "outputId": "398c680a-58c7-4ce5-9f90-74e1c92684bb"
      },
      "execution_count": 17,
      "outputs": [
        {
          "output_type": "stream",
          "name": "stdout",
          "text": [
            "False\n",
            "True\n"
          ]
        }
      ]
    },
    {
      "cell_type": "code",
      "source": [
        "# intersection of an array\n",
        "def intersection(a,b):\n",
        "  return list(set(a) & set(b))\n",
        "print(intersection([1, 2, 1, 3, 1], [3, 1, 3, 4, 1]))"
      ],
      "metadata": {
        "colab": {
          "base_uri": "https://localhost:8080/"
        },
        "id": "Uf5-jazpzq8H",
        "outputId": "8599a645-1a2f-4097-c6f0-e5984540e5a0"
      },
      "execution_count": 20,
      "outputs": [
        {
          "output_type": "stream",
          "name": "stdout",
          "text": [
            "[1, 3]\n"
          ]
        }
      ]
    },
    {
      "cell_type": "code",
      "source": [
        "# union of an array\n",
        "def union(a,b):\n",
        "  return list(set(a) | set(b))\n",
        "print(union([85, 25, 1, 32, 54, 6], [85, 2] ))"
      ],
      "metadata": {
        "colab": {
          "base_uri": "https://localhost:8080/"
        },
        "id": "85OgnJJ61SQn",
        "outputId": "8d1acd3a-4eef-4a14-af78-ebf772864d86"
      },
      "execution_count": 21,
      "outputs": [
        {
          "output_type": "stream",
          "name": "stdout",
          "text": [
            "[32, 1, 2, 85, 6, 54, 25]\n"
          ]
        }
      ]
    },
    {
      "cell_type": "code",
      "source": [
        "# most frequent element in an array\n",
        "def mostFreqEl(arr):\n",
        "  freq = Counter(arr)\n",
        "  max_freq = -1\n",
        "  ans = -float('inf')\n",
        "\n",
        "  for i in freq:\n",
        "    if freq[i] > max_freq:\n",
        "      max_freq = freq[i]\n",
        "      ans = i\n",
        "    elif freq[i] == max_freq:\n",
        "      ans = max(ans,i)\n",
        "  return ans\n",
        "print(mostFreqEl([1, -5, 8, 1]))"
      ],
      "metadata": {
        "colab": {
          "base_uri": "https://localhost:8080/"
        },
        "id": "WxuiAAIq3UeV",
        "outputId": "6967b37a-f218-4d64-a124-9e081bda5dc2"
      },
      "execution_count": 22,
      "outputs": [
        {
          "output_type": "stream",
          "name": "stdout",
          "text": [
            "1\n"
          ]
        }
      ]
    },
    {
      "cell_type": "code",
      "source": [
        "# points on straight line\n",
        "from collections import defaultdict\n",
        "from math import gcd\n",
        "\n",
        "def maxPoints(x,y):\n",
        "  n = len(x)\n",
        "  if n <= 2:\n",
        "    return n\n",
        "\n",
        "  max_points = 0\n",
        "\n",
        "  for i in range(n):\n",
        "    slopes = defaultdict(int)\n",
        "    duplicate = 1\n",
        "\n",
        "    curr_max = 0\n",
        "    for j in range(i+1,n):\n",
        "      dx = x[j] - x[i]\n",
        "      dy = y[j] - y[i]\n",
        "\n",
        "      if dx == 0 and dy == 0:\n",
        "        duplicate += 1\n",
        "      elif dx == 0:\n",
        "        slopes[('inf',0)] += 1\n",
        "        curr_max = max(curr_max,slopes[('inf',0)])\n",
        "      else:\n",
        "        g = gcd(dy,dx)\n",
        "\n",
        "        dy //= g\n",
        "        dx //= g\n",
        "\n",
        "        if dx < 0:\n",
        "          dy *= -1\n",
        "          dx *= -1\n",
        "\n",
        "        slopes[(dy,dx)] += 1\n",
        "        curr_max = max(curr_max,slopes[(dy,dx)])\n",
        "    max_points = max(curr_max + duplicate,max_points)\n",
        "  return max_points\n",
        "print(maxPoints([-5, -3, -20, -3, -9, 14, -1, -20, -8, -20],[12, 16, 7,   4, 11, 16,  7, 12, -4, -1]))"
      ],
      "metadata": {
        "colab": {
          "base_uri": "https://localhost:8080/"
        },
        "id": "2P14Zm6C-iym",
        "outputId": "dbb306fd-6e53-49f8-e8b7-821804e00cc9"
      },
      "execution_count": 25,
      "outputs": [
        {
          "output_type": "stream",
          "name": "stdout",
          "text": [
            "3\n"
          ]
        }
      ]
    },
    {
      "cell_type": "code",
      "source": [
        "# pair with given sum\n",
        "def twosum(arr,target):\n",
        "  seen = set()\n",
        "\n",
        "  for i in arr:\n",
        "    if target - i in seen:\n",
        "      return True\n",
        "    seen.add(i)\n",
        "  return False\n",
        "print(twosum( [1, 4, 45, 6, 10, 8], 16))"
      ],
      "metadata": {
        "colab": {
          "base_uri": "https://localhost:8080/"
        },
        "id": "8emHGBOTD2JP",
        "outputId": "b5de4bfb-32ff-4dcd-9971-05c345d8a239"
      },
      "execution_count": 26,
      "outputs": [
        {
          "output_type": "stream",
          "name": "stdout",
          "text": [
            "True\n"
          ]
        }
      ]
    },
    {
      "cell_type": "code",
      "source": [
        "# 2 sum count pairs\n",
        "def countPairs(arr,target):\n",
        "  freq = defaultdict(int)\n",
        "  count = 0\n",
        "\n",
        "  for i in arr:\n",
        "    complement = target - i\n",
        "    if complement in freq:\n",
        "      count += freq[complement]\n",
        "    freq[i] += 1\n",
        "  return count\n",
        "print(countPairs([1, 1, 1, 1], 2 ))"
      ],
      "metadata": {
        "colab": {
          "base_uri": "https://localhost:8080/"
        },
        "id": "FwNNCOgAF-oR",
        "outputId": "d39a451f-743f-4af9-e26a-b1d0916c4360"
      },
      "execution_count": 27,
      "outputs": [
        {
          "output_type": "stream",
          "name": "stdout",
          "text": [
            "6\n"
          ]
        }
      ]
    },
    {
      "cell_type": "code",
      "source": [
        "# pairs with difference k\n",
        "def countPairs(arr,k):\n",
        "  freq = Counter(arr)\n",
        "  count = 0\n",
        "  visited = set()\n",
        "  for i in freq:\n",
        "    if i + k in freq:\n",
        "      count += freq[i] * freq[i+k]\n",
        "    if k != 0 and (i - k in freq and i - k not in visited):\n",
        "      pass\n",
        "    visited.add(i)\n",
        "  return count\n",
        "print(countPairs([8, 16, 12, 16, 4, 0], 4))"
      ],
      "metadata": {
        "colab": {
          "base_uri": "https://localhost:8080/"
        },
        "id": "1-6StgKvH-bi",
        "outputId": "cae02f47-404e-45a1-94c9-cd03236031be"
      },
      "execution_count": 29,
      "outputs": [
        {
          "output_type": "stream",
          "name": "stdout",
          "text": [
            "5\n"
          ]
        }
      ]
    },
    {
      "cell_type": "code",
      "source": [
        "# count elements\n",
        "def missElements(arr):\n",
        "  if len(arr) <= 1:\n",
        "    return 0\n",
        "  return (max(arr) - min(arr) + 1) - len(set(arr))\n",
        "print(missElements( [205, 173, 102, 324, 957]))"
      ],
      "metadata": {
        "colab": {
          "base_uri": "https://localhost:8080/"
        },
        "id": "uO9Nd8dWKR82",
        "outputId": "66e44f6a-1e07-44da-eca6-d194fb346666"
      },
      "execution_count": 30,
      "outputs": [
        {
          "output_type": "stream",
          "name": "stdout",
          "text": [
            "851\n"
          ]
        }
      ]
    },
    {
      "cell_type": "code",
      "source": [
        "# remove min number of elements\n",
        "def minRemove(arr1,arr2):\n",
        "  count1 = Counter(arr1)\n",
        "  count2 = Counter(arr2)\n",
        "\n",
        "  count = 0\n",
        "  for i in count1:\n",
        "    if i in count2:\n",
        "      count += min(count1[i],count2[i])\n",
        "  return count\n",
        "print(minRemove( [2, 3, 4, 5, 8], [1, 2, 3, 4]))"
      ],
      "metadata": {
        "colab": {
          "base_uri": "https://localhost:8080/"
        },
        "id": "_glqfF9zL-ZZ",
        "outputId": "40d237fd-41d9-4793-8870-390e9c7010ad"
      },
      "execution_count": 31,
      "outputs": [
        {
          "output_type": "stream",
          "name": "stdout",
          "text": [
            "3\n"
          ]
        }
      ]
    }
  ]
}