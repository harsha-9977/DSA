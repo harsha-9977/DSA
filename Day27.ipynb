{
  "nbformat": 4,
  "nbformat_minor": 0,
  "metadata": {
    "colab": {
      "provenance": [],
      "authorship_tag": "ABX9TyNAe7L3qyMyS2U/qhM31Efi",
      "include_colab_link": true
    },
    "kernelspec": {
      "name": "python3",
      "display_name": "Python 3"
    },
    "language_info": {
      "name": "python"
    }
  },
  "cells": [
    {
      "cell_type": "markdown",
      "metadata": {
        "id": "view-in-github",
        "colab_type": "text"
      },
      "source": [
        "<a href=\"https://colab.research.google.com/github/harsha-9977/DSA/blob/main/Day27.ipynb\" target=\"_parent\"><img src=\"https://colab.research.google.com/assets/colab-badge.svg\" alt=\"Open In Colab\"/></a>"
      ]
    },
    {
      "cell_type": "code",
      "execution_count": 1,
      "metadata": {
        "colab": {
          "base_uri": "https://localhost:8080/"
        },
        "id": "FwHx0bcbfeKC",
        "outputId": "384890db-fade-4eb9-e4ac-a612e59040a1"
      },
      "outputs": [
        {
          "output_type": "stream",
          "name": "stdout",
          "text": [
            "5\n"
          ]
        }
      ],
      "source": [
        "# longest subarray sum divisible by k\n",
        "def sub(arr,k):\n",
        "  prefix_sum = 0\n",
        "  mod_map = {0 : -1}\n",
        "  max_len = 0\n",
        "  for i, val in enumerate(arr):\n",
        "    prefix_sum += val\n",
        "    mod = prefix_sum % k\n",
        "\n",
        "    if mod < 0:\n",
        "      mod += k\n",
        "\n",
        "    if mod in mod_map:\n",
        "      max_len = max(max_len, i - mod_map[mod])\n",
        "    else:\n",
        "      mod_map[mod] = i\n",
        "  return max_len\n",
        "print(sub([-2, 2, -5, 12, -11, -1, 7], 3))"
      ]
    },
    {
      "cell_type": "code",
      "source": [
        "# find all triplets with sum zero\n",
        "def findTriplets(arr):\n",
        "  n = len(arr)\n",
        "  triplets = set()\n",
        "  val_to_indi = {}\n",
        "  for i, val in enumerate(arr):\n",
        "    if val in val_to_indi:\n",
        "      val_to_indi[val].append(i)\n",
        "    else:\n",
        "      val_to_indi[val] = [i]\n",
        "\n",
        "  for i in range(n):\n",
        "    for j in range(i+1,n):\n",
        "      target = -(arr[i] + arr[j])\n",
        "      if target in val_to_indi:\n",
        "        for k in val_to_indi[target]:\n",
        "          if k!=j and k!=i and k>j:\n",
        "            triplets.add(tuple(sorted([i,j,k])))\n",
        "  return sorted(list(triplets))\n",
        "print(findTriplets([0, -1, 2, -3, 1]))"
      ],
      "metadata": {
        "colab": {
          "base_uri": "https://localhost:8080/"
        },
        "id": "WG18SQroMrb7",
        "outputId": "67fcc408-efc5-4502-8242-4771052123c2"
      },
      "execution_count": 3,
      "outputs": [
        {
          "output_type": "stream",
          "name": "stdout",
          "text": [
            "[(0, 1, 4), (2, 3, 4)]\n"
          ]
        }
      ]
    },
    {
      "cell_type": "code",
      "source": [
        "# Longest Subarray with Majority Greater than K\n",
        "def maj(arr, k):\n",
        "  n = len(arr)\n",
        "  mapped = [1 if arr[i] > k else -1 for i in range(n)]\n",
        "\n",
        "  max_len = 0\n",
        "  first_occur = {0:-1}\n",
        "  prefix_sum = 0\n",
        "  for i in range(n):\n",
        "    prefix_sum += mapped[i]\n",
        "\n",
        "    if prefix_sum > 0:\n",
        "      max_len = i + 1\n",
        "\n",
        "    else:\n",
        "      if prefix_sum not in first_occur:\n",
        "        first_occur[prefix_sum] = i\n",
        "\n",
        "      if (prefix_sum-1) in first_occur:\n",
        "        max_len = max(max_len, i - first_occur[prefix_sum-1])\n",
        "  return max_len\n",
        "print(maj( [1, 2, 3, 4, 1], 2))"
      ],
      "metadata": {
        "colab": {
          "base_uri": "https://localhost:8080/"
        },
        "id": "r2OaPu0IYtUH",
        "outputId": "292383c7-7528-4576-9275-9a715962a9c5"
      },
      "execution_count": 6,
      "outputs": [
        {
          "output_type": "stream",
          "name": "stdout",
          "text": [
            "3\n"
          ]
        }
      ]
    }
  ]
}