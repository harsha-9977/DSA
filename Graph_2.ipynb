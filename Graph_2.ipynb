{
  "nbformat": 4,
  "nbformat_minor": 0,
  "metadata": {
    "colab": {
      "provenance": [],
      "authorship_tag": "ABX9TyNmS91KALr3ccfButrnzeop",
      "include_colab_link": true
    },
    "kernelspec": {
      "name": "python3",
      "display_name": "Python 3"
    },
    "language_info": {
      "name": "python"
    }
  },
  "cells": [
    {
      "cell_type": "markdown",
      "metadata": {
        "id": "view-in-github",
        "colab_type": "text"
      },
      "source": [
        "<a href=\"https://colab.research.google.com/github/harsha-9977/DSA/blob/main/Graph_2.ipynb\" target=\"_parent\"><img src=\"https://colab.research.google.com/assets/colab-badge.svg\" alt=\"Open In Colab\"/></a>"
      ]
    },
    {
      "cell_type": "code",
      "execution_count": 6,
      "metadata": {
        "colab": {
          "base_uri": "https://localhost:8080/"
        },
        "id": "28IsFNXGq240",
        "outputId": "dcc7fb3d-756f-4b97-d617-adef354e0777"
      },
      "outputs": [
        {
          "output_type": "stream",
          "name": "stdout",
          "text": [
            "Original Graph [[2, 4], [1, 3], [2, 4], [1, 3]]\n",
            "Cloned [[2, 4], [1, 3], [2, 4], [1, 3]]\n"
          ]
        }
      ],
      "source": [
        "# Clone Graph (Deep Copy)\n",
        "class Node:\n",
        "  def __init__(self, val = 0, neighbors = None):\n",
        "    self.val = val\n",
        "    self.neighbors = neighbors if neighbors is not None else []\n",
        "\n",
        "\n",
        "def buildGraph(adjList):\n",
        "  if not adjList:\n",
        "    return None\n",
        "\n",
        "  nodes = [Node(i+1) for i in range(len(adjList))]\n",
        "  for i, neighbors in enumerate(adjList):\n",
        "    nodes[i].neighbors = [nodes[j-1] for j in neighbors]\n",
        "\n",
        "  return nodes[0]\n",
        "\n",
        "def graph_To_adjList(node):\n",
        "  from collections import deque\n",
        "\n",
        "  visited = {}\n",
        "\n",
        "  q = deque([node])\n",
        "\n",
        "  while q:\n",
        "    curr = q.popleft()\n",
        "    if curr not in visited:\n",
        "      visited[curr.val] = [i.val for i in curr.neighbors]\n",
        "      for i in curr.neighbors:\n",
        "        if i.val not in visited:\n",
        "          q.append(i)\n",
        "  return [visited[i] for i in range(1, len(visited)+1)]\n",
        "\n",
        "class Solution:\n",
        "  from typing import Optional\n",
        "  def cloneGraph(self, node: Optional['Node']) -> Optional['Node']:\n",
        "    if not node:\n",
        "      return None\n",
        "\n",
        "    old_to_new = {}\n",
        "\n",
        "    def dfs(curr):\n",
        "      if curr in old_to_new:\n",
        "        return old_to_new[curr]\n",
        "\n",
        "      clone = Node(curr.val)\n",
        "      old_to_new[curr] = clone\n",
        "\n",
        "      for neighbor in curr.neighbors:\n",
        "        clone.neighbors.append(dfs(neighbor))\n",
        "      return clone\n",
        "\n",
        "    return dfs(node)\n",
        "\n",
        "adjList = [[2,4],[1,3],[2,4],[1,3]]\n",
        "graph = buildGraph(adjList)\n",
        "cloned = Solution().cloneGraph(graph)\n",
        "print(\"Original Graph\", adjList)\n",
        "print(\"Cloned\", graph_To_adjList(cloned))"
      ]
    },
    {
      "cell_type": "code",
      "source": [
        "# DFS\n",
        "from typing import List\n",
        "class Solution:\n",
        "  def dfsOfGraph(self, li: List[List[int]]) -> List[int]:\n",
        "    visited = [False] * len(li)\n",
        "    result = []\n",
        "\n",
        "    def dfs(node):\n",
        "      visited[node] = True\n",
        "      result.append(node)\n",
        "\n",
        "      for neighbor in li[node]:\n",
        "        if not visited[neighbor]:\n",
        "          dfs(neighbor)\n",
        "\n",
        "    dfs(0)\n",
        "    return result\n",
        "\n",
        "adj1 = [[2, 3, 1], [0], [0, 4], [0], [2]]\n",
        "print(Solution().dfsOfGraph(adj1))"
      ],
      "metadata": {
        "colab": {
          "base_uri": "https://localhost:8080/"
        },
        "id": "eVDVHs8w1gIr",
        "outputId": "8922f8ef-e8d9-4c08-9169-444da525f05d"
      },
      "execution_count": 10,
      "outputs": [
        {
          "output_type": "stream",
          "name": "stdout",
          "text": [
            "[0, 2, 4, 3, 1]\n"
          ]
        }
      ]
    },
    {
      "cell_type": "code",
      "source": [
        "# BFS\n",
        "from collections import deque\n",
        "class Solution:\n",
        "  def bfsOfGraph(self, li: List[List[int]]) -> List[int]:\n",
        "    visited = [False] * len(li)\n",
        "    result = []\n",
        "\n",
        "    q = deque()\n",
        "    q.append(0)\n",
        "    visited[0] = True\n",
        "\n",
        "    while q:\n",
        "      curr = q.popleft()\n",
        "      visited[curr] = True\n",
        "      result.append(curr)\n",
        "\n",
        "      for neighbor in li[curr]:\n",
        "        if not visited[neighbor]:\n",
        "          visited[neighbor] = True\n",
        "          q.append(neighbor)\n",
        "\n",
        "    return result\n",
        "adj1 = [[2, 3, 1], [0], [0, 4], [0], [2]]\n",
        "print(Solution().bfsOfGraph(adj1))"
      ],
      "metadata": {
        "colab": {
          "base_uri": "https://localhost:8080/"
        },
        "id": "W6K0St7A1g2r",
        "outputId": "5fb142a5-8489-4a09-c1ed-372cb855f79b"
      },
      "execution_count": 12,
      "outputs": [
        {
          "output_type": "stream",
          "name": "stdout",
          "text": [
            "[0, 2, 3, 1, 4]\n"
          ]
        }
      ]
    },
    {
      "cell_type": "code",
      "source": [
        "# Cycle Detection using DFS\n",
        "def canFinish(numCourses, prerequisite):\n",
        "  graph = {i: [] for i in range(numCourses)}\n",
        "  for course, prereq in prerequisite:\n",
        "    graph[course].append(prereq)\n",
        "  # print(graph)\n",
        "\n",
        "  visited = [0] * numCourses\n",
        "\n",
        "  def dfs(course):\n",
        "    if visited[course] == 1:\n",
        "      return False\n",
        "    if visited[course] == 2:\n",
        "      return True\n",
        "\n",
        "    visited[course] = 1\n",
        "    for neighbor in graph[course]:\n",
        "      if not dfs(neighbor):\n",
        "        return False\n",
        "\n",
        "    visited[course] = 2\n",
        "    return True\n",
        "\n",
        "  for i in range(numCourses):\n",
        "    if not dfs(i):\n",
        "      return False\n",
        "  return True\n",
        "result = canFinish(4, [[1,0],[2,1],[3,2]])\n",
        "print(result)\n",
        "r2 = canFinish(2,[[1,0],[0,1]])\n",
        "print(r2)"
      ],
      "metadata": {
        "colab": {
          "base_uri": "https://localhost:8080/"
        },
        "id": "sre5KagMIt5M",
        "outputId": "be581f80-f288-4592-e170-07643ed26ed4"
      },
      "execution_count": 20,
      "outputs": [
        {
          "output_type": "stream",
          "name": "stdout",
          "text": [
            "True\n",
            "False\n"
          ]
        }
      ]
    },
    {
      "cell_type": "code",
      "source": [],
      "metadata": {
        "id": "qdjG3ZPUIwWn"
      },
      "execution_count": null,
      "outputs": []
    }
  ]
}