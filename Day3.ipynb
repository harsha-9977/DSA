{
  "nbformat": 4,
  "nbformat_minor": 0,
  "metadata": {
    "colab": {
      "provenance": []
    },
    "kernelspec": {
      "name": "python3",
      "display_name": "Python 3"
    },
    "language_info": {
      "name": "python"
    }
  },
  "cells": [
    {
      "cell_type": "code",
      "execution_count": null,
      "metadata": {
        "colab": {
          "base_uri": "https://localhost:8080/"
        },
        "id": "_qLmQkwyN6ZP",
        "outputId": "8f2584a7-30b7-4ca8-efbf-9fabdd40fcbf"
      },
      "outputs": [
        {
          "output_type": "stream",
          "name": "stdout",
          "text": [
            "1\n"
          ]
        }
      ],
      "source": [
        "# Minimum number of swaps\n",
        "def minSwaps(arr):\n",
        "  n = len(arr)\n",
        "\n",
        "  arr_pos = [(val, idx) for idx, val in enumerate(arr)]\n",
        "  arr_pos.sort()\n",
        "\n",
        "  visited = [False] * n\n",
        "  swaps = 0\n",
        "\n",
        "  for i in range(n):\n",
        "    if visited[i] or arr_pos[i][1] == i:\n",
        "      continue\n",
        "\n",
        "    cycle_size = 0\n",
        "    j = i\n",
        "\n",
        "    while not visited[j]:\n",
        "      visited[j] = True\n",
        "      j = arr_pos[j][1]\n",
        "      cycle_size += 1\n",
        "\n",
        "    if cycle_size > 0:\n",
        "      swaps += cycle_size-1\n",
        "\n",
        "  return swaps\n",
        "\n",
        "print(minSwaps([1,3,2,4]))\n",
        "\n"
      ]
    },
    {
      "cell_type": "code",
      "source": [
        "# Heap Sort\n",
        "\n",
        "def heapify(arr, n, i):\n",
        "  largest = i\n",
        "  l = 2 * i + 1\n",
        "  r = 2 * i + 2\n",
        "\n",
        "  if l < n and arr[l] > arr[largest]:\n",
        "    largest = l\n",
        "  if r < n and arr[r] > arr[largest]:\n",
        "    largest = r\n",
        "  if largest != i:\n",
        "    arr[largest], arr[i] = arr[i], arr[largest]\n",
        "    heapify(arr, n, largest)\n",
        "\n",
        "def heapSort(arr):\n",
        "  n = len(arr)\n",
        "\n",
        "  for i in range(n//2 -1, -1, -1):\n",
        "    heapify(arr, n, i)\n",
        "\n",
        "  for i in range(n-1, 0, -1):\n",
        "    arr[0], arr[i] = arr[i], arr[0]\n",
        "    heapify(arr, i, 0)\n",
        "\n",
        "  return arr\n",
        "print(heapSort([1,3,2,4,0]))"
      ],
      "metadata": {
        "colab": {
          "base_uri": "https://localhost:8080/"
        },
        "id": "MB0gP3rNj_Bu",
        "outputId": "9b2e7917-2508-41a0-cdb9-bb88a75ce37f"
      },
      "execution_count": null,
      "outputs": [
        {
          "output_type": "stream",
          "name": "stdout",
          "text": [
            "[0, 1, 2, 3, 4]\n"
          ]
        }
      ]
    },
    {
      "cell_type": "code",
      "source": [
        "# perfect number\n",
        "def pn(n):\n",
        "  sum = 1\n",
        "  i = 2\n",
        "  while i*i < n:\n",
        "    if n % i == 0:\n",
        "      sum += i\n",
        "      if n // i != i:\n",
        "        sum += n // i\n",
        "    i += 1\n",
        "\n",
        "  return sum == n\n",
        "print(pn(6))\n"
      ],
      "metadata": {
        "colab": {
          "base_uri": "https://localhost:8080/"
        },
        "id": "3PPb0cpA5Rk7",
        "outputId": "a486d653-d21d-4949-8848-374e00f0801a"
      },
      "execution_count": null,
      "outputs": [
        {
          "output_type": "stream",
          "name": "stdout",
          "text": [
            "True\n"
          ]
        }
      ]
    },
    {
      "cell_type": "code",
      "source": [
        "# sum of squares and alternate squares as zero\n",
        "def sos(n):\n",
        "  if n>3 and n<15:\n",
        "    sum = 0\n",
        "    for i in range(1,n+1):\n",
        "      if i % 2 == 0:\n",
        "        sum -= i**2\n",
        "      else:\n",
        "        sum += i**2\n",
        "    return sum\n",
        "\n",
        "print(sos(5))\n"
      ],
      "metadata": {
        "colab": {
          "base_uri": "https://localhost:8080/"
        },
        "id": "Co7VzHJC7fvK",
        "outputId": "59aa3cdf-a4e6-4797-9fdc-9be4237c7175"
      },
      "execution_count": null,
      "outputs": [
        {
          "output_type": "stream",
          "name": "stdout",
          "text": [
            "15\n"
          ]
        }
      ]
    },
    {
      "cell_type": "code",
      "source": [
        "# Rectangular border\n",
        "def fence(l, b):\n",
        "  for i in range(l):\n",
        "    for j in range(b):\n",
        "      if i==0 or i==l-1 or j==0 or j==b-1:\n",
        "        print('*',end=\"\")\n",
        "      else:\n",
        "        print(\" \",end=\"\")\n",
        "    print()\n",
        "fence(5,5)"
      ],
      "metadata": {
        "colab": {
          "base_uri": "https://localhost:8080/"
        },
        "id": "pEx_-Z-2_HEF",
        "outputId": "9ab85e8b-8c68-41bf-9add-98b06b569180"
      },
      "execution_count": null,
      "outputs": [
        {
          "output_type": "stream",
          "name": "stdout",
          "text": [
            "*****\n",
            "*   *\n",
            "*   *\n",
            "*   *\n",
            "*****\n"
          ]
        }
      ]
    },
    {
      "cell_type": "code",
      "source": [
        "# primes in range\n",
        "# import numpy as np\n",
        "def isPrime(x):\n",
        "  if x <= 1:\n",
        "    return False\n",
        "  for i in range(2, int(np.sqrt(x))+1):\n",
        "    if x % i == 0:\n",
        "      return False\n",
        "  return True\n",
        "\n",
        "def rangePrimes(n):\n",
        "  li = []\n",
        "  for i in range(n):\n",
        "    if isPrime(i):\n",
        "      li.append(i)\n",
        "  return li\n",
        "\n",
        "print(rangePrimes(5))\n"
      ],
      "metadata": {
        "colab": {
          "base_uri": "https://localhost:8080/"
        },
        "id": "3yUYyd72_5lf",
        "outputId": "11d5c179-d82b-4303-cf63-cfe7c482683a"
      },
      "execution_count": null,
      "outputs": [
        {
          "output_type": "stream",
          "name": "stdout",
          "text": [
            "[2, 3]\n"
          ]
        }
      ]
    },
    {
      "cell_type": "code",
      "source": [
        "# n primes\n",
        "def isPrime(x):\n",
        "  if x <= 1:\n",
        "    return False\n",
        "  for i in range(2, int(np.sqrt(x))+1):\n",
        "    if x % i == 0:\n",
        "      return False\n",
        "  return True\n",
        "\n",
        "def nPrimes(n):\n",
        "  i = 0\n",
        "  li = []\n",
        "  while n != 0:\n",
        "    if isPrime(i):\n",
        "      li.append(i)\n",
        "      n -= 1\n",
        "    i += 1\n",
        "  return li\n",
        "\n",
        "print(nPrimes(40))"
      ],
      "metadata": {
        "colab": {
          "base_uri": "https://localhost:8080/"
        },
        "id": "uXQpZj9qA70v",
        "outputId": "94df1930-8728-4738-ce41-377ba1b2f73a"
      },
      "execution_count": null,
      "outputs": [
        {
          "output_type": "stream",
          "name": "stdout",
          "text": [
            "[2, 3, 5, 7, 11, 13, 17, 19, 23, 29, 31, 37, 41, 43, 47, 53, 59, 61, 67, 71, 73, 79, 83, 89, 97, 101, 103, 107, 109, 113, 127, 131, 137, 139, 149, 151, 157, 163, 167, 173]\n"
          ]
        }
      ]
    },
    {
      "cell_type": "code",
      "source": [
        "# how many numbers(1) present in a number divides a number(\"134\")\n",
        "def num(n):\n",
        "  k = int(n)\n",
        "  count = 0\n",
        "  for i in n:\n",
        "    if i != '0' and k % int(i) == 0:\n",
        "      count += 1\n",
        "  return count\n",
        "\n",
        "print(num(\"135\"))\n"
      ],
      "metadata": {
        "colab": {
          "base_uri": "https://localhost:8080/"
        },
        "id": "tj5pYxQkE9Il",
        "outputId": "1a9d8acc-ea01-4b1b-febe-5a7c4507dce8"
      },
      "execution_count": null,
      "outputs": [
        {
          "output_type": "stream",
          "name": "stdout",
          "text": [
            "3\n"
          ]
        }
      ]
    },
    {
      "cell_type": "code",
      "source": [
        "# Automorphic number\n",
        "def am(n):\n",
        "  s = str(n)\n",
        "  l = len(s)\n",
        "  return n == int(str(n**2)[-l:])\n",
        "print(am(376))"
      ],
      "metadata": {
        "colab": {
          "base_uri": "https://localhost:8080/"
        },
        "id": "2w-2XmztHj7f",
        "outputId": "d96d5a54-f705-4e56-bf01-62b4f1220a91"
      },
      "execution_count": null,
      "outputs": [
        {
          "output_type": "stream",
          "name": "stdout",
          "text": [
            "True\n"
          ]
        }
      ]
    },
    {
      "cell_type": "code",
      "source": [
        "# camelCase to snake_case\n",
        "import re\n",
        "\n",
        "def camelToSnake(st):\n",
        "  s1 = re.sub(r'(.)([A-Z][a-z]+)', r'\\1_\\2', st)\n",
        "  s2 = re.sub(r'([a-z0-9])([A-Z])', r'\\1_\\2', s1)\n",
        "  return s2.lower()\n",
        "\n",
        "def manual(st):\n",
        "  sc = []\n",
        "  sc.append(st[0].lower())\n",
        "\n",
        "  for i in st[1:]:\n",
        "    if i.isupper():\n",
        "      sc.extend(['_',i.lower()])\n",
        "    else:\n",
        "      sc.append(i.lower())\n",
        "  return ''.join(sc)\n",
        "\n",
        "print(manual(\"myNameIsBhavana\"))\n",
        "print(camelToSnake(\"myNameIsHarsha\"))"
      ],
      "metadata": {
        "colab": {
          "base_uri": "https://localhost:8080/"
        },
        "id": "BGkDKtA6KcbH",
        "outputId": "b3ab885a-d4df-4895-a11f-8fd6b9d4b687"
      },
      "execution_count": null,
      "outputs": [
        {
          "output_type": "stream",
          "name": "stdout",
          "text": [
            "my_name_is_bhavana\n",
            "my_name_is_harsha\n"
          ]
        }
      ]
    },
    {
      "cell_type": "code",
      "source": [
        "def lists(li,k):\n",
        "  li.sort()\n",
        "  print(li)\n",
        "  for i in li:\n",
        "    if i[0] == k:\n",
        "      print(i, \" \", li.index(i)+1)\n",
        "lists([\"this\",\"is\",\"for\",\"testing\",\"it\"],\"t\")"
      ],
      "metadata": {
        "colab": {
          "base_uri": "https://localhost:8080/"
        },
        "id": "PX1bA-dKR8t_",
        "outputId": "f6beb900-bc9a-4894-e935-231fbb5c0626"
      },
      "execution_count": null,
      "outputs": [
        {
          "output_type": "stream",
          "name": "stdout",
          "text": [
            "['for', 'is', 'it', 'testing', 'this']\n",
            "testing   4\n",
            "this   5\n"
          ]
        }
      ]
    },
    {
      "cell_type": "code",
      "source": [
        "# int to word and suffix zero's\n",
        "def func(st):\n",
        "  r = \"\"\n",
        "  for i in st:\n",
        "    if i != '0':\n",
        "      r += chr(int(i) + ord('a') - 1)\n",
        "  r +=  '0' * (len(st) - len(r))\n",
        "  return r\n",
        "print(func('1020101010'))\n"
      ],
      "metadata": {
        "colab": {
          "base_uri": "https://localhost:8080/"
        },
        "id": "wG7L9zMZUiDz",
        "outputId": "b69a2b28-dd12-4a7e-a17b-a0d3b4f071e8"
      },
      "execution_count": null,
      "outputs": [
        {
          "output_type": "stream",
          "name": "stdout",
          "text": [
            "abaaa00000\n"
          ]
        }
      ]
    },
    {
      "cell_type": "code",
      "source": [
        "# Sum of square of given list\n",
        "def sol(li):\n",
        "  res = 0\n",
        "  for i in li:\n",
        "    res += i**2\n",
        "  return res\n",
        "print(sol([1,2,3]))"
      ],
      "metadata": {
        "colab": {
          "base_uri": "https://localhost:8080/"
        },
        "id": "OcIbj1yAWvPh",
        "outputId": "a8fc60c7-4586-4e47-b1c1-a65f198f28de"
      },
      "execution_count": null,
      "outputs": [
        {
          "output_type": "stream",
          "name": "stdout",
          "text": [
            "14\n"
          ]
        }
      ]
    },
    {
      "cell_type": "code",
      "source": [
        "# conversion of binary number time format to digital 24hrs format\n",
        "def func(li):\n",
        "  s = \"\"\n",
        "  for i in range(len(li)):\n",
        "    if i==2:\n",
        "      s += \":\" + str(int(li[i], 2))\n",
        "    else:\n",
        "      s += str(int(li[i], 2))\n",
        "  return s\n",
        "print(func(['0001', '0010', '0011', '0101']))"
      ],
      "metadata": {
        "colab": {
          "base_uri": "https://localhost:8080/"
        },
        "id": "xsKkFNUzXt-j",
        "outputId": "41eb889e-5cb7-4a7f-fd9c-33843b07dc38"
      },
      "execution_count": null,
      "outputs": [
        {
          "output_type": "stream",
          "name": "stdout",
          "text": [
            "12:35\n"
          ]
        }
      ]
    },
    {
      "cell_type": "code",
      "source": [
        "# replace with next vowels\n",
        "def vow(str):\n",
        "  s = \"aeiou\"\n",
        "  b = \"AEIOU\"\n",
        "  str = list(str)\n",
        "\n",
        "  for i in range(len(str)):\n",
        "    if str[i] in s:\n",
        "      str[i] = s[(s.index(str[i]) + 1) % 5]\n",
        "    elif str[i] in b:\n",
        "      str[i] = b[(b.index(str[i]) + 1) % 5]\n",
        "  return ''.join(str)\n",
        "print(vow(\"haAshu\"))\n"
      ],
      "metadata": {
        "colab": {
          "base_uri": "https://localhost:8080/"
        },
        "id": "UQP_aOq9dHRS",
        "outputId": "bdfcc4cb-4060-4340-f874-4c3409cbd066"
      },
      "execution_count": null,
      "outputs": [
        {
          "output_type": "stream",
          "name": "stdout",
          "text": [
            "heEsha\n"
          ]
        }
      ]
    },
    {
      "cell_type": "code",
      "source": [
        "x = sorted((4,7,2,5))\n",
        "y = tuple(x[:2] + x[-2:])\n",
        "print(y)"
      ],
      "metadata": {
        "colab": {
          "base_uri": "https://localhost:8080/"
        },
        "id": "1Jgk00utw8ZV",
        "outputId": "075ee6ed-95b6-420f-a7da-f9a8687446e1"
      },
      "execution_count": null,
      "outputs": [
        {
          "output_type": "stream",
          "name": "stdout",
          "text": [
            "(2, 4, 5, 7)\n"
          ]
        }
      ]
    },
    {
      "cell_type": "code",
      "source": [
        "# find symmetric pairs\n",
        "def fsp(li):\n",
        "  seen = set()\n",
        "  result = []\n",
        "\n",
        "  for x, y in li:\n",
        "    if (y, x) in seen:\n",
        "      result.append((x, y))\n",
        "    else:\n",
        "      seen.add((x, y))\n",
        "\n",
        "  return tuple(result)\n",
        "\n",
        "pairs = [(1, 2), (3, 4), (2, 1), (5, 6), (4, 3)]\n",
        "print(fsp(pairs))"
      ],
      "metadata": {
        "colab": {
          "base_uri": "https://localhost:8080/"
        },
        "id": "TJ0rdt0b2J2S",
        "outputId": "d74951df-fe4a-40fa-dddd-1b8282120621"
      },
      "execution_count": null,
      "outputs": [
        {
          "output_type": "stream",
          "name": "stdout",
          "text": [
            "((2, 1), (4, 3))\n"
          ]
        }
      ]
    },
    {
      "cell_type": "code",
      "source": [
        "x = sorted((4,3,5,7,1,1,1,4,9))\n",
        "y = tuple(x[:2] + x[-2:])\n",
        "print(y)"
      ],
      "metadata": {
        "colab": {
          "base_uri": "https://localhost:8080/"
        },
        "id": "Hceg1pGR3FRl",
        "outputId": "31c1544c-5532-4f4d-a469-59b8c3f645df"
      },
      "execution_count": null,
      "outputs": [
        {
          "output_type": "stream",
          "name": "stdout",
          "text": [
            "(1, 1, 7, 9)\n"
          ]
        }
      ]
    },
    {
      "cell_type": "code",
      "source": [
        "n = int(input())\n",
        "result = set()\n",
        "for i in range(n):\n",
        "  a = set(map(int, input().split()))\n",
        "  result.update(a)\n",
        "print(result)\n"
      ],
      "metadata": {
        "colab": {
          "base_uri": "https://localhost:8080/"
        },
        "id": "EaNH9t-W5Ua0",
        "outputId": "50b661fb-5600-4dfe-fed0-04ef57680fa4"
      },
      "execution_count": null,
      "outputs": [
        {
          "output_type": "stream",
          "name": "stdout",
          "text": [
            "2\n",
            "1 1 1 2 2 \n",
            "{1, 2}\n",
            "4 5 4 3 3\n",
            "{3, 4, 5}\n",
            "{1, 2, 3, 4, 5}\n"
          ]
        }
      ]
    },
    {
      "cell_type": "code",
      "source": [
        "tup = (1,1,0)\n",
        "st = int(''.join(str(i) for i in tup), 2)\n",
        "print(st)"
      ],
      "metadata": {
        "colab": {
          "base_uri": "https://localhost:8080/"
        },
        "id": "E9ooBlYo6gBR",
        "outputId": "8b42f424-3d59-447a-85a8-0faf2b959048"
      },
      "execution_count": null,
      "outputs": [
        {
          "output_type": "stream",
          "name": "stdout",
          "text": [
            "6\n"
          ]
        }
      ]
    },
    {
      "cell_type": "code",
      "source": [
        "# frequency of an alphabet\n",
        "def freq(st):\n",
        "  result = []\n",
        "  seen = set()\n",
        "\n",
        "  for ch in st:\n",
        "    if ch not in seen:\n",
        "      result.append([ch, st.count(ch)])\n",
        "      seen.update(ch)\n",
        "  result.sort()\n",
        "  return result\n",
        "\n",
        "li = freq(\"aaabHHbaaccdda\")\n",
        "li2 = freq(\"Python\")\n",
        "for i in li:\n",
        "  print(i, end=\" \")"
      ],
      "metadata": {
        "colab": {
          "base_uri": "https://localhost:8080/"
        },
        "id": "HWYx1i95_jVi",
        "outputId": "3b369ada-1727-429d-cf36-bd66c3f24d84"
      },
      "execution_count": null,
      "outputs": [
        {
          "output_type": "stream",
          "name": "stdout",
          "text": [
            "['H', 2] ['a', 6] ['b', 2] ['c', 2] ['d', 2] "
          ]
        }
      ]
    },
    {
      "cell_type": "code",
      "source": [
        "# missing number\n",
        "def miss(li):\n",
        "  n = len(li)+1\n",
        "  sumi = sum(li)\n",
        "  csum = n * (n+1) // 2\n",
        "  missing = csum - sumi\n",
        "  return missing\n",
        "print(miss([1,2,3,4,6,7,8,5,10]))"
      ],
      "metadata": {
        "colab": {
          "base_uri": "https://localhost:8080/"
        },
        "id": "EaabqwGLF0m2",
        "outputId": "3dddf3f7-f40b-4975-85bf-c1c2bc1ab0e0"
      },
      "execution_count": null,
      "outputs": [
        {
          "output_type": "stream",
          "name": "stdout",
          "text": [
            "9\n"
          ]
        }
      ]
    }
  ]
}