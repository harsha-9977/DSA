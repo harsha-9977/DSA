{
  "nbformat": 4,
  "nbformat_minor": 0,
  "metadata": {
    "colab": {
      "provenance": []
    },
    "kernelspec": {
      "name": "python3",
      "display_name": "Python 3"
    },
    "language_info": {
      "name": "python"
    }
  },
  "cells": [
    {
      "cell_type": "code",
      "execution_count": 1,
      "metadata": {
        "colab": {
          "base_uri": "https://localhost:8080/"
        },
        "id": "Tj8dGxiz5wHU",
        "outputId": "de12b589-13e5-4b4a-ffb8-dd319623953a"
      },
      "outputs": [
        {
          "output_type": "stream",
          "name": "stdout",
          "text": [
            "6\n"
          ]
        }
      ],
      "source": [
        "# Min array elements unique\n",
        "def uni(arr):\n",
        "  arr.sort()\n",
        "\n",
        "  res = 0\n",
        "\n",
        "  for i in range(1,len(arr)):\n",
        "    if arr[i] <= arr[i-1]:\n",
        "      inc = arr[i-1] - arr[i] + 1\n",
        "      arr[i] = arr[i-1] + 1\n",
        "      res += inc\n",
        "  return res\n",
        "print(uni([3, 2, 1, 2, 1, 7]))"
      ]
    }
  ]
}