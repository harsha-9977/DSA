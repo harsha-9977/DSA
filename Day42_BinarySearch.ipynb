{
  "nbformat": 4,
  "nbformat_minor": 0,
  "metadata": {
    "colab": {
      "provenance": [],
      "authorship_tag": "ABX9TyPBgTdOoDgVSIKe+6akCzuk",
      "include_colab_link": true
    },
    "kernelspec": {
      "name": "python3",
      "display_name": "Python 3"
    },
    "language_info": {
      "name": "python"
    }
  },
  "cells": [
    {
      "cell_type": "markdown",
      "metadata": {
        "id": "view-in-github",
        "colab_type": "text"
      },
      "source": [
        "<a href=\"https://colab.research.google.com/github/harsha-9977/DSA/blob/main/Day42_BinarySearch.ipynb\" target=\"_parent\"><img src=\"https://colab.research.google.com/assets/colab-badge.svg\" alt=\"Open In Colab\"/></a>"
      ]
    },
    {
      "cell_type": "code",
      "execution_count": null,
      "metadata": {
        "colab": {
          "base_uri": "https://localhost:8080/"
        },
        "id": "K8xvSJWyR_C7",
        "outputId": "2bd01777-1dcb-49d6-9166-9adc9b3f8dd2"
      },
      "outputs": [
        {
          "output_type": "stream",
          "name": "stdout",
          "text": [
            "3\n"
          ]
        }
      ],
      "source": [
        "# Find nth root of m\n",
        "def nthRoot(n,m):\n",
        "  low = 1\n",
        "  high = m\n",
        "\n",
        "  while low <= high:\n",
        "    mid = (low + high) // 2\n",
        "\n",
        "    power = mid ** n\n",
        "\n",
        "    if power == m:\n",
        "      return mid\n",
        "    elif power < m:\n",
        "      low = mid + 1\n",
        "    else:\n",
        "      high = mid - 1\n",
        "  return -1\n",
        "print(nthRoot(2,9))"
      ]
    },
    {
      "cell_type": "code",
      "source": [
        "from re import L\n",
        "# median in a row-wise sorted matrix\n",
        "import bisect\n",
        "def count_and_less(row, target):\n",
        "  return bisect.bisect_right(row, target)\n",
        "\n",
        "def median(mat):\n",
        "  r, c = len(mat), len(mat[0])\n",
        "  low = min(row[0] for row in mat)\n",
        "  high = max(row[-1] for row in mat)\n",
        "\n",
        "  desired = (r * c) // 2\n",
        "\n",
        "  while low <= high:\n",
        "    mid = (low + high) // 2\n",
        "\n",
        "    count = sum(count_and_less(row, mid) for row in mat)\n",
        "\n",
        "    if count <= desired:\n",
        "      low = mid + 1\n",
        "    else:\n",
        "      high = mid - 1\n",
        "  return low\n",
        "print(median([[1, 3, 5], [2, 6, 9], [3, 6, 9]]))"
      ],
      "metadata": {
        "colab": {
          "base_uri": "https://localhost:8080/"
        },
        "id": "uvRWogaBgzMs",
        "outputId": "a1d1c090-fb54-4333-ad13-6ec26bb0ba5e"
      },
      "execution_count": null,
      "outputs": [
        {
          "output_type": "stream",
          "name": "stdout",
          "text": [
            "5\n"
          ]
        }
      ]
    }
  ]
}