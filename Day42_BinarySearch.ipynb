{
  "nbformat": 4,
  "nbformat_minor": 0,
  "metadata": {
    "colab": {
      "provenance": [],
      "authorship_tag": "ABX9TyNEL7U3WUdC7yF7I7yhNeYW",
      "include_colab_link": true
    },
    "kernelspec": {
      "name": "python3",
      "display_name": "Python 3"
    },
    "language_info": {
      "name": "python"
    }
  },
  "cells": [
    {
      "cell_type": "markdown",
      "metadata": {
        "id": "view-in-github",
        "colab_type": "text"
      },
      "source": [
        "<a href=\"https://colab.research.google.com/github/harsha-9977/DSA/blob/main/Day42_BinarySearch.ipynb\" target=\"_parent\"><img src=\"https://colab.research.google.com/assets/colab-badge.svg\" alt=\"Open In Colab\"/></a>"
      ]
    },
    {
      "cell_type": "code",
      "execution_count": null,
      "metadata": {
        "colab": {
          "base_uri": "https://localhost:8080/"
        },
        "id": "K8xvSJWyR_C7",
        "outputId": "2bd01777-1dcb-49d6-9166-9adc9b3f8dd2"
      },
      "outputs": [
        {
          "output_type": "stream",
          "name": "stdout",
          "text": [
            "3\n"
          ]
        }
      ],
      "source": [
        "# Find nth root of m\n",
        "def nthRoot(n,m):\n",
        "  low = 1\n",
        "  high = m\n",
        "\n",
        "  while low <= high:\n",
        "    mid = (low + high) // 2\n",
        "\n",
        "    power = mid ** n\n",
        "\n",
        "    if power == m:\n",
        "      return mid\n",
        "    elif power < m:\n",
        "      low = mid + 1\n",
        "    else:\n",
        "      high = mid - 1\n",
        "  return -1\n",
        "print(nthRoot(2,9))"
      ]
    },
    {
      "cell_type": "code",
      "source": [
        "from re import L\n",
        "# median in a row-wise sorted matrix\n",
        "import bisect\n",
        "def count_and_less(row, target):\n",
        "  return bisect.bisect_right(row, target)\n",
        "\n",
        "def median(mat):\n",
        "  r, c = len(mat), len(mat[0])\n",
        "  low = min(row[0] for row in mat)\n",
        "  high = max(row[-1] for row in mat)\n",
        "\n",
        "  desired = (r * c) // 2\n",
        "\n",
        "  while low <= high:\n",
        "    mid = (low + high) // 2\n",
        "\n",
        "    count = sum(count_and_less(row, mid) for row in mat)\n",
        "\n",
        "    if count <= desired:\n",
        "      low = mid + 1\n",
        "    else:\n",
        "      high = mid - 1\n",
        "  return low\n",
        "print(median([[1, 3, 5], [2, 6, 9], [3, 6, 9]]))"
      ],
      "metadata": {
        "colab": {
          "base_uri": "https://localhost:8080/"
        },
        "id": "uvRWogaBgzMs",
        "outputId": "a1d1c090-fb54-4333-ad13-6ec26bb0ba5e"
      },
      "execution_count": null,
      "outputs": [
        {
          "output_type": "stream",
          "name": "stdout",
          "text": [
            "5\n"
          ]
        }
      ]
    },
    {
      "cell_type": "code",
      "source": [
        "# SingleNonDuplicate\n",
        "def single(nums):\n",
        "  low, high = 0, len(nums) - 1\n",
        "\n",
        "  while low < high:\n",
        "    mid = (low + high) // 2\n",
        "\n",
        "    if mid % 2 == 1:\n",
        "      mid -= 1\n",
        "\n",
        "    if nums[mid] == nums[mid+1]:\n",
        "      low = mid + 2\n",
        "    else:\n",
        "      high = mid\n",
        "  return nums[low]\n",
        "print(single([1,1,2,3,3,4,4,8,8]))"
      ],
      "metadata": {
        "colab": {
          "base_uri": "https://localhost:8080/"
        },
        "id": "IrKwJNnYgaQS",
        "outputId": "9a027b9c-681f-4ef7-d510-ac6ed4a3352b"
      },
      "execution_count": null,
      "outputs": [
        {
          "output_type": "stream",
          "name": "stdout",
          "text": [
            "2\n"
          ]
        }
      ]
    },
    {
      "cell_type": "code",
      "source": [
        "# search in rotated sorted array\n",
        "def search(nums, target):\n",
        "  low, high = 0, len(nums) - 1\n",
        "\n",
        "  while low <= high:\n",
        "    mid = (low + high) // 2\n",
        "\n",
        "    if nums[mid] == target:\n",
        "      return mid\n",
        "\n",
        "    if nums[low] <= nums[mid]:\n",
        "      if nums[low] <= target <= nums[mid]:\n",
        "        high = mid - 1\n",
        "      else:\n",
        "        low = mid + 1\n",
        "    else:\n",
        "      if nums[mid] <= target <= nums[high]:\n",
        "        low = mid + 1\n",
        "      else:\n",
        "        high = mid - 1\n",
        "  return -1\n",
        "print(search([4,5,6,7,0,1,2], 0))"
      ],
      "metadata": {
        "colab": {
          "base_uri": "https://localhost:8080/"
        },
        "id": "s_KCWl9wk8Kc",
        "outputId": "c45369e8-c271-4afa-fa67-473994e14d2b"
      },
      "execution_count": null,
      "outputs": [
        {
          "output_type": "stream",
          "name": "stdout",
          "text": [
            "4\n"
          ]
        }
      ]
    },
    {
      "cell_type": "code",
      "source": [
        "# median of the two sorted arrays\n",
        "def median(nums1, nums2):\n",
        "  if len(nums1) > len(nums2):\n",
        "    nums1, nums2 = nums2, nums1\n",
        "\n",
        "  x, y = len(nums1), len(nums2)\n",
        "\n",
        "  low, high = 0, x\n",
        "\n",
        "  while low <= high:\n",
        "    partitionX = (low + high) // 2\n",
        "    partitionY = (x + y + 1) // 2 - partitionX\n",
        "\n",
        "    maxLeftX = float('-inf') if partitionX == 0 else nums1[partitionX-1]\n",
        "    minRightX = float('inf') if partitionX == x else nums1[partitionX]\n",
        "\n",
        "    maxLeftY = float('-inf') if partitionY == 0 else nums2[partitionY-1]\n",
        "    minRightY = float('inf') if partitionY == y else nums2[partitionY]\n",
        "\n",
        "    if maxLeftX <= minRightY and maxLeftY <= minRightX:\n",
        "      if (x + y) % 2 == 0:\n",
        "        return (max(maxLeftX,maxRightX) + min(minRightX,minRightY)) / 2\n",
        "      else:\n",
        "        return max(maxLeftX,maxLeftY)\n",
        "    elif maxLeftX > minRightY:\n",
        "      high = partitionX - 1\n",
        "    else:\n",
        "      low = partitionX + 1\n",
        "\n",
        "print(median([1,3], [2]))"
      ],
      "metadata": {
        "colab": {
          "base_uri": "https://localhost:8080/"
        },
        "id": "qmsasaNT5JEv",
        "outputId": "b7956032-58c7-4349-bcc4-8db02662b709"
      },
      "execution_count": 4,
      "outputs": [
        {
          "output_type": "stream",
          "name": "stdout",
          "text": [
            "2\n"
          ]
        }
      ]
    },
    {
      "cell_type": "code",
      "source": [
        "# kth element of 2 arrays\n",
        "def kth(a,b,k):\n",
        "  x, y = len(a), len(b)\n",
        "\n",
        "  if x > y:\n",
        "    a,b = b,a\n",
        "\n",
        "  low = max(0, k-y)\n",
        "  high = min(x,k)\n",
        "\n",
        "  while low <= high:\n",
        "    cutA = (low + high) // 2\n",
        "    cutB = k - cutA\n",
        "\n",
        "    l1 = float('-inf') if cutA == 0 else a[cutA-1]\n",
        "    r1 = float('inf') if cutA == x else a[cutA]\n",
        "\n",
        "    l2 = float('-inf') if cutB == 0 else b[cutB-1]\n",
        "    r2 = float('inf') if cutB == y else b[cutB]\n",
        "\n",
        "    if l1 <= r2 and l2 <= r1:\n",
        "      return max(l1,l2)\n",
        "    elif l1 > r2:\n",
        "      high = cutA - 1\n",
        "    else:\n",
        "      low = cutA + 1\n",
        "  return -1\n",
        "print(kth([100, 112, 256, 349, 770], [72, 86, 113, 119, 265, 445, 892], 7))"
      ],
      "metadata": {
        "colab": {
          "base_uri": "https://localhost:8080/"
        },
        "id": "sTiaDS7aEMam",
        "outputId": "55c38f4e-ab2c-4d10-e7f8-586f5d162532"
      },
      "execution_count": 6,
      "outputs": [
        {
          "output_type": "stream",
          "name": "stdout",
          "text": [
            "256\n"
          ]
        }
      ]
    },
    {
      "cell_type": "code",
      "source": [
        "# Allocate minimum pages\n",
        "def isPossible(arr,k,max_pages):\n",
        "  student_count = 1\n",
        "  current_sum = 0\n",
        "\n",
        "  for pages in arr:\n",
        "    if pages > max_pages:\n",
        "      return False\n",
        "    if pages + current_sum > max_pages:\n",
        "      student_count += 1\n",
        "      current_sum = pages\n",
        "      if student_count > k:\n",
        "        return False\n",
        "    else:\n",
        "      current_sum += pages\n",
        "  return True\n",
        "\n",
        "def minPages(arr,k):\n",
        "  if k > len(arr):\n",
        "    return -1\n",
        "\n",
        "  low = max(arr)\n",
        "  high = sum(arr)\n",
        "\n",
        "  result = -1\n",
        "  while low <= high:\n",
        "    mid = (low + high) // 2\n",
        "\n",
        "    if isPossible(arr,k,mid):\n",
        "      result = mid\n",
        "      high = mid - 1\n",
        "    else:\n",
        "      low = mid + 1\n",
        "  return result\n",
        "\n",
        "print(minPages([12, 34, 67, 90],  2))"
      ],
      "metadata": {
        "colab": {
          "base_uri": "https://localhost:8080/"
        },
        "id": "TETfYg0KQkAK",
        "outputId": "63cd2ab5-876b-48c4-f065-f9d444335e2e"
      },
      "execution_count": 7,
      "outputs": [
        {
          "output_type": "stream",
          "name": "stdout",
          "text": [
            "113\n"
          ]
        }
      ]
    },
    {
      "cell_type": "code",
      "source": [
        "# Aggressive cows\n",
        "def isPossible(stalls,k,min_dist):\n",
        "  count = 1\n",
        "  last_pos = stalls[0]\n",
        "\n",
        "  for i in range(1,len(stalls)):\n",
        "    if stalls[i] - last_pos >= min_dist:\n",
        "      count += 1\n",
        "      last_pos = stalls[i]\n",
        "      if count == k:\n",
        "        return True\n",
        "  return False\n",
        "\n",
        "def cows(stalls,k):\n",
        "  stalls.sort()\n",
        "  result = -1\n",
        "  low = 1\n",
        "  high = stalls[-1] - stalls[0]\n",
        "\n",
        "  while low <= high:\n",
        "    mid = (low + high) // 2\n",
        "    if isPossible(stalls,k,mid):\n",
        "      result = mid\n",
        "      low = mid + 1\n",
        "    else:\n",
        "      high = mid - 1\n",
        "  return result\n",
        "print(cows([1, 2, 4, 8, 9], 3))"
      ],
      "metadata": {
        "colab": {
          "base_uri": "https://localhost:8080/"
        },
        "id": "cXLlXOgrYpe0",
        "outputId": "7ba0b90c-a369-4f75-f981-5e2412570f41"
      },
      "execution_count": 8,
      "outputs": [
        {
          "output_type": "stream",
          "name": "stdout",
          "text": [
            "3\n"
          ]
        }
      ]
    }
  ]
}