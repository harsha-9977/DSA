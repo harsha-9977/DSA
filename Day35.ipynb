{
  "nbformat": 4,
  "nbformat_minor": 0,
  "metadata": {
    "colab": {
      "provenance": [],
      "authorship_tag": "ABX9TyPDWqsv1ylC1pggL10+wnpP",
      "include_colab_link": true
    },
    "kernelspec": {
      "name": "python3",
      "display_name": "Python 3"
    },
    "language_info": {
      "name": "python"
    }
  },
  "cells": [
    {
      "cell_type": "markdown",
      "metadata": {
        "id": "view-in-github",
        "colab_type": "text"
      },
      "source": [
        "<a href=\"https://colab.research.google.com/github/harsha-9977/DSA/blob/main/Day35.ipynb\" target=\"_parent\"><img src=\"https://colab.research.google.com/assets/colab-badge.svg\" alt=\"Open In Colab\"/></a>"
      ]
    },
    {
      "cell_type": "code",
      "execution_count": 6,
      "metadata": {
        "colab": {
          "base_uri": "https://localhost:8080/"
        },
        "id": "fGw9iz2MnqFx",
        "outputId": "662e731d-7252-4f75-87d7-3455cd29b152"
      },
      "outputs": [
        {
          "output_type": "execute_result",
          "data": {
            "text/plain": [
              "[5, 4, 3, 2, 1]"
            ]
          },
          "metadata": {},
          "execution_count": 6
        }
      ],
      "source": [
        "# Reverse LinkedList\n",
        "\n",
        "class ListNode:\n",
        "  def __init__(self,val=0,next=None):\n",
        "    self.val = val\n",
        "    self.next = next\n",
        "\n",
        "def build_list(vals):\n",
        "  if not vals:\n",
        "    return None\n",
        "  head = ListNode(vals[0])\n",
        "  curr = head\n",
        "\n",
        "  for val in vals[1:]:\n",
        "    curr.next = ListNode(val)\n",
        "    curr = curr.next\n",
        "  return head\n",
        "\n",
        "def print_list(head):\n",
        "  vals = []\n",
        "  while head:\n",
        "    vals.append(head.val)\n",
        "    head = head.next\n",
        "  return vals\n",
        "\n",
        "class IterativeSolution:\n",
        "  def reverse_list(self,head):\n",
        "    prev = None\n",
        "    curr = head\n",
        "\n",
        "    while curr:\n",
        "      next_node = curr.next\n",
        "      curr.next = prev\n",
        "\n",
        "      prev = curr\n",
        "      curr = next_node\n",
        "    return prev\n",
        "\n",
        "list_values = [1,2,3,4,5]\n",
        "\n",
        "head = build_list(list_values)\n",
        "\n",
        "iterative_result = IterativeSolution().reverse_list(head)\n",
        "print_list(iterative_result)\n",
        "\n"
      ]
    },
    {
      "cell_type": "code",
      "source": [
        "# middle of the linked list\n",
        "class ListNode:\n",
        "  def __init__(self,val=0,next=None):\n",
        "    self.val = val\n",
        "    self.next = next\n",
        "\n",
        "def build_list(vals):\n",
        "  if not vals:\n",
        "    return None\n",
        "\n",
        "  head = ListNode(vals[0])\n",
        "  curr = head\n",
        "  for val in vals[1:]:\n",
        "    curr.next = ListNode(val)\n",
        "    curr = curr.next\n",
        "  return head\n",
        "\n",
        "def print_list(head):\n",
        "  vals = []\n",
        "  while head:\n",
        "    vals.append(head.val)\n",
        "    head = head.next\n",
        "  return vals\n",
        "\n",
        "class Solution:\n",
        "  def middleNode(self,head):\n",
        "    slow = head\n",
        "    fast = head\n",
        "\n",
        "    while fast and fast.next:\n",
        "      slow = slow.next\n",
        "      fast = fast.next.next\n",
        "\n",
        "    return slow\n",
        "\n",
        "input_list = [1,2,3,4,5]\n",
        "\n",
        "head = build_list(input_list)\n",
        "\n",
        "middle = Solution().middleNode(head)\n",
        "print_list(middle)"
      ],
      "metadata": {
        "colab": {
          "base_uri": "https://localhost:8080/"
        },
        "id": "dlz0JC0yzxXz",
        "outputId": "bc3b1dfc-9c7c-4e63-e710-cd86958bb61e"
      },
      "execution_count": 9,
      "outputs": [
        {
          "output_type": "execute_result",
          "data": {
            "text/plain": [
              "[3, 4, 5]"
            ]
          },
          "metadata": {},
          "execution_count": 9
        }
      ]
    }
  ]
}