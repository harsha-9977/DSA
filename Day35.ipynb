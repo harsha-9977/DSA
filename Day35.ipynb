{
  "nbformat": 4,
  "nbformat_minor": 0,
  "metadata": {
    "colab": {
      "provenance": [],
      "authorship_tag": "ABX9TyMtFgUXS40TUv+nVQWi2/On",
      "include_colab_link": true
    },
    "kernelspec": {
      "name": "python3",
      "display_name": "Python 3"
    },
    "language_info": {
      "name": "python"
    }
  },
  "cells": [
    {
      "cell_type": "markdown",
      "metadata": {
        "id": "view-in-github",
        "colab_type": "text"
      },
      "source": [
        "<a href=\"https://colab.research.google.com/github/harsha-9977/DSA/blob/main/Day35.ipynb\" target=\"_parent\"><img src=\"https://colab.research.google.com/assets/colab-badge.svg\" alt=\"Open In Colab\"/></a>"
      ]
    },
    {
      "cell_type": "code",
      "execution_count": 6,
      "metadata": {
        "colab": {
          "base_uri": "https://localhost:8080/"
        },
        "id": "fGw9iz2MnqFx",
        "outputId": "662e731d-7252-4f75-87d7-3455cd29b152"
      },
      "outputs": [
        {
          "output_type": "execute_result",
          "data": {
            "text/plain": [
              "[5, 4, 3, 2, 1]"
            ]
          },
          "metadata": {},
          "execution_count": 6
        }
      ],
      "source": [
        "# Reverse LinkedList\n",
        "\n",
        "class ListNode:\n",
        "  def __init__(self,val=0,next=None):\n",
        "    self.val = val\n",
        "    self.next = next\n",
        "\n",
        "def build_list(vals):\n",
        "  if not vals:\n",
        "    return None\n",
        "  head = ListNode(vals[0])\n",
        "  curr = head\n",
        "\n",
        "  for val in vals[1:]:\n",
        "    curr.next = ListNode(val)\n",
        "    curr = curr.next\n",
        "  return head\n",
        "\n",
        "def print_list(head):\n",
        "  vals = []\n",
        "  while head:\n",
        "    vals.append(head.val)\n",
        "    head = head.next\n",
        "  return vals\n",
        "\n",
        "class IterativeSolution:\n",
        "  def reverse_list(self,head):\n",
        "    prev = None\n",
        "    curr = head\n",
        "\n",
        "    while curr:\n",
        "      next_node = curr.next\n",
        "      curr.next = prev\n",
        "\n",
        "      prev = curr\n",
        "      curr = next_node\n",
        "    return prev\n",
        "\n",
        "list_values = [1,2,3,4,5]\n",
        "\n",
        "head = build_list(list_values)\n",
        "\n",
        "iterative_result = IterativeSolution().reverse_list(head)\n",
        "print_list(iterative_result)\n",
        "\n"
      ]
    },
    {
      "cell_type": "code",
      "source": [
        "# middle of the linked list\n",
        "class ListNode:\n",
        "  def __init__(self,val=0,next=None):\n",
        "    self.val = val\n",
        "    self.next = next\n",
        "\n",
        "def build_list(vals):\n",
        "  if not vals:\n",
        "    return None\n",
        "\n",
        "  head = ListNode(vals[0])\n",
        "  curr = head\n",
        "  for val in vals[1:]:\n",
        "    curr.next = ListNode(val)\n",
        "    curr = curr.next\n",
        "  return head\n",
        "\n",
        "def print_list(head):\n",
        "  vals = []\n",
        "  while head:\n",
        "    vals.append(head.val)\n",
        "    head = head.next\n",
        "  return vals\n",
        "\n",
        "class Solution:\n",
        "  def middleNode(self,head):\n",
        "    slow = head\n",
        "    fast = head\n",
        "\n",
        "    while fast and fast.next:\n",
        "      slow = slow.next\n",
        "      fast = fast.next.next\n",
        "\n",
        "    return slow\n",
        "\n",
        "input_list = [1,2,3,4,5]\n",
        "\n",
        "head = build_list(input_list)\n",
        "\n",
        "middle = Solution().middleNode(head)\n",
        "print_list(middle)"
      ],
      "metadata": {
        "colab": {
          "base_uri": "https://localhost:8080/"
        },
        "id": "dlz0JC0yzxXz",
        "outputId": "bc3b1dfc-9c7c-4e63-e710-cd86958bb61e"
      },
      "execution_count": 9,
      "outputs": [
        {
          "output_type": "execute_result",
          "data": {
            "text/plain": [
              "[3, 4, 5]"
            ]
          },
          "metadata": {},
          "execution_count": 9
        }
      ]
    },
    {
      "cell_type": "code",
      "source": [
        "class ListNode:\n",
        "  def __init__(self,val=0,next=None):\n",
        "    self.val = val\n",
        "    self.next = next\n",
        "\n",
        "def build_list(vals):\n",
        "  if not vals:\n",
        "    return None\n",
        "  head = ListNode(vals[0])\n",
        "  curr = head\n",
        "\n",
        "  for val in vals[1:]:\n",
        "    curr.next = ListNode(val)\n",
        "    curr = curr.next\n",
        "  return head\n",
        "\n",
        "def print_list(head):\n",
        "  vals = []\n",
        "  while head:\n",
        "    vals.append(head.val)\n",
        "    head = head.next\n",
        "  return vals\n",
        "\n",
        "class Solution:\n",
        "  def mergeSorted(self,list1,list2):\n",
        "    dummy = ListNode()\n",
        "    tail = dummy\n",
        "    while list1 and list2:\n",
        "      if list1.val < list2.val:\n",
        "        tail.next = list1\n",
        "        list1 = list1.next\n",
        "      else:\n",
        "        tail.next = list2\n",
        "        list2 = list2.next\n",
        "      tail = tail.next\n",
        "    tail.next = list1 if list1 else list2\n",
        "    return dummy.next\n",
        "\n",
        "li1 = build_list([1,2,3])\n",
        "li2 = build_list([1,3,4])\n",
        "\n",
        "merged = Solution().mergeSorted(li1,li2)\n",
        "print_list(merged)"
      ],
      "metadata": {
        "colab": {
          "base_uri": "https://localhost:8080/"
        },
        "id": "1ONqxl084wuC",
        "outputId": "ba87b053-8ddd-481b-fba1-f0b072b504d2"
      },
      "execution_count": 10,
      "outputs": [
        {
          "output_type": "execute_result",
          "data": {
            "text/plain": [
              "[1, 1, 2, 3, 3, 4]"
            ]
          },
          "metadata": {},
          "execution_count": 10
        }
      ]
    },
    {
      "cell_type": "code",
      "source": [
        "from logging import fatal\n",
        "# Remove nth node from the end of the list\n",
        "class ListNode:\n",
        "  def __init__(self,val=0,next=None):\n",
        "    self.val = val\n",
        "    self.next = next\n",
        "\n",
        "def build_list(vals):\n",
        "  if not vals:\n",
        "    return None\n",
        "\n",
        "  head = ListNode(vals[0])\n",
        "  curr = head\n",
        "\n",
        "  for val in vals[1:]:\n",
        "    curr.next = ListNode(val)\n",
        "    curr = curr.next\n",
        "  return head\n",
        "\n",
        "def print_list(head):\n",
        "  vals = []\n",
        "  while head:\n",
        "    vals.append(head.val)\n",
        "    head = head.next\n",
        "  return vals\n",
        "\n",
        "class Solution:\n",
        "  def removeNth(self,head,n):\n",
        "    dummy = ListNode(0,head)\n",
        "    fast = slow = dummy\n",
        "\n",
        "    for _ in range(n + 1):\n",
        "      fast = fast.next\n",
        "\n",
        "    while fast:\n",
        "      slow = slow.next\n",
        "      fast = fast.next\n",
        "\n",
        "    slow.next = slow.next.next\n",
        "    return dummy.next\n",
        "\n",
        "head = build_list([1,2,3,4,5,6])\n",
        "\n",
        "removed = Solution().removeNth(head,2)\n",
        "print_list(removed)\n"
      ],
      "metadata": {
        "colab": {
          "base_uri": "https://localhost:8080/"
        },
        "id": "YwxZnMIT9Ola",
        "outputId": "ca39aa04-87f7-4590-de07-d1904a023cb4"
      },
      "execution_count": 11,
      "outputs": [
        {
          "output_type": "execute_result",
          "data": {
            "text/plain": [
              "[1, 2, 3, 4, 6]"
            ]
          },
          "metadata": {},
          "execution_count": 11
        }
      ]
    },
    {
      "cell_type": "code",
      "source": [
        "# add two numbers\n",
        "\n",
        "class ListNode:\n",
        "  def __init__(self,val=0,next=None):\n",
        "    self.val = val\n",
        "    self.next = next\n",
        "\n",
        "def build_list(vals):\n",
        "  if not vals:\n",
        "    return None\n",
        "\n",
        "  head = ListNode(vals[0])\n",
        "  curr = head\n",
        "\n",
        "  for val in vals[1:]:\n",
        "    curr.next = ListNode(val)\n",
        "    curr = curr.next\n",
        "  return head\n",
        "\n",
        "def print_list(head):\n",
        "  vals = []\n",
        "  while head:\n",
        "    vals.append(head.val)\n",
        "    head = head.next\n",
        "  return vals\n",
        "\n",
        "class Solution:\n",
        "  def addNum(self,l1,l2):\n",
        "    dummy = ListNode()\n",
        "    res = dummy\n",
        "\n",
        "    total = carry = 0\n",
        "\n",
        "    while l1 or l2 or carry:\n",
        "      total = carry\n",
        "\n",
        "      if l1:\n",
        "        total += l1.val\n",
        "        l1 = l1.next\n",
        "      if l2:\n",
        "        total += l2.val\n",
        "        l2 = l2.next\n",
        "\n",
        "      num = total % 10\n",
        "      carry = total // 10\n",
        "      dummy.next = ListNode(num)\n",
        "      dummy = dummy.next\n",
        "    return res.next\n",
        "\n",
        "l1 = build_list([2,4,3])\n",
        "l2 = build_list([5,6,4])\n",
        "\n",
        "adds = Solution().addNum(l1,l2)\n",
        "print_list(adds)"
      ],
      "metadata": {
        "colab": {
          "base_uri": "https://localhost:8080/"
        },
        "id": "7kgp5wqoEKHK",
        "outputId": "623d22af-9546-4b0a-f6e9-10eb61c8c868"
      },
      "execution_count": 12,
      "outputs": [
        {
          "output_type": "execute_result",
          "data": {
            "text/plain": [
              "[7, 0, 8]"
            ]
          },
          "metadata": {},
          "execution_count": 12
        }
      ]
    },
    {
      "cell_type": "code",
      "source": [
        "# Delete node\n",
        "class ListNode:\n",
        "  def __init__(self,val=0,next=None):\n",
        "    self.val = val\n",
        "    self.next = next\n",
        "\n",
        "def build_list(vals):\n",
        "  if not vals:\n",
        "    return None\n",
        "  head = ListNode(vals[0])\n",
        "  curr = head\n",
        "\n",
        "  for val in vals[1:]:\n",
        "    curr.next = ListNode(val)\n",
        "    curr = curr.next\n",
        "\n",
        "  return head\n",
        "\n",
        "def print_list(head):\n",
        "  vals = []\n",
        "  while head:\n",
        "    vals.append(head.val)\n",
        "    head = head.next\n",
        "  return vals\n",
        "\n",
        "def findNode(head,target):\n",
        "  while head and head.val != target:\n",
        "    head = head.next\n",
        "  return head\n",
        "\n",
        "class Solution:\n",
        "  def deleteNode(self,node):\n",
        "    node.val = node.next.val\n",
        "    node.next = node.next.next\n",
        "\n",
        "\n",
        "head = build_list([4,5,1,9])\n",
        "\n",
        "deletes = Solution().deleteNode(findNode(head,1))\n",
        "print_list(head)"
      ],
      "metadata": {
        "colab": {
          "base_uri": "https://localhost:8080/"
        },
        "id": "tpQjZnp-G22Q",
        "outputId": "e6a76fde-4f2b-4c5b-d5d0-f49b5ac9f72d"
      },
      "execution_count": 19,
      "outputs": [
        {
          "output_type": "execute_result",
          "data": {
            "text/plain": [
              "[4, 5, 9]"
            ]
          },
          "metadata": {},
          "execution_count": 19
        }
      ]
    }
  ]
}