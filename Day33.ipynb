{
  "nbformat": 4,
  "nbformat_minor": 0,
  "metadata": {
    "colab": {
      "provenance": [],
      "authorship_tag": "ABX9TyNAitDOcresmIFTgL0eLol8",
      "include_colab_link": true
    },
    "kernelspec": {
      "name": "python3",
      "display_name": "Python 3"
    },
    "language_info": {
      "name": "python"
    }
  },
  "cells": [
    {
      "cell_type": "markdown",
      "metadata": {
        "id": "view-in-github",
        "colab_type": "text"
      },
      "source": [
        "<a href=\"https://colab.research.google.com/github/harsha-9977/DSA/blob/main/Day33.ipynb\" target=\"_parent\"><img src=\"https://colab.research.google.com/assets/colab-badge.svg\" alt=\"Open In Colab\"/></a>"
      ]
    },
    {
      "cell_type": "code",
      "execution_count": 1,
      "metadata": {
        "colab": {
          "base_uri": "https://localhost:8080/"
        },
        "id": "05exPLWyqqDJ",
        "outputId": "b8b3f782-2384-453d-d40a-afbb05e28925"
      },
      "outputs": [
        {
          "output_type": "stream",
          "name": "stdout",
          "text": [
            "9.261000000000001\n"
          ]
        }
      ],
      "source": [
        "# Pow(x,n)\n",
        "def pow(x,n):\n",
        "  if n < 0:\n",
        "    x,n = 1/x, -n\n",
        "\n",
        "  ans = 1\n",
        "  while n:\n",
        "    if n%2 == 1:\n",
        "      ans *= x\n",
        "    x *= x\n",
        "    n >>= 1\n",
        "  return ans\n",
        "print(pow(2.10000,  3))"
      ]
    },
    {
      "cell_type": "code",
      "source": [
        "# Majority element boyer-moore voting algorithm BATTLE FIELD\n",
        "def maj(nums):\n",
        "  candidate = -1\n",
        "  count = 0\n",
        "\n",
        "  for i in nums:\n",
        "    if count == 0:\n",
        "      candidate = i\n",
        "    count += (1 if i == candidate else -1)\n",
        "  return candidate\n",
        "print(maj([3,2,3]))"
      ],
      "metadata": {
        "colab": {
          "base_uri": "https://localhost:8080/"
        },
        "id": "_MAcWttezRGf",
        "outputId": "2bacc435-a070-4e7e-8789-e473f1a947f8"
      },
      "execution_count": 2,
      "outputs": [
        {
          "output_type": "stream",
          "name": "stdout",
          "text": [
            "3\n"
          ]
        }
      ]
    },
    {
      "cell_type": "code",
      "source": [
        "# Unique paths\n",
        "import math\n",
        "def path(m,n):\n",
        "  return math.comb(m+n-2, m-1)\n",
        "print(path(3,7))"
      ],
      "metadata": {
        "colab": {
          "base_uri": "https://localhost:8080/"
        },
        "id": "GYengOzz7wee",
        "outputId": "e579e9ab-1116-4e0a-d36f-648a7e914d23"
      },
      "execution_count": 3,
      "outputs": [
        {
          "output_type": "stream",
          "name": "stdout",
          "text": [
            "28\n"
          ]
        }
      ]
    },
    {
      "cell_type": "code",
      "source": [
        "# Reverse Pairs\n",
        "def ReversePairs(nums):\n",
        "  def mergeSort(start,end):\n",
        "    if start >= end:\n",
        "      return 0\n",
        "\n",
        "    mid = (start + end) // 2\n",
        "    count = mergeSort(start,mid) + mergeSort(mid+1,end)\n",
        "\n",
        "    j = mid + 1\n",
        "    for i in range(start,mid+1):\n",
        "      while j <= end and nums[i] > 2*nums[j]:\n",
        "        j += 1\n",
        "      count += (j - (mid+1))\n",
        "\n",
        "    temp = []\n",
        "    left,right = start,mid+1\n",
        "    while left <= mid and right <= end:\n",
        "      if nums[left] <= nums[right]:\n",
        "        temp.append(nums[left])\n",
        "        left += 1\n",
        "      else:\n",
        "        temp.append(nums[right])\n",
        "        right += 1\n",
        "    while left <= mid:\n",
        "      temp.append(nums[left])\n",
        "      left += 1\n",
        "    while right <= end:\n",
        "      temp.append(nums[right])\n",
        "      right += 1\n",
        "    nums[start:end+1] = temp\n",
        "    return count\n",
        "  return mergeSort(0,len(nums)-1)\n",
        "print(ReversePairs([1,3,2,3,1]))"
      ],
      "metadata": {
        "colab": {
          "base_uri": "https://localhost:8080/"
        },
        "id": "jFO1UwYaIN_j",
        "outputId": "cdcfb248-0318-4789-fdb8-0f046f05bdda"
      },
      "execution_count": 5,
      "outputs": [
        {
          "output_type": "stream",
          "name": "stdout",
          "text": [
            "2\n"
          ]
        }
      ]
    }
  ]
}