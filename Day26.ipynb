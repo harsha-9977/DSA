{
  "nbformat": 4,
  "nbformat_minor": 0,
  "metadata": {
    "colab": {
      "provenance": [],
      "authorship_tag": "ABX9TyOE+L/A8ivdoToD1VDwOCW5",
      "include_colab_link": true
    },
    "kernelspec": {
      "name": "python3",
      "display_name": "Python 3"
    },
    "language_info": {
      "name": "python"
    }
  },
  "cells": [
    {
      "cell_type": "markdown",
      "metadata": {
        "id": "view-in-github",
        "colab_type": "text"
      },
      "source": [
        "<a href=\"https://colab.research.google.com/github/harsha-9977/DSA/blob/main/Day26.ipynb\" target=\"_parent\"><img src=\"https://colab.research.google.com/assets/colab-badge.svg\" alt=\"Open In Colab\"/></a>"
      ]
    },
    {
      "cell_type": "code",
      "execution_count": 3,
      "metadata": {
        "colab": {
          "base_uri": "https://localhost:8080/"
        },
        "id": "KOfUwTqIUNa5",
        "outputId": "302adcd3-67d9-4133-d582-14645bd51e4e"
      },
      "outputs": [
        {
          "output_type": "stream",
          "name": "stdout",
          "text": [
            "True\n"
          ]
        }
      ],
      "source": [
        "# Array pair sum divisibilty problem\n",
        "from collections import Counter\n",
        "def canPair(arr, k):\n",
        "  rem_count = Counter([i % k for i in arr])\n",
        "\n",
        "  for r in rem_count:\n",
        "    if r == 0:\n",
        "      if rem_count[r] % 2 != 0:\n",
        "        return False\n",
        "    elif r == k//2 and k % 2 == 0:\n",
        "      if rem_count[r] % 2 != 0:\n",
        "        return False\n",
        "    else:\n",
        "      if rem_count[r] != rem_count[k-r]:\n",
        "        return False\n",
        "  return True\n",
        "print(canPair([9, 5, 7, 3], 6))"
      ]
    }
  ]
}