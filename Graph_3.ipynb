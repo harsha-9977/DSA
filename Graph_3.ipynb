{
  "nbformat": 4,
  "nbformat_minor": 0,
  "metadata": {
    "colab": {
      "provenance": [],
      "authorship_tag": "ABX9TyN3IxxPJr00TBz0v1KNMC55",
      "include_colab_link": true
    },
    "kernelspec": {
      "name": "python3",
      "display_name": "Python 3"
    },
    "language_info": {
      "name": "python"
    }
  },
  "cells": [
    {
      "cell_type": "markdown",
      "metadata": {
        "id": "view-in-github",
        "colab_type": "text"
      },
      "source": [
        "<a href=\"https://colab.research.google.com/github/harsha-9977/DSA/blob/main/Graph_3.ipynb\" target=\"_parent\"><img src=\"https://colab.research.google.com/assets/colab-badge.svg\" alt=\"Open In Colab\"/></a>"
      ]
    },
    {
      "cell_type": "code",
      "execution_count": null,
      "metadata": {
        "colab": {
          "base_uri": "https://localhost:8080/"
        },
        "id": "1ItdfbtHuN7m",
        "outputId": "78ea6f8e-07a7-4673-d7c5-e6677ac9b476"
      },
      "outputs": [
        {
          "output_type": "stream",
          "name": "stdout",
          "text": [
            "Original graph  [[2, 4], [1, 3], [2, 4], [1, 3]]\n",
            "Cloned graph  [[2, 4], [1, 3], [2, 4], [1, 3]]\n"
          ]
        }
      ],
      "source": [
        "class Node:\n",
        "  from typing import Optional\n",
        "  def __init__(self, val = 0, neighbors = None):\n",
        "    self.val = val\n",
        "    self.neighbors = neighbors if neighbors is not None else []\n",
        "\n",
        "def list_to_graph(adjList):\n",
        "  if not adjList:\n",
        "    return None\n",
        "\n",
        "  nodes = [Node(i+1) for i in range(len(adjList))]\n",
        "  for i, neighbors in enumerate(adjList):\n",
        "    nodes[i].neighbors = [nodes[j-1] for j in neighbors]\n",
        "  return nodes[0]\n",
        "\n",
        "\n",
        "def clone_graph(curr):\n",
        "  old_to_new = {}\n",
        "\n",
        "  def dfs(curr):\n",
        "    if curr in old_to_new:\n",
        "      return old_to_new[curr]\n",
        "\n",
        "    clone = Node(curr.val)\n",
        "    old_to_new[curr] = clone\n",
        "    for neighbors in curr.neighbors:\n",
        "      clone.neighbors.append(dfs(neighbors))\n",
        "    return clone\n",
        "\n",
        "  return dfs(curr)\n",
        "\n",
        "def graph_to_list(node):\n",
        "  from collections import deque\n",
        "  visited = {}\n",
        "\n",
        "  q = deque([node])\n",
        "\n",
        "  while q:\n",
        "    curr = q.popleft()\n",
        "    if curr not in visited:\n",
        "      visited[curr.val] = [i.val for i in curr.neighbors]\n",
        "      for i in curr.neighbors:\n",
        "        if i.val not in visited:\n",
        "          q.append(i)\n",
        "  return [visited[i] for i in range(1, len(visited)+1)]\n",
        "\n",
        "\n",
        "\n",
        "li = [[2,4],[1,3],[2,4],[1,3]]\n",
        "graph = list_to_graph(li)\n",
        "cloned = clone_graph(graph)\n",
        "print(\"Original graph \", li)\n",
        "print(\"Cloned graph \", graph_to_list(cloned))"
      ]
    },
    {
      "cell_type": "code",
      "source": [
        "# DFS\n",
        "def dfsOfGraph(li):\n",
        "  visited = [False] * len(li)\n",
        "  result = []\n",
        "\n",
        "  def dfs(node):\n",
        "    visited[node] = True\n",
        "    result.append(node)\n",
        "\n",
        "    for neighbor in li[node]:\n",
        "      if not visited[neighbor]:\n",
        "        dfs(neighbor)\n",
        "\n",
        "\n",
        "  dfs(0)\n",
        "  return result\n",
        "adj1 = [[2, 3, 1], [0], [0, 4], [0], [2]]\n",
        "print(\"DFS: \", dfsOfGraph(adj1))"
      ],
      "metadata": {
        "colab": {
          "base_uri": "https://localhost:8080/"
        },
        "id": "B1VRSmoxF3fP",
        "outputId": "2d2ae074-90cb-4c55-97dd-0dc506bb4c04"
      },
      "execution_count": null,
      "outputs": [
        {
          "output_type": "stream",
          "name": "stdout",
          "text": [
            "DFS:  [0, 2, 4, 3, 1]\n"
          ]
        }
      ]
    },
    {
      "cell_type": "code",
      "source": [
        "# BFS\n",
        "from collections import deque\n",
        "# Directed Graph BFS Cycle detection\n",
        "def bfsOfGraph(li):\n",
        "  visited = [False] * len(li)\n",
        "  result = []\n",
        "\n",
        "  q = deque()\n",
        "  q.append(0)\n",
        "\n",
        "  while q:\n",
        "    curr = q.popleft()\n",
        "    visited[curr] = True\n",
        "    result.append(curr)\n",
        "\n",
        "    for neighbor in li[curr]:\n",
        "      if not visited[neighbor]:\n",
        "        q.append(neighbor)\n",
        "  return result\n",
        "\n",
        "adj1 = [[2, 3, 1], [0], [0, 4], [0], [2]]\n",
        "print(\"BFS: \", bfsOfGraph(adj1))"
      ],
      "metadata": {
        "colab": {
          "base_uri": "https://localhost:8080/"
        },
        "id": "esnbAqH0HiNx",
        "outputId": "1aa4739e-76d8-4e28-f7f6-8f83e6ebfd00"
      },
      "execution_count": null,
      "outputs": [
        {
          "output_type": "stream",
          "name": "stdout",
          "text": [
            "BFS:  [0, 2, 3, 1, 4]\n"
          ]
        }
      ]
    },
    {
      "cell_type": "code",
      "source": [
        "from types import prepare_class\n",
        "# Directed Graph DFS Cycle detection\n",
        "def dfsCycle(numCourses, prerequisites):\n",
        "  graph = {i: [] for i in range(numCourses)}\n",
        "  for a, b in prerequisites:\n",
        "    graph[b].append(a)\n",
        "\n",
        "  def dfs(course):\n",
        "    if visited[course] == 1:\n",
        "      return False\n",
        "    if visited[course] == 2:\n",
        "      return True\n",
        "\n",
        "    visited[course] = 1\n",
        "    for neighbor in graph[course]:\n",
        "      if not dfs(neighbor):\n",
        "        return False\n",
        "    visited[course] = 2\n",
        "    return True\n",
        "\n",
        "  visited = [0] * numCourses\n",
        "\n",
        "  for c in range(numCourses):\n",
        "    if visited[c] == 0:\n",
        "      if not dfs(c):\n",
        "        return False\n",
        "  return True\n",
        "numCourses1 = 2\n",
        "prerequisites1 = [[1,0]]\n",
        "numCourses2 = 2\n",
        "prerequisites2 = [[1,0],[0,1]]\n",
        "\n",
        "\n",
        "print(dfsCycle(numCourses1, prerequisites1))\n",
        "print(dfsCycle(numCourses2, prerequisites2))"
      ],
      "metadata": {
        "colab": {
          "base_uri": "https://localhost:8080/"
        },
        "id": "fu240i4dNFmy",
        "outputId": "09c94b14-0da1-4482-97cd-a4de6e93c1e2"
      },
      "execution_count": null,
      "outputs": [
        {
          "output_type": "stream",
          "name": "stdout",
          "text": [
            "True\n",
            "False\n"
          ]
        }
      ]
    },
    {
      "cell_type": "code",
      "source": [
        "from collections import deque\n",
        "def bfsCycle(numCourses, prerequisites):\n",
        "  graph = {i: [] for i in range(numCourses)}\n",
        "  indegree = [0] * numCourses\n",
        "  for a, b in prerequisites:\n",
        "    graph[b].append(a)\n",
        "    indegree[a] += 1\n",
        "\n",
        "  q = deque(i for i in range(numCourses) if indegree[i] == 0)\n",
        "\n",
        "  visited_count = 0\n",
        "\n",
        "  while q:\n",
        "    course = q.popleft()\n",
        "    visited_count += 1\n",
        "\n",
        "    for neighbor in graph[course]:\n",
        "        indegree[neighbor] -= 1\n",
        "        if indegree[neighbor] == 0:\n",
        "          q.append(neighbor)\n",
        "  return visited_count == numCourses\n",
        "\n",
        "\n",
        "numCourses1 = 2\n",
        "prerequisites1 = [[1,0]]\n",
        "numCourses2 = 2\n",
        "prerequisites2 = [[1,0],[0,1]]\n",
        "\n",
        "\n",
        "print(bfsCycle(numCourses1, prerequisites1))\n",
        "print(bfsCycle(numCourses2, prerequisites2))"
      ],
      "metadata": {
        "colab": {
          "base_uri": "https://localhost:8080/"
        },
        "id": "20XPTyzpTos7",
        "outputId": "ba2d0383-994d-4f38-b403-da92b6840a37"
      },
      "execution_count": null,
      "outputs": [
        {
          "output_type": "stream",
          "name": "stdout",
          "text": [
            "True\n",
            "False\n"
          ]
        }
      ]
    },
    {
      "cell_type": "code",
      "source": [
        "# Undirected Graph DFS\n",
        "def dfsCycleUndirected(n, edges):\n",
        "    graph = {i: [] for i in range(n)}\n",
        "    for u, v in edges:\n",
        "        graph[u].append(v)\n",
        "        graph[v].append(u)  # undirected: add both ways\n",
        "\n",
        "    visited = [False] * n\n",
        "\n",
        "    def dfs(node, parent):\n",
        "        visited[node] = True\n",
        "        for neighbor in graph[node]:\n",
        "            if not visited[neighbor]:\n",
        "                if dfs(neighbor, node):\n",
        "                    return True\n",
        "            elif neighbor != parent:  # visited but not parent → cycle\n",
        "                return True\n",
        "        return False\n",
        "\n",
        "    for i in range(n):\n",
        "        if not visited[i]:\n",
        "            if dfs(i, -1):\n",
        "                return True\n",
        "    return False\n",
        "\n",
        "edges1 = [[0,1],[1,2],[2,0]]\n",
        "print(dfsCycleUndirected(3, edges1))  # True\n",
        "edges2 = [[0,1],[1,2]]\n",
        "print(dfsCycleUndirected(3, edges2))  # False"
      ],
      "metadata": {
        "colab": {
          "base_uri": "https://localhost:8080/"
        },
        "id": "6TA8woF8aKV6",
        "outputId": "7a90a976-3288-4b8c-e1e8-feeb4bb9ac61"
      },
      "execution_count": null,
      "outputs": [
        {
          "output_type": "stream",
          "name": "stdout",
          "text": [
            "True\n",
            "False\n"
          ]
        }
      ]
    },
    {
      "cell_type": "code",
      "source": [
        "# Undirected Grpah BFS\n",
        "from collections import deque\n",
        "\n",
        "def bfsCycleUndirected(n, edges):\n",
        "    graph = {i: [] for i in range(n)}\n",
        "    for u, v in edges:\n",
        "        graph[u].append(v)\n",
        "        graph[v].append(u)  # undirected: add both ways\n",
        "\n",
        "    visited = [False] * n\n",
        "\n",
        "    for start in range(n):\n",
        "        if not visited[start]:\n",
        "            q = deque([(start, -1)])  # (node, parent)\n",
        "            visited[start] = True\n",
        "\n",
        "            while q:\n",
        "                node, parent = q.popleft()\n",
        "                for neighbor in graph[node]:\n",
        "                    if not visited[neighbor]:\n",
        "                        visited[neighbor] = True\n",
        "                        q.append((neighbor, node))\n",
        "                    elif neighbor != parent:  # already visited & not parent → cycle\n",
        "                        return True\n",
        "    return False\n",
        "\n",
        "edges1 = [[0,1],[1,2],[2,0]]\n",
        "print(bfsCycleUndirected(3, edges1))  # True\n",
        "\n",
        "edges2 = [[0,1],[1,2]]\n",
        "print(bfsCycleUndirected(3, edges2))  # False\n"
      ],
      "metadata": {
        "colab": {
          "base_uri": "https://localhost:8080/"
        },
        "id": "YV0qYsi1bGo-",
        "outputId": "905c0196-551a-4e41-b8fd-374b4aa89ec0"
      },
      "execution_count": null,
      "outputs": [
        {
          "output_type": "stream",
          "name": "stdout",
          "text": [
            "True\n",
            "False\n"
          ]
        }
      ]
    },
    {
      "cell_type": "code",
      "source": [
        "# Topological Sort\n",
        "def top_sort_dfs(V, edges):\n",
        "  graph = {i:[] for i in range(V)}\n",
        "  for u, v in edges:\n",
        "    graph[u].append(v)\n",
        "\n",
        "  visited = [False] * V\n",
        "  stack = []\n",
        "\n",
        "  def dfs(node):\n",
        "    visited[node] = True\n",
        "\n",
        "    for neighbor in graph[node]:\n",
        "      if not visited[neighbor]:\n",
        "        visited[neighbor] = True\n",
        "        dfs(neighbor)\n",
        "    stack.append(node)\n",
        "\n",
        "  for i in range(V):\n",
        "    if not visited[i]:\n",
        "      dfs(i)\n",
        "  return stack[::-1]\n",
        "\n",
        "\n",
        "from collections import deque\n",
        "def top_sort_bfs(V, edges):\n",
        "  graph = {i: [] for i in range(V)}\n",
        "  indegree = [0] * V\n",
        "  for u, v in edges:\n",
        "    graph[u].append(v)\n",
        "    indegree[v] += 1\n",
        "\n",
        "  q = deque([i for i in range(V) if indegree[i] == 0])\n",
        "  top_sort = []\n",
        "\n",
        "  while q:\n",
        "    curr = q.popleft()\n",
        "    top_sort.append(curr)\n",
        "\n",
        "    for neighbor in graph[curr]:\n",
        "      indegree[neighbor] -= 1\n",
        "      if indegree[neighbor] == 0:\n",
        "        q.append(neighbor)\n",
        "\n",
        "  return top_sort\n",
        "\n",
        "\n",
        "print(top_sort_dfs(6, [[1, 3], [2, 3], [4, 1], [4, 0], [5, 0], [5,2]]))\n",
        "print(top_sort_dfs(4, [[3, 0], [1, 0], [2, 0]]))\n",
        "\n",
        "print(top_sort_bfs(6, [[1, 3], [2, 3], [4, 1], [4, 0], [5, 0], [5,2]]))\n",
        "print(top_sort_bfs(4, [[3, 0], [1, 0], [2, 0]]))"
      ],
      "metadata": {
        "colab": {
          "base_uri": "https://localhost:8080/"
        },
        "id": "RTobRKdMX_bw",
        "outputId": "cea83be6-28e7-4710-acfd-8ca65d97380d"
      },
      "execution_count": null,
      "outputs": [
        {
          "output_type": "stream",
          "name": "stdout",
          "text": [
            "[5, 4, 2, 1, 3, 0]\n",
            "[3, 2, 1, 0]\n",
            "[4, 5, 1, 0, 2, 3]\n",
            "[1, 2, 3, 0]\n"
          ]
        }
      ]
    },
    {
      "cell_type": "code",
      "source": [
        "# Number of islands(Do in Grid and Graph Both)\n",
        "from collections import deque\n",
        "def dfs_i(grid):\n",
        "  n, m = len(grid), len(grid[0])\n",
        "  visited = [[False] * m for i in range(n)]\n",
        "\n",
        "  def dfs(r, c):\n",
        "    if r < 0 or c < 0 or r >= n or c >= m or grid[r][c] == \"0\" or visited[r][c]:\n",
        "      return\n",
        "    visited[r][c] = True\n",
        "    dfs(r+1,c)\n",
        "    dfs(r-1,c)\n",
        "    dfs(r,c+1)\n",
        "    dfs(r,c-1)\n",
        "\n",
        "  islands = 0\n",
        "  for i in range(n):\n",
        "    for j in range(m):\n",
        "      if grid[i][j] == \"1\" and not visited[i][j]:\n",
        "        dfs(i, j)\n",
        "        islands += 1\n",
        "  return islands\n",
        "\n",
        "def bfs_i(grid):\n",
        "  n, m = len(grid), len(grid[0])\n",
        "  visited = [[False] * m for i in range(n)]\n",
        "\n",
        "  def bfs(r, c):\n",
        "    q = deque([(r,c)])\n",
        "    visited[r][c] = True\n",
        "\n",
        "    while q:\n",
        "      x, y = q.popleft()\n",
        "      for dx, dy in [(0,1),(0,-1),(1,0),(-1,0)]:\n",
        "        nx, ny = dx+x, dy+y\n",
        "        if 0 <= nx < n and 0 <= ny < m and grid[nx][ny] == \"1\" and  not visited[nx][ny]:\n",
        "          visited[nx][ny] = True\n",
        "          q.append((nx, ny))\n",
        "\n",
        "  island = 0\n",
        "  for i in range(n):\n",
        "    for j in range(m):\n",
        "      if grid[i][j] == \"1\" and not visited[i][j]:\n",
        "        bfs(i, j)\n",
        "        island += 1\n",
        "  return island\n",
        "\n",
        "grid1 = [\n",
        "  [\"1\",\"1\",\"1\",\"1\",\"0\"],\n",
        "  [\"1\",\"1\",\"0\",\"1\",\"0\"],\n",
        "  [\"1\",\"1\",\"0\",\"0\",\"0\"],\n",
        "  [\"0\",\"0\",\"0\",\"0\",\"0\"]\n",
        "]\n",
        "\n",
        "\n",
        "grid2 = [\n",
        "  [\"1\",\"1\",\"0\",\"0\",\"0\"],\n",
        "  [\"1\",\"1\",\"0\",\"0\",\"0\"],\n",
        "  [\"0\",\"0\",\"1\",\"0\",\"0\"],\n",
        "  [\"0\",\"0\",\"0\",\"1\",\"1\"]\n",
        "]\n",
        "\n",
        "print(dfs_i(grid1))\n",
        "print(bfs_i(grid1))\n",
        "\n",
        "print(dfs_i(grid2))\n",
        "print(dfs_i(grid2))"
      ],
      "metadata": {
        "colab": {
          "base_uri": "https://localhost:8080/"
        },
        "id": "tljrUBmghKHG",
        "outputId": "5f9a4a95-6c42-423a-b6a6-33d6a62d28ad"
      },
      "execution_count": null,
      "outputs": [
        {
          "output_type": "stream",
          "name": "stdout",
          "text": [
            "1\n",
            "1\n",
            "3\n",
            "3\n"
          ]
        }
      ]
    },
    {
      "cell_type": "code",
      "source": [
        "# Is Bipartite xxxxxxxxxxxxxxxxxxxxxxxxxxxxxxxxxxxxxxxxERROR IN DFSxxxxxxxxxxxxxxxxxxxxxxxxxxxxxxxxxxxxxxxx\n",
        "from collections import deque\n",
        "def dfs_bi(graph):\n",
        "  n = len(graph)\n",
        "  visited = [-1] * n\n",
        "\n",
        "  def dfs(node, parent):\n",
        "    visited[node] = parent\n",
        "\n",
        "    for neighbor in graph[node]:\n",
        "      if visited[neighbor] == -1:\n",
        "        if not dfs(neighbor,1 - parent):\n",
        "          return False\n",
        "      elif visited[neighbor] == parent:\n",
        "          return False\n",
        "    return True\n",
        "\n",
        "\n",
        "  for i in range(n):\n",
        "    if visited[i] == -1:\n",
        "      if not dfs(i,0):\n",
        "        return False\n",
        "  return True\n",
        "\n",
        "def bfs_bi(graph):\n",
        "  n = len(graph)\n",
        "  visited = [-1] * n\n",
        "\n",
        "  for i in range(n):\n",
        "    if visited[i] == -1:\n",
        "      q = deque([i])\n",
        "      visited[i] = 0\n",
        "\n",
        "      while q:\n",
        "        curr = q.popleft()\n",
        "\n",
        "        for neighbor in graph[curr]:\n",
        "          if visited[neighbor] == -1:\n",
        "            visited[neighbor] = 1 - visited[curr]\n",
        "            q.append(neighbor)\n",
        "          elif visited[neighbor] == visited[curr]:\n",
        "            return False\n",
        "  return True\n",
        "\n",
        "graph1 = [[1,2,3],[0,2],[0,1,3],[0,2]]\n",
        "graph2 = [[1,3],[0,2],[1,3],[0,2]]\n",
        "\n",
        "print(dfs_bi(graph1))\n",
        "print(bfs_bi(graph1))\n",
        "\n",
        "print(dfs_bi(graph2))\n",
        "print(bfs_bi(graph2))"
      ],
      "metadata": {
        "colab": {
          "base_uri": "https://localhost:8080/"
        },
        "id": "HthTpV-osyf6",
        "outputId": "f1d807bb-697f-4ba5-9c83-a2572e2870c1"
      },
      "execution_count": null,
      "outputs": [
        {
          "output_type": "stream",
          "name": "stdout",
          "text": [
            "False\n",
            "False\n",
            "True\n",
            "True\n"
          ]
        }
      ]
    }
  ]
}