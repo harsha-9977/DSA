{
  "nbformat": 4,
  "nbformat_minor": 0,
  "metadata": {
    "colab": {
      "provenance": []
    },
    "kernelspec": {
      "name": "python3",
      "display_name": "Python 3"
    },
    "language_info": {
      "name": "python"
    }
  },
  "cells": [
    {
      "cell_type": "code",
      "execution_count": null,
      "metadata": {
        "colab": {
          "base_uri": "https://localhost:8080/"
        },
        "id": "ti9Se4YoOjLN",
        "outputId": "72688195-7f7d-4f7e-a855-b96ff5ad9720"
      },
      "outputs": [
        {
          "output_type": "stream",
          "name": "stdout",
          "text": [
            "[1, 2, 4, 3]\n"
          ]
        }
      ],
      "source": [
        "# Next permutation\n",
        "def nextPermutations(num):\n",
        "  n = len(num)\n",
        "\n",
        "  # finding the first decreasing element from the right\n",
        "  i = n-2\n",
        "  while num[i] >= num[i+1]:\n",
        "    i -= 1\n",
        "\n",
        "  if i >= 0:\n",
        "    # finding the element greater than num[i] from right and swap it!\n",
        "    j = n - 1\n",
        "    while num[j] <= num[i]:\n",
        "      j -= 1\n",
        "\n",
        "    num[i],num[j] = num[j],num[i]\n",
        "\n",
        "  # reverse the suffix\n",
        "  left, right = i + 1, n - 1\n",
        "  while left < right:\n",
        "    num[left], num[right] = num[right], num[left]\n",
        "    left += 1\n",
        "    right -= 1\n",
        "\n",
        "  print(num)\n",
        "\n",
        "nextPermutations([1,2,3,4])"
      ]
    },
    {
      "cell_type": "code",
      "source": [
        "# Array"
      ],
      "metadata": {
        "id": "0RAbiJn2VZR5"
      },
      "execution_count": null,
      "outputs": []
    },
    {
      "cell_type": "code",
      "source": [
        "# Get alternate elements of an array!\n",
        "def getAlternate1(arr):\n",
        "  res = []\n",
        "  for i in range(0,len(arr),2):\n",
        "    res.append(arr[i])\n",
        "  return res\n",
        "\n",
        "# recursive approach\n",
        "def getAlternateRec(arr,idx,res):\n",
        "  if idx <= len(arr):\n",
        "    res.append(arr[idx])\n",
        "    getAlternateRec(arr,idx+2,res)\n",
        "\n",
        "def getAlternate2(arr):\n",
        "  res = []\n",
        "  getAlternateRec(arr,0,res)\n",
        "  return res\n",
        "\n",
        "res1 = getAlternate1([10,20,30,40,50])\n",
        "res2 = getAlternate2([10,20,30,40,50])\n",
        "\n",
        "print(\" \".join(map(str,res1)))\n",
        "print(\" \".join(map(str,res2)))"
      ],
      "metadata": {
        "colab": {
          "base_uri": "https://localhost:8080/"
        },
        "id": "6Uk9r9hw8oVd",
        "outputId": "8cee114f-caec-4abd-92d0-f3910a0723c0"
      },
      "execution_count": null,
      "outputs": [
        {
          "output_type": "stream",
          "name": "stdout",
          "text": [
            "10 30 50\n",
            "10 30 50\n"
          ]
        }
      ]
    },
    {
      "cell_type": "code",
      "source": [
        "# Linear Search\n",
        "def linearSearch(arr,key):\n",
        "  for i in range(len(arr)):\n",
        "    if arr[i] == key:\n",
        "      return f\"located at index : {i}\"\n",
        "  return -1\n",
        "\n",
        "arr = [2, 3, 4, 10, 40]\n",
        "key = 10\n",
        "print(linearSearch(arr,key))"
      ],
      "metadata": {
        "colab": {
          "base_uri": "https://localhost:8080/"
        },
        "id": "BETThYE9-f9u",
        "outputId": "0103da57-dc69-441a-f8d0-9d2b4331d753"
      },
      "execution_count": null,
      "outputs": [
        {
          "output_type": "stream",
          "name": "stdout",
          "text": [
            "located at index : 3\n"
          ]
        }
      ]
    },
    {
      "cell_type": "code",
      "source": [
        "# Largest\n",
        "max(arr)"
      ],
      "metadata": {
        "id": "QeWVweqt_u3A"
      },
      "execution_count": null,
      "outputs": []
    },
    {
      "cell_type": "code",
      "source": [
        "from ast import iter_fields\n",
        "# Second Largest\n",
        "def secondLargest(arr):\n",
        "  if len(arr) < 2:\n",
        "    return \"Array should have atleast 2 elements!\"\n",
        "  first = second = float('-inf')\n",
        "\n",
        "  for num in arr:\n",
        "    if num > first:\n",
        "      second = first\n",
        "      first = num\n",
        "    elif num > second and num != first:\n",
        "      second = num\n",
        "\n",
        "  return second if second != float('-inf') else \"No second Largest found\"\n",
        "\n",
        "arr = [12, 35, 1, 10, 34, 1]\n",
        "print(secondLargest(arr))\n",
        "print(secondLargest([1,1,1,1]))\n"
      ],
      "metadata": {
        "colab": {
          "base_uri": "https://localhost:8080/"
        },
        "id": "h4045iWwAtF4",
        "outputId": "3e727365-78a4-4553-fa00-e2e1639c4941"
      },
      "execution_count": null,
      "outputs": [
        {
          "output_type": "stream",
          "name": "stdout",
          "text": [
            "34\n",
            "No second Largest found\n"
          ]
        }
      ]
    },
    {
      "cell_type": "code",
      "source": [
        "# Largest Three\n",
        "def largestThree(arr):\n",
        "  first = second = third = float('-inf')\n",
        "\n",
        "  for num in arr:\n",
        "    if num > first:\n",
        "      third = second\n",
        "      second = first\n",
        "      first = num\n",
        "    elif num > second and num != second:\n",
        "      third = second\n",
        "      second = num\n",
        "    elif num > third and num != first and num != second:\n",
        "      third = num\n",
        "\n",
        "  res = []\n",
        "  if first != float('-inf'):\n",
        "    res.append(first)\n",
        "  if second != float('-inf'):\n",
        "    res.append(second)\n",
        "  if third != float('-inf'):\n",
        "    res.append(third)\n",
        "\n",
        "  return res\n",
        "\n",
        "arr = [12, 13, 1, 10, 34, 11, 34]\n",
        "print(largestThree(arr))"
      ],
      "metadata": {
        "colab": {
          "base_uri": "https://localhost:8080/"
        },
        "id": "f38LuGrWEm7p",
        "outputId": "6386848b-0c9f-4f6a-cdd4-5d69fdbdd182"
      },
      "execution_count": null,
      "outputs": [
        {
          "output_type": "stream",
          "name": "stdout",
          "text": [
            "[34, 34, 13]\n"
          ]
        }
      ]
    },
    {
      "cell_type": "code",
      "source": [
        "# Check Array is sorted or not in ascending!\n",
        "def sortedOrNot(arr):\n",
        "  for i in range(1,len(arr)):\n",
        "    if arr[i] < arr[i-1]:\n",
        "      return False\n",
        "  return True\n",
        "\n",
        "arr = [20, 21, 45, 89, 89, 90]\n",
        "print(sortedOrNot(arr))"
      ],
      "metadata": {
        "colab": {
          "base_uri": "https://localhost:8080/"
        },
        "id": "aksuULHrJWrD",
        "outputId": "2b7c1d0f-92ee-4fe5-fbeb-2ec303af30e2"
      },
      "execution_count": null,
      "outputs": [
        {
          "output_type": "stream",
          "name": "stdout",
          "text": [
            "True\n"
          ]
        }
      ]
    },
    {
      "cell_type": "code",
      "source": [
        "# Remove duplicates from sorted array\n",
        "def removeDups(arr):\n",
        "  if len(arr) == 0:\n",
        "     return 0\n",
        "  track = []\n",
        "  i = 0\n",
        "  for j in range(1,len(arr)):\n",
        "    if arr[i] != arr[j]:\n",
        "       i += 1\n",
        "       print(f\"{i} , {j}------------- {arr[i]}---Before---{arr[j]}\")\n",
        "       arr[i] = arr[j]\n",
        "       print(f\"{i} ------------- {arr[i]}---After---{arr[j]}\")\n",
        "       track.append(arr[i])\n",
        "    else:\n",
        "      print(\"================Skipped=================\")\n",
        "  print(track)\n",
        "  return i + 1\n",
        "\n",
        "arr = [2, 2, 2, 2, 2]\n",
        "arr2 = [1, 2, 4]\n",
        "arr3 = [1, 2, 2, 3, 4, 4, 4, 5, 5]\n",
        "\n",
        "# print(removeDups(arr))\n",
        "# print(removeDups(arr2))\n",
        "print(removeDups(arr3))\n"
      ],
      "metadata": {
        "colab": {
          "base_uri": "https://localhost:8080/"
        },
        "id": "vGxr_YPWJreN",
        "outputId": "8a728ff7-d866-4959-f261-cf97b7ac54b7"
      },
      "execution_count": null,
      "outputs": [
        {
          "output_type": "stream",
          "name": "stdout",
          "text": [
            "1 , 1------------- 2---Before---2\n",
            "1 ------------- 2---After---2\n",
            "================Skipped=================\n",
            "2 , 3------------- 2---Before---3\n",
            "2 ------------- 3---After---3\n",
            "3 , 4------------- 3---Before---4\n",
            "3 ------------- 4---After---4\n",
            "================Skipped=================\n",
            "================Skipped=================\n",
            "4 , 7------------- 4---Before---5\n",
            "4 ------------- 5---After---5\n",
            "================Skipped=================\n",
            "[2, 3, 4, 5]\n",
            "5\n"
          ]
        }
      ]
    },
    {
      "cell_type": "code",
      "source": [
        "# Generating SubArrays\n",
        "def subArrays(arr):\n",
        "  n = len(arr)\n",
        "  res = []\n",
        "  for start in range(n):\n",
        "    for end in range(start,n):\n",
        "      subarray = arr[start:end+1]\n",
        "      print(subarray)\n",
        "      res.append(subarray)\n",
        "  return res\n",
        "\n",
        "arr = [1, 2, 3]\n",
        "print(subArrays(arr))\n"
      ],
      "metadata": {
        "colab": {
          "base_uri": "https://localhost:8080/"
        },
        "id": "ftdXvYpTP195",
        "outputId": "bc004c13-0bb6-461c-f510-6199affa8b21"
      },
      "execution_count": null,
      "outputs": [
        {
          "output_type": "stream",
          "name": "stdout",
          "text": [
            "[1]\n",
            "[1, 2]\n",
            "[1, 2, 3]\n",
            "[2]\n",
            "[2, 3]\n",
            "[3]\n",
            "[[1], [1, 2], [1, 2, 3], [2], [2, 3], [3]]\n"
          ]
        }
      ]
    },
    {
      "cell_type": "code",
      "source": [
        "# Reverse an Array\n",
        "def reverse1(arr):\n",
        "  left, right = 0, len(arr)-1\n",
        "\n",
        "  while left < right:\n",
        "    arr[left], arr[right] = arr[right], arr[left]\n",
        "    left += 1\n",
        "    right -= 1\n",
        "\n",
        "  return arr\n",
        "\n",
        "def reverse3(arr):\n",
        "  return arr[::-1]\n",
        "\n",
        "arr = [1,2,3,4]\n",
        "arr2 = [2,6,8,4,2,5,5,0,3,1]\n",
        "print(reverse1(arr))\n",
        "print(reverse3(arr2))"
      ],
      "metadata": {
        "colab": {
          "base_uri": "https://localhost:8080/"
        },
        "id": "WFgEPxHkTLtv",
        "outputId": "4a499505-7a94-4adc-9803-4bdfc47da5bb"
      },
      "execution_count": null,
      "outputs": [
        {
          "output_type": "stream",
          "name": "stdout",
          "text": [
            "[4, 3, 2, 1]\n",
            "[1, 3, 0, 5, 5, 2, 4, 8, 6, 2]\n"
          ]
        }
      ]
    },
    {
      "cell_type": "code",
      "source": [
        "# Rotation Of an array clockwise\n",
        "# if function is defined outside class its a function\n",
        "# if its defined inside it acts as method where we have to use self for access\n",
        "\n",
        "class Rotation:\n",
        "  def reverse(self, arr, start, end):\n",
        "    while start < end:\n",
        "      arr[start], arr[end] = arr[end], arr[start]\n",
        "      start += 1\n",
        "      end -= 1\n",
        "\n",
        "  def rotateArray(self, arr, d):\n",
        "    n = len(arr)\n",
        "    d %= n\n",
        "\n",
        "    self.reverse(arr, 0, d-1)\n",
        "    self.reverse(arr, d, n-1)\n",
        "    self.reverse(arr, 0, n-1)\n",
        "\n",
        "    return arr\n",
        "\n",
        "arr = [1,2,3,4,5]\n",
        "obj1 = Rotation()\n",
        "print(obj1.rotateArray(arr,2))\n",
        "\n"
      ],
      "metadata": {
        "colab": {
          "base_uri": "https://localhost:8080/"
        },
        "id": "_gNKrtZKls4C",
        "outputId": "e8d9e8c1-d8f5-4e89-faf8-c927fa268f3b"
      },
      "execution_count": null,
      "outputs": [
        {
          "output_type": "stream",
          "name": "stdout",
          "text": [
            "[3, 4, 5, 1, 2]\n"
          ]
        }
      ]
    },
    {
      "cell_type": "code",
      "source": [
        "# Move all Zeroes to end\n",
        "def zeroEnds(arr):\n",
        "  n = len(arr)\n",
        "  index = 0\n",
        "\n",
        "  for i in range(n):\n",
        "    if arr[i] != 0:\n",
        "      arr[index] = arr[i]\n",
        "      index += 1\n",
        "\n",
        "  while index < n:\n",
        "    arr[index] = 0\n",
        "    index += 1\n",
        "\n",
        "  return arr\n",
        "\n",
        "arr = [1, 2, 0, 4, 3, 0, 5, 0]\n",
        "print(zeroEnds(arr))"
      ],
      "metadata": {
        "colab": {
          "base_uri": "https://localhost:8080/"
        },
        "id": "lDgBEugStsvp",
        "outputId": "1c2d5a89-0013-4594-b0d2-9fb2f3e5232b"
      },
      "execution_count": null,
      "outputs": [
        {
          "output_type": "stream",
          "name": "stdout",
          "text": [
            "[1, 2, 4, 3, 5, 0, 0, 0]\n"
          ]
        }
      ]
    },
    {
      "cell_type": "code",
      "source": [
        "# min increments to make equal\n",
        "def minInc(arr, x):\n",
        "  n = len(arr)\n",
        "  max_value = max(arr)\n",
        "  ops = 0\n",
        "  for i in range(n):\n",
        "    diff = max_value - arr[i]\n",
        "    if diff % x != 0:\n",
        "      return -1\n",
        "    ops += diff // x\n",
        "  return ops\n",
        "\n",
        "arr = [4, 7, 19, 16]\n",
        "k = 3\n",
        "print(minInc(arr,k))\n",
        "print(minInc([4, 4, 4, 4],3))\n",
        "print(minInc([4,2,6,8],3))\n"
      ],
      "metadata": {
        "colab": {
          "base_uri": "https://localhost:8080/"
        },
        "id": "aOj7Z367z9Wn",
        "outputId": "1e1ad282-f15a-4349-8956-e31f2453bd6e"
      },
      "execution_count": null,
      "outputs": [
        {
          "output_type": "stream",
          "name": "stdout",
          "text": [
            "10\n",
            "0\n",
            "-1\n"
          ]
        }
      ]
    },
    {
      "cell_type": "code",
      "source": [
        "# Min cost to make array size 1 by removing larger pairs\n",
        "def minCost(arr):\n",
        "  n = len(arr)\n",
        "  return (n-1) * min(arr)\n",
        "\n",
        "a = [ 4, 3, 2 ]\n",
        "print(minCost(a))"
      ],
      "metadata": {
        "colab": {
          "base_uri": "https://localhost:8080/"
        },
        "id": "UBTLhIqe1g6q",
        "outputId": "c5f733e6-8a7e-4539-cc8f-9af9bc9b210e"
      },
      "execution_count": null,
      "outputs": [
        {
          "output_type": "stream",
          "name": "stdout",
          "text": [
            "4\n"
          ]
        }
      ]
    },
    {
      "cell_type": "code",
      "source": [
        "# Binary Search // handled to retrieve first occurance of key in an array\n",
        "def binarySearch(arr,k):\n",
        "  left, right = 0, len(arr)-1\n",
        "\n",
        "  while left < right:\n",
        "    mid = left + (right - left) // 2\n",
        "\n",
        "    result = -1\n",
        "\n",
        "    if arr[mid] == k:\n",
        "      result = mid\n",
        "      right = mid - 1\n",
        "    elif arr[mid] < k:\n",
        "      left = mid + 1\n",
        "    else:\n",
        "      right = mid - 1\n",
        "\n",
        "  return result\n",
        "\n",
        "arr = [1,1,1,2,2,2,3,3,3,3,3,4,4,4,4,5,5,5,5]\n",
        "print(binarySearch(arr,3))"
      ],
      "metadata": {
        "colab": {
          "base_uri": "https://localhost:8080/"
        },
        "id": "w7nDdEpR4OYO",
        "outputId": "d6299007-f1cc-4922-b2e6-b7898de15e7a"
      },
      "execution_count": null,
      "outputs": [
        {
          "output_type": "stream",
          "name": "stdout",
          "text": [
            "6\n"
          ]
        }
      ]
    },
    {
      "cell_type": "code",
      "source": [
        "# Selection Sort\n",
        "def selectionSort(arr):\n",
        "  n = len(arr)\n",
        "\n",
        "  for i in range(n):\n",
        "    min = i\n",
        "    for j in range(i+1, n):\n",
        "      if arr[min] > arr[j]:\n",
        "        min = j\n",
        "    arr[min], arr[i] = arr[i], arr[min]\n",
        "\n",
        "  return arr\n",
        "\n",
        "print(selectionSort([7,3,8,4,0,2,8,1]))"
      ],
      "metadata": {
        "colab": {
          "base_uri": "https://localhost:8080/"
        },
        "id": "w-siEfj86HKG",
        "outputId": "b28108b6-7d5d-4865-da67-955a921d84e9"
      },
      "execution_count": null,
      "outputs": [
        {
          "output_type": "stream",
          "name": "stdout",
          "text": [
            "[0, 1, 2, 3, 4, 7, 8, 8]\n"
          ]
        }
      ]
    },
    {
      "cell_type": "code",
      "source": [
        "# Insertion Sort\n",
        "\n",
        "def insertionSort(arr):\n",
        "  n = len(arr)\n",
        "\n",
        "  for i in range(1,n):\n",
        "    key = arr[i]\n",
        "    j = i - 1\n",
        "\n",
        "    while j >= 0 and arr[j] > key:\n",
        "      arr[j+1] = arr[j]\n",
        "      j -= 1\n",
        "\n",
        "    arr[j+1] = key\n",
        "\n",
        "  return arr\n",
        "\n",
        "print(insertionSort([7,3,8,4,0,2,8,1]))"
      ],
      "metadata": {
        "colab": {
          "base_uri": "https://localhost:8080/"
        },
        "id": "wZjZ6R8e8Dvh",
        "outputId": "44e73d4b-8e64-4ba8-e319-2618e7577fe5"
      },
      "execution_count": null,
      "outputs": [
        {
          "output_type": "stream",
          "name": "stdout",
          "text": [
            "[0, 1, 2, 3, 4, 7, 8, 8]\n"
          ]
        }
      ]
    },
    {
      "cell_type": "code",
      "source": [
        "# QuickSort\n",
        "def quickSort(arr, low, high):\n",
        "  if low < high:\n",
        "    pivot = partition(arr, low, high)\n",
        "    quickSort(arr,low, pivot)\n",
        "    quickSort(arr, pivot+1, high)\n",
        "\n",
        "  return arr\n",
        "\n",
        "def partition(arr, low, high):\n",
        "  pivot = arr[low]\n",
        "  i = low - 1\n",
        "  j = high + 1\n",
        "\n",
        "  while True:\n",
        "\n",
        "    i += 1\n",
        "    while arr[i] < pivot:\n",
        "      i += 1\n",
        "\n",
        "    j -= 1\n",
        "    while arr[j] > pivot:\n",
        "      j -= 1\n",
        "\n",
        "    if i >= j:\n",
        "      return j\n",
        "\n",
        "    arr[i], arr[j] = arr[j], arr[i]\n",
        "\n",
        "arr1 = [7, 3, 8, 4, 0, 2, 8, 1]\n",
        "arr2 = [4, 1, 3, 9, 7]\n",
        "arr3 = [2, 1, 6, 10, 4, 1, 3, 9, 7]\n",
        "arr4 = [5, 5, 5, 5]\n",
        "arr5 = [10, 7, 8, 9, 1, 5]\n",
        "print(quickSort(arr1,0,len(arr1)-1))\n",
        "print(quickSort(arr2,0,len(arr2)-1))\n",
        "print(quickSort(arr3,0,len(arr3)-1))\n",
        "print(quickSort(arr4,0,len(arr4)-1))\n",
        "print(quickSort(arr5,0,len(arr5)-1))"
      ],
      "metadata": {
        "colab": {
          "base_uri": "https://localhost:8080/"
        },
        "id": "JqJoGoFbE_TY",
        "outputId": "18652264-a762-4ea6-866c-831e1b691a05"
      },
      "execution_count": null,
      "outputs": [
        {
          "output_type": "stream",
          "name": "stdout",
          "text": [
            "[0, 1, 2, 3, 4, 7, 8, 8]\n",
            "[1, 3, 4, 7, 9]\n",
            "[1, 1, 2, 3, 4, 6, 7, 9, 10]\n",
            "[5, 5, 5, 5]\n",
            "[1, 5, 7, 8, 9, 10]\n"
          ]
        }
      ]
    },
    {
      "cell_type": "code",
      "source": [
        "from re import M\n",
        "# MergeSort\n",
        "def mergeSort(arr,l,r):\n",
        "  if l < r:\n",
        "    mid = l + (r - l) // 2\n",
        "\n",
        "    mergeSort(arr,l,mid)\n",
        "    mergeSort(arr,mid+1,r)\n",
        "\n",
        "    merge(arr,l,mid,r)\n",
        "\n",
        "def merge(arr,l,m,r):\n",
        "  n1 = m-l+1\n",
        "  n2 = r-m\n",
        "\n",
        "  L = arr[l:m+1]\n",
        "  R = arr[m+1:r+1]\n",
        "\n",
        "  i = j = 0\n",
        "  k = l\n",
        "\n",
        "  while i < n1 and j < n2:\n",
        "    if L[i] < R[j]:\n",
        "      arr[k] = L[i]\n",
        "      i += 1\n",
        "    else:\n",
        "      arr[k] = R[j]\n",
        "      j += 1\n",
        "\n",
        "    k += 1\n",
        "\n",
        "  while i < n1:\n",
        "      arr[k] = L[i]\n",
        "      i += 1\n",
        "  while j < n2:\n",
        "      arr[k] = R[j]\n",
        "      j += 1\n",
        "\n",
        "\n",
        "arr1 = [7, 3, 8, 4, 0, 2, 8, 1]\n",
        "arr2 = [4, 1, 3, 9, 7]\n",
        "arr3 = [2, 1, 6, 10, 4, 1, 3, 9, 7]\n",
        "arr4 = [5, 5, 5, 5]\n",
        "arr5 = [10, 7, 8, 9, 1, 5]\n",
        "print(mergeSort(arr1,0,len(arr1)-1))\n",
        "print(mergeSort(arr2,0,len(arr2)-1))\n",
        "print(mergeSort(arr3,0,len(arr3)-1))\n",
        "print(mergeSort(arr4,0,len(arr4)-1))\n",
        "print(mergeSort(arr5,0,len(arr5)-1))"
      ],
      "metadata": {
        "colab": {
          "base_uri": "https://localhost:8080/"
        },
        "id": "wZckZxfrN4S1",
        "outputId": "6e4513f9-2130-4fa0-ccb8-71a35e127423"
      },
      "execution_count": null,
      "outputs": [
        {
          "output_type": "stream",
          "name": "stdout",
          "text": [
            "None\n",
            "None\n",
            "None\n",
            "None\n",
            "None\n"
          ]
        }
      ]
    }
  ]
}