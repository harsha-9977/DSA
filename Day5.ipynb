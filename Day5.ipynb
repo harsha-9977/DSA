{
  "nbformat": 4,
  "nbformat_minor": 0,
  "metadata": {
    "colab": {
      "provenance": []
    },
    "kernelspec": {
      "name": "python3",
      "display_name": "Python 3"
    },
    "language_info": {
      "name": "python"
    }
  },
  "cells": [
    {
      "cell_type": "code",
      "execution_count": null,
      "metadata": {
        "id": "z2ALyjNgOg8f",
        "colab": {
          "base_uri": "https://localhost:8080/"
        },
        "outputId": "de804d5a-47fb-4565-f120-98dca75a4d6e"
      },
      "outputs": [
        {
          "output_type": "stream",
          "name": "stdout",
          "text": [
            "6\n"
          ]
        }
      ],
      "source": [
        "# Chocolate Distribution Problem\n",
        "def findMinDiff(arr,M):\n",
        "  N = len(arr)\n",
        "\n",
        "  arr.sort()\n",
        "\n",
        "  min_diff = float('inf')\n",
        "\n",
        "  for i in range(N - M + 1):\n",
        "    diff = arr[i+M-1] - arr[i]\n",
        "\n",
        "    if diff < min_diff:\n",
        "      min_diff = diff\n",
        "  return min_diff\n",
        "\n",
        "print(findMinDiff([3, 4, 1, 9, 56, 7, 9, 12],5))"
      ]
    },
    {
      "cell_type": "code",
      "source": [
        "# Union of two arrays\n",
        "def findUnion(a,b):\n",
        "  res = set(a) | set(b)\n",
        "  return res\n",
        "print(findUnion([85, 25, 1, 32, 54, 6], [85, 2]))"
      ],
      "metadata": {
        "colab": {
          "base_uri": "https://localhost:8080/"
        },
        "id": "1X4WiEgN5CJn",
        "outputId": "e5206887-2c92-4c2b-dffa-b9be7ab47414"
      },
      "execution_count": null,
      "outputs": [
        {
          "output_type": "stream",
          "name": "stdout",
          "text": [
            "{32, 1, 2, 85, 6, 54, 25}\n"
          ]
        }
      ]
    },
    {
      "cell_type": "code",
      "source": [
        "# Intersection of two arrays\n",
        "def findIntersection(a,b):\n",
        "  return set(a) & set(b)\n",
        "print(findIntersection([85, 25, 1, 32, 54, 6], [85, 2]))"
      ],
      "metadata": {
        "colab": {
          "base_uri": "https://localhost:8080/"
        },
        "id": "_aqIt4fZ6HA4",
        "outputId": "5c03b2c3-6e48-49ee-8beb-d53ff5ad64df"
      },
      "execution_count": null,
      "outputs": [
        {
          "output_type": "stream",
          "name": "stdout",
          "text": [
            "{85}\n"
          ]
        }
      ]
    },
    {
      "cell_type": "code",
      "source": [
        "# Rearrange to make arr[i] = i\n",
        "def modifyArray(arr):\n",
        "  for i in range(len(arr)):\n",
        "    while arr[i] != -1 and arr[i] != i:\n",
        "      correct_index = arr[i]\n",
        "      if arr[correct_index] == arr[i]:\n",
        "        break\n",
        "      arr[i], arr[correct_index] = arr[correct_index], arr[i]\n",
        "  return arr\n",
        "print(modifyArray([-1, -1, 6, 1, 9, 3, 2, -1, 4, -1]))"
      ],
      "metadata": {
        "colab": {
          "base_uri": "https://localhost:8080/"
        },
        "id": "PbRBKsTUNxoc",
        "outputId": "7e86b78d-0aa3-4951-de22-8f8e125ce184"
      },
      "execution_count": null,
      "outputs": [
        {
          "output_type": "stream",
          "name": "stdout",
          "text": [
            "[-1, 1, 2, 3, 4, -1, 6, -1, -1, 9]\n"
          ]
        }
      ]
    },
    {
      "cell_type": "code",
      "source": [
        "# Sort an array 1 to n (Cyclic Sort)\n",
        "def sortArray(arr):\n",
        "  i = 0\n",
        "  while i < len(arr):\n",
        "    correct_index = arr[i] - 1\n",
        "    if arr[i] != arr[correct_index]:\n",
        "      arr[i], arr[correct_index] = arr[correct_index], arr[i]\n",
        "    else:\n",
        "      i += 1\n",
        "  return arr\n",
        "print(sortArray([2, 1, 5, 4, 3]))"
      ],
      "metadata": {
        "colab": {
          "base_uri": "https://localhost:8080/"
        },
        "id": "zwjfKG280mEb",
        "outputId": "8958b370-1ea0-40b4-8196-5b46a40593dc"
      },
      "execution_count": null,
      "outputs": [
        {
          "output_type": "stream",
          "name": "stdout",
          "text": [
            "[1, 2, 3, 4, 5]\n"
          ]
        }
      ]
    },
    {
      "cell_type": "code",
      "source": [
        "# Rearranging an Array according to the given index array\n",
        "def rearrange(arr,idx):\n",
        "  for i in range(len(arr)):\n",
        "    while idx[i] != i:\n",
        "      swap_idx = idx[i]\n",
        "\n",
        "      arr[i], arr[swap_idx] = arr[swap_idx], arr[i]\n",
        "\n",
        "      idx[i], idx[swap_idx] = idx[swap_idx], idx[i]\n",
        "  return (arr , idx)\n",
        "print(rearrange(['a', 'b', 'c'], [1, 0, 2]))\n"
      ],
      "metadata": {
        "colab": {
          "base_uri": "https://localhost:8080/"
        },
        "id": "QMLe6BDQA8uK",
        "outputId": "21107323-37c0-4bc9-d6a2-a2156663e570"
      },
      "execution_count": null,
      "outputs": [
        {
          "output_type": "stream",
          "name": "stdout",
          "text": [
            "(['b', 'a', 'c'], [0, 1, 2])\n"
          ]
        }
      ]
    },
    {
      "cell_type": "code",
      "source": [
        "# Min number of swaps\n",
        "def minSwaps(arr):\n",
        "  n = len(arr)\n",
        "  visited = [False] * n\n",
        "  swaps = 0\n",
        "\n",
        "  arr_pos = sorted([(val, idx) for idx, val in enumerate(arr)])\n",
        "\n",
        "  for i in range(n):\n",
        "    if visited[i] or arr_pos[i][1] == i:\n",
        "        continue\n",
        "    cycle_len = 0\n",
        "    j = i\n",
        "\n",
        "    while not visited[j]:\n",
        "      visited[j] = True\n",
        "      j = arr_pos[j][1]\n",
        "      arr[i], arr[j] = arr[j], arr[i]\n",
        "      cycle_len += 1\n",
        "\n",
        "    if cycle_len > 0:\n",
        "      swaps += (cycle_len - 1)\n",
        "  return [swaps, arr]\n",
        "\n",
        "print(minSwaps([4,3,2,1]))"
      ],
      "metadata": {
        "colab": {
          "base_uri": "https://localhost:8080/"
        },
        "id": "rZut6RkiOmtN",
        "outputId": "a17d185e-2eb2-41db-ff88-df79cb3d2722"
      },
      "execution_count": null,
      "outputs": [
        {
          "output_type": "stream",
          "name": "stdout",
          "text": [
            "[2, [1, 2, 3, 4]]\n"
          ]
        }
      ]
    },
    {
      "cell_type": "code",
      "source": [
        "# Find kth rotation\n",
        "def kthRotation(arr):\n",
        "  l = 0\n",
        "  r = len(arr) - 1\n",
        "\n",
        "  while l <= r:\n",
        "    if arr[l] <= arr[r]:\n",
        "      return l\n",
        "    mid = l + (r - l) // 2\n",
        "    next_ = (mid + 1) % len(arr)\n",
        "    prev = (mid - 1 + len(arr)) % len(arr)\n",
        "\n",
        "    if arr[mid] <= arr[next_] and arr[mid] <= arr[prev]:\n",
        "      return mid\n",
        "    elif arr[mid] <= arr[r]:\n",
        "      r = mid + 1\n",
        "    else:\n",
        "      l = mid - 1\n",
        "  return 0\n",
        "print(kthRotation([5,6,7,8,9,1,2,3,4]))"
      ],
      "metadata": {
        "colab": {
          "base_uri": "https://localhost:8080/"
        },
        "id": "6Vwc4LyFWAD9",
        "outputId": "11cad2b6-bbf0-467d-b13c-d77f25d13115"
      },
      "execution_count": null,
      "outputs": [
        {
          "output_type": "stream",
          "name": "stdout",
          "text": [
            "5\n"
          ]
        }
      ]
    },
    {
      "cell_type": "code",
      "source": [
        "# Search in rotated sorted array\n",
        "def search(arr,target):\n",
        "  low = 0\n",
        "  high = len(arr) - 1\n",
        "\n",
        "  while low <= high:\n",
        "      mid = low + (high - low) // 2\n",
        "      if arr[mid] == target:\n",
        "          return mid\n",
        "\n",
        "      if arr[low] <= arr[mid]:\n",
        "          if arr[low] <= target <= arr[mid]:\n",
        "              high = mid - 1\n",
        "          else:\n",
        "              low = mid + 1\n",
        "      else:\n",
        "          if arr[mid] <= target <= arr[high]:\n",
        "              low = mid + 1\n",
        "          else:\n",
        "              high = mid - 1\n",
        "  return -1\n",
        "print(search([5, 6, 7, 8, 9, 10, 1, 2, 3],3))"
      ],
      "metadata": {
        "colab": {
          "base_uri": "https://localhost:8080/"
        },
        "id": "-tVi0Kh9XeRP",
        "outputId": "bb5dfdc4-4803-4707-ceb8-2ce78dab5ccd"
      },
      "execution_count": null,
      "outputs": [
        {
          "output_type": "stream",
          "name": "stdout",
          "text": [
            "8\n"
          ]
        }
      ]
    },
    {
      "cell_type": "code",
      "source": [
        "# Nearly Sorted (heap)\n",
        "import heapq\n",
        "def nearlySorted(arr,k):\n",
        "  n = len(arr)\n",
        "  heap = arr[:k+1]\n",
        "  heapq.heapify(heap)\n",
        "\n",
        "  index = 0\n",
        "  for i in range(k+1,n):\n",
        "    arr[index] = heapq.heappop(heap)\n",
        "    heapq.heappush(heap,arr[i])\n",
        "    index += 1\n",
        "\n",
        "  while heap:\n",
        "    arr[index] = heapq.heappop(heap)\n",
        "    index += 1\n",
        "  return arr\n",
        "print(nearlySorted( [6, 5, 3, 2, 8, 10, 9],3))"
      ],
      "metadata": {
        "colab": {
          "base_uri": "https://localhost:8080/"
        },
        "id": "5UBwNV4r5gkC",
        "outputId": "724090c7-d5c1-4198-906c-957bd6b3a0f5"
      },
      "execution_count": null,
      "outputs": [
        {
          "output_type": "stream",
          "name": "stdout",
          "text": [
            "[2, 3, 5, 6, 8, 9, 10]\n"
          ]
        }
      ]
    },
    {
      "cell_type": "code",
      "source": [
        "# Product except Self\n",
        "def prod(arr):\n",
        "  n = len(arr)\n",
        "  res = [1] * n\n",
        "\n",
        "  left = 1\n",
        "  for i in range(n):\n",
        "    res[i] = left\n",
        "    left *= arr[i]\n",
        "  right = 1\n",
        "  for i in range(n-1,-1,-1):\n",
        "    res[i] *= right\n",
        "    right *= arr[i]\n",
        "\n",
        "  return res\n",
        "print(prod([10, 3, 5, 6, 2]))\n"
      ],
      "metadata": {
        "colab": {
          "base_uri": "https://localhost:8080/"
        },
        "id": "hbZmwsVN_4y-",
        "outputId": "0797b3a9-e605-4f0a-f951-bb5182995013"
      },
      "execution_count": null,
      "outputs": [
        {
          "output_type": "stream",
          "name": "stdout",
          "text": [
            "[180, 600, 360, 300, 900]\n"
          ]
        }
      ]
    }
  ]
}