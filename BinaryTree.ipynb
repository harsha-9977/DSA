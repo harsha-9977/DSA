{
  "nbformat": 4,
  "nbformat_minor": 0,
  "metadata": {
    "colab": {
      "provenance": [],
      "authorship_tag": "ABX9TyNYYut+WI5PArhgVOBUqnPK",
      "include_colab_link": true
    },
    "kernelspec": {
      "name": "python3",
      "display_name": "Python 3"
    },
    "language_info": {
      "name": "python"
    }
  },
  "cells": [
    {
      "cell_type": "markdown",
      "metadata": {
        "id": "view-in-github",
        "colab_type": "text"
      },
      "source": [
        "<a href=\"https://colab.research.google.com/github/harsha-9977/DSA/blob/main/BinaryTree.ipynb\" target=\"_parent\"><img src=\"https://colab.research.google.com/assets/colab-badge.svg\" alt=\"Open In Colab\"/></a>"
      ]
    },
    {
      "cell_type": "code",
      "execution_count": 2,
      "metadata": {
        "id": "Aw5ZYwfAMxan",
        "colab": {
          "base_uri": "https://localhost:8080/"
        },
        "outputId": "1f6efaf6-2582-4054-c24f-a626886bca26"
      },
      "outputs": [
        {
          "output_type": "stream",
          "name": "stdout",
          "text": [
            "5\n",
            "10 20 30 40 50\n",
            "10 20 30 40 50 "
          ]
        }
      ],
      "source": [
        "# Take input level wise and then print\n",
        "from collections import deque\n",
        "\n",
        "class Solution:\n",
        "\n",
        "  class Node:\n",
        "    def __init__(self,data):\n",
        "        self.data = data\n",
        "        self.left = None\n",
        "        self.right = None\n",
        "\n",
        "  class Tree:\n",
        "      def __init__(self):\n",
        "        self.root = None;\n",
        "\n",
        "      def buildTree(self,arr):\n",
        "        if not arr:\n",
        "          self.root = None\n",
        "          return\n",
        "\n",
        "        self.root = Solution.Node(arr[0])\n",
        "        que = deque([self.root])\n",
        "\n",
        "        i = 1\n",
        "        while i < len(arr):\n",
        "          curr = que.popleft()\n",
        "\n",
        "          if i < len(arr):\n",
        "            curr.left = Solution.Node(arr[i])\n",
        "            que.append(curr.left)\n",
        "            i += 1\n",
        "\n",
        "          if i< len(arr):\n",
        "            curr.right = Solution.Node(arr[i])\n",
        "            que.append(curr.right)\n",
        "            i += 1\n",
        "\n",
        "      def printTree(self):\n",
        "        if self.root is None:\n",
        "          return\n",
        "        que = deque([self.root])\n",
        "        while que:\n",
        "          curr = que.popleft()\n",
        "\n",
        "          print(curr.data, end=\" \")\n",
        "\n",
        "          if curr.left:\n",
        "            que.append(curr.left)\n",
        "          if curr.right:\n",
        "            que.append(curr.right)\n",
        "\n",
        "n = int(input())\n",
        "arr = list(map(int, input().split()))\n",
        "\n",
        "tree = Solution.Tree()\n",
        "tree.buildTree(arr)\n",
        "tree.printTree()\n"
      ]
    }
  ]
}