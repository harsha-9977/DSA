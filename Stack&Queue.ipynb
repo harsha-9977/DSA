{
  "nbformat": 4,
  "nbformat_minor": 0,
  "metadata": {
    "colab": {
      "provenance": [],
      "authorship_tag": "ABX9TyOi1RSb7DV+bE1m9v/iuQoC",
      "include_colab_link": true
    },
    "kernelspec": {
      "name": "python3",
      "display_name": "Python 3"
    },
    "language_info": {
      "name": "python"
    }
  },
  "cells": [
    {
      "cell_type": "markdown",
      "metadata": {
        "id": "view-in-github",
        "colab_type": "text"
      },
      "source": [
        "<a href=\"https://colab.research.google.com/github/harsha-9977/DSA/blob/main/Stack%26Queue.ipynb\" target=\"_parent\"><img src=\"https://colab.research.google.com/assets/colab-badge.svg\" alt=\"Open In Colab\"/></a>"
      ]
    },
    {
      "cell_type": "code",
      "execution_count": 2,
      "metadata": {
        "colab": {
          "base_uri": "https://localhost:8080/"
        },
        "id": "laxnPXOGTvPX",
        "outputId": "bcb52ea9-72bf-4db8-f830-b5b20f14cb3f"
      },
      "outputs": [
        {
          "output_type": "stream",
          "name": "stdout",
          "text": [
            "10\n"
          ]
        }
      ],
      "source": [
        "# Largest Rectangle in Histogram\n",
        "\n",
        "def largestRectangle(heights):\n",
        "  stack = []\n",
        "  max_area = 0\n",
        "  n = len(heights)\n",
        "\n",
        "  for i in range(n):\n",
        "    while stack and heights[i] < heights[stack[-1]]:\n",
        "      top = stack.pop()\n",
        "      height = heights[top]\n",
        "\n",
        "      width = i if not stack else i - stack[-1] - 1\n",
        "      area = height * width\n",
        "      max_area = max(max_area, area)\n",
        "    stack.append(i)\n",
        "\n",
        "  while stack:\n",
        "    top = stack.pop()\n",
        "    height = heights[top]\n",
        "\n",
        "    width = n if not stack else n - stack[-1] - 1\n",
        "\n",
        "    area = height * width\n",
        "    max_area = max(max_area, area)\n",
        "\n",
        "  return max_area\n",
        "print(largestRectangle([2,1,5,6,2,3]))"
      ]
    },
    {
      "cell_type": "code",
      "source": [
        "a = 1.234567\n",
        "print(f\"{a:.2f}\")"
      ],
      "metadata": {
        "colab": {
          "base_uri": "https://localhost:8080/"
        },
        "id": "jz8tJlilloa-",
        "outputId": "e99788eb-3a40-4b78-d917-8110042f761f"
      },
      "execution_count": 7,
      "outputs": [
        {
          "output_type": "stream",
          "name": "stdout",
          "text": [
            "1.23\n"
          ]
        }
      ]
    },
    {
      "cell_type": "code",
      "source": [
        "# Sliding window maximum\n",
        "from collections import deque\n",
        "def maxInWindow(nums, k):\n",
        "  q = deque()\n",
        "  result = []\n",
        "  for i in range(len(nums)):\n",
        "    # remove if window size is more\n",
        "    if q and q[0] <= i - k:\n",
        "      q.popleft()\n",
        "    # keep only potential players in the Queue\n",
        "    while q and nums[i] > nums[q[-1]]:\n",
        "      q.pop()\n",
        "    # add to queue\n",
        "    q.append(i)\n",
        "    # if kth size is ready pick the max\n",
        "    if i >= k-1:\n",
        "      result.append(nums[q[0]])\n",
        "  return result\n",
        "\n",
        "print(maxInWindow([1,3,-1,-3,5,3,6,7], 3))"
      ],
      "metadata": {
        "colab": {
          "base_uri": "https://localhost:8080/"
        },
        "id": "3Orewqo0y42M",
        "outputId": "d96b80ac-e02c-4570-91ae-65d1112b5155"
      },
      "execution_count": 9,
      "outputs": [
        {
          "output_type": "stream",
          "name": "stdout",
          "text": [
            "[3, 3, 5, 5, 6, 7]\n"
          ]
        }
      ]
    },
    {
      "cell_type": "code",
      "source": [
        "# Min Stack\n",
        "class MinStack:\n",
        "  # constructor\n",
        "  def __init__(self):\n",
        "    self.minStack = []\n",
        "    self.mainStack = []\n",
        "\n",
        "  # push\n",
        "  def push(self, val):\n",
        "    self.mainStack.append(val)\n",
        "\n",
        "    if not self.minStack or val <= self.minStack[-1]:\n",
        "      self.minStack.append(val)\n",
        "\n",
        "  # pop\n",
        "  def pop(self):\n",
        "    if self.mainStack:\n",
        "      popped = self.mainStack.pop()\n",
        "\n",
        "      if popped == self.minStack[-1]:\n",
        "        self.minStack.pop()\n",
        "\n",
        "  # top\n",
        "  def top(self):\n",
        "    return self.mainStack[-1]\n",
        "\n",
        "  # minStack\n",
        "  def getMin(self):\n",
        "    return self.minStack[-1]\n",
        "\n",
        "# ✅ Cell 2: Input simulation like LeetCode format\n",
        "operations = [\"MinStack\", \"push\", \"push\", \"push\", \"getMin\", \"pop\", \"top\", \"getMin\"]\n",
        "inputs = [[], [-2], [0], [-3], [], [], [], []]\n",
        "\n",
        "# ✅ Cell 3: Run operations and collect outputs\n",
        "output = []\n",
        "minStack = None  # Will hold our MinStack instance\n",
        "\n",
        "for op, val in zip(operations, inputs):\n",
        "    if op == \"MinStack\":\n",
        "        minStack = MinStack()\n",
        "        output.append(None)\n",
        "    elif op == \"push\":\n",
        "        minStack.push(val[0])\n",
        "        output.append(None)\n",
        "    elif op == \"pop\":\n",
        "        minStack.pop()\n",
        "        output.append(None)\n",
        "    elif op == \"top\":\n",
        "        output.append(minStack.top())\n",
        "    elif op == \"getMin\":\n",
        "        output.append(minStack.getMin())\n",
        "\n",
        "print(\"Output:\", output)\n"
      ],
      "metadata": {
        "colab": {
          "base_uri": "https://localhost:8080/"
        },
        "id": "L6SYaTIsKXOZ",
        "outputId": "4d802862-0266-4a38-e119-4313b8b26881"
      },
      "execution_count": 13,
      "outputs": [
        {
          "output_type": "stream",
          "name": "stdout",
          "text": [
            "Output: [None, None, None, None, -3, None, 0, -2]\n"
          ]
        }
      ]
    },
    {
      "cell_type": "code",
      "source": [
        "# Rotting Oranges\n",
        "from collections import deque\n",
        "def rotOrange(grid):\n",
        "  rows, cols = len(grid), len(grid[0])\n",
        "  # create Queue\n",
        "  q = deque()\n",
        "  # create fresh variable\n",
        "  fresh = 0\n",
        "  # 1 in a grid at each index get (row,col,time) of each rotten oranges and put it in Queue\n",
        "  for r in range(rows):\n",
        "    for c in range(cols):\n",
        "      if grid[r][c] == 2:\n",
        "        q.append((r,c,0))\n",
        "      elif grid[r][c] == 1:\n",
        "        fresh += 1\n",
        "\n",
        "  # 2 also count fresh oranges\n",
        "\n",
        "  # create time variable\n",
        "  time = 0\n",
        "  # create directions to spread the bacteria to neighbor oranges in all 4 sides\n",
        "  directions = [(-1,0),(1,0),(0,-1),(0,1)]\n",
        "\n",
        "\n",
        "\n",
        "  # until q completes\n",
        "    # take a q values make it rotten increase time\n",
        "  while q:\n",
        "    r,c,t = q.popleft()\n",
        "    time = max(time,t)\n",
        "\n",
        "    for dr, dc in directions:\n",
        "      nr, nc = r + dr, c + dc\n",
        "\n",
        "      if 0 <= nr < rows and 0 <= nc < cols and grid[nr][nc] == 1:\n",
        "        grid[nr][nc] = 2\n",
        "        fresh -= 1\n",
        "        q.append((nr,nc,t+1))\n",
        "  return time if fresh == 0 else -1\n",
        "print(rotOrange([[2,1,1],[1,1,0],[0,1,1]]))"
      ],
      "metadata": {
        "colab": {
          "base_uri": "https://localhost:8080/"
        },
        "id": "kd42B83teSFy",
        "outputId": "25987b56-fde3-4b2b-9def-ef9de140eec4"
      },
      "execution_count": 17,
      "outputs": [
        {
          "output_type": "stream",
          "name": "stdout",
          "text": [
            "4\n"
          ]
        }
      ]
    }
  ]
}