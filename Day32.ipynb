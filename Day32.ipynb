{
  "nbformat": 4,
  "nbformat_minor": 0,
  "metadata": {
    "colab": {
      "provenance": [],
      "authorship_tag": "ABX9TyPHhsRensnaZROYQRe651+m",
      "include_colab_link": true
    },
    "kernelspec": {
      "name": "python3",
      "display_name": "Python 3"
    },
    "language_info": {
      "name": "python"
    }
  },
  "cells": [
    {
      "cell_type": "markdown",
      "metadata": {
        "id": "view-in-github",
        "colab_type": "text"
      },
      "source": [
        "<a href=\"https://colab.research.google.com/github/harsha-9977/DSA/blob/main/Day32.ipynb\" target=\"_parent\"><img src=\"https://colab.research.google.com/assets/colab-badge.svg\" alt=\"Open In Colab\"/></a>"
      ]
    },
    {
      "cell_type": "code",
      "execution_count": 3,
      "metadata": {
        "colab": {
          "base_uri": "https://localhost:8080/"
        },
        "id": "E1rU0AfKiVhB",
        "outputId": "db0dd0a7-18a6-493b-c7eb-f6d263f2b077"
      },
      "outputs": [
        {
          "output_type": "stream",
          "name": "stdout",
          "text": [
            "True\n"
          ]
        }
      ],
      "source": [
        "# Search in a 2D matrix\n",
        "def search(matrix,target):\n",
        "  m = len(matrix)\n",
        "  n = len(matrix[0])\n",
        "\n",
        "  left = 0\n",
        "  right = n * m - 1\n",
        "\n",
        "  while left <= right:\n",
        "    mid = (left + right) // 2\n",
        "    row = mid // n\n",
        "    col = mid % n\n",
        "\n",
        "    if matrix[row][col] == target:\n",
        "      return True\n",
        "    elif matrix[row][col] < target:\n",
        "      left = mid + 1\n",
        "    else:\n",
        "      right = mid - 1\n",
        "  return False\n",
        "print(search([[1,3,5,7],[10,11,16,20],[23,30,34,60]],3))"
      ]
    }
  ]
}