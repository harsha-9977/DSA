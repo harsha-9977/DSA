{
  "nbformat": 4,
  "nbformat_minor": 0,
  "metadata": {
    "colab": {
      "provenance": []
    },
    "kernelspec": {
      "name": "python3",
      "display_name": "Python 3"
    },
    "language_info": {
      "name": "python"
    }
  },
  "cells": [
    {
      "cell_type": "code",
      "execution_count": 6,
      "metadata": {
        "colab": {
          "base_uri": "https://localhost:8080/"
        },
        "id": "wAcnAWaqZpdP",
        "outputId": "c8e10020-b1e1-4583-ff7e-c939333b47e1"
      },
      "outputs": [
        {
          "output_type": "stream",
          "name": "stdout",
          "text": [
            "2\n"
          ]
        }
      ],
      "source": [
        "# search in an almost sorted array\n",
        "\n",
        "def findTarget(arr, target):\n",
        "\n",
        "    low = 0\n",
        "    high = len(arr) - 1\n",
        "\n",
        "    while low <= high:\n",
        "        mid = low + (high - low) // 2\n",
        "\n",
        "        if arr[mid] == target:\n",
        "            return mid\n",
        "        if mid-1 >= low and arr[mid-1] == target:\n",
        "            return mid-1\n",
        "        if mid+1 <= high and arr[mid+1] == target:\n",
        "            return mid+1\n",
        "\n",
        "        if target < arr[mid]:\n",
        "            high = mid-2\n",
        "        else:\n",
        "            low = mid+2\n",
        "    return -1\n",
        "print(findTarget([10, 3, 40, 20, 50, 80, 70], 40))"
      ]
    }
  ]
}