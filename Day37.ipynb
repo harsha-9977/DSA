{
  "nbformat": 4,
  "nbformat_minor": 0,
  "metadata": {
    "colab": {
      "provenance": [],
      "authorship_tag": "ABX9TyPo8StwZV7CvOp9J9DmyXqS",
      "include_colab_link": true
    },
    "kernelspec": {
      "name": "python3",
      "display_name": "Python 3"
    },
    "language_info": {
      "name": "python"
    }
  },
  "cells": [
    {
      "cell_type": "markdown",
      "metadata": {
        "id": "view-in-github",
        "colab_type": "text"
      },
      "source": [
        "<a href=\"https://colab.research.google.com/github/harsha-9977/DSA/blob/main/Day37.ipynb\" target=\"_parent\"><img src=\"https://colab.research.google.com/assets/colab-badge.svg\" alt=\"Open In Colab\"/></a>"
      ]
    },
    {
      "cell_type": "code",
      "execution_count": 7,
      "metadata": {
        "id": "rCnYk9NiIuEH"
      },
      "outputs": [],
      "source": [
        "# rotate list\n",
        "class ListNode:\n",
        "  def __init__(self,val=0,next=None):\n",
        "    self.val = val\n",
        "    self.next = next\n",
        "\n",
        "def build_list(vals):\n",
        "  if not vals:\n",
        "    return None\n",
        "\n",
        "  head = ListNode(vals[0])\n",
        "  curr = head\n",
        "\n",
        "  for val in vals[1:]:\n",
        "    curr.next = ListNode(val)\n",
        "    curr = curr.next\n",
        "\n",
        "  return head\n",
        "\n",
        "def print_list(head):\n",
        "  vals = []\n",
        "  while head:\n",
        "    vals.append(head.val)\n",
        "    head = head.next\n",
        "  return vals\n",
        "\n",
        "class Solution:\n",
        "  def rotate(self,head,k):\n",
        "    if not head or not head.next or k == 0:\n",
        "      return head\n",
        "    #1. calculate length\n",
        "    length = 1\n",
        "    tail = head\n",
        "    while tail.next:\n",
        "      tail = tail.next\n",
        "      length += 1\n",
        "\n",
        "    #2. modulo k\n",
        "    k %= length\n",
        "    if k == 0:\n",
        "      return head\n",
        "\n",
        "    #3. Connect tail to head\n",
        "    tail.next = head\n",
        "\n",
        "    #4. find new tail\n",
        "    steps_to_new_tail = length - k\n",
        "    new_tail = head\n",
        "    for _ in range(steps_to_new_tail - 1):\n",
        "      new_tail = new_tail.next\n",
        "\n",
        "    #5. break\n",
        "    new_head = new_tail.next\n",
        "    new_tail.next = None\n",
        "\n",
        "    return new_head\n"
      ]
    },
    {
      "cell_type": "code",
      "source": [
        "rotate = Solution().rotate(build_list([1,2,3,4,5]),2)\n",
        "print_list(rotate)"
      ],
      "metadata": {
        "colab": {
          "base_uri": "https://localhost:8080/"
        },
        "id": "5cNUGd1KdN9H",
        "outputId": "175ef34e-83b2-42af-d116-55df72699eab"
      },
      "execution_count": 5,
      "outputs": [
        {
          "output_type": "execute_result",
          "data": {
            "text/plain": [
              "[4, 5, 1, 2, 3]"
            ]
          },
          "metadata": {},
          "execution_count": 5
        }
      ]
    },
    {
      "cell_type": "code",
      "source": [
        "rotate = Solution().rotate(build_list([0,1,2]),4)\n",
        "print_list(rotate)"
      ],
      "metadata": {
        "colab": {
          "base_uri": "https://localhost:8080/"
        },
        "id": "OgTWnUD0dPfg",
        "outputId": "693e159b-8b18-447a-956b-b6117e88b9b1"
      },
      "execution_count": 6,
      "outputs": [
        {
          "output_type": "execute_result",
          "data": {
            "text/plain": [
              "[2, 0, 1]"
            ]
          },
          "metadata": {},
          "execution_count": 6
        }
      ]
    },
    {
      "cell_type": "code",
      "source": [
        "# Copy list with random number\n",
        "class Node:\n",
        "  def __init__(self,val=0,next=None,random=None):\n",
        "    self.val = val\n",
        "    self.next = next\n",
        "    self.random = random\n",
        "\n",
        "def build_list(vals):\n",
        "  if not vals:\n",
        "    return None\n",
        "\n",
        "  nodes = [Node(val) for val,_ in vals]\n",
        "\n",
        "  for i in range(len(nodes)-1):\n",
        "    nodes[i].next = nodes[i+1]\n",
        "\n",
        "  for i,(_,random_index) in enumerate(vals):\n",
        "    if random_index is not None:\n",
        "      nodes[i].random = nodes[random_index]\n",
        "\n",
        "  return nodes[0]\n",
        "\n",
        "def print_list(head):\n",
        "  vals = []\n",
        "  node_to_index = {}\n",
        "\n",
        "  curr = head\n",
        "  index = 0\n",
        "  while curr:\n",
        "    node_to_index[curr] = index\n",
        "    curr = curr.next\n",
        "    index += 1\n",
        "\n",
        "  curr = head\n",
        "  while curr:\n",
        "    rand_idx = node_to_index.get(curr.random,None)\n",
        "    vals.append([curr.val,rand_idx])\n",
        "    curr = curr.next\n",
        "\n",
        "  return vals\n",
        "\n",
        "class Solution:\n",
        "  def copy_list(self,head):\n",
        "    if not head:\n",
        "      return None\n",
        "\n",
        "    #1. clone and insert\n",
        "    curr = head\n",
        "    while curr:\n",
        "      copy = Node(curr.val)\n",
        "      copy.next = curr.next\n",
        "      curr.next = copy\n",
        "      curr = copy.next\n",
        "\n",
        "    #2. assign random\n",
        "    curr = head\n",
        "    while curr:\n",
        "      if curr.random:\n",
        "        curr.next.random = curr.random.next\n",
        "      curr = curr.next.next\n",
        "\n",
        "    #3. detach\n",
        "    original = head\n",
        "    copy = head.next\n",
        "    copy_head = head.next\n",
        "    while original:\n",
        "      original.next = original.next.next\n",
        "      if copy.next:\n",
        "        copy.next = copy.next.next\n",
        "      original = original.next\n",
        "      copy = copy.next\n",
        "    return copy_head\n",
        "copyRandom = Solution().copy_list(build_list([[7,None],[13,0],[11,4],[10,2],[1,0]]))\n",
        "print_list(copyRandom)"
      ],
      "metadata": {
        "colab": {
          "base_uri": "https://localhost:8080/"
        },
        "id": "Vk-d-GL5qf6L",
        "outputId": "64eb6580-2c24-467f-ee59-ecea32859a69"
      },
      "execution_count": 11,
      "outputs": [
        {
          "output_type": "execute_result",
          "data": {
            "text/plain": [
              "[[7, None], [13, 0], [11, 4], [10, 2], [1, 0]]"
            ]
          },
          "metadata": {},
          "execution_count": 11
        }
      ]
    },
    {
      "cell_type": "code",
      "source": [
        "# 3 Sum\n",
        "def threeSum(nums):\n",
        "  nums.sort()\n",
        "  res = []\n",
        "\n",
        "  for i in range(len(nums)):\n",
        "    if i > 0 and nums[i] == nums[i-1]:\n",
        "      continue\n",
        "    target = -nums[i]\n",
        "    left = i+1\n",
        "    right = len(nums) - 1\n",
        "\n",
        "    while left < right:\n",
        "      total_sum = nums[left] + nums[right]\n",
        "\n",
        "      if total_sum == target:\n",
        "        res.append([nums[i],nums[left],nums[right]])\n",
        "\n",
        "        while left < right and nums[left] == nums[left+1]:\n",
        "          left += 1\n",
        "        while left < right and nums[right] == nums[right-1]:\n",
        "          right -= 1\n",
        "        left += 1\n",
        "        right -= 1\n",
        "      elif total_sum < target:\n",
        "        left += 1\n",
        "      else:\n",
        "        right -= 1\n",
        "  return res\n",
        "print(threeSum([-1,0,1,2,-1,-4]))\n",
        "\n"
      ],
      "metadata": {
        "colab": {
          "base_uri": "https://localhost:8080/"
        },
        "id": "wQmyHGjhMktN",
        "outputId": "eee91ee7-b8f9-479f-bec9-fe35bfc2616f"
      },
      "execution_count": 13,
      "outputs": [
        {
          "output_type": "stream",
          "name": "stdout",
          "text": [
            "[[-1, -1, 2], [-1, 0, 1]]\n"
          ]
        }
      ]
    },
    {
      "cell_type": "code",
      "source": [
        "# Trapping rainwater\n",
        "def traps(heights):\n",
        "  if len(heights) < 3:\n",
        "    return 0\n",
        "  left = 0\n",
        "  right = len(heights) - 1\n",
        "  left_max,right_max,trapped = 0,0,0\n",
        "\n",
        "  while left < right:\n",
        "    if heights[left] < heights[right]:\n",
        "      if heights[left] >= left_max:\n",
        "        left_max = heights[left]\n",
        "      else:\n",
        "        trapped += left_max - heights[left]\n",
        "      left += 1\n",
        "    else:\n",
        "      if heights[right] >= right_max:\n",
        "        right_max = heights[right]\n",
        "      else:\n",
        "        trapped += right_max - heights[right]\n",
        "      right -= 1\n",
        "  return trapped\n",
        "print(traps([0,1,0,2,1,0,1,3,2,1,2,1]))\n",
        "\n"
      ],
      "metadata": {
        "colab": {
          "base_uri": "https://localhost:8080/"
        },
        "id": "5ftV_jckRTt9",
        "outputId": "7c8236a9-bf61-481f-da68-826bce55a417"
      },
      "execution_count": 14,
      "outputs": [
        {
          "output_type": "stream",
          "name": "stdout",
          "text": [
            "6\n"
          ]
        }
      ]
    },
    {
      "cell_type": "code",
      "source": [
        "# remove duplicates in an sorted array\n",
        "def rem(nums):\n",
        "  i = 1\n",
        "  for j in range(1,len(nums)):\n",
        "    if nums[j] != nums[i-1]:\n",
        "      nums[i] = nums[j]\n",
        "      i += 1\n",
        "  return i\n",
        "print(rem([0,0,1,1,1,2,2,3,3,4]))"
      ],
      "metadata": {
        "colab": {
          "base_uri": "https://localhost:8080/"
        },
        "id": "bknovOp9T1DX",
        "outputId": "8d1ceb5a-d655-416a-cffb-c041eb28e4bf"
      },
      "execution_count": 16,
      "outputs": [
        {
          "output_type": "stream",
          "name": "stdout",
          "text": [
            "5\n"
          ]
        }
      ]
    },
    {
      "cell_type": "code",
      "source": [
        "# max consecutive ones\n",
        "def maxOnes(nums):\n",
        "  count = 0\n",
        "  max_count = 0\n",
        "  for i in nums:\n",
        "    if i == 1:\n",
        "      count += 1\n",
        "      max_count = max(max_count,count)\n",
        "    else:\n",
        "      count = 0\n",
        "  return max_count\n",
        "print(maxOnes([1,0,1,1,0,1]))"
      ],
      "metadata": {
        "colab": {
          "base_uri": "https://localhost:8080/"
        },
        "id": "SGEODmx8U2DQ",
        "outputId": "434a7a37-806f-420f-ee20-6bb81d65ac08"
      },
      "execution_count": 18,
      "outputs": [
        {
          "output_type": "stream",
          "name": "stdout",
          "text": [
            "2\n"
          ]
        }
      ]
    }
  ]
}