{
  "nbformat": 4,
  "nbformat_minor": 0,
  "metadata": {
    "colab": {
      "provenance": [],
      "authorship_tag": "ABX9TyOMYyL26dTk7tW4wZukG195",
      "include_colab_link": true
    },
    "kernelspec": {
      "name": "python3",
      "display_name": "Python 3"
    },
    "language_info": {
      "name": "python"
    }
  },
  "cells": [
    {
      "cell_type": "markdown",
      "metadata": {
        "id": "view-in-github",
        "colab_type": "text"
      },
      "source": [
        "<a href=\"https://colab.research.google.com/github/harsha-9977/DSA/blob/main/Day34.ipynb\" target=\"_parent\"><img src=\"https://colab.research.google.com/assets/colab-badge.svg\" alt=\"Open In Colab\"/></a>"
      ]
    },
    {
      "cell_type": "code",
      "execution_count": 3,
      "metadata": {
        "colab": {
          "base_uri": "https://localhost:8080/"
        },
        "id": "RyRhoLjfJjO2",
        "outputId": "0fbee40e-375b-4a4a-dd57-8f3543661fdf"
      },
      "outputs": [
        {
          "output_type": "stream",
          "name": "stdout",
          "text": [
            "[0, 1]\n"
          ]
        }
      ],
      "source": [
        "# 2sum\n",
        "def twosum(nums, target):\n",
        "  hashmap = {}\n",
        "  for i, num in enumerate(nums):\n",
        "    diff = target - num\n",
        "    if diff in hashmap:\n",
        "      return [hashmap[diff], i]\n",
        "    hashmap[num] = i\n",
        "print(twosum([2,7,11,15], 9))"
      ]
    },
    {
      "cell_type": "code",
      "source": [
        "# 4sum\n",
        "def foursum(nums, target):\n",
        "  nums.sort()\n",
        "  n = len(nums)\n",
        "  result = []\n",
        "\n",
        "  for i in range(n):\n",
        "    if i > 0 and nums[i] == nums[i-1]:\n",
        "      continue\n",
        "    for j in range(i+1,n):\n",
        "      if j > i+1 and nums[j] == nums[j-1]:\n",
        "        continue\n",
        "      left, right = j+1, n-1\n",
        "      while left < right:\n",
        "        total = nums[i] + nums[j] + nums[left] + nums[right]\n",
        "        if total == target:\n",
        "          result.append([nums[i],nums[j],nums[left],nums[right]])\n",
        "\n",
        "\n",
        "          while left < right and nums[left] == nums[left+1]:\n",
        "            left += 1\n",
        "          while left < right and nums[right] == nums[right-1]:\n",
        "            right -= 1\n",
        "          left += 1\n",
        "          right -= 1\n",
        "        elif total <= target:\n",
        "          left += 1\n",
        "        else:\n",
        "          right -= 1\n",
        "  return result\n",
        "print(foursum([1,0,-1,0,-2,2],  0))\n",
        ""
      ],
      "metadata": {
        "colab": {
          "base_uri": "https://localhost:8080/"
        },
        "id": "aeCBCbUPPEYN",
        "outputId": "e2a3b0ee-2999-4d36-84a0-76e2180584fa"
      },
      "execution_count": 7,
      "outputs": [
        {
          "output_type": "stream",
          "name": "stdout",
          "text": [
            "[[-2, -1, 1, 2], [-2, 0, 0, 2], [-1, 0, 0, 1]]\n"
          ]
        }
      ]
    },
    {
      "cell_type": "code",
      "source": [
        "# longest consecutive sequence\n",
        "def longestconsecutive(nums):\n",
        "  num_set = set(nums)\n",
        "  longest = 0\n",
        "\n",
        "  for num in num_set:\n",
        "    if num-1 not in num_set:\n",
        "      length = 1\n",
        "      while num+length in num_set:\n",
        "        length += 1\n",
        "      longest = max(longest,length)\n",
        "  return longest\n",
        "print(longestconsecutive([100,4,200,1,3,2]))"
      ],
      "metadata": {
        "colab": {
          "base_uri": "https://localhost:8080/"
        },
        "id": "CxRB3tExZtuz",
        "outputId": "6a1fcd4b-d741-4089-d2bb-f008d7e7b6f3"
      },
      "execution_count": 8,
      "outputs": [
        {
          "output_type": "stream",
          "name": "stdout",
          "text": [
            "4\n"
          ]
        }
      ]
    },
    {
      "cell_type": "code",
      "source": [
        "# longest subarray with sum k\n",
        "def longestsubarray(arr,k):\n",
        "  seen = {}\n",
        "  max_len = 0\n",
        "  prefix_sum = 0\n",
        "\n",
        "  for i, num in enumerate(arr):\n",
        "    prefix_sum += num\n",
        "\n",
        "    if prefix_sum == k:\n",
        "      max_len = i+1\n",
        "    if prefix_sum-k in seen:\n",
        "      max_len = max(max_len, i - seen[prefix_sum-k])\n",
        "    if prefix_sum not in seen:\n",
        "      seen[prefix_sum] = i\n",
        "  return max_len\n",
        "print(longestsubarray([10, 5, 2, 7, 1, -10], 15))"
      ],
      "metadata": {
        "colab": {
          "base_uri": "https://localhost:8080/"
        },
        "id": "0IvpGpxcedl9",
        "outputId": "592ce12b-b9e3-4971-e395-5e9e1a6d135d"
      },
      "execution_count": 9,
      "outputs": [
        {
          "output_type": "stream",
          "name": "stdout",
          "text": [
            "6\n"
          ]
        }
      ]
    },
    {
      "cell_type": "code",
      "source": [
        "# count subarrays with given xor\n",
        "def xors(nums,k):\n",
        "  count = 0\n",
        "  xor = 0\n",
        "  maps = {}\n",
        "\n",
        "  for i in nums:\n",
        "    xor ^= i\n",
        "\n",
        "    if xor == k:\n",
        "      count += 1\n",
        "\n",
        "    if xor ^ k in maps:\n",
        "      count += maps[xor^k]\n",
        "\n",
        "    maps[xor] = maps.get(xor,0) + 1\n",
        "  return count\n",
        "print(xors([4, 2, 2, 6, 4], 6))\n"
      ],
      "metadata": {
        "colab": {
          "base_uri": "https://localhost:8080/"
        },
        "id": "FpAQu0jekyhS",
        "outputId": "e49b8534-285a-4203-f611-8ee052805c75"
      },
      "execution_count": 11,
      "outputs": [
        {
          "output_type": "stream",
          "name": "stdout",
          "text": [
            "4\n"
          ]
        }
      ]
    },
    {
      "cell_type": "code",
      "source": [
        "# Longest substring without repeating characters\n",
        "def ls(s):\n",
        "  max_len = 0\n",
        "  start = 0\n",
        "  maps = {}\n",
        "\n",
        "  for end, char in enumerate(s):\n",
        "    if char in maps and maps[char] >= start:\n",
        "      start = maps[char] + 1\n",
        "\n",
        "    maps[char] = end\n",
        "    max_len = max(max_len, end-start+1)\n",
        "  return max_len\n",
        "print(ls(\"abcabcbb\"))"
      ],
      "metadata": {
        "id": "GBucH6XYpD9k",
        "outputId": "e4964cc5-2d47-4325-cda6-fa080d6f833d",
        "colab": {
          "base_uri": "https://localhost:8080/"
        }
      },
      "execution_count": 12,
      "outputs": [
        {
          "output_type": "stream",
          "name": "stdout",
          "text": [
            "3\n"
          ]
        }
      ]
    }
  ]
}