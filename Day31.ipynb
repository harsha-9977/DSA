{
  "nbformat": 4,
  "nbformat_minor": 0,
  "metadata": {
    "colab": {
      "provenance": [],
      "authorship_tag": "ABX9TyN/aFwl3m1ew+v7VW/bTeUc",
      "include_colab_link": true
    },
    "kernelspec": {
      "name": "python3",
      "display_name": "Python 3"
    },
    "language_info": {
      "name": "python"
    }
  },
  "cells": [
    {
      "cell_type": "markdown",
      "metadata": {
        "id": "view-in-github",
        "colab_type": "text"
      },
      "source": [
        "<a href=\"https://colab.research.google.com/github/harsha-9977/DSA/blob/main/Day31.ipynb\" target=\"_parent\"><img src=\"https://colab.research.google.com/assets/colab-badge.svg\" alt=\"Open In Colab\"/></a>"
      ]
    },
    {
      "cell_type": "code",
      "execution_count": 1,
      "metadata": {
        "colab": {
          "base_uri": "https://localhost:8080/"
        },
        "id": "OhQCv_TxoOiF",
        "outputId": "836909bc-00c0-45ad-ed0e-8a56945924d9"
      },
      "outputs": [
        {
          "output_type": "stream",
          "name": "stdout",
          "text": [
            "[[7, 4, 1], [8, 5, 2], [9, 6, 3]]\n"
          ]
        }
      ],
      "source": [
        "# Rotate Matrix clockwise\n",
        "def rotate(matrix):\n",
        "  n = len(matrix)\n",
        "\n",
        "  for i in range(n):\n",
        "    for j in range(i, n):\n",
        "      matrix[i][j], matrix[j][i] = matrix[j][i], matrix[i][j]\n",
        "\n",
        "  for row in matrix:\n",
        "    row.reverse()\n",
        "\n",
        "  return matrix\n",
        "print(rotate([[1,2,3],[4,5,6],[7,8,9]]))"
      ]
    },
    {
      "cell_type": "code",
      "source": [
        "# overlapping intervals\n",
        "def merge(intervals):\n",
        "  intervals.sort(key = lambda x : x[0])\n",
        "\n",
        "  merged = [intervals[0]]\n",
        "\n",
        "  for curr in intervals[1:]:\n",
        "    prev = merged[-1]\n",
        "\n",
        "    if curr[0] <= prev[1]:\n",
        "      prev[1] = max(curr[1],prev[1])\n",
        "    else:\n",
        "      merged.append(curr)\n",
        "  return merged\n",
        "print(merge([[1,3],[2,6],[8,10],[15,18]]))"
      ],
      "metadata": {
        "colab": {
          "base_uri": "https://localhost:8080/"
        },
        "id": "JMmGdq-V2PIZ",
        "outputId": "6afd4977-620e-41b2-be08-bc59b95834ca"
      },
      "execution_count": 2,
      "outputs": [
        {
          "output_type": "stream",
          "name": "stdout",
          "text": [
            "[[1, 6], [8, 10], [15, 18]]\n"
          ]
        }
      ]
    },
    {
      "cell_type": "code",
      "source": [
        "# merge without using extra space not Gap tried new\n",
        "def merge(nums1,m,nums2,n):\n",
        "  i = m-1\n",
        "  j = n-1\n",
        "  k = n+m-1\n",
        "\n",
        "  while i >= 0 and j >= 0:\n",
        "    if nums1[i] > nums2[j]:\n",
        "      nums1[k] = nums1[i]\n",
        "      i -= 1\n",
        "    else:\n",
        "      nums1[k] = nums2[j]\n",
        "      j -= 1\n",
        "    k -= 1\n",
        "  while j >= 0:\n",
        "    nums1[k] = nums2[j]\n",
        "    j -= 1\n",
        "    k -=1\n",
        "  return nums1\n",
        "print(merge([1,2,3,0,0,0],  3,  [2,5,6],  3))"
      ],
      "metadata": {
        "colab": {
          "base_uri": "https://localhost:8080/"
        },
        "id": "M4QRjt1YBwee",
        "outputId": "8b3e725b-d128-4f9c-ed2d-eb9391eb1229"
      },
      "execution_count": 7,
      "outputs": [
        {
          "output_type": "stream",
          "name": "stdout",
          "text": [
            "[1, 2, 2, 3, 5, 6]\n"
          ]
        }
      ]
    },
    {
      "cell_type": "code",
      "source": [
        "# Find te duplicate number\n",
        "def duplicate(nums):\n",
        "  tortoise = nums[0]\n",
        "  hare = nums[0]\n",
        "\n",
        "  while True:\n",
        "    tortoise = nums[tortoise]\n",
        "    hare = nums[nums[hare]]\n",
        "\n",
        "    if hare == tortoise:\n",
        "      break\n",
        "\n",
        "  tortoise = nums[0]\n",
        "  while tortoise != hare:\n",
        "    tortoise = nums[tortoise]\n",
        "    hare = nums[hare]\n",
        "  return hare\n",
        "print(duplicate([1,3,4,2,2]))"
      ],
      "metadata": {
        "colab": {
          "base_uri": "https://localhost:8080/"
        },
        "id": "ODc2-jnNFwyw",
        "outputId": "9b9fd50f-e5f1-44fc-b6c6-87c93fb1df56"
      },
      "execution_count": 8,
      "outputs": [
        {
          "output_type": "stream",
          "name": "stdout",
          "text": [
            "2\n"
          ]
        }
      ]
    },
    {
      "cell_type": "code",
      "source": [
        "# Duplicate and missing\n",
        "def dupsAndMiss(nums):\n",
        "  missing = -1\n",
        "  duplicate = -1\n",
        "\n",
        "  for num in nums:\n",
        "    index = abs(num) - 1\n",
        "    if nums[index] < 0:\n",
        "      duplicate = index + 1\n",
        "    else:\n",
        "      nums[index] *= -1\n",
        "\n",
        "  for i in range(len(nums)):\n",
        "    if nums[i] > 0:\n",
        "      missing = i + 1\n",
        "      break\n",
        "  return (duplicate,missing)\n",
        "print(dupsAndMiss( [3, 1, 2, 5, 3]))"
      ],
      "metadata": {
        "colab": {
          "base_uri": "https://localhost:8080/"
        },
        "id": "ofnD6xauIUFB",
        "outputId": "654223c4-7c60-4988-cc60-49c5118cb233"
      },
      "execution_count": 11,
      "outputs": [
        {
          "output_type": "stream",
          "name": "stdout",
          "text": [
            "(3, 4)\n"
          ]
        }
      ]
    },
    {
      "cell_type": "code",
      "source": [
        "# inversion count\n",
        "def inversionCount(arr):\n",
        "  return mergeSortAndCount(arr,0,len(arr)-1)\n",
        "def mergeSortAndCount(arr,left,right):\n",
        "  inv_count = 0\n",
        "\n",
        "  if left < right:\n",
        "    mid = (left + right) // 2\n",
        "\n",
        "    inv_count += mergeSortAndCount(arr,left,mid)\n",
        "    inv_count += mergeSortAndCount(arr,mid+1,right)\n",
        "    inv_count += mergeAndCount(arr,left,mid,right)\n",
        "\n",
        "  return inv_count\n",
        "def mergeAndCount(arr,left,mid,right):\n",
        "  left_half = arr[left:mid+1]\n",
        "  right_half = arr[mid+1:right+1]\n",
        "\n",
        "  i = j = 0\n",
        "  k = left\n",
        "  inv_count = 0\n",
        "\n",
        "  while i < len(left_half) and j < len(right_half):\n",
        "    if left_half[i] <= right_half[j]:\n",
        "      arr[k] = left_half[i]\n",
        "      i += 1\n",
        "    else:\n",
        "      arr[k] = right_half[j]\n",
        "      inv_count += len(left_half) - i\n",
        "      j += 1\n",
        "    k += 1\n",
        "  while i < len(left_half):\n",
        "    arr[k] = left_half[i]\n",
        "    k += 1\n",
        "    i += 1\n",
        "  while j < len(right_half):\n",
        "    arr[k] = right_half[j]\n",
        "    k += 1\n",
        "    j += 1\n",
        "  return inv_count\n",
        "\n",
        "print(inversionCount([3, 1, 2]))  # Output: 2\n",
        "print(inversionCount([2, 4, 1, 3, 5]))  # Output: 3"
      ],
      "metadata": {
        "colab": {
          "base_uri": "https://localhost:8080/"
        },
        "id": "kAaajJYtNyWI",
        "outputId": "8c1d5e27-3dbd-41c4-cede-6b3c14366417"
      },
      "execution_count": 3,
      "outputs": [
        {
          "output_type": "stream",
          "name": "stdout",
          "text": [
            "2\n",
            "3\n"
          ]
        }
      ]
    }
  ]
}