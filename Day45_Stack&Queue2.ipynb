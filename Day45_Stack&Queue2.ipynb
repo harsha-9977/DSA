{
  "nbformat": 4,
  "nbformat_minor": 0,
  "metadata": {
    "colab": {
      "provenance": [],
      "authorship_tag": "ABX9TyN5MZVak9FO6Yh0h48XaxCM",
      "include_colab_link": true
    },
    "kernelspec": {
      "name": "python3",
      "display_name": "Python 3"
    },
    "language_info": {
      "name": "python"
    }
  },
  "cells": [
    {
      "cell_type": "markdown",
      "metadata": {
        "id": "view-in-github",
        "colab_type": "text"
      },
      "source": [
        "<a href=\"https://colab.research.google.com/github/harsha-9977/DSA/blob/main/Day45_Stack%26Queue2.ipynb\" target=\"_parent\"><img src=\"https://colab.research.google.com/assets/colab-badge.svg\" alt=\"Open In Colab\"/></a>"
      ]
    },
    {
      "cell_type": "code",
      "execution_count": null,
      "metadata": {
        "colab": {
          "base_uri": "https://localhost:8080/"
        },
        "id": "mb5qWOQYFQNB",
        "outputId": "dce521ee-a540-45f5-a72d-2b3ae68b78cb"
      },
      "outputs": [
        {
          "output_type": "stream",
          "name": "stdout",
          "text": [
            "[2, 5, 2, -1, -1]\n"
          ]
        }
      ],
      "source": [
        "# Next Smaller Element\n",
        "def nextSmaller(arr):\n",
        "  stack = []\n",
        "  result = [-1] * len(arr)\n",
        "\n",
        "  for i in range(len(arr)-1, -1, -1):\n",
        "    while stack and stack[-1] >= arr[i]:\n",
        "      stack.pop()\n",
        "\n",
        "    if stack:\n",
        "      result[i] = stack[-1]\n",
        "\n",
        "    stack.append(arr[i])\n",
        "\n",
        "  return result\n",
        "print(nextSmaller([4, 8, 5, 2, 25]))"
      ]
    },
    {
      "cell_type": "code",
      "source": [
        "# Least Recently Used !!!IMPORTANT\n",
        "class Node:\n",
        "  def __init__(self, key, val):\n",
        "    self.key = key\n",
        "    self.val = val\n",
        "    self.prev = None\n",
        "    self.next = None\n",
        "\n",
        "class LRUCache:\n",
        "  def __init__(self, capacity):\n",
        "    self.cap = capacity\n",
        "    self.cache = {}\n",
        "    self.left = Node(0,0)\n",
        "    self.right = Node(0,0)\n",
        "    self.left.next = self.right\n",
        "    self.right.prev = self.left\n",
        "\n",
        "  def put(self, key, value):\n",
        "    if key in self.cache:\n",
        "      self._remove(self.cache[key])\n",
        "    self.cache[key] = Node(key,value)\n",
        "    self._insert(self.cache[key])\n",
        "\n",
        "    if len(self.cache) > self.cap:\n",
        "      lru = self.left.next\n",
        "      self._remove(lru)\n",
        "      del self.cache[lru.key]\n",
        "\n",
        "  def get(self, key):\n",
        "    if key in self.cache:\n",
        "      self._remove(self.cache[key])\n",
        "      self._insert(self.cache[key])\n",
        "      return self.cache[key].val\n",
        "    return -1\n",
        "\n",
        "  def _remove(self,node):\n",
        "    prev, nxt = node.prev, node.next\n",
        "    prev.next = nxt\n",
        "    nxt.prev = prev\n",
        "\n",
        "  def _insert(self,node):\n",
        "    prev, nxt = self.right.prev, self.right\n",
        "    prev.next = node\n",
        "    nxt.prev = node\n",
        "    node.next = nxt\n",
        "    node.prev = prev\n",
        "\n",
        "inputs = [\"LRUCache\", \"put\", \"put\", \"get\", \"put\", \"get\", \"put\", \"get\", \"get\", \"get\"]\n",
        "params = [[2], [1, 1], [2, 2], [1], [3, 3], [2], [4, 4], [1], [3], [4]]\n",
        "\n",
        "output = []\n",
        "lru = None\n",
        "\n",
        "for i in range(len(inputs)):\n",
        "    if inputs[i] == \"LRUCache\":\n",
        "        lru = LRUCache(*params[i])\n",
        "        output.append(None)\n",
        "    elif inputs[i] == \"put\":\n",
        "        lru.put(*params[i])\n",
        "        output.append(None)\n",
        "    elif inputs[i] == \"get\":\n",
        "        res = lru.get(*params[i])\n",
        "        output.append(res)\n",
        "\n",
        "print(\"Output:\", output)\n"
      ],
      "metadata": {
        "colab": {
          "base_uri": "https://localhost:8080/"
        },
        "id": "LawQBXr6myIA",
        "outputId": "4f3e12c3-a827-4ba0-9158-e56d43226c75"
      },
      "execution_count": null,
      "outputs": [
        {
          "output_type": "stream",
          "name": "stdout",
          "text": [
            "Output: [None, None, None, 1, None, -1, None, -1, 3, 4]\n"
          ]
        }
      ]
    },
    {
      "cell_type": "code",
      "source": [
        "# Most Recently Used\n",
        "\n",
        "class Node:\n",
        "  def __init__(self, key, val):\n",
        "    self.key = key\n",
        "    self.val = val\n",
        "    self.prev = None\n",
        "    self.next = None\n",
        "\n",
        "class MRUCache:\n",
        "  def __init__(self, capacity):\n",
        "    self.cap = capacity\n",
        "    self.cache = {}\n",
        "    self.left = Node(0,0)\n",
        "    self.right = Node(0,0)\n",
        "    self.left.next = self.right\n",
        "    self.right.prev = self.left\n",
        "\n",
        "  def put(self, key, val):\n",
        "    # If the key exists, remove it first (will re-insert as MRU)\n",
        "    if key in self.cache:\n",
        "        self._remove(self.cache[key])\n",
        "        del self.cache[key]\n",
        "    # If the cache is full, evict MRU (right before tail)\n",
        "    if len(self.cache) >= self.cap:\n",
        "        mru = self.right.prev\n",
        "        self._remove(mru)\n",
        "        del self.cache[mru.key]\n",
        "    # Now, insert the new node as MRU\n",
        "    new_node = Node(key, val)\n",
        "    self._insert(new_node)\n",
        "    self.cache[key] = new_node\n",
        "\n",
        "\n",
        "  def get(self, key):\n",
        "      if key in self.cache:\n",
        "        self._remove(self.cache[key])\n",
        "        self._insert(self.cache[key])\n",
        "        return self.cache[key].val\n",
        "      return -1\n",
        "\n",
        "  def _remove(self, node):\n",
        "      prev, nxt = node.prev, node.next\n",
        "      prev.next = nxt\n",
        "      nxt.prev = prev\n",
        "\n",
        "  def _insert(self, node):\n",
        "      prev, nxt = self.right.prev, self.right\n",
        "      prev.next = node\n",
        "      nxt.prev = node\n",
        "      node.next = nxt\n",
        "      node.prev = prev\n",
        "\n",
        "\n",
        "inputs = [\"MRUCache\", \"put\", \"put\", \"get\", \"put\", \"get\", \"put\", \"get\", \"get\", \"get\"]\n",
        "params = [[2], [1, 1], [2, 2], [1], [3, 3], [2], [4, 4], [1], [3], [4]]\n",
        "\n",
        "output = []\n",
        "mru = None\n",
        "\n",
        "for i in range(len(inputs)):\n",
        "    if inputs[i] == \"MRUCache\":\n",
        "        mru = MRUCache(*params[i])\n",
        "        output.append(None)\n",
        "    elif inputs[i] == \"put\":\n",
        "        mru.put(*params[i])\n",
        "        output.append(None)\n",
        "    elif inputs[i] == \"get\":\n",
        "        res = mru.get(*params[i])\n",
        "        output.append(res)\n",
        "\n",
        "print(\"Output:\", output)"
      ],
      "metadata": {
        "colab": {
          "base_uri": "https://localhost:8080/"
        },
        "id": "Ati94SSaPLyR",
        "outputId": "a7d36b32-ad1d-474f-b57e-50b4241fb15e"
      },
      "execution_count": null,
      "outputs": [
        {
          "output_type": "stream",
          "name": "stdout",
          "text": [
            "Output: [None, None, None, 1, None, 2, None, -1, 3, 4]\n"
          ]
        }
      ]
    },
    {
      "cell_type": "code",
      "source": [
        "# LFU cache Least Frequently Used\n",
        "\n",
        "from collections import defaultdict, OrderedDict\n",
        "\n",
        "class LFUCache:\n",
        "  def __init__(self, capacity):\n",
        "    # Max book our shelf can hold\n",
        "    self.cap = capacity\n",
        "    # store book with content\n",
        "    self.key_to_val = {}\n",
        "    # store book with borrowed (popularity)\n",
        "    self.key_to_freq = {}\n",
        "    # GROUP the books with its popularity\n",
        "    self.freq_to_keys = defaultdict(OrderedDict)\n",
        "    # which is current least popular\n",
        "    self.min_freq = 0\n",
        "\n",
        "  def _update_freq(self, key):\n",
        "    # check the current popularity\n",
        "    freq = self.key_to_freq[key]\n",
        "    # remove BOOK from old popularity GROUP\n",
        "    del self.freq_to_keys[freq][key]\n",
        "    # after removing book if old popularity GROUP is empty\n",
        "    if not self.freq_to_keys[freq]:\n",
        "      # delete that group\n",
        "      del self.freq_to_keys[freq]\n",
        "      # check whether this group was least popular\n",
        "      if self.min_freq == freq:\n",
        "        # if yes increment by 1\n",
        "        self.min_freq += 1\n",
        "\n",
        "    # add book to the new popularity group\n",
        "    new_freq = freq + 1\n",
        "    self.freq_to_keys[new_freq][key] = None\n",
        "    # update book popularity count\n",
        "    self.key_to_freq[key] = new_freq\n",
        "\n",
        "  def get(self, key):\n",
        "    # if book is not in shelf cant borrow\n",
        "    if key not in self.key_to_val:\n",
        "      return -1\n",
        "    # borrowing this book makes it popular\n",
        "    self._update_freq(key)\n",
        "\n",
        "    # return book content\n",
        "    return self.key_to_val[key]\n",
        "\n",
        "  def put(self, key, val):\n",
        "    # no shelf capacity, Do Nothing\n",
        "    if self.cap == 0:\n",
        "      return\n",
        "\n",
        "    # update the content of the book if its already on the shelf\n",
        "    if key in self.key_to_val:\n",
        "      self.key_to_val[key] = val\n",
        "      # also make it popular\n",
        "      self._update_freq(key)\n",
        "      # return\n",
        "      return\n",
        "\n",
        "    # if shelf capacity is full, remove least popular and oldest borrowed book\n",
        "    if len(self.key_to_val) >= self.cap:\n",
        "      lfu_key, _ = self.freq_to_keys[self.min_freq].popitem(last=False)\n",
        "      del self.key_to_val[lfu_key]\n",
        "      del self.key_to_freq[lfu_key]\n",
        "      if not self.freq_to_keys[self.min_freq]:\n",
        "        del self.freq_to_keys[self.min_freq]\n",
        "\n",
        "    # add new BOOK with popularity 1\n",
        "    self.key_to_val[key] = val\n",
        "    self.key_to_freq[key] = 1\n",
        "    self.freq_to_keys[1][key] = None\n",
        "    self.min_freq = 1\n",
        "\n",
        "inputs = [\"LFUCache\", \"put\", \"put\", \"get\", \"put\", \"get\", \"get\", \"put\", \"get\", \"get\", \"get\"]\n",
        "params = [[2], [1, 1], [2, 2], [1], [3, 3], [2], [3], [4, 4], [1], [3], [4]]\n",
        "\n",
        "output = []\n",
        "lfu = None\n",
        "\n",
        "for i, command in enumerate(inputs):\n",
        "    if command == \"LFUCache\":\n",
        "        lfu = LFUCache(*params[i])\n",
        "        output.append(None)\n",
        "    elif command == \"put\":\n",
        "        lfu.put(*params[i])\n",
        "        output.append(None)\n",
        "    elif command == \"get\":\n",
        "        res = lfu.get(*params[i])\n",
        "        output.append(res)\n",
        "\n",
        "print(output)\n"
      ],
      "metadata": {
        "colab": {
          "base_uri": "https://localhost:8080/"
        },
        "id": "TtJ1kn-V3yI5",
        "outputId": "4c6bde12-ee61-467a-c29c-4e4b46e6c10c"
      },
      "execution_count": null,
      "outputs": [
        {
          "output_type": "stream",
          "name": "stdout",
          "text": [
            "[None, None, None, 1, None, -1, 3, None, -1, 3, 4]\n"
          ]
        }
      ]
    },
    {
      "cell_type": "code",
      "source": [
        "# Max of Min for every window size\n",
        "def maxOfmin(arr):\n",
        "  n = len(arr)\n",
        "  res = [0] * (n+1)\n",
        "\n",
        "  left = [-1] * n\n",
        "  right = [n] * n\n",
        "\n",
        "  # left previous small\n",
        "  stack = []\n",
        "  for i in range(n):\n",
        "    while stack and arr[stack[-1]] >= arr[i]:\n",
        "      stack.pop()\n",
        "    left[i] = stack[-1] if stack else -1\n",
        "    stack.append(i)\n",
        "\n",
        "  # right previous small\n",
        "  stack = []\n",
        "  for i in reversed(range(n)):\n",
        "    while stack and arr[stack[-1]] >= arr[i]:\n",
        "      stack.pop()\n",
        "    right[i] = stack[-1] if stack else -1\n",
        "    stack.append(i)\n",
        "\n",
        "  # get length and compare with each arr element\n",
        "  for i in range(n):\n",
        "    length = right[i] - left[i] - 1\n",
        "    res[length] = max(res[length], arr[i])\n",
        "\n",
        "\n",
        "  # clean up\n",
        "  for i in range(n-1,0,-1):\n",
        "    res[i] = max(res[i], res[i+1])\n",
        "\n",
        "  return res[1:]\n",
        "print(maxOfmin([10, 20, 30, 50, 10, 70, 30]))"
      ],
      "metadata": {
        "colab": {
          "base_uri": "https://localhost:8080/"
        },
        "id": "U6dxGwn6lXgM",
        "outputId": "77c64c3e-768f-4a8f-c088-34cbb4de5a15"
      },
      "execution_count": 1,
      "outputs": [
        {
          "output_type": "stream",
          "name": "stdout",
          "text": [
            "[70, 30, 20, 10, 10, 10, 10]\n"
          ]
        }
      ]
    },
    {
      "cell_type": "code",
      "source": [
        "# Find Celebraty\n",
        "def celeb(mat):\n",
        "  n = len(mat)\n",
        "  cand = 0\n",
        "\n",
        "  for i in range(1,n):\n",
        "    if mat[cand][i] == 1:\n",
        "      cand = i\n",
        "\n",
        "  for i in range(n):\n",
        "    if cand != i and (mat[cand][i] == 1 or mat[i][cand] == 0):\n",
        "      return -1\n",
        "  return cand\n",
        "print(celeb([[1, 1, 0], [0, 1, 0], [0, 1, 1]]))"
      ],
      "metadata": {
        "colab": {
          "base_uri": "https://localhost:8080/"
        },
        "id": "7uoc1ZpHsOqi",
        "outputId": "6656efe7-eb77-4e28-a4f1-4d799f836d36"
      },
      "execution_count": 3,
      "outputs": [
        {
          "output_type": "stream",
          "name": "stdout",
          "text": [
            "1\n"
          ]
        }
      ]
    }
  ]
}