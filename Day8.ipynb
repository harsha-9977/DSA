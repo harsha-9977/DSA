{
  "nbformat": 4,
  "nbformat_minor": 0,
  "metadata": {
    "colab": {
      "provenance": []
    },
    "kernelspec": {
      "name": "python3",
      "display_name": "Python 3"
    },
    "language_info": {
      "name": "python"
    }
  },
  "cells": [
    {
      "cell_type": "code",
      "execution_count": null,
      "metadata": {
        "id": "m42Hnh8DpCZA",
        "colab": {
          "base_uri": "https://localhost:8080/"
        },
        "outputId": "9b1c2ff2-945d-4b0a-f339-ae3f055f92d7"
      },
      "outputs": [
        {
          "output_type": "stream",
          "name": "stdout",
          "text": [
            "[(-1, 7), (1, 5)]\n"
          ]
        }
      ],
      "source": [
        "# 2 sum - All distinct pair with given sum\n",
        "def distinctPairs(arr,target):\n",
        "  seen = set()\n",
        "  pairs = set()\n",
        "\n",
        "  for i in arr:\n",
        "    complement = target - i\n",
        "    if complement in seen:\n",
        "      pairs.add(tuple(sorted((i,complement))))\n",
        "    seen.add(i)\n",
        "  a = sorted(list(pairs))\n",
        "  return a\n",
        "print(distinctPairs([1, 5, 7, -1, 5],6))"
      ]
    },
    {
      "cell_type": "code",
      "source": [
        "# 3 sum - Triplet sum in an array\n",
        "def hasTripletSum(arr,target):\n",
        "   n  = len(arr)\n",
        "   for i in range(n-2):\n",
        "    left, right = i+1, n-1\n",
        "\n",
        "    while left < right:\n",
        "      total = arr[i] + arr[left] + arr[right]\n",
        "\n",
        "      if total == target:\n",
        "        return True\n",
        "      elif total < target:\n",
        "        left += 1\n",
        "      else:\n",
        "        right += 1\n",
        "   return False\n",
        "print(hasTripletSum([1, 4, 45, 6, 10, 8],13))"
      ],
      "metadata": {
        "colab": {
          "base_uri": "https://localhost:8080/"
        },
        "id": "dtK0uHZZynoC",
        "outputId": "05641d2c-623a-4d01-fdc9-3bae4fa652ec"
      },
      "execution_count": null,
      "outputs": [
        {
          "output_type": "stream",
          "name": "stdout",
          "text": [
            "True\n"
          ]
        }
      ]
    },
    {
      "cell_type": "code",
      "source": [
        "# 3 sum - Triplet sum closest to target\n",
        "def closest3Sum(arr, target):\n",
        "  arr.sort()\n",
        "  n = len(arr)\n",
        "  closest_sum = arr[0] + arr[1] + arr[2]\n",
        "\n",
        "  for i in range(n-2):\n",
        "    left, right = i+1, n-1\n",
        "\n",
        "    while left < right:\n",
        "      curr_sum  = arr[i] + arr[left] + arr[right]\n",
        "\n",
        "      if curr_sum == target:\n",
        "        return curr_sum\n",
        "\n",
        "      if abs(curr_sum - target) < abs(closest_sum - target) or (abs(curr_sum - target) == abs(closest_sum - target) and curr_sum > closest_sum):\n",
        "        closest_sum = curr_sum\n",
        "\n",
        "      if curr_sum < target:\n",
        "        left += 1\n",
        "      else:\n",
        "        right -= 1\n",
        "  return closest_sum\n",
        "print(closest3Sum([-1, 2, 2, 4],4))\n",
        "print(closest3Sum([1, 10, 4, 5],10))"
      ],
      "metadata": {
        "colab": {
          "base_uri": "https://localhost:8080/"
        },
        "id": "Zr3otKHxzfCS",
        "outputId": "03520cc2-6b46-4460-94e4-543881b8a207"
      },
      "execution_count": null,
      "outputs": [
        {
          "output_type": "stream",
          "name": "stdout",
          "text": [
            "5\n",
            "10\n"
          ]
        }
      ]
    },
    {
      "cell_type": "code",
      "source": [
        "# 3 sum - All distinct triplets with given sum in an array\n",
        "def findTriplets(arr, target):\n",
        "  arr.sort()\n",
        "  n = len(arr)\n",
        "  triplets = []\n",
        "\n",
        "  for i in range(n-2):\n",
        "    if i > 0 and arr[i] == arr[i-1]:\n",
        "      continue\n",
        "    left, right = i+1, n-1\n",
        "\n",
        "    while left < right:\n",
        "      curr_sum  = arr[i] + arr[left] + arr[right]\n",
        "\n",
        "      if curr_sum == target:\n",
        "        triplets.append([arr[i], arr[left], arr[right]])\n",
        "\n",
        "        left += 1\n",
        "        right -= 1\n",
        "\n",
        "        while left < right and arr[left] == arr[left-1]:\n",
        "          left += 1\n",
        "        while left < right and arr[right] == arr[right+1]:\n",
        "          right -= 1\n",
        "      if curr_sum < target:\n",
        "        left += 1\n",
        "      else:\n",
        "        right -= 1\n",
        "  return triplets\n",
        "print(findTriplets([12, 3, 6, 1, 6, 9],24))"
      ],
      "metadata": {
        "colab": {
          "base_uri": "https://localhost:8080/"
        },
        "id": "-ZGU2Fuo7txi",
        "outputId": "1b53ffc5-0425-4e29-f232-cdb09a682e1a"
      },
      "execution_count": null,
      "outputs": [
        {
          "output_type": "stream",
          "name": "stdout",
          "text": [
            "[[3, 9, 12], [6, 6, 12]]\n"
          ]
        }
      ]
    },
    {
      "cell_type": "code",
      "source": [
        "# 4 sum - all quadruples\n",
        "def quadruples(arr,target):\n",
        "  arr.sort()\n",
        "  n = len(arr)\n",
        "  quad = []\n",
        "\n",
        "  for i in range(n-3):\n",
        "    if i > 0 and arr[i] == arr[i-1]:\n",
        "      continue\n",
        "    for j in range(i+1,n-2):\n",
        "      if j > i+1 and arr[j] == arr[j-1]:\n",
        "        continue\n",
        "\n",
        "      left, right = j+1, n-1\n",
        "\n",
        "      while left < right:\n",
        "        curr_sum = arr[i] + arr[j] + arr[left] + arr[right]\n",
        "\n",
        "        if curr_sum == target:\n",
        "          quad.append([arr[i], arr[j], arr[left], arr[right]])\n",
        "\n",
        "          left += 1\n",
        "          right -= 1\n",
        "\n",
        "          while left < right and arr[left] == arr[left-1]:\n",
        "            left += 1\n",
        "          while left < right and arr[right] == arr[right+1]:\n",
        "            right -= 1\n",
        "        elif curr_sum < target:\n",
        "          left += 1\n",
        "        else:\n",
        "          right -=1\n",
        "  return quad\n",
        "print(quadruples([10, 2, 3, 4, 5, 7, 8],23))"
      ],
      "metadata": {
        "colab": {
          "base_uri": "https://localhost:8080/"
        },
        "id": "blEjrxmZFSeD",
        "outputId": "ea7bba66-01e6-4507-fea2-7d786ca15d2e"
      },
      "execution_count": null,
      "outputs": [
        {
          "output_type": "stream",
          "name": "stdout",
          "text": [
            "[[2, 3, 8, 10], [2, 4, 7, 10], [3, 5, 7, 8]]\n"
          ]
        }
      ]
    },
    {
      "cell_type": "code",
      "source": [
        "# Surpasser count\n",
        "def surpasserCount(arr):\n",
        "  n = len(arr)\n",
        "  index_arr = list(range(n))\n",
        "  result = [0] * n\n",
        "\n",
        "  def mergeSort(indexes):\n",
        "    if len(indexes) <= 1:\n",
        "      return indexes\n",
        "\n",
        "    mid = len(indexes) // 2\n",
        "    left = mergeSort(indexes[:mid])\n",
        "    right = mergeSort(indexes[mid:])\n",
        "\n",
        "    i = j = 0\n",
        "    merged = []\n",
        "\n",
        "    while i < len(left) and j < len(right):\n",
        "      if arr[left[i]] < arr[right[j]]:\n",
        "        result[left[i]] += len(right) - j\n",
        "        merged.append(left[i])\n",
        "        i += 1\n",
        "      else:\n",
        "        merged.append(right[i])\n",
        "        j += 1\n",
        "    merged.extend(left[i:])\n",
        "    merged.extend(right[j:])\n",
        "\n",
        "    return merged\n",
        "\n",
        "\n",
        "  mergeSort(index_arr)\n",
        "  return result\n",
        "print(surpasserCount([4, 5, 1, 2, 3]))\n",
        "print(surpasserCount([2, 7, 5, 3, 8, 1]))"
      ],
      "metadata": {
        "colab": {
          "base_uri": "https://localhost:8080/"
        },
        "id": "BJXz2YLSQ86u",
        "outputId": "512c5762-b304-4409-fcac-5f8923b780cf"
      },
      "execution_count": null,
      "outputs": [
        {
          "output_type": "stream",
          "name": "stdout",
          "text": [
            "[1, 0, 2, 1, 0]\n",
            "[4, 1, 1, 1, 0, 0]\n"
          ]
        }
      ]
    }
  ]
}