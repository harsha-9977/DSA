{
  "nbformat": 4,
  "nbformat_minor": 0,
  "metadata": {
    "colab": {
      "provenance": [],
      "authorship_tag": "ABX9TyPnCipbjf/IpkmXqq2nrYoU",
      "include_colab_link": true
    },
    "kernelspec": {
      "name": "python3",
      "display_name": "Python 3"
    },
    "language_info": {
      "name": "python"
    }
  },
  "cells": [
    {
      "cell_type": "markdown",
      "metadata": {
        "id": "view-in-github",
        "colab_type": "text"
      },
      "source": [
        "<a href=\"https://colab.research.google.com/github/harsha-9977/DSA/blob/main/Day28.ipynb\" target=\"_parent\"><img src=\"https://colab.research.google.com/assets/colab-badge.svg\" alt=\"Open In Colab\"/></a>"
      ]
    },
    {
      "cell_type": "code",
      "execution_count": 1,
      "metadata": {
        "colab": {
          "base_uri": "https://localhost:8080/"
        },
        "id": "kjT4Q4lJzK8k",
        "outputId": "8121ae9a-b91b-42b4-e5a3-1fdfcee19cff"
      },
      "outputs": [
        {
          "output_type": "stream",
          "name": "stdout",
          "text": [
            "5\n"
          ]
        }
      ],
      "source": [
        "# Largest subarray with 0 sum\n",
        "def zeroSum(arr):\n",
        "  prefix_sum = 0\n",
        "  first_occurance = {}\n",
        "  max_len = 0\n",
        "\n",
        "  for i, val in enumerate(arr):\n",
        "    prefix_sum += val\n",
        "\n",
        "    if prefix_sum == 0:\n",
        "      max_len = i + 1\n",
        "    elif prefix_sum in first_occurance:\n",
        "      length = i - first_occurance[prefix_sum]\n",
        "      max_len = max(length, max_len)\n",
        "    else:\n",
        "      first_occurance[prefix_sum] = i\n",
        "  return max_len\n",
        "print(zeroSum([15, -2, 2, -8, 1, 7, 10, 23]))"
      ]
    }
  ]
}