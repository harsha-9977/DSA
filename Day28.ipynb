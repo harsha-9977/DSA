{
  "nbformat": 4,
  "nbformat_minor": 0,
  "metadata": {
    "colab": {
      "provenance": [],
      "authorship_tag": "ABX9TyMqycZuNC9KpRph9JidQAw8",
      "include_colab_link": true
    },
    "kernelspec": {
      "name": "python3",
      "display_name": "Python 3"
    },
    "language_info": {
      "name": "python"
    }
  },
  "cells": [
    {
      "cell_type": "markdown",
      "metadata": {
        "id": "view-in-github",
        "colab_type": "text"
      },
      "source": [
        "<a href=\"https://colab.research.google.com/github/harsha-9977/DSA/blob/main/Day28.ipynb\" target=\"_parent\"><img src=\"https://colab.research.google.com/assets/colab-badge.svg\" alt=\"Open In Colab\"/></a>"
      ]
    },
    {
      "cell_type": "code",
      "execution_count": 1,
      "metadata": {
        "colab": {
          "base_uri": "https://localhost:8080/"
        },
        "id": "kjT4Q4lJzK8k",
        "outputId": "8121ae9a-b91b-42b4-e5a3-1fdfcee19cff"
      },
      "outputs": [
        {
          "output_type": "stream",
          "name": "stdout",
          "text": [
            "5\n"
          ]
        }
      ],
      "source": [
        "# Largest subarray with 0 sum\n",
        "def zeroSum(arr):\n",
        "  prefix_sum = 0\n",
        "  first_occurance = {}\n",
        "  max_len = 0\n",
        "\n",
        "  for i, val in enumerate(arr):\n",
        "    prefix_sum += val\n",
        "\n",
        "    if prefix_sum == 0:\n",
        "      max_len = i + 1\n",
        "    elif prefix_sum in first_occurance:\n",
        "      length = i - first_occurance[prefix_sum]\n",
        "      max_len = max(length, max_len)\n",
        "    else:\n",
        "      first_occurance[prefix_sum] = i\n",
        "  return max_len\n",
        "print(zeroSum([15, -2, 2, -8, 1, 7, 10, 23]))"
      ]
    },
    {
      "cell_type": "code",
      "source": [
        "# subarray range with given sum\n",
        "from collections import defaultdict\n",
        "def subarraySum(arr,target):\n",
        "  freq = defaultdict(int)\n",
        "  freq[0] = 1\n",
        "  count = 0\n",
        "  prefix_sum = 0\n",
        "\n",
        "  for i in arr:\n",
        "    prefix_sum += i\n",
        "\n",
        "    if (prefix_sum - target) in freq:\n",
        "      count += freq[prefix_sum - target]\n",
        "\n",
        "    freq[prefix_sum] += 1\n",
        "  return count\n",
        "print(subarraySum([10, 2, -2, -20, 10] , -10))"
      ],
      "metadata": {
        "colab": {
          "base_uri": "https://localhost:8080/"
        },
        "id": "_ghTNjsU5Tec",
        "outputId": "3aa01b3d-2d13-4fff-833c-990dcdd84a0a"
      },
      "execution_count": 2,
      "outputs": [
        {
          "output_type": "stream",
          "name": "stdout",
          "text": [
            "3\n"
          ]
        }
      ]
    },
    {
      "cell_type": "code",
      "source": [
        "# split array into min subsets\n",
        "def minSubs(arr):\n",
        "  arr.sort()\n",
        "  count = 1\n",
        "\n",
        "  for i in range(1,len(arr)):\n",
        "    if arr[i] != arr[i-1] + 1:\n",
        "      count += 1\n",
        "  return count\n",
        "print(minSubs([100, 56, 5, 6, 102, 58, 101, 57, 7, 103, 59]))"
      ],
      "metadata": {
        "colab": {
          "base_uri": "https://localhost:8080/"
        },
        "id": "QmMT58_R6pBp",
        "outputId": "1a177bba-368d-4530-ef3a-75fe8f97cd33"
      },
      "execution_count": 3,
      "outputs": [
        {
          "output_type": "stream",
          "name": "stdout",
          "text": [
            "3\n"
          ]
        }
      ]
    }
  ]
}