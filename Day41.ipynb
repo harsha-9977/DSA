{
  "nbformat": 4,
  "nbformat_minor": 0,
  "metadata": {
    "colab": {
      "provenance": [],
      "authorship_tag": "ABX9TyMStm8p9GetZEao+rLyV142",
      "include_colab_link": true
    },
    "kernelspec": {
      "name": "python3",
      "display_name": "Python 3"
    },
    "language_info": {
      "name": "python"
    }
  },
  "cells": [
    {
      "cell_type": "markdown",
      "metadata": {
        "id": "view-in-github",
        "colab_type": "text"
      },
      "source": [
        "<a href=\"https://colab.research.google.com/github/harsha-9977/DSA/blob/main/Day41.ipynb\" target=\"_parent\"><img src=\"https://colab.research.google.com/assets/colab-badge.svg\" alt=\"Open In Colab\"/></a>"
      ]
    },
    {
      "cell_type": "code",
      "execution_count": null,
      "metadata": {
        "colab": {
          "base_uri": "https://localhost:8080/"
        },
        "id": "IEfNcjpg4SB5",
        "outputId": "a832db00-d217-41db-802a-dc91bd2e5701"
      },
      "outputs": [
        {
          "output_type": "stream",
          "name": "stdout",
          "text": [
            "[[1, 2, 3], [1, 3, 2], [2, 1, 3], [2, 3, 1], [3, 1, 2], [3, 2, 1]]\n"
          ]
        }
      ],
      "source": [
        "# permutations\n",
        "def permute(nums):\n",
        "  def backtrack(path,used):\n",
        "    if len(path) == len(nums):\n",
        "      res.append(path[:])\n",
        "      return\n",
        "\n",
        "    for i in range(len(nums)):\n",
        "      if not used[i]:\n",
        "        used[i] = True\n",
        "        path.append(nums[i])\n",
        "        backtrack(path,used)\n",
        "        path.pop()\n",
        "        used[i] = False\n",
        "\n",
        "  res = []\n",
        "  backtrack([],[False] * len(nums))\n",
        "  return res\n",
        "print(permute([1,2,3]))"
      ]
    },
    {
      "cell_type": "code",
      "source": [
        "# NQueens\n",
        "def nqueen(n):\n",
        "  def backtrack(row):\n",
        "    if row == n:\n",
        "      res.append([''.join(r) for r in board])\n",
        "      return\n",
        "    for col in range(n):\n",
        "      if col in cols or (row - col) in diag1 or (row + col) in diag2:\n",
        "        continue\n",
        "\n",
        "      # place queen\n",
        "      board[row][col] = 'Q'\n",
        "      cols.add(col)\n",
        "      diag1.add(row - col)\n",
        "      diag2.add(row + col)\n",
        "\n",
        "      backtrack(row + 1)\n",
        "\n",
        "      # backtrack\n",
        "      board[row][col] = '.'\n",
        "      cols.remove(col)\n",
        "      diag1.remove(row - col)\n",
        "      diag2.remove(row + col)\n",
        "\n",
        "\n",
        "  res = []\n",
        "\n",
        "  board = [['.' for _ in range(n)] for _ in range(n)]\n",
        "  cols = set()\n",
        "  diag1 = set()\n",
        "  diag2 = set()\n",
        "\n",
        "  backtrack(0)\n",
        "  return res\n",
        "print(nqueen(4))"
      ],
      "metadata": {
        "colab": {
          "base_uri": "https://localhost:8080/"
        },
        "id": "QG7-onqwe8pj",
        "outputId": "80f7a48b-c13b-4206-acd0-4b3527084743"
      },
      "execution_count": null,
      "outputs": [
        {
          "output_type": "stream",
          "name": "stdout",
          "text": [
            "[['.Q..', '...Q', 'Q...', '..Q.'], ['..Q.', 'Q...', '...Q', '.Q..']]\n"
          ]
        }
      ]
    },
    {
      "cell_type": "code",
      "source": [
        "# Suduko Solver\n",
        "def solveSudoku(board):\n",
        "  rows = [set() for _ in range(9)]\n",
        "  cols = [set() for _ in range(9)]\n",
        "  boxes = [set() for _ in range(9)]\n",
        "  empty = []\n",
        "\n",
        "  for r in range(9):\n",
        "    for c in range(9):\n",
        "      val = board[r][c]\n",
        "      if val == '.':\n",
        "        empty.append((r,c))\n",
        "      else:\n",
        "        rows[r].add(val)\n",
        "        cols[c].add(val)\n",
        "        box_id = (r // 3) * 3 + (c // 3)\n",
        "        boxes[box_id].add(val)\n",
        "\n",
        "  def backtrack(idx):\n",
        "    if idx == len(empty):\n",
        "      return True\n",
        "\n",
        "    r, c = empty[idx]\n",
        "    box_id = (r // 3) * 3 + (c // 3)\n",
        "\n",
        "    for ch in '123456789':\n",
        "      if ch not in rows[r] and ch not in cols[c] and ch not in boxes[box_id]:\n",
        "        board[r][c] = ch\n",
        "        rows[r].add(ch)\n",
        "        cols[c].add(ch)\n",
        "        boxes[box_id].add(ch)\n",
        "\n",
        "        if backtrack(idx + 1):\n",
        "          return True\n",
        "\n",
        "        board[r][c] = '.'\n",
        "        rows[r].remove(ch)\n",
        "        cols[c].remove(ch)\n",
        "        boxes[box_id].remove(ch)\n",
        "\n",
        "  backtrack(0)\n",
        "\n",
        "\n",
        "board = [\n",
        "  [\"5\",\"3\",\".\",\".\",\"7\",\".\",\".\",\".\",\".\"],\n",
        "  [\"6\",\".\",\".\",\"1\",\"9\",\"5\",\".\",\".\",\".\"],\n",
        "  [\".\",\"9\",\"8\",\".\",\".\",\".\",\".\",\"6\",\".\"],\n",
        "  [\"8\",\".\",\".\",\".\",\"6\",\".\",\".\",\".\",\"3\"],\n",
        "  [\"4\",\".\",\".\",\"8\",\".\",\"3\",\".\",\".\",\"1\"],\n",
        "  [\"7\",\".\",\".\",\".\",\"2\",\".\",\".\",\".\",\"6\"],\n",
        "  [\".\",\"6\",\".\",\".\",\".\",\".\",\"2\",\"8\",\".\"],\n",
        "  [\".\",\".\",\".\",\"4\",\"1\",\"9\",\".\",\".\",\"5\"],\n",
        "  [\".\",\".\",\".\",\".\",\"8\",\".\",\".\",\"7\",\"9\"]\n",
        "]\n",
        "\n",
        "solveSudoku(board)\n",
        "\n",
        "for row in board:\n",
        "  print(' '.join(row))"
      ],
      "metadata": {
        "colab": {
          "base_uri": "https://localhost:8080/"
        },
        "id": "4ebtdRmsq0rk",
        "outputId": "20444538-7dbe-438a-f12e-e298ce9742e7"
      },
      "execution_count": null,
      "outputs": [
        {
          "output_type": "stream",
          "name": "stdout",
          "text": [
            "5 3 4 6 7 8 9 1 2\n",
            "6 7 2 1 9 5 3 4 8\n",
            "1 9 8 3 4 2 5 6 7\n",
            "8 5 9 7 6 1 4 2 3\n",
            "4 2 6 8 5 3 7 9 1\n",
            "7 1 3 9 2 4 8 5 6\n",
            "9 6 1 5 3 7 2 8 4\n",
            "2 8 7 4 1 9 6 3 5\n",
            "3 4 5 2 8 6 1 7 9\n"
          ]
        }
      ]
    }
  ]
}