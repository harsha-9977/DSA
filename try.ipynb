{
  "nbformat": 4,
  "nbformat_minor": 0,
  "metadata": {
    "colab": {
      "provenance": [],
      "authorship_tag": "ABX9TyPcFR8P+5C8zytHVNedvV3s",
      "include_colab_link": true
    },
    "kernelspec": {
      "name": "python3",
      "display_name": "Python 3"
    },
    "language_info": {
      "name": "python"
    }
  },
  "cells": [
    {
      "cell_type": "markdown",
      "metadata": {
        "id": "view-in-github",
        "colab_type": "text"
      },
      "source": [
        "<a href=\"https://colab.research.google.com/github/harsha-9977/DSA/blob/main/try.ipynb\" target=\"_parent\"><img src=\"https://colab.research.google.com/assets/colab-badge.svg\" alt=\"Open In Colab\"/></a>"
      ]
    },
    {
      "cell_type": "code",
      "execution_count": null,
      "metadata": {
        "id": "eA3C0uJ3a6QU"
      },
      "outputs": [],
      "source": [
        "\"\"\"\n",
        "Print the following shapes by accepting number of lines\n",
        "A. Right Angled Triangle\n",
        "B. Equi lateral Triangle\n",
        "C. Hollow Square\n",
        "D. Howllow Rhombus\n",
        "E. Pascal's Triangle\n",
        "F. X shape\n",
        "G. X shape inside hollow Square with 0 at middle/center\n",
        "\"\"\""
      ]
    },
    {
      "cell_type": "code",
      "source": [
        "def right_angle_triangle(n):\n",
        "  for i in range(1,n+1):\n",
        "    for j in range(i):\n",
        "      print(\"*\",end=\" \")\n",
        "    print()\n",
        "right_angle_triangle(5)"
      ],
      "metadata": {
        "colab": {
          "base_uri": "https://localhost:8080/"
        },
        "id": "jChanWbda_lJ",
        "outputId": "ad9797e2-b6bf-4356-f278-84b4b90f9ddc"
      },
      "execution_count": null,
      "outputs": [
        {
          "output_type": "stream",
          "name": "stdout",
          "text": [
            "* \n",
            "* * \n",
            "* * * \n",
            "* * * * \n",
            "* * * * * \n"
          ]
        }
      ]
    },
    {
      "cell_type": "code",
      "source": [
        "def equilateral_triangle(n):\n",
        "  for i in range(1,n+1):\n",
        "    for j in range(n-i):\n",
        "      print(\" \",end=\"\")\n",
        "    for j in range(i):\n",
        "      print(\"*\",end=\" \")\n",
        "    print()\n",
        "equilateral_triangle(5)"
      ],
      "metadata": {
        "colab": {
          "base_uri": "https://localhost:8080/"
        },
        "id": "dMO_QTFNdFEA",
        "outputId": "33f222dc-5c20-47dd-81c4-4a132425e3ba"
      },
      "execution_count": null,
      "outputs": [
        {
          "output_type": "stream",
          "name": "stdout",
          "text": [
            "    * \n",
            "   * * \n",
            "  * * * \n",
            " * * * * \n",
            "* * * * * \n"
          ]
        }
      ]
    },
    {
      "cell_type": "code",
      "source": [
        "def hollow_square(n):\n",
        "  for i in range(1,n+1):\n",
        "    for j in range(1,n+1):\n",
        "      if i == 1 or j == 1 or i == n or j == n:\n",
        "        print(\"*\",end=\" \")\n",
        "      else:\n",
        "        print(\" \",end=\" \")\n",
        "    print()\n",
        "hollow_square(5)"
      ],
      "metadata": {
        "colab": {
          "base_uri": "https://localhost:8080/"
        },
        "id": "rJ00tb8NeNZp",
        "outputId": "da3b9529-07b2-42ae-9e5a-dd3feceb39a6"
      },
      "execution_count": null,
      "outputs": [
        {
          "output_type": "stream",
          "name": "stdout",
          "text": [
            "* * * * * \n",
            "*       * \n",
            "*       * \n",
            "*       * \n",
            "* * * * * \n"
          ]
        }
      ]
    },
    {
      "cell_type": "code",
      "source": [
        "def hollow_rhombus(n):\n",
        "  for i in range(1,n+1):\n",
        "    for j in range(n-i):\n",
        "      print(\"\", end=\"\")\n",
        "    for j in range(n*2):\n",
        "        if (i+j) == n+1 or (i+j) == ((2*i-1)+n):\n",
        "          print(\"*\",end=\" \")\n",
        "        else:\n",
        "          print(\" \",end=\" \")\n",
        "    print()\n",
        "\n",
        "  for i in range(n-1,0,-1):\n",
        "    for j in range(n-i):\n",
        "      print(\"\", end=\"\")\n",
        "    for j in range(n*2):\n",
        "        if (i+j) == n+1 or (i+j) == ((2*i-1)+n):\n",
        "          print(\"*\",end=\" \")\n",
        "        else:\n",
        "          print(\" \",end=\" \")\n",
        "    print()\n",
        "hollow_rhombus(5)"
      ],
      "metadata": {
        "colab": {
          "base_uri": "https://localhost:8080/"
        },
        "id": "GyxXiJYge-0l",
        "outputId": "ced6748d-d460-439c-bd96-73f17c2fb70f"
      },
      "execution_count": null,
      "outputs": [
        {
          "output_type": "stream",
          "name": "stdout",
          "text": [
            "          *         \n",
            "        *   *       \n",
            "      *       *     \n",
            "    *           *   \n",
            "  *               * \n",
            "    *           *   \n",
            "      *       *     \n",
            "        *   *       \n",
            "          *         \n"
          ]
        }
      ]
    },
    {
      "cell_type": "code",
      "source": [
        "# pascal\n",
        "def pascal(n):\n",
        "  for i in range(n):\n",
        "    print(\" \"*(n-i), end=\"\")\n",
        "    val = 1\n",
        "    for j in range(i+1):\n",
        "      print(val,end=\" \")\n",
        "      val = val * (i-j) // (j+1)\n",
        "    print()\n",
        "pascal(5)"
      ],
      "metadata": {
        "colab": {
          "base_uri": "https://localhost:8080/"
        },
        "id": "nbffUbjZn2yJ",
        "outputId": "8c7337ca-b381-4fec-b757-220949a5765c"
      },
      "execution_count": 4,
      "outputs": [
        {
          "output_type": "stream",
          "name": "stdout",
          "text": [
            "     1 \n",
            "    1 1 \n",
            "   1 2 1 \n",
            "  1 3 3 1 \n",
            " 1 4 6 4 1 \n"
          ]
        }
      ]
    },
    {
      "cell_type": "code",
      "source": [
        "def xShape(n):\n",
        "  for i in range(1,n+1):\n",
        "    for j in range(1,n+1):\n",
        "      if i == j:\n",
        "        print(\"*\",end=\" \")\n",
        "      elif j == n+1-i:\n",
        "        print(\"*\",end=\" \")\n",
        "      else:\n",
        "        print(\" \",end=\" \")\n",
        "    print()\n",
        "xShape(5)"
      ],
      "metadata": {
        "colab": {
          "base_uri": "https://localhost:8080/"
        },
        "id": "NuEVRBBdn2nm",
        "outputId": "4170fdbb-7a1b-4e89-f307-9a3342f2e057"
      },
      "execution_count": null,
      "outputs": [
        {
          "output_type": "stream",
          "name": "stdout",
          "text": [
            "*       * \n",
            "  *   *   \n",
            "    *     \n",
            "  *   *   \n",
            "*       * \n"
          ]
        }
      ]
    },
    {
      "cell_type": "code",
      "source": [
        "def xinsideHollowSquare(n):\n",
        "  for i in range(1,n+1):\n",
        "    for j in range(1,n+1):\n",
        "      if i == 1 or i == n or j == 1 or j == n or i == j or j == n-i+1:\n",
        "        print(\"*\",end=\" \")\n",
        "      else:\n",
        "        print(\" \",end=\" \")\n",
        "    print()\n",
        "xinsideHollowSquare(7)"
      ],
      "metadata": {
        "colab": {
          "base_uri": "https://localhost:8080/"
        },
        "id": "406L9GeE2WNx",
        "outputId": "9dde603c-edea-4c49-d5ad-7bf8407e3c79"
      },
      "execution_count": null,
      "outputs": [
        {
          "output_type": "stream",
          "name": "stdout",
          "text": [
            "* * * * * * * \n",
            "* *       * * \n",
            "*   *   *   * \n",
            "*     *     * \n",
            "*   *   *   * \n",
            "* *       * * \n",
            "* * * * * * * \n"
          ]
        }
      ]
    }
  ]
}